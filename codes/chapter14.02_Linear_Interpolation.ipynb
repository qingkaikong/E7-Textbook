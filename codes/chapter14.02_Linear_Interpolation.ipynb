{
 "cells": [
  {
   "cell_type": "markdown",
   "metadata": {},
   "source": [
    "# 14.2 Linear Interpolation\n",
    "In linear interpolation, the estimated point is assumed to lie on the line joining the nearest points to the left and right. Assume, without loss of generality, that the x-data points are in ascending order; that is, $x_i < x_{i+1}$, and let $x$ be a point such that $x_i < x < x_{i+1}$. Then the linear interpolation at $x$ is"
   ]
  },
  {
   "cell_type": "markdown",
   "metadata": {},
   "source": [
    "$\\hat{y}(x)=\\frac{(y_{i+1}-y_{i})(x-x_{i})}{(x_{i+1}-x_{i})}$"
   ]
  },
  {
   "cell_type": "markdown",
   "metadata": {},
   "source": [
    "TRY IT! Find the linear interpolation at $x = 1.5$ based on the data $x = [0 1 2], y = [1 3 2]$. Verify the result using SciPy’s function interp1d. (See Figure 14.2.)\n",
    "\n",
    "\n",
    "Since $1 < x < 2$, we use the second and third data points to compute the linear interpolation. Plugging in the corresponding values gives\n",
    "\n",
    "$\\begin{align*}\n",
    "    \\hat{y}(x) &= y_{i}+\\frac{(y_{i+1}-y_{i})(x-x_{i})}{(x_{i+1}-x_{i})} \\\\\n",
    "    &=3+\\frac{(2-3)(1.5-1)}{(2-1)} \\\\\n",
    "    &= 2.5\n",
    "\\end{align*}$"
   ]
  },
  {
   "cell_type": "code",
   "execution_count": 8,
   "metadata": {},
   "outputs": [
    {
     "data": {
      "image/png": "[encoded data removed]",
      "text/plain": [
       "<Figure size 432x288 with 1 Axes>"
      ]
     },
     "metadata": {},
     "output_type": "display_data"
    }
   ],
   "source": [
    "import math\n",
    "import numpy as np\n",
    "import matplotlib.pyplot as plt\n",
    "%matplotlib inline\n",
    "\n",
    "fig = plt.figure()\n",
    "\n",
    "# Data\n",
    "x = [0, 1, 2]\n",
    "y = [1, 3, 2]\n",
    "# Plot\n",
    "plt.plot(x, y,'-o', c='b', markerfacecolor='r', markeredgecolor='r')\n",
    "plt.plot(1.5, 2.5, 'o', c='g')\n",
    "plt.title('Figure 14.2')\n",
    "plt.xlabel('x')\n",
    "plt.ylabel('y')\n",
    "plt.xlim([0,2])\n",
    "plt.grid(b=True, which='major', color='lightgrey', linestyle='-')\n",
    "\n",
    "plt.show()\n",
    "# Figure 14.2 Linear interpolation of the points $x = (0, 1, 2)$ and $y = (1, 3, 2)$."
   ]
  },
  {
   "cell_type": "code",
   "execution_count": 23,
   "metadata": {},
   "outputs": [
    {
     "name": "stdout",
     "output_type": "stream",
     "text": [
      "2.5\n"
     ]
    }
   ],
   "source": [
    "from scipy.interpolate import interp1d\n",
    "\n",
    "f = interp1d([0,1 ,2], [1,3,2])\n",
    "print(f(1.5))"
   ]
  },
  {
   "cell_type": "code",
   "execution_count": null,
   "metadata": {},
   "outputs": [],
   "source": []
  }
 ],
 "metadata": {
  "kernelspec": {
   "display_name": "Python 3",
   "language": "python",
   "name": "python3"
  },
  "language_info": {
   "codemirror_mode": {
    "name": "ipython",
    "version": 3
   },
   "file_extension": ".py",
   "mimetype": "text/x-python",
   "name": "python",
   "nbconvert_exporter": "python",
   "pygments_lexer": "ipython3",
   "version": "3.7.0"
  }
 },
 "nbformat": 4,
 "nbformat_minor": 2
}
