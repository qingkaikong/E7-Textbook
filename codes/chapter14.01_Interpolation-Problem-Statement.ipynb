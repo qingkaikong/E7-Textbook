{
 "cells": [
  {
   "cell_type": "markdown",
   "metadata": {},
   "source": [
    "# Motivation\n",
    "The previous chapter used regression to find the parameters of a function that best estimated a set of data points. Regression assumes that the data set has measurement errors, and that you need to find a set of model parameters that minimize the error between your model and the data. However, sometimes you have measurements that are assumed to be very reliable; in these cases, you want an estimation function that goes through the data points you have. This technique is commonly referred to as interpolation.\n",
    "By the end of the chapter, you should be able to understand and compute some of those most common interpolating functions."
   ]
  },
  {
   "cell_type": "markdown",
   "metadata": {},
   "source": [
    "## 14.1 Interpolation Problem Statement\n",
    "Assume we have a data set consisting of independent data values, xi , and dependent data values, yi , where i = 1, . . . , n. We would like to find an estimation function yˆ(x) such that yˆ(xi ) = yi for every point in our data set. This means the estimation function goes through our data points. Given a new x∗, we can interpolate its function value using yˆ(x∗). In this context, yˆ(x) is called an interpolation function. Figure 14.1 shows the interpolation problem statement.\n",
    "Unlike regression, interpolation does not require the user to have an underlying model for the data, especially when there are many reliable data points. However, the processes that underly the data must still inform the user about the quality of the interpolation. For example, our data may consist of (x, y) coordinates of a car over time. Since motion is restricted to the maneuvering physics of the car, we can expect that the points between the (x, y) coordinates in our set will be “smooth” rather than jagged.\n",
    "  In the following sections we derive several common interpolation methods."
   ]
  },
  {
   "cell_type": "markdown",
   "metadata": {},
   "source": [
    "Figure 14.1 Illustration of the interpolation problem: estimate the value of a function in between data points.\n",
    "#TODO add Figure"
   ]
  },
  {
   "cell_type": "code",
   "execution_count": 3,
   "metadata": {},
   "outputs": [
    {
     "data": {
      "image/png": "[encoded data removed]",
      "text/plain": [
       "<Figure size 432x288 with 1 Axes>"
      ]
     },
     "metadata": {},
     "output_type": "display_data"
    }
   ],
   "source": [
    "import math\n",
    "import numpy as np\n",
    "import matplotlib.pyplot as plt\n",
    "%matplotlib inline\n",
    "\n",
    "fig = plt.figure()\n",
    "ax = fig.add_subplot(111)\n",
    "# Create data\n",
    "N = 7\n",
    "x = [1,3,4,7,8,9]\n",
    "y = [3,2,1,3,6,7]\n",
    "x_labels = [\"$x_\" + str(i) + \"$\" for i in range(1,N)]\n",
    "y_labels = [\"$y_\" + str(i) + \"$\" for i in range(1,N)]\n",
    "color = ['b','r','b','b','b','b']\n",
    "\n",
    "x_labels.insert(1,\"?\")\n",
    "y_labels.insert(1,\"$y_?$\")\n",
    "x.insert(1,1.7)\n",
    "y.insert(1,2.5)\n",
    "\n",
    "# Plot\n",
    "plt.scatter(x, y, alpha=1, c=color)\n",
    "plt.title('Figure 14.1')\n",
    "plt.xlabel('x')\n",
    "plt.ylabel('y')\n",
    "plt.axvline(x=1.7, linestyle='--',color='r')\n",
    "plt.xlim([0,10])\n",
    "for label, x_i, y_i in zip(y_labels, x, y):\n",
    "    ax.annotate(label, xy=(x_i,y_i), xytext=(5, 5), textcoords='offset points')\n",
    "plt.xticks(x, x_labels)\n",
    "\n",
    "plt.show()"
   ]
  },
  {
   "cell_type": "markdown",
   "metadata": {},
   "source": []
  },
  {
   "cell_type": "markdown",
   "metadata": {},
   "source": []
  },
  {
   "cell_type": "code",
   "execution_count": null,
   "metadata": {},
   "outputs": [],
   "source": []
  }
 ],
 "metadata": {
  "kernelspec": {
   "display_name": "Python 3",
   "language": "python",
   "name": "python3"
  },
  "language_info": {
   "codemirror_mode": {
    "name": "ipython",
    "version": 3
   },
   "file_extension": ".py",
   "mimetype": "text/x-python",
   "name": "python",
   "nbconvert_exporter": "python",
   "pygments_lexer": "ipython3",
   "version": "3.7.0"
  }
 },
 "nbformat": 4,
 "nbformat_minor": 2
}
