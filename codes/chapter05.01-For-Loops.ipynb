{
 "cells": [
  {
   "cell_type": "markdown",
   "metadata": {},
   "source": [
    "# __Chapter 5: Iteration__"
   ]
  },
  {
   "cell_type": "markdown",
   "metadata": {},
   "source": [
    "Many tasks in life are boring or tedious because they require doing the same  basic actions over and over again—iterating—in slightly different contexts. For example, consider looking up the definition of 20 words in the dictionary, populating a large table of numbers with data, alphabetizing many stacks of paper, or dusting off every object and shelf in your room. Since repetitive tasks appear so frequently, it is only natural that programming languages like Python would have direct methods of performing iteration.\n",
    "\n",
    "This chapter teaches you how to program iterative tasks. With branching and iteration, it is possible to program just about any task that you can imagine."
   ]
  },
  {
   "cell_type": "markdown",
   "metadata": {},
   "source": [
    "## __5.1__ For-Loops"
   ]
  },
  {
   "cell_type": "markdown",
   "metadata": {},
   "source": [
    "A __for-loop__ is a set of instructions that is repeated, or iterated, for every value of the sequence specified. Sometimes for-loops are referred to as definite loops because they have a predefined begin and end. \n",
    "\n",
    "Initially, the for-loop assigns the __looping variable__, or the variable that holds the current value of the sequence to be iterated, to the first element of the sequence. Then, it assigns the looping variable to the next element of the sequence and executes the code block again. It continues until there are no more elements in the sequence.\n",
    "\n",
    "The general syntax for a for-loop block is as follows."
   ]
  },
  {
   "cell_type": "markdown",
   "metadata": {},
   "source": [
    "#### __CONSTRUCTION__: For-loop"
   ]
  },
  {
   "cell_type": "code",
   "execution_count": null,
   "metadata": {},
   "outputs": [],
   "source": [
    "for looping variable in <sequence>:\n",
    "    # <CODE BLOCK TO BE REPEATED>"
   ]
  },
  {
   "cell_type": "markdown",
   "metadata": {},
   "source": [
    "_Sequences_ can be many things. Perhaps the most common is a set of integers between a start and end value, written as `range(start, end)`. Consider the following example:"
   ]
  },
  {
   "cell_type": "code",
   "execution_count": null,
   "metadata": {},
   "outputs": [],
   "source": [
    "n = 0\n",
    "for i in range(1, 4):\n",
    "    n = n + i"
   ]
  },
  {
   "cell_type": "markdown",
   "metadata": {},
   "source": [
    "__IMPORTANT!__ The `range(start, end)` is inclusive of `start` and exclusive of `end`. So, for example, `for i in range(0, 4)` will start iteration at `i = 0` and end at `i = 3`!"
   ]
  },
  {
   "cell_type": "markdown",
   "metadata": {},
   "source": [
    "__WHAT IS HAPPENING?__ First, recall that `range(1, 4)` is the set of numbers beginning at `1` and ending at `3`.<br>\n",
    "__1)__ The variable `n` is assigned the value `0`. <br>\n",
    "__2)__ The variable `i ` is assigned the value `1`.<br>\n",
    "__3)__ The varaiable `n` is assigned the value `n + i` ($0 + 1 = 1$).<br>\n",
    "__4)__ The variable `i ` is assigned the value `2`.<br>\n",
    "__5)__ The varaiable `n` is assigned the value `n + i` ($1 + 2 = 3$).<br>\n",
    "__6)__ The variable `i ` is assigned the value `2`.<br>\n",
    "__7)__ The varaiable `n` is assigned the value `n + i` ($1 + 2 = 3$).<br>\n",
    "__8)__ With no more values to assign in the looping array, the for-loop is terminated with `n = 6`."
   ]
  },
  {
   "cell_type": "markdown",
   "metadata": {},
   "source": [
    "Other examples of sequences that we can iterate over include the elements of a list and the characters in a string. We present several more examples to give you a sense of how for-loops work."
   ]
  },
  {
   "cell_type": "markdown",
   "metadata": {},
   "source": [
    "__EXAMPLE:__ Print all the characters in the string `\"banana\"`."
   ]
  },
  {
   "cell_type": "code",
   "execution_count": 8,
   "metadata": {},
   "outputs": [
    {
     "name": "stdout",
     "output_type": "stream",
     "text": [
      "b\n",
      "a\n",
      "n\n",
      "a\n",
      "n\n",
      "a\n"
     ]
    }
   ],
   "source": [
    "n = 0\n",
    "for c in \"banana\":\n",
    "    print(c)"
   ]
  },
  {
   "cell_type": "markdown",
   "metadata": {},
   "source": [
    "__EXAMPLE:__ Given a list of integers, `a`, add all the elements of `a`."
   ]
  },
  {
   "cell_type": "code",
   "execution_count": 12,
   "metadata": {},
   "outputs": [],
   "source": [
    "def sum_elements(a):\n",
    "    \"\"\"Returns the sum of all the elements of the list a.\"\"\"\n",
    "    sum = 0\n",
    "    for elem in a:\n",
    "        sum += elem # sum = sum + elem\n",
    "    return sum"
   ]
  },
  {
   "cell_type": "code",
   "execution_count": 13,
   "metadata": {
    "scrolled": true
   },
   "outputs": [
    {
     "data": {
      "text/plain": [
       "6"
      ]
     },
     "execution_count": 13,
     "metadata": {},
     "output_type": "execute_result"
    }
   ],
   "source": [
    "sum_elements([1, 2, 3])"
   ]
  },
  {
   "cell_type": "markdown",
   "metadata": {},
   "source": [
    "_Note_: A Python shortcut that is commonly used is the `+=` shortcut. In Python and many other programming languages, a statement like `i += 1` is equivalent to `i = i + 1` and is often preferred."
   ]
  },
  {
   "cell_type": "markdown",
   "metadata": {},
   "source": [
    "__EXAMPLE:__ Given a list of integers, `lst`, add only the even elements of the list. Recall a number is even if it can be divided by 2 without remainder."
   ]
  },
  {
   "cell_type": "code",
   "execution_count": 10,
   "metadata": {},
   "outputs": [],
   "source": [
    "def sum_only_even(lst):\n",
    "    \"\"\"Returns the sum of the even elements of the list lst.\"\"\"\n",
    "    sum = 0\n",
    "    for elem in lst:\n",
    "        if elem % 2 == 0: # Even check!\n",
    "            sum += elem\n",
    "        # If elem is not even, nothing happens to sum and the next iteration of the loop begins.\n",
    "    return sum"
   ]
  },
  {
   "cell_type": "code",
   "execution_count": 11,
   "metadata": {},
   "outputs": [
    {
     "data": {
      "text/plain": [
       "12"
      ]
     },
     "execution_count": 11,
     "metadata": {},
     "output_type": "execute_result"
    }
   ],
   "source": [
    "sum_only_even([2, 3, 4, 6]) # 2 + 4 + 6 = 12"
   ]
  },
  {
   "cell_type": "markdown",
   "metadata": {},
   "source": [
    "Just like if-statements, for-loops can be nested. "
   ]
  },
  {
   "cell_type": "markdown",
   "metadata": {},
   "source": [
    "__EXAMPLE:__ Given a list of lists of characters, print the characters one by one individually using for-loops."
   ]
  },
  {
   "cell_type": "code",
   "execution_count": null,
   "metadata": {},
   "outputs": [],
   "source": []
  }
 ],
 "metadata": {
  "kernelspec": {
   "display_name": "Python 3",
   "language": "python",
   "name": "python3"
  },
  "language_info": {
   "codemirror_mode": {
    "name": "ipython",
    "version": 3
   },
   "file_extension": ".py",
   "mimetype": "text/x-python",
   "name": "python",
   "nbconvert_exporter": "python",
   "pygments_lexer": "ipython3",
   "version": "3.6.3"
  }
 },
 "nbformat": 4,
 "nbformat_minor": 2
}
