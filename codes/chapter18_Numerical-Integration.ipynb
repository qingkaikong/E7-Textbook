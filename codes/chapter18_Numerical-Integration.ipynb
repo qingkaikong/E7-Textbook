{
 "cells": [
  {
   "cell_type": "code",
   "execution_count": 1,
   "metadata": {
    "collapsed": true
   },
   "outputs": [],
   "source": [
    "import numpy as np\n",
    "from matplotlib import pyplot as plt"
   ]
  },
  {
   "cell_type": "markdown",
   "metadata": {},
   "source": [
    "## TRY IT!\n",
    "Use the left Riemann Integral, right Riemann Integral, and Midpoint Rule to approximate $\\int_{0}^{\\pi} \\text{sin}(x) dx$ wtih 11 evenly spaced grid ponts over the whole interval. Compare this value to the exact value of 2."
   ]
  },
  {
   "cell_type": "code",
   "execution_count": 2,
   "metadata": {},
   "outputs": [
    {
     "name": "stdout",
     "output_type": "stream",
     "text": [
      "1.98352353751\n",
      "0.0164764624905\n",
      "1.98352353751\n",
      "0.0164764624905\n",
      "2.00824840791\n",
      "-0.00824840790797\n"
     ]
    }
   ],
   "source": [
    "a = 0\n",
    "b = np.pi\n",
    "n = 11\n",
    "h = (b - a) / (n - 1)\n",
    "x = np.linspace(a, b, n)\n",
    "f = np.sin(x)\n",
    "\n",
    "I_riemannL = h * sum(f[:n-1])\n",
    "err_riemannL = 2 - I_riemannL\n",
    "\n",
    "I_riemannR = h * sum(f[1::])\n",
    "err_riemannR = 2 - I_riemannR\n",
    "\n",
    "I_mid = h * sum(np.sin((x[:n-1] + x[1:])/2))\n",
    "err_mid = 2 - I_mid\n",
    "\n",
    "print(I_riemannL)\n",
    "print(err_riemannL)\n",
    "\n",
    "print(I_riemannR)\n",
    "print(err_riemannR)\n",
    "\n",
    "print(I_mid)\n",
    "print(err_mid)"
   ]
  },
  {
   "cell_type": "markdown",
   "metadata": {},
   "source": [
    "## TRY IT!\n",
    "Use the Trapezoid Rule to approximate $\\int_{0}^{\\pi} \\text{sin}(x)dx$ with 11 evenly spaced grid points over the whole interval. Compare this value to the exact value of 2"
   ]
  },
  {
   "cell_type": "code",
   "execution_count": 3,
   "metadata": {},
   "outputs": [
    {
     "name": "stdout",
     "output_type": "stream",
     "text": [
      "1.98352353751\n",
      "0.0164764624905\n"
     ]
    }
   ],
   "source": [
    "a = 0\n",
    "b = np.pi\n",
    "n = 11\n",
    "h = (b - a) / (n - 1)\n",
    "x = np.linspace(a, b, n)\n",
    "f = np.sin(x)\n",
    "\n",
    "I_trap = (h/2)*(f[0] + 2 * sum(f[1:n-1]) + f[n-1])\n",
    "err_trap = 2 - I_trap\n",
    "\n",
    "print(I_trap)\n",
    "print(err_trap)"
   ]
  },
  {
   "cell_type": "markdown",
   "metadata": {},
   "source": [
    "## TRY IT!\n",
    "Use Simpson's Rule to approximate $\\int_{0}^{\\pi} \\text{sin} (x)dx$ with 11 evenly spaced grid points over the whole interval. Compare this value to the exact value of 2."
   ]
  },
  {
   "cell_type": "code",
   "execution_count": 4,
   "metadata": {},
   "outputs": [
    {
     "name": "stdout",
     "output_type": "stream",
     "text": [
      "2.00010951732\n",
      "-0.000109517315004\n"
     ]
    }
   ],
   "source": [
    "a = 0\n",
    "b = np.pi\n",
    "n = 11\n",
    "h = (b - a) / (n - 1)\n",
    "x = np.linspace(a, b, n)\n",
    "f = np.sin(x)\n",
    "\n",
    "I_simp = (h/3) * (f[0] + 2*sum(f[:n-2:2]) + 4*sum(f[1:n-1:2]) + f[n-1])\n",
    "err_simp = 2 - I_simp\n",
    "\n",
    "print(I_simp)\n",
    "print(err_simp)"
   ]
  },
  {
   "cell_type": "markdown",
   "metadata": {},
   "source": [
    "## TRY IT!\n",
    "Use the $\\verb|trapz|$ funtion to approximate $\\int_{0}^{\\pi}\\text{sin}(x)dx$ for 11 equally spaced points over the whole interval. Compare this value to the one computed in the early example using the Trapezoid Rule. "
   ]
  },
  {
   "cell_type": "code",
   "execution_count": 5,
   "metadata": {},
   "outputs": [
    {
     "name": "stdout",
     "output_type": "stream",
     "text": [
      "1.98352353751\n",
      "1.98352353751\n"
     ]
    }
   ],
   "source": [
    "a = 0\n",
    "b = np.pi\n",
    "n = 11\n",
    "h = (b - a) / (n - 1)\n",
    "x = np.linspace(a, b, n)\n",
    "f = np.sin(x)\n",
    "\n",
    "I_trapz = np.trapz(f,x)\n",
    "\n",
    "print(I_trapz)\n",
    "print(I_trap)"
   ]
  },
  {
   "cell_type": "code",
   "execution_count": 6,
   "metadata": {},
   "outputs": [],
   "source": [
    "%reset -f\n",
    "\n",
    "import numpy as np\n",
    "from scipy import integrate\n",
    "from matplotlib import pyplot as plt"
   ]
  },
  {
   "cell_type": "markdown",
   "metadata": {},
   "source": [
    "## TRY IT!\n",
    "Use the $\\verb|cumtrapz|$ function to approximate the cumulative integral of $f(x) = \\text{sin}(x)$ from $0$ to $\\pi$ with a discretization step of 0.01. The exact solution of this integral is $F(x) = sin(x)$. Plot the results to compare (Figure ____)."
   ]
  },
  {
   "cell_type": "code",
   "execution_count": 7,
   "metadata": {},
   "outputs": [
    {
     "data": {
      "image/png": "[encoded data removed]",
      "text/plain": [
       "<matplotlib.figure.Figure at 0x25deeba4860>"
      ]
     },
     "metadata": {},
     "output_type": "display_data"
    }
   ],
   "source": [
    "x = np.arange(0, np.pi, 0.01)\n",
    "F_exact = -np.cos(x)\n",
    "F_approx = integrate.cumtrapz(np.sin(x), x)\n",
    "\n",
    "plt.plot(x, F_exact)\n",
    "plt.plot(x[1::], F_approx)\n",
    "plt.grid()\n",
    "plt.tight_layout()\n",
    "plt.title('$F(x) = \\int_0^{x} sin(y) dy$')\n",
    "plt.xlabel('x')\n",
    "plt.ylabel('f(x)')\n",
    "plt.legend(['Exact with Offset', 'Approx'])\n",
    "plt.show()"
   ]
  },
  {
   "cell_type": "markdown",
   "metadata": {},
   "source": [
    "## TRY IT!\n",
    "Use the $\\verb|quad|$ function to compute $\\int_{0}^{\\pi} \\text{sin}(x)dx$. Compare your answer with the correct answer of 2."
   ]
  },
  {
   "cell_type": "code",
   "execution_count": 8,
   "metadata": {},
   "outputs": [
    {
     "name": "stdout",
     "output_type": "stream",
     "text": [
      "2.0\n",
      "2.220446049250313e-14 0.0\n"
     ]
    }
   ],
   "source": [
    "I_quad, est_err_quad = integrate.quad(np.sin, 0, np.pi)\n",
    "print(I_quad)\n",
    "err_quad = 2 - I_quad\n",
    "print(est_err_quad, err_quad)"
   ]
  },
  {
   "cell_type": "code",
   "execution_count": null,
   "metadata": {
    "collapsed": true
   },
   "outputs": [],
   "source": []
  }
 ],
 "metadata": {
  "kernelspec": {
   "display_name": "Python 3",
   "language": "python",
   "name": "python3"
  },
  "language_info": {
   "codemirror_mode": {
    "name": "ipython",
    "version": 3
   },
   "file_extension": ".py",
   "mimetype": "text/x-python",
   "name": "python",
   "nbconvert_exporter": "python",
   "pygments_lexer": "ipython3",
   "version": "3.6.1"
  }
 },
 "nbformat": 4,
 "nbformat_minor": 2
}
