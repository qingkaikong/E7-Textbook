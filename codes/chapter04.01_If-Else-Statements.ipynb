{
 "cells": [
  {
   "cell_type": "markdown",
   "metadata": {},
   "source": [
    "# Motivation\n",
    "\n",
    "When writing functions, it is very common to want certain parts of the function body to be executed only under certain conditions. For example, if the input argument is odd, you may want the function to perform one operation on it, and another if the input argument is even. This effect can be achieved in Python using branching statements (i.e., the execution of the function branches under certain conditions), which are the topic of this chapter.\n",
    "By the end of this chapter, you should be able to program branching statements into your functions and scripts, which should substantially increase the scope of tasks for which you will be able to make functions."
   ]
  },
  {
   "cell_type": "markdown",
   "metadata": {},
   "source": [
    "# 4.1 If-Else Statements\n",
    "\n",
    "A **branching statement**, **If-Else Statement**, or **If-Statement** for short, is a code construct that executes blocks of code only if certain conditions are met. These conditions are represented as logical expres- sions. Let P, Q, and R be some logical expressions in Python. The following shows an if-statement construction.\n"
   ]
  },
  {
   "cell_type": "markdown",
   "metadata": {},
   "source": [
    "```pseudocode\n",
    "CONSTRUCTION: Simple If-Else Statement Syntax\n",
    "if logical expression:\n",
    "    code block\n",
    "```"
   ]
  },
  {
   "cell_type": "markdown",
   "metadata": {},
   "source": [
    "The word “if” is a keyword. When Python sees an if-statement, it will determine if the associated logical expression is true. If it is true, then the code in code block will be executed. If it is false, then the code in the if-statement will not be executed. The way to read this is “If logical expression is true then do code block.”\n",
    "When there are several conditions to consider you can include elif-statements; if you want a condition that covers any other case, then you can use an else statement."
   ]
  },
  {
   "cell_type": "markdown",
   "metadata": {},
   "source": [
    "```pseudocode\n",
    "CONSTRUCTION: Extended If-Else Statement Syntax\n",
    "if logical expression P:\n",
    "    code block 1\n",
    "elif logical expression Q:\n",
    "    code block 2\n",
    "elif logical expression R:\n",
    "    code block 3\n",
    "else:\n",
    "    code block 4\n",
    "   \n",
    "```"
   ]
  },
  {
   "cell_type": "markdown",
   "metadata": {},
   "source": [
    "In the previous code, Python will first check if P is true. If P is true, then code block 1 will be executed, and then the if-statement will end. In other words, Python will not check the rest of the statements once it reaches a true statement. However, if P is false, then Python will check if Q is true. If Q is true, then code block 2 will be executed, and the if-statement will end. If it is false, then R will be executed, and so forth. If P, Q, and R are all false, then code block 4 will be executed. You can have any number of elif statements (or none) as long as there is at least one if-statement (the first statement). You do not need an else statement, but you can have at most one else statement. The logical expressions after the if and elif (i.e., such as P, Q, and R) will be referred to as conditional statements."
   ]
  },
  {
   "cell_type": "markdown",
   "metadata": {},
   "source": [
    "**TRY IT!** Write a function with header `[status] = myThermoStat(temp, desiredTemp)`. The value of status should be the string `'Heat'` if temp is less than desiredTemp minus 5 degrees, `'AC'` if temp is more than the desiredTemp plus 5, and `'off'` otherwise."
   ]
  },
  {
   "cell_type": "code",
   "execution_count": 1,
   "metadata": {},
   "outputs": [],
   "source": [
    "def myThermoStat(temp, desiredTemp):\n",
    "    \"\"\"\n",
    "    Changes the status of the thermostat based on temperature and desired temperature\n",
    "    author\n",
    "    date\n",
    "    :type temp: IntType\n",
    "    :type desiredTemp: IntType\n",
    "    :rtype: StringType\n",
    "    \"\"\"\n",
    "    if temp < desiredTemp - 5:\n",
    "        status = 'Heat';\n",
    "    elif temp > desiredTemp + 5:\n",
    "        status = 'AC';\n",
    "    else:\n",
    "        status = 'off'\n",
    "    return status"
   ]
  },
  {
   "cell_type": "code",
   "execution_count": 2,
   "metadata": {},
   "outputs": [
    {
     "name": "stdout",
     "output_type": "stream",
     "text": [
      "Heat\n"
     ]
    }
   ],
   "source": [
    "status = myThermoStat(65,75)\n",
    "print(status)"
   ]
  },
  {
   "cell_type": "code",
   "execution_count": 3,
   "metadata": {},
   "outputs": [
    {
     "name": "stdout",
     "output_type": "stream",
     "text": [
      "AC\n"
     ]
    }
   ],
   "source": [
    "status = myThermoStat(75,65)\n",
    "print(status)"
   ]
  },
  {
   "cell_type": "code",
   "execution_count": 4,
   "metadata": {},
   "outputs": [
    {
     "name": "stdout",
     "output_type": "stream",
     "text": [
      "off\n"
     ]
    }
   ],
   "source": [
    "status = myThermoStat(65,63)\n",
    "print(status)"
   ]
  },
  {
   "cell_type": "markdown",
   "metadata": {},
   "source": [
    "**EXAMPLE**: What will be the value of y after the following script is executed?\n",
    "```python\n",
    "x = 3\n",
    "if x > 1\n",
    "    y = 2\n",
    "elif x > 2\n",
    "    y = 4\n",
    "else\n",
    "    y = 0\n",
    "print(y)\n",
    "```"
   ]
  },
  {
   "cell_type": "code",
   "execution_count": 5,
   "metadata": {},
   "outputs": [
    {
     "name": "stdout",
     "output_type": "stream",
     "text": [
      "2\n"
     ]
    }
   ],
   "source": [
    "x = 3\n",
    "if x > 1:\n",
    "    y = 2\n",
    "elif x > 2:\n",
    "    y = 4\n",
    "else:\n",
    "    y = 0\n",
    "print(y)"
   ]
  },
  {
   "cell_type": "markdown",
   "metadata": {},
   "source": [
    "We can also insert more complicated conditional statements using logical operators."
   ]
  },
  {
   "cell_type": "markdown",
   "metadata": {},
   "source": [
    "**EXAMPLE:** What will be the value of y after the following code is executed?\n",
    "```python\n",
    "x = 3\n",
    "if x > 1 and x < 2:\n",
    "    y = 2\n",
    "elif x > 2 and x < 4:\n",
    "    y = 4\n",
    "else:\n",
    "    y = 0\n",
    "print(y)\n",
    "```"
   ]
  },
  {
   "cell_type": "code",
   "execution_count": 6,
   "metadata": {},
   "outputs": [
    {
     "name": "stdout",
     "output_type": "stream",
     "text": [
      "4\n"
     ]
    }
   ],
   "source": [
    "x = 3\n",
    "if x > 1 and x < 2:\n",
    "    y = 2\n",
    "elif x > 2 and x < 4:\n",
    "    y = 4\n",
    "else:\n",
    "    y = 0\n",
    "print(y)"
   ]
  },
  {
   "cell_type": "markdown",
   "metadata": {},
   "source": [
    "**WARNING!** Remember, if you want the logical statement a < x < b, this is two conditional statements, a < x AND x < b. Typing a < x < b will have unexpected and undesirable results. CHECK INTO THIS"
   ]
  },
  {
   "cell_type": "markdown",
   "metadata": {},
   "source": [
    "**EXAMPLE:** Think about what will happen when the following code is executed. What are all the possible outcomes based on the input values of x and y?\n",
    "\n",
    "```python\n",
    "def myNestedBranching(x,y):\n",
    "    \"\"\"\n",
    "    Nested Branching Statement Example\n",
    "    author\n",
    "    date\n",
    "    :type x: IntType\n",
    "    :type y: IntType\n",
    "    :rtype: IntType\n",
    "    \"\"\"\n",
    "    if x > 2:\n",
    "        if y < 2:\n",
    "            out = x + y\n",
    "        else:\n",
    "            out = x - y\n",
    "    else:\n",
    "        if y > 2:\n",
    "            out = x*y\n",
    "        else:\n",
    "            out = 0\n",
    "    return out\n",
    "```"
   ]
  },
  {
   "cell_type": "code",
   "execution_count": null,
   "metadata": {},
   "outputs": [],
   "source": [
    "def myNestedBranching(x,y):\n",
    "    \"\"\"\n",
    "    Nested Branching Statement Example\n",
    "    author\n",
    "    date\n",
    "    :type x: IntType\n",
    "    :type y: IntType\n",
    "    :rtype: IntType\n",
    "    \"\"\"\n",
    "    if x > 2:\n",
    "        if y < 2:\n",
    "            out = x + y\n",
    "        else:\n",
    "            out = x - y\n",
    "    else:\n",
    "        if y > 2:\n",
    "            out = x*y\n",
    "        else:\n",
    "            out = 0\n",
    "    return out"
   ]
  },
  {
   "cell_type": "markdown",
   "metadata": {},
   "source": [
    "**TIP!** To help keep track of which code blocks belong under which conditional statement, Python gives the same level of indentation to every line of code within a conditional statement. As you write code, you may find that the indentation becomes incorrect for whatever reason. You can indent everything properly by pressing ctrl+a to select all your code and then ctrl+i to properly indent on a PC, and command+a and command+i on a MAC. Be sure to use this sequence of instructions on your code before presenting it to other people. It makes it much easier to read. NEED TO CONFIRM"
   ]
  },
  {
   "cell_type": "markdown",
   "metadata": {},
   "source": [
    "**EXAMPLE:** Following is the code for myNestedBranching without any indentation. Not only is it not visually pleasing, but it also makes it much harder to understand the structure of the code."
   ]
  },
  {
   "cell_type": "markdown",
   "metadata": {},
   "source": [
    "```python\n",
    "def myNestedBranching(x,y):\n",
    "\"\"\"\n",
    "Nested Branching Statement Example\n",
    "author\n",
    "date\n",
    ":type x: IntType\n",
    ":type y: IntType\n",
    ":rtype: IntType\n",
    "\"\"\"\n",
    "if x > 2:\n",
    "if y < 2:\n",
    "out = x + y\n",
    "else:\n",
    "out = x - y\n",
    "else:\n",
    "if y > 2:\n",
    "out = x*y\n",
    "else:\n",
    "out = 0\n",
    "return out\n",
    "```"
   ]
  },
  {
   "cell_type": "code",
   "execution_count": null,
   "metadata": {},
   "outputs": [],
   "source": [
    "def myNestedBranching(x,y):\n",
    "\"\"\"\n",
    "Nested Branching Statement Example\n",
    "author\n",
    "date\n",
    ":type x: IntType\n",
    ":type y: IntType\n",
    ":rtype: IntType\n",
    "\"\"\"\n",
    "if x > 2:\n",
    "if y < 2:\n",
    "out = x + y\n",
    "else:\n",
    "out = x - y\n",
    "else:\n",
    "if y > 2:\n",
    "out = x*y\n",
    "else:\n",
    "out = 0\n",
    "return out"
   ]
  },
  {
   "cell_type": "markdown",
   "metadata": {},
   "source": [
    "**TIP!** When learning to program to it is natural write code from beginning to end, just the way you write sentences. However, it is usually better to write complete if-statements first (all the conditional statements) before beginning to fill in the code block sections. For example, when writing an if-statement, write the “if” at the top, then the “end” at the bottom, then fill in the elseif and else statements, then fill in the body of each individual statement. Although it is trivial for the examples given in this chapter, coding in this order will help you keep track of your code when it becomes more complicated (as it will later in the book). NEED A COMMENT ABOUT HOW THE ABOVE CODE WILL RESULT IN AN ERROR"
   ]
  },
  {
   "cell_type": "markdown",
   "metadata": {},
   "source": [
    "EXAMPLE: The following shows a good order in which to type myNestedBranching.\n",
    "\n",
    "Step 1: Declare the function header and comments.\n",
    "```python\n",
    "def myNestedBranching(x,y):\n",
    "    \"\"\"\n",
    "    Nested Branching Statement Example\n",
    "    author\n",
    "    date\n",
    "    :type x: IntType\n",
    "    :type y: IntType\n",
    "    :rtype: IntType\n",
    "    \"\"\"\n",
    "```\n",
    "\n",
    "Step 2: Write main branching statement (outermost if-statement first).\n",
    "```python\n",
    "def myNestedBranching(x,y):\n",
    "    \"\"\"\n",
    "    Nested Branching Statement Example\n",
    "    author\n",
    "    date\n",
    "    :type x: IntType\n",
    "    :type y: IntType\n",
    "    :rtype: IntType\n",
    "    \"\"\"\n",
    "    if x > 2:\n",
    "        pass\n",
    "    else:\n",
    "        pass\n",
    "```\n",
    "\n",
    "Step 3: Fill in the code block for the first conditional statement (i.e., the nested if-statement).\n",
    "```python\n",
    "def myNestedBranching(x,y):\n",
    "    \"\"\"\n",
    "    Nested Branching Statement Example\n",
    "    author\n",
    "    date\n",
    "    :type x: IntType\n",
    "    :type y: IntType\n",
    "    :rtype: IntType\n",
    "    \"\"\"\n",
    "    if x > 2:\n",
    "        if y < 2:\n",
    "            out = x + y\n",
    "        else:\n",
    "            out = x - y\n",
    "    else:\n",
    "        pass\n",
    "```\n",
    "\n",
    "Step 4: Fill in the code block for the second conditional statement.\n",
    "```python\n",
    "def myNestedBranching(x,y):\n",
    "    \"\"\"\n",
    "    Nested Branching Statement Example\n",
    "    author\n",
    "    date\n",
    "    :type x: IntType\n",
    "    :type y: IntType\n",
    "    :rtype: IntType\n",
    "    \"\"\"\n",
    "    if x > 2:\n",
    "        if y < 2:\n",
    "            out = x + y\n",
    "        else:\n",
    "            out = x - y\n",
    "    else:\n",
    "        if y > 2:\n",
    "            out = x*y\n",
    "        else:\n",
    "            out = 0\n",
    "    return out\n",
    "```\n",
    "\n",
    "\n",
    "Writing code in this way will help you break down your task in a way that will help you program it effectively."
   ]
  },
  {
   "cell_type": "markdown",
   "metadata": {},
   "source": [
    "There are many logical functions that are designed to help you build branching statements. For example, you can ask if a variable has a certain data type or value with functions like **FIX** isreal, isnan, isinf, and isa. There are also functions that can tell you information about arrays of logicals like any, which computes to true if any element in an array is true, and false otherwise, and all, which computes to true only if all the elements in an array are true.\n",
    "Sometimes you may want to design your function to check the inputs of a function to ensure that your function will be used properly. For example, the function myAdder in the previous chapter expects doubles as input. If the user inputs a struct or a char as one of the input variables, then the function will throw an error or have unexpected results. To prevent this, you can put a check to tell the user the function has not been used properly. This and other techniques for controlling errors are explored further in Chapter 9. For the moment, you only need to know that the error function stops a function’s execution and throws an error with the text in the input string. The error function takes sprintf type inputs."
   ]
  },
  {
   "cell_type": "markdown",
   "metadata": {},
   "source": [
    "EXAMPLE: Modify myAdder to throw an error if the user does not input doubles. Try your function for nondouble inputs to show that the check works.\n",
    "```python\n",
    "def myAdder(a,b,c):\n",
    "    \"\"\"\n",
    "    Calculate the sum of three numbers\n",
    "    author\n",
    "    date\n",
    "    :type a: IntType\n",
    "    :type b: IntType\n",
    "    :type b: IntType\n",
    "    :rtype: IntType\n",
    "    \"\"\"\n",
    "    # Check for erroneous input\n",
    "    if not isinstance(a, int) or not isinstance(b, int) or not isinstance(c, int):\n",
    "        raise ValueError('Inputs a, b, and c must be integers.')\n",
    "    # Return output\n",
    "    return a + b + c\n",
    "```\n"
   ]
  },
  {
   "cell_type": "code",
   "execution_count": 7,
   "metadata": {},
   "outputs": [],
   "source": [
    "def myAdder(a,b,c):\n",
    "    \"\"\"\n",
    "    Calculate the sum of three numbers\n",
    "    author\n",
    "    date\n",
    "    :type a: IntType\n",
    "    :type b: IntType\n",
    "    :type b: IntType\n",
    "    :rtype: IntType\n",
    "    \"\"\"\n",
    "    # Check for erroneous input\n",
    "    if not isinstance(a, int) or not isinstance(b, int) or not isinstance(c, int):\n",
    "        raise ValueError('Inputs a, b, and c must be integers.')\n",
    "    # Return output\n",
    "    return a + b + c"
   ]
  },
  {
   "cell_type": "code",
   "execution_count": 8,
   "metadata": {},
   "outputs": [
    {
     "name": "stdout",
     "output_type": "stream",
     "text": [
      "6\n"
     ]
    }
   ],
   "source": [
    "x = myAdder(1,2,3)\n",
    "print(x)"
   ]
  },
  {
   "cell_type": "code",
   "execution_count": 9,
   "metadata": {},
   "outputs": [
    {
     "ename": "ValueError",
     "evalue": "Inputs a, b, and c must be integers.",
     "output_type": "error",
     "traceback": [
      "\u001b[0;31m---------------------------------------------------------------------------\u001b[0m",
      "\u001b[0;31mValueError\u001b[0m                                Traceback (most recent call last)",
      "\u001b[0;32m<ipython-input-9-41bbfff7ec92>\u001b[0m in \u001b[0;36m<module>\u001b[0;34m()\u001b[0m\n\u001b[0;32m----> 1\u001b[0;31m \u001b[0mx\u001b[0m \u001b[0;34m=\u001b[0m \u001b[0mmyAdder\u001b[0m\u001b[0;34m(\u001b[0m\u001b[0;34m'1'\u001b[0m\u001b[0;34m,\u001b[0m\u001b[0;34m'2'\u001b[0m\u001b[0;34m,\u001b[0m\u001b[0;34m'3'\u001b[0m\u001b[0;34m)\u001b[0m\u001b[0;34m\u001b[0m\u001b[0m\n\u001b[0m\u001b[1;32m      2\u001b[0m \u001b[0mprint\u001b[0m\u001b[0;34m(\u001b[0m\u001b[0mx\u001b[0m\u001b[0;34m)\u001b[0m\u001b[0;34m\u001b[0m\u001b[0m\n",
      "\u001b[0;32m<ipython-input-7-eb2dbad2f9dc>\u001b[0m in \u001b[0;36mmyAdder\u001b[0;34m(a, b, c)\u001b[0m\n\u001b[1;32m      8\u001b[0m     \u001b[0;31m# Check for erroneous input\u001b[0m\u001b[0;34m\u001b[0m\u001b[0;34m\u001b[0m\u001b[0m\n\u001b[1;32m      9\u001b[0m     \u001b[0;32mif\u001b[0m \u001b[0;32mnot\u001b[0m \u001b[0misinstance\u001b[0m\u001b[0;34m(\u001b[0m\u001b[0ma\u001b[0m\u001b[0;34m,\u001b[0m \u001b[0mint\u001b[0m\u001b[0;34m)\u001b[0m \u001b[0;32mor\u001b[0m \u001b[0;32mnot\u001b[0m \u001b[0misinstance\u001b[0m\u001b[0;34m(\u001b[0m\u001b[0mb\u001b[0m\u001b[0;34m,\u001b[0m \u001b[0mint\u001b[0m\u001b[0;34m)\u001b[0m \u001b[0;32mor\u001b[0m \u001b[0;32mnot\u001b[0m \u001b[0misinstance\u001b[0m\u001b[0;34m(\u001b[0m\u001b[0mc\u001b[0m\u001b[0;34m,\u001b[0m \u001b[0mint\u001b[0m\u001b[0;34m)\u001b[0m\u001b[0;34m:\u001b[0m\u001b[0;34m\u001b[0m\u001b[0m\n\u001b[0;32m---> 10\u001b[0;31m         \u001b[0;32mraise\u001b[0m \u001b[0mValueError\u001b[0m\u001b[0;34m(\u001b[0m\u001b[0;34m'Inputs a, b, and c must be integers.'\u001b[0m\u001b[0;34m)\u001b[0m\u001b[0;34m\u001b[0m\u001b[0m\n\u001b[0m\u001b[1;32m     11\u001b[0m     \u001b[0;31m# Return output\u001b[0m\u001b[0;34m\u001b[0m\u001b[0;34m\u001b[0m\u001b[0m\n\u001b[1;32m     12\u001b[0m     \u001b[0;32mreturn\u001b[0m \u001b[0ma\u001b[0m \u001b[0;34m+\u001b[0m \u001b[0mb\u001b[0m \u001b[0;34m+\u001b[0m \u001b[0mc\u001b[0m\u001b[0;34m\u001b[0m\u001b[0m\n",
      "\u001b[0;31mValueError\u001b[0m: Inputs a, b, and c must be integers."
     ]
    }
   ],
   "source": [
    "x = myAdder('1','2','3')\n",
    "print(x)"
   ]
  },
  {
   "cell_type": "markdown",
   "metadata": {},
   "source": [
    "There is a large variety of erroneous inputs that your function may encounter from users, and it is unreasonable to expect that your function will catch them all. Therefore, unless otherwise stated, write your functions assuming the functions will be used properly.\n",
    "The remainder of the section gives a few more examples of branching statements."
   ]
  },
  {
   "cell_type": "markdown",
   "metadata": {},
   "source": [
    "TRY IT! Write a function called isOdd that returns 'odd' if the input is odd and 'even' if it is even. You can assume that in will be a positive integer."
   ]
  },
  {
   "cell_type": "code",
   "execution_count": null,
   "metadata": {},
   "outputs": [],
   "source": [
    "def isOdd(input):\n",
    "    \"\"\"\n",
    "    returns 'odd' if input is odd, 'even' if input is even\n",
    "    author\n",
    "    date\n",
    "    :type input: IntType\n",
    "    :rtype: StringType\n",
    "    \"\"\"\n",
    "    # use modulo to check if input is divisible by 2\n",
    "    if input % 2 == 0:\n",
    "        # if it is divisible by 2, then input not odd\n",
    "        return 'even'\n",
    "    else:\n",
    "        return 'odd'"
   ]
  },
  {
   "cell_type": "markdown",
   "metadata": {},
   "source": [
    "**TRY IT!** Write a function called myCircCalc that takes a double, r, and a string, calc as input arguments. You may assume that r is positive, and that calc is either the string 'area' or 'circumference'. The function myCircCalc should compute the area of a circle with radius, r, if the string calc is 'area', and the circumference of a circle with radius, r, if calc is 'circumference'. The function should be vectorized for r. **How to vectorize in python?**"
   ]
  },
  {
   "cell_type": "code",
   "execution_count": null,
   "metadata": {},
   "outputs": [],
   "source": [
    "import math\n",
    "def myCircCalc(r, calc):\n",
    "    \"\"\"\n",
    "    Calculate various circle measurements\n",
    "    author\n",
    "    date\n",
    "    :type r: IntType\n",
    "    :type calc: StringType\n",
    "    :rtype: IntType\n",
    "    \"\"\"\n",
    "    if calc == 'area':\n",
    "        return pi*math.pow(r,2)\n",
    "    elif calc == 'circumference':\n",
    "        return 2*pi*r"
   ]
  },
  {
   "cell_type": "markdown",
   "metadata": {},
   "source": [
    "# Summary\n",
    "1. Branching (if-else) statements allow functions to take different actions under different circumstances."
   ]
  },
  {
   "cell_type": "markdown",
   "metadata": {},
   "source": [
    "# Vocabulary\n",
    "* branching statement\n",
    "* conditional statement\n",
    "* if-else statement\n",
    "* if-statement\n",
    "* nested\n",
    "* nested if-statement"
   ]
  },
  {
   "cell_type": "markdown",
   "metadata": {},
   "source": [
    "# Functions and Operators\n",
    "* if\n",
    "* elif\n",
    "* else\n",
    "* isinstance"
   ]
  },
  {
   "cell_type": "code",
   "execution_count": null,
   "metadata": {},
   "outputs": [],
   "source": []
  }
 ],
 "metadata": {
  "kernelspec": {
   "display_name": "Python 3",
   "language": "python",
   "name": "python3"
  },
  "language_info": {
   "codemirror_mode": {
    "name": "ipython",
    "version": 3
   },
   "file_extension": ".py",
   "mimetype": "text/x-python",
   "name": "python",
   "nbconvert_exporter": "python",
   "pygments_lexer": "ipython3",
   "version": "3.7.0"
  }
 },
 "nbformat": 4,
 "nbformat_minor": 2
}
