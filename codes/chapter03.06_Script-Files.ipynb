{
 "cells": [
  {
   "cell_type": "markdown",
   "metadata": {},
   "source": [
    "**TRY IT!** Write a script file that computes properties of a cylinder for a given radius and height"
   ]
  },
  {
   "cell_type": "code",
   "execution_count": 2,
   "metadata": {},
   "outputs": [
    {
     "name": "stdout",
     "output_type": "stream",
     "text": [
      "V = 785.3981633974483\n",
      "S = 471.23889803846896\n"
     ]
    }
   ],
   "source": [
    "import math\n",
    "# declare cylinder specs\n",
    "r = 5\n",
    "h = 10\n",
    "\n",
    "# compute volume of cylinder\n",
    "V = math.pi*r**2*h\n",
    "\n",
    "# compute lateral surface area of cylinder\n",
    "s = 2*math.pi*r*h\n",
    "\n",
    "# compute total surface area of cylinder\n",
    "S = s + 2*math.pi*r**2\n",
    "\n",
    "print(\"V =\", V)\n",
    "print(\"S =\", S)"
   ]
  },
  {
   "cell_type": "markdown",
   "metadata": {},
   "source": [
    "**TRY IT!** Organize the previous script file into cells. Execute the cells one at a time using cell\n",
    "mode."
   ]
  },
  {
   "cell_type": "code",
   "execution_count": 3,
   "metadata": {},
   "outputs": [],
   "source": [
    "import math\n",
    "# declare cylinder specs\n",
    "r = 5\n",
    "h = 10"
   ]
  },
  {
   "cell_type": "code",
   "execution_count": 5,
   "metadata": {},
   "outputs": [
    {
     "name": "stdout",
     "output_type": "stream",
     "text": [
      "V = 785.3981633974483\n"
     ]
    }
   ],
   "source": [
    "# compute volume of cylinder\n",
    "V = math.pi*r**2*h\n",
    "print(\"V =\", V)"
   ]
  },
  {
   "cell_type": "code",
   "execution_count": 6,
   "metadata": {},
   "outputs": [
    {
     "name": "stdout",
     "output_type": "stream",
     "text": [
      "S = 471.23889803846896\n"
     ]
    }
   ],
   "source": [
    "# compute lateral surface area of cylinder\n",
    "s = 2*math.pi*r*h\n",
    "\n",
    "# compute total surface area of cylinder\n",
    "S = s + 2*math.pi*r**2\n",
    "print(\"S =\", S)"
   ]
  },
  {
   "cell_type": "code",
   "execution_count": null,
   "metadata": {},
   "outputs": [],
   "source": []
  }
 ],
 "metadata": {
  "kernelspec": {
   "display_name": "Python 3",
   "language": "python",
   "name": "python3"
  },
  "language_info": {
   "codemirror_mode": {
    "name": "ipython",
    "version": 3
   },
   "file_extension": ".py",
   "mimetype": "text/x-python",
   "name": "python",
   "nbconvert_exporter": "python",
   "pygments_lexer": "ipython3",
   "version": "3.6.5"
  }
 },
 "nbformat": 4,
 "nbformat_minor": 2
}
