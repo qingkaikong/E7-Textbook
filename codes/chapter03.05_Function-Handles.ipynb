{
 "cells": [
  {
   "cell_type": "markdown",
   "metadata": {},
   "source": [
    "**TRY IT!** Assign the function `exp` to the variable `F`. Verify that `F` has type function handle using\n",
    "the `type` function."
   ]
  },
  {
   "cell_type": "code",
   "execution_count": 2,
   "metadata": {},
   "outputs": [
    {
     "data": {
      "text/plain": [
       "function"
      ]
     },
     "execution_count": 2,
     "metadata": {},
     "output_type": "execute_result"
    }
   ],
   "source": [
    "import math\n",
    "F = lambda x: math.exp(x)\n",
    "type(F)"
   ]
  },
  {
   "cell_type": "markdown",
   "metadata": {},
   "source": [
    "**TRY IT!** Compute $e^2$ using the function handle `F`. Verify that this is correct using the `exp` function"
   ]
  },
  {
   "cell_type": "code",
   "execution_count": 3,
   "metadata": {},
   "outputs": [
    {
     "name": "stdout",
     "output_type": "stream",
     "text": [
      "7.38905609893065\n",
      "7.38905609893065\n"
     ]
    }
   ],
   "source": [
    "print(F(2))\n",
    "print(math.exp(2))"
   ]
  },
  {
   "cell_type": "markdown",
   "metadata": {},
   "source": [
    "**TRY IT!** Program a function called `myFunPlusOne` that takes a function handle, `F`, and a double\n",
    "`x` as input arguments. `myFunPlusOne` should return `F` evaluated at `x`, and the result added to the\n",
    "value `1`. Verify that it works for various functions and values of `x`."
   ]
  },
  {
   "cell_type": "code",
   "execution_count": 6,
   "metadata": {},
   "outputs": [
    {
     "name": "stdout",
     "output_type": "stream",
     "text": [
      "2.0\n",
      "1.0\n",
      "3.0\n"
     ]
    }
   ],
   "source": [
    "def myFunPlusOne(F, x):\n",
    "    return 1 + F(x)\n",
    "\n",
    "print(myFunPlusOne(lambda x: math.sin(x), math.pi/2))\n",
    "print(myFunPlusOne(lambda x: math.cos(x), math.pi/2))\n",
    "print(myFunPlusOne(lambda x: math.sqrt(x), 4))"
   ]
  },
  {
   "cell_type": "markdown",
   "metadata": {},
   "source": [
    "**TRY IT!** Create `myAdder` from the example in the functions section using anonymous function\n",
    "handles. Use the variable `F`. Verify that `F` and `myAdder` behave the same for `a=1`, `b=2`, and\n",
    "`c=3`."
   ]
  },
  {
   "cell_type": "code",
   "execution_count": 7,
   "metadata": {},
   "outputs": [
    {
     "name": "stdout",
     "output_type": "stream",
     "text": [
      "6\n",
      "6\n"
     ]
    }
   ],
   "source": [
    "def myAdder(a, b, c):\n",
    "    return a + b + c\n",
    "\n",
    "F = lambda a, b, c: a + b + c\n",
    "print(F(1, 2, 3))\n",
    "print(myAdder(1, 2, 3))"
   ]
  },
  {
   "cell_type": "code",
   "execution_count": null,
   "metadata": {},
   "outputs": [],
   "source": []
  }
 ],
 "metadata": {
  "kernelspec": {
   "display_name": "Python 3",
   "language": "python",
   "name": "python3"
  },
  "language_info": {
   "codemirror_mode": {
    "name": "ipython",
    "version": 3
   },
   "file_extension": ".py",
   "mimetype": "text/x-python",
   "name": "python",
   "nbconvert_exporter": "python",
   "pygments_lexer": "ipython3",
   "version": "3.6.5"
  }
 },
 "nbformat": 4,
 "nbformat_minor": 2
}
