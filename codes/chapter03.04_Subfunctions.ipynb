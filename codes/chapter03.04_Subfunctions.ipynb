{
 "cells": [
  {
   "cell_type": "markdown",
   "metadata": {},
   "source": [
    "**TRY IT!** Consider the following function and subfunction saved in a single file called\n",
    "`myDistXYZ.py`:"
   ]
  },
  {
   "cell_type": "code",
   "execution_count": 5,
   "metadata": {},
   "outputs": [],
   "source": [
    "import math\n",
    "def myDistXYZ(x, y, z):\n",
    "    D = []\n",
    "    D.append(myDist(x, y))\n",
    "    D.append(myDist(x, z))\n",
    "    D.append(myDist(y, z))\n",
    "    return D\n",
    "\n",
    "def myDist(x, y):\n",
    "    D = math.sqrt((x[0]-y[0])**2 + (x[1]-y[1])**2)\n",
    "    return D"
   ]
  },
  {
   "cell_type": "markdown",
   "metadata": {},
   "source": [
    "**TRY IT!** Call the function `myDistXYZ` for `x = [0, 0]`, `y = [0, 1]`, `z = [1, 1]`. Try\n",
    "to call the subfunction `myDist` from the command prompt"
   ]
  },
  {
   "cell_type": "code",
   "execution_count": 6,
   "metadata": {},
   "outputs": [
    {
     "name": "stdout",
     "output_type": "stream",
     "text": [
      "[1.0, 1.4142135623730951, 1.0]\n",
      "1.0\n"
     ]
    }
   ],
   "source": [
    "x = [0, 0]\n",
    "y = [0, 1]\n",
    "z = [1, 1]\n",
    "D = myDistXYZ(x, y, z)\n",
    "print(D)\n",
    "D = myDist(x, y)\n",
    "print(D)"
   ]
  },
  {
   "cell_type": "code",
   "execution_count": null,
   "metadata": {},
   "outputs": [],
   "source": []
  }
 ],
 "metadata": {
  "kernelspec": {
   "display_name": "Python 3",
   "language": "python",
   "name": "python3"
  },
  "language_info": {
   "codemirror_mode": {
    "name": "ipython",
    "version": 3
   },
   "file_extension": ".py",
   "mimetype": "text/x-python",
   "name": "python",
   "nbconvert_exporter": "python",
   "pygments_lexer": "ipython3",
   "version": "3.6.5"
  }
 },
 "nbformat": 4,
 "nbformat_minor": 2
}
