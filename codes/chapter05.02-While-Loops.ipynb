{
 "cells": [
  {
   "cell_type": "markdown",
   "metadata": {},
   "source": [
    "## 5.2 While Loops ##"
   ]
  },
  {
   "cell_type": "markdown",
   "metadata": {},
   "source": [
    "A __while loop__ or __indefinite loop__ is a set of instructions that is repeated as long as the associated Boolean expression is true. The following is the abstract syntax of a while loop block."
   ]
  },
  {
   "cell_type": "markdown",
   "metadata": {},
   "source": [
    "#### CONSTRUCTION: While Loop ####"
   ]
  },
  {
   "cell_type": "code",
   "execution_count": null,
   "metadata": {},
   "outputs": [],
   "source": [
    "while <boolean expression>:\n",
    "    # CODE BLOCK TO BE REPEATED UNTIL LOGICAL STATEMENT IS FALSE"
   ]
  },
  {
   "cell_type": "markdown",
   "metadata": {},
   "source": [
    "When Python reaches a while loop block, it first determines if the Boolean expression of the while loop is true or false. If the expression is true, the code block will be executed, and after it is executed, the program returns to the Boolean expression at the beginning of the while statement. If it is false, then the while loop will terminate."
   ]
  },
  {
   "cell_type": "markdown",
   "metadata": {},
   "source": [
    "__TRY IT!__ Determine the number of times `n` can be divided by 2 until the result is less than 1."
   ]
  },
  {
   "cell_type": "code",
   "execution_count": 2,
   "metadata": {},
   "outputs": [],
   "source": [
    "def number_of_divisions_by_two(n):\n",
    "    \"\"\"Determines the number of times n can be divided by 2 until the result \n",
    "    is less than 1.\"\"\"\n",
    "    divisions = 0\n",
    "    while n >= 1: # The while loop will repeat until n becomes less than 1\n",
    "        n = n / 2\n",
    "        divisions += 1\n",
    "    return divisions"
   ]
  },
  {
   "cell_type": "code",
   "execution_count": 3,
   "metadata": {},
   "outputs": [
    {
     "data": {
      "text/plain": [
       "4"
      ]
     },
     "execution_count": 3,
     "metadata": {},
     "output_type": "execute_result"
    }
   ],
   "source": [
    "number_of_divisions_by_two(8)"
   ]
  },
  {
   "cell_type": "markdown",
   "metadata": {},
   "source": [
    "__WHAT IS HAPPENING?__ We pass 8 into our function `number_of_divisions_by_two` to find out how many times 8 can be divided by 2 until the result is less than 1.\n",
    "__1)__ The variable `divisions` is assigned the value `0`. <br>\n",
    "__2)__ The Boolean statement at the beginning of the while statement is evaluated. `n` is greater than 1, so the statement is true and the code block is executed<br>\n",
    "__3)__ `n` is divided by 2, so `n` is now 4.<br>\n",
    "__4)__ `divisions` increments by 1 so its value is 1.<br>\n",
    "__5)__ We have reached the end of one iteration, so the beginning Boolean statement is executed `n` is 4 which is greater than 1, so the code block is executed.<br>\n",
    "__6)__ `n` is divided by 2, so `n` is now 2.<br>\n",
    "__7)__ `divisions` increments by 1 so its value is 2.<br>\n",
    "__8)__ We have reached the end of one iteration, so the beginning Boolean statement is executed `n` is 2 which is greater than 1, so the code block is executed.\n",
    "__9)__ `n` is divided by 2, so `n` is now 1.<br>\n",
    "__10)__ `divisions` increments by 1 so its value is 3.<br>\n",
    "__11)__ We have reached the end of one iteration, so the beginning Boolean statement is executed `n` is 1 which is equal to 1, so the code block is executed.\n",
    "__12)__ `n` is divided by 2, so `n` is now 0.5.<br>\n",
    "__13)__ `divisions` increments by 1 so its value is 4.<br>\n",
    "__14)__ We have reached the end of one iteration, so the beginning Boolean statement is executed `n` is 0.5 which is less than 1, so the while loop ends with `divisions  = 4`."
   ]
  },
  {
   "cell_type": "markdown",
   "metadata": {},
   "source": [
    "The danger with while loops is that the number of iterations performed is indefinite, so infinite loops are possible if care is not taken. Consider the following example of an infinite loop:"
   ]
  },
  {
   "cell_type": "code",
   "execution_count": 10,
   "metadata": {},
   "outputs": [],
   "source": [
    "def infinite_loop():\n",
    "    \"\"\"An example of an infinite loop.\"\"\"\n",
    "    n = 0\n",
    "    while n > -1:\n",
    "        n += 1\n",
    "    print(\"This will never be printed.\")"
   ]
  },
  {
   "cell_type": "markdown",
   "metadata": {},
   "source": [
    "Since `n` will always be greater than -1 no matter how many times the loop is run, this code will never end. <br> <br>\n",
    "\n",
    "Infinite loops are not always easy to spot. Consider the next two examples: one infinite loops and one does not. Can you determine which one infinite loops?"
   ]
  },
  {
   "cell_type": "code",
   "execution_count": null,
   "metadata": {},
   "outputs": [],
   "source": [
    "def example_one():\n",
    "    \"\"\"Does this example have an infinite loop?\"\"\"\n",
    "    n = 1\n",
    "    iterations = 0\n",
    "    while n > 0:\n",
    "        n = n / 2\n",
    "        iterations += 1\n",
    "    return iterations\n",
    "\n",
    "def example_two():\n",
    "    \"\"\"Does this example have an infinite loop?\"\"\"\n",
    "    n = 2\n",
    "    iterations = 0\n",
    "    while n > 0:\n",
    "        if n % 2 == 0:\n",
    "            n += 1\n",
    "        else:\n",
    "            n -= 1\n",
    "        iterations += 1\n",
    "    return iterations"
   ]
  },
  {
   "cell_type": "markdown",
   "metadata": {},
   "source": [
    "_Answer_: The first example will not infinite loop because eventually `n` will be so small that Python cannot tell the difference between `n` and 0. More on this in Chapter 8. The second example will infinite loop because `n` will oscillate between 2 and 3 indefinitely. <br> <br>\n",
    "\n",
    "What happens in the case of an infinite loop? Do you have to force Python to shut down, or restart your computer, or buy a new one? Fortunately Python allows you to stop any code by pressing ctrl+c. If you think your code is stuck in an infinite loop, or if you are just tired of waiting for it to do its job, you can use this command to force your code to stop."
   ]
  },
  {
   "cell_type": "markdown",
   "metadata": {},
   "source": [
    "Now we know two types of loops: `for` and `while` loops. In some cases, either can be used equally well, but sometimes one is better suited for the task than the other. In general, we should use `for` loops when the number of iterations to be performed is well-defined. An example would be to perform a for loop for the same number of iterations as items in a list. Conversely, we should use `while` statements when the number of iterations to be performed is indefinite or not well known. An example might be the following:"
   ]
  },
  {
   "cell_type": "code",
   "execution_count": null,
   "metadata": {},
   "outputs": [],
   "source": [
    "import time\n",
    "while user_is_sleeping():\n",
    "    time.sleep(5) # Waits for 5 seconds"
   ]
  },
  {
   "cell_type": "markdown",
   "metadata": {},
   "source": [
    "The amount of time that the user is sleeping is not known, so the number of times the loop will be executed is unknown as well. Hence, we opt to use a `while` statement in this case."
   ]
  }
 ],
 "metadata": {
  "kernelspec": {
   "display_name": "Python 3",
   "language": "python",
   "name": "python3"
  },
  "language_info": {
   "codemirror_mode": {
    "name": "ipython",
    "version": 3
   },
   "file_extension": ".py",
   "mimetype": "text/x-python",
   "name": "python",
   "nbconvert_exporter": "python",
   "pygments_lexer": "ipython3",
   "version": "3.6.3"
  }
 },
 "nbformat": 4,
 "nbformat_minor": 2
}
