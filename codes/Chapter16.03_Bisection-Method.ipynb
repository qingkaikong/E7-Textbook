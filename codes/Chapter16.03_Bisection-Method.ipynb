{
 "cells": [
  {
   "cell_type": "markdown",
   "metadata": {},
   "source": [
    "**TRY IT!** Program a function with header `myBisection(f,a,b,tol)` that approximates\n",
    "a root `R` of `f`, bounded by `a` and `b` to within | f ($\\frac{a+b}{2}$) | < `tol`."
   ]
  },
  {
   "cell_type": "code",
   "execution_count": 9,
   "metadata": {},
   "outputs": [],
   "source": [
    "import numpy\n",
    "\n",
    "def myBisection(f, a, b, tol): \n",
    "    # approximates a root, R, of f bounded by a and b to within tolerance\n",
    "    # | f(m) | < tol with m the midpoint between a and b\n",
    "    # Recursive implementation\n",
    "    \n",
    "    # check if a and b bound a root\n",
    "    if numpy.sign(f(a)) == numpy.sign(f(b)):\n",
    "        sys.exit(\"The scalars a and b do not bound a root\")\n",
    "        \n",
    "    # get midpoint\n",
    "    m = (a + b)/2\n",
    "    \n",
    "    if numpy.abs(f(m)) < tol:\n",
    "        # stopping condition, report m as root\n",
    "        return m\n",
    "    elif numpy.sign(f(a)) == numpy.sign(f(m)):\n",
    "        # case where m is an improvement on a. Make recursive call with a = m\n",
    "        return myBisection(f, m, b, tol)\n",
    "    elif numpy.sign(f(b)) == numpy.sign(f(m)):\n",
    "        # case where m is an improvement on b. Make recursive call with b = m\n",
    "        return myBisection(f, a, m, tol)"
   ]
  },
  {
   "cell_type": "markdown",
   "metadata": {},
   "source": [
    "**TRY IT!** The $\\sqrt{2}$ can be computed as the root of the function `f (x)` = $x^2 - 2$. Starting at `a = 0`\n",
    "and `b = 2`, use `myBisection` to approximate the $\\sqrt{2}$ to a tolerance of | `f (x)` | < `0.1` and\n",
    "| `f (x)` | < `0.01`. Verify that the results are close to a root by plugging the root back into the function."
   ]
  },
  {
   "cell_type": "code",
   "execution_count": 10,
   "metadata": {},
   "outputs": [
    {
     "name": "stdout",
     "output_type": "stream",
     "text": [
      "R = 1.4142135623730951\n",
      "r1 = 1.4375\n",
      "r01 = 1.4140625\n",
      "f(r1) = 0.06640625\n",
      "f(r01) = -0.00042724609375\n"
     ]
    }
   ],
   "source": [
    "import math\n",
    "\n",
    "R = math.sqrt(2)\n",
    "print(\"R =\", R)\n",
    "\n",
    "f = lambda x: math.pow(x, 2) - 2\n",
    "r1 = myBisection(f, 0, 2, 0.1)\n",
    "print(\"r1 =\", r1)\n",
    "r01 = myBisection(f, 0, 2, 0.01)\n",
    "print(\"r01 =\", r01)\n",
    "\n",
    "print(\"f(r1) =\", f(r1))\n",
    "print(\"f(r01) =\", f(r01))"
   ]
  },
  {
   "cell_type": "code",
   "execution_count": null,
   "metadata": {},
   "outputs": [],
   "source": []
  }
 ],
 "metadata": {
  "kernelspec": {
   "display_name": "Python 3",
   "language": "python",
   "name": "python3"
  },
  "language_info": {
   "codemirror_mode": {
    "name": "ipython",
    "version": 3
   },
   "file_extension": ".py",
   "mimetype": "text/x-python",
   "name": "python",
   "nbconvert_exporter": "python",
   "pygments_lexer": "ipython3",
   "version": "3.6.5"
  }
 },
 "nbformat": 4,
 "nbformat_minor": 2
}
