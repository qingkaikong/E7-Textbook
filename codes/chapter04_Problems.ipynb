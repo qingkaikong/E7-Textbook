{
 "cells": [
  {
   "cell_type": "markdown",
   "metadata": {},
   "source": [
    "# Problems"
   ]
  },
  {
   "cell_type": "markdown",
   "metadata": {},
   "source": [
    "## Problem 1\n",
    "Write a function with header `myTipCalc(bill, party)`, where bill is the total cost of a meal and party is the number of people in the group. The tip should be calculated as 15% for a party strictly less than six people, 18% for a party strictly less than eight, 20% for a party less than 11, and 25% for a party 11 or more."
   ]
  },
  {
   "cell_type": "markdown",
   "metadata": {},
   "source": [
    "### Test Cases\n",
    "```python\n",
    "t = myTipCalc(109.29,3) # t = 16.3935\n",
    "t = myTipCalc(109.29,7) # t = 19.6722\n",
    "t = myTipCalc(109.29,9) # t = 21.8580\n",
    "t = myTipCalc(109.29,12) # t = 27.3225\n",
    "```"
   ]
  },
  {
   "cell_type": "markdown",
   "metadata": {},
   "source": [
    "# Alternate Test Cases\n",
    "```python\n",
    "assert abs(myTipCalc(109.29,3) - 16.39) < .01\n",
    "assert abs(myTipCalc(109.29,7) - 19.67) < .01\n",
    "assert abs(myTipCalc(109.29,9) - 21.85) < .01\n",
    "assert abs(myTipCalc(109.29,12) - 27.32) < .01\n",
    "\n",
    "```"
   ]
  },
  {
   "cell_type": "markdown",
   "metadata": {},
   "source": [
    "# Problem 2\n",
    "Write a function with header `[f] = myMultOperation(a,b,operation)`. The input argument, operation, is a string that is either 'plus', 'minus', 'mult', 'div', or 'pow', and `f` should be computed as $a+b$, $a-b$, $a∗b$, $a/b$, and $aˆb$ for the respective values for operation. Be sure to make your function vectorized.\n",
    "### Test Cases\n",
    "```python\n",
    "x = [1,2,3,4]\n",
    "y = [2,3,4,5]\n",
    "assert myMultOperation(x,y,'plus') == [3,5,7,9]\n",
    "assert myMultOperation(x,y,'minus') == [-1,-1,-1,-1]\n",
    "assert myMultOperation(x,y,'mult') == [2,6,12,20]\n",
    "assert myMultOperation(x,y,'div') == [0.500,0.6667,0.7500,0.800]\n",
    "assert myMultOperation(x,y,'pow') == [1,8,81,1024]\n",
    "\n",
    "```"
   ]
  },
  {
   "cell_type": "markdown",
   "metadata": {},
   "source": [
    "# Problem 3\n",
    "Consider a triangle with vertices at $(0,0)$, $(1,0)$, and $(0,1)$. Write a function with header `[S] = myInsideTriangle(x,y)` where `S` is the string 'outside' if the point $(x,y)$ is outside of the triangle, 'border' if the point is exactly on the border of the triangle, and 'inside' if the point is on the inside of the triangle.\n",
    "### Test Cases\n",
    "```python\n",
    "assert myInsideTriangle(.5,.5) == 'border'\n",
    "assert myInsideTriangle(.25,.25) == 'inside'\n",
    "assert myInsideTriangle(5,5) == 'outside'\n",
    "\n",
    "```"
   ]
  },
  {
   "cell_type": "markdown",
   "metadata": {},
   "source": [
    "# Problem 4\n",
    "Write a function with header `[out] = myMakeSize10(x)`, where `x` is an array and out is the first 10 elements of `x` if `x` has more than 10 elements, and out is the array `x` padded with enough zeros to make it length 10 if `x` has less than 10 elements.\n",
    "### Test Cases\n",
    "\n",
    "```python\n",
    "assert myMakeSize10(range(1,2)) == [1,2,0,0,0,0,0,0,0,0]\n",
    "assert myMakeSize10(range(1,15)) == [1,2,3,4,5,6,7,8,9,10]\n",
    "assert myMakeSize10(5,5) == [3,6,13,4,0,0,0,0,0,0]\n",
    "```"
   ]
  },
  {
   "cell_type": "markdown",
   "metadata": {},
   "source": [
    "# Problem 5\n",
    "Can you write `myMakeSize10` without using if-statements (i.e., using only logical and array operations)?\n",
    "### Test Cases\n",
    "```python\n",
    "assert myMakeSize10(range(1,2)) == [1,2,0,0,0,0,0,0,0,0]\n",
    "assert myMakeSize10(range(1,15)) == [1,2,3,4,5,6,7,8,9,10]\n",
    "assert myMakeSize10(5,5) == [3,6,13,4,0,0,0,0,0,0]\n",
    "```"
   ]
  },
  {
   "cell_type": "markdown",
   "metadata": {},
   "source": [
    "# Problem 6\n",
    "Write a function with header `[grade] = myLetterGrader(percent)`, where grade is the string 'A+' if percent is greater than 97, 'A' if percent is greater than 93, 'A-' if percent 7. is greater than 90, 'B+' if percent is greater than 87, 'B' if percent is greater than 83, 'B-' if percent is greater than 80, 'C+' if percent is greater than 77, 'C' if percent is greater than 73, 'C-' if percent is greater than 70, 'D+' if percent is greater than 67, 'D' if percent is greater than 63, 'D-' if percent is greater than 60, and 'F' for any percent less than 60. Grades exactly on the division should be included in the higher grade category.\n",
    "### Test Cases\n",
    "```python\n",
    "assert myLetterGrader(97) == 'A+'\n",
    "assert myLetterGrader(84) == 'B'\n",
    "```"
   ]
  },
  {
   "cell_type": "markdown",
   "metadata": {},
   "source": [
    "# Problem 7\n",
    "Most engineering systems have redundancy. That is, an engineering system has more than is required to accomplish its purpose. Consider a nuclear reactor whose temperature is monitored by three sensors. An alarm should go off if any two of the sensor readings disagree. Write a function with header `[response] = myNukeAlarm(S1,S2,S3)` where `S1`, `S2`, and `S3` are the temperature readings for sensor 1, sensor 2, and sensor 3, respectively. The output response should be the string `alarm!` if any two of the temperature readings disagree by strictly more than 10 degrees and `normal` otherwise.\n",
    "### Test Cases\n",
    "```python\n",
    "assert myNukeAlarm(94,96,90) == 'normal'\n",
    "assert myNukeAlarm(94,96,80) == 'alarm!'\n",
    "assert myNukeAlarm(100,96,90) == 'normal'\n",
    "\n",
    "```"
   ]
  },
  {
   "cell_type": "markdown",
   "metadata": {},
   "source": [
    "# Problem 7\n",
    "Let Q(x) be the quadratic equation $Q(x) = ax2 + bx + c$ for some scalar values $a$, $b$, and $c$. A root of $Q(x)$ is an $r$ such that $Q(r) = 0$. The two roots of a quadratic equation can be described by the quadratic formula, which is\n",
    "$r = \\frac{-b+-sqrt(b^2-4ac)}{2a}$\n",
    "A quadratic equation has either two real roots (i.e., $b2 > 4ac$), two imaginary roots (i.e., $b2 < 4ac$), or one root, $r = − \\frac{b}{2a}$.\n",
    "Write a function with header `[nRoots, r] = myNRoots(a,b,c)` where `a`, `b`, and `c` are the coefficients of the quadratic $Q(x)$, `nRoots` is `2` if $Q$ has two real roots, `1` if $Q$ has one root, `−2` if $Q$ has two imaginary roots, and `r` is an array containing the roots of $Q$.\n",
    "### Test Cases\n",
    "```python\n",
    "assert myNRoots(1,0,-9) == {'nRoots': 2,\n",
    "                            'r': [3,-3]}\n",
    "assert myNRoots(3,4,5) == {'nRoots': -2,\n",
    "                            'r': [-0.6667 + 1.1055i, -0.6667 - 1.1055i]}\n",
    "assert myNRoots(2,4,2) == {'nRoots': 1,\n",
    "                            'r': [1]}\n",
    "\n",
    "```"
   ]
  },
  {
   "cell_type": "markdown",
   "metadata": {},
   "source": [
    "# Problem 8\n",
    "Write a function with header `[h] = mySplitFunction(f,g,a,b,x)`, where $f$ and $g$ are handles to functions $f(x)$ and $g(x)$, respectively. The output argument `h` should be $f(x)$ if $x≤a$, $g(x)$ if $x≥b$, and $0$ otherwise. You may assume thatb>a.\n",
    "### Test Cases\n",
    "```python\n",
    "assert abs(mySplitFunction(@exp, @sin, 2, 4, 1) -2.713 < 0.001)\n",
    "assert abs(mySplitFunction(@exp, @sin, 2, 4, 3) 0 < 0.001)\n",
    "assert abs(mySplitFunction(@exp, @sin, 2, 4, 5) -0.9589 < 0.001)\n",
    "\n",
    "```"
   ]
  },
  {
   "cell_type": "code",
   "execution_count": null,
   "metadata": {},
   "outputs": [],
   "source": []
  }
 ],
 "metadata": {
  "kernelspec": {
   "display_name": "Python 3",
   "language": "python",
   "name": "python3"
  },
  "language_info": {
   "codemirror_mode": {
    "name": "ipython",
    "version": 3
   },
   "file_extension": ".py",
   "mimetype": "text/x-python",
   "name": "python",
   "nbconvert_exporter": "python",
   "pygments_lexer": "ipython3",
   "version": "3.7.0"
  }
 },
 "nbformat": 4,
 "nbformat_minor": 2
}
