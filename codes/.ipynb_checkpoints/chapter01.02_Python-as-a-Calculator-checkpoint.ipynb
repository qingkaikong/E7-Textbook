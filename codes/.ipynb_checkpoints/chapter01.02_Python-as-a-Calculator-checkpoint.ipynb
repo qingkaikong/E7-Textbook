{
 "cells": [
  {
   "cell_type": "markdown",
   "metadata": {},
   "source": [
    "# 1.2 Python as a Calculator\n",
    "We will introduce you to Python by demonstrating features found in any standard graphing calculator. An **arithmetic operation** is either addition, subtraction, multiplication, division, or powers between two numbers. An **arithmetic operator** is a symbol that Python has reserved to mean one of the aforementioned operations. These symbols are + for addition, - for subtraction, * for multiplication, / for division, and ** for exponentiation. \n",
    "\n",
    "We say an instruction or operation is **executed** when it is resolved by the computer. An instruction\n",
    "is executed at the command prompt by typing it where you see the » symbol and then pressing Enter."
   ]
  },
  {
   "cell_type": "code",
   "execution_count": 1,
   "metadata": {},
   "outputs": [
    {
     "data": {
      "text/plain": [
       "3"
      ]
     },
     "execution_count": 1,
     "metadata": {},
     "output_type": "execute_result"
    }
   ],
   "source": [
    "1 + 2"
   ]
  },
  {
   "cell_type": "markdown",
   "metadata": {},
   "source": [
    "An **order of operations** is a standard order of precedence that different operations have in relationship\n",
    "to one another. MATLAB utilizes the same order of operations that you learned in grade school. Powers\n",
    "are executed before multiplication and division, which are executed before addition and subtraction.\n",
    "Parentheses, (), can also be used in MATLAB to supercede the standard order of operations."
   ]
  },
  {
   "cell_type": "code",
   "execution_count": 4,
   "metadata": {},
   "outputs": [
    {
     "data": {
      "text/plain": [
       "2.0"
      ]
     },
     "execution_count": 4,
     "metadata": {},
     "output_type": "execute_result"
    }
   ],
   "source": [
    "(3*4)/(2**2 + 4/2)"
   ]
  },
  {
   "cell_type": "markdown",
   "metadata": {},
   "source": [
    "**TIP!** You may have noticed ans is the resulting value of the last operation executed. You can use\n",
    "ans to break up complicated expressions into simpler commands."
   ]
  },
  {
   "cell_type": "markdown",
   "metadata": {},
   "source": [
    "**TRY IT!** Compute 3 divided by 4, then multiply the result by 2, and then raise the result to the 3rd\n",
    "power."
   ]
  },
  {
   "cell_type": "code",
   "execution_count": 15,
   "metadata": {},
   "outputs": [
    {
     "data": {
      "text/plain": [
       "0.75"
      ]
     },
     "execution_count": 15,
     "metadata": {},
     "output_type": "execute_result"
    }
   ],
   "source": [
    "ans = 3/4\n",
    "ans"
   ]
  },
  {
   "cell_type": "code",
   "execution_count": 16,
   "metadata": {},
   "outputs": [
    {
     "data": {
      "text/plain": [
       "1.5"
      ]
     },
     "execution_count": 16,
     "metadata": {},
     "output_type": "execute_result"
    }
   ],
   "source": [
    "ans = ans*2\n",
    "ans"
   ]
  },
  {
   "cell_type": "code",
   "execution_count": 17,
   "metadata": {},
   "outputs": [
    {
     "data": {
      "text/plain": [
       "3.375"
      ]
     },
     "execution_count": 17,
     "metadata": {},
     "output_type": "execute_result"
    }
   ],
   "source": [
    "ans = ans**3\n",
    "ans"
   ]
  },
  {
   "cell_type": "markdown",
   "metadata": {},
   "source": [
    "MATLAB has many basic arithmetic functions like sin, cos, tan, asin, acos, atan,\n",
    "exp, log, log10, and sqrt. The inputs to these mathematical functions are always placed inside\n",
    "of parentheses that are connected to the function name. For trigonometric functions, it is useful to have\n",
    "the value of π easily available. You can call this value at any time by typing » pi in the command\n",
    "prompt. Note that the value of π is stored in MATLAB to 16 digits."
   ]
  },
  {
   "cell_type": "markdown",
   "metadata": {},
   "source": [
    "**TRY IT!** Find the square root of 4"
   ]
  },
  {
   "cell_type": "code",
   "execution_count": 2,
   "metadata": {},
   "outputs": [
    {
     "data": {
      "text/plain": [
       "2.0"
      ]
     },
     "execution_count": 2,
     "metadata": {},
     "output_type": "execute_result"
    }
   ],
   "source": [
    "import math\n",
    "\n",
    "math.sqrt(4)"
   ]
  },
  {
   "cell_type": "markdown",
   "metadata": {},
   "source": [
    "**TRY IT!** Compute the sin(π/2)"
   ]
  },
  {
   "cell_type": "code",
   "execution_count": 23,
   "metadata": {},
   "outputs": [
    {
     "data": {
      "text/plain": [
       "1.0"
      ]
     },
     "execution_count": 23,
     "metadata": {},
     "output_type": "execute_result"
    }
   ],
   "source": [
    "math.sin(math.pi/2)"
   ]
  },
  {
   "cell_type": "markdown",
   "metadata": {},
   "source": [
    "**TIP!** Sometimes you may wish to view more or less digits than MATLAB’s default setting of\n",
    "four decimal places. There are many different number viewing options in MATLAB but for the\n",
    "purposes of this text, we will restrict these options to “short,” “long,” and “bank” unless you are\n",
    "specifically told otherwise. The short format is MATLAB’s default setting. It displays all numbers\n",
    "to four significant figures. The long format displays the maximum number of digits that MATLAB\n",
    "can store, which is 16. The bank format displays exactly two.\n",
    "You can change the formatting by typing of the following commands:\n",
    "```\n",
    ">> round(num, digitsAfterDecimal)\n",
    "```\n",
    "Note that this changes only how the numbers are displayed; it does not alter the actual value being\n",
    "used."
   ]
  },
  {
   "cell_type": "markdown",
   "metadata": {},
   "source": [
    "**TRY IT!** Call MATLAB’s stored value for π using format long, format bank, and format short."
   ]
  },
  {
   "cell_type": "code",
   "execution_count": 3,
   "metadata": {},
   "outputs": [
    {
     "data": {
      "text/plain": [
       "3.141592653589793"
      ]
     },
     "execution_count": 3,
     "metadata": {},
     "output_type": "execute_result"
    }
   ],
   "source": [
    "round(math.pi, 16)"
   ]
  },
  {
   "cell_type": "code",
   "execution_count": 4,
   "metadata": {},
   "outputs": [
    {
     "data": {
      "text/plain": [
       "3.14"
      ]
     },
     "execution_count": 4,
     "metadata": {},
     "output_type": "execute_result"
    }
   ],
   "source": [
    "round(math.pi, 2)"
   ]
  },
  {
   "cell_type": "code",
   "execution_count": 5,
   "metadata": {},
   "outputs": [
    {
     "data": {
      "text/plain": [
       "3.1416"
      ]
     },
     "execution_count": 5,
     "metadata": {},
     "output_type": "execute_result"
    }
   ],
   "source": [
    "round(math.pi, 4)"
   ]
  },
  {
   "cell_type": "markdown",
   "metadata": {},
   "source": [
    "MATLAB will compose functions as you would expect, with the innermost function being executed\n",
    "first. The same holds true for function calls that are composed with arithmetic operations."
   ]
  },
  {
   "cell_type": "markdown",
   "metadata": {},
   "source": [
    "**TRY IT!** Compute $e^{log 10}$."
   ]
  },
  {
   "cell_type": "code",
   "execution_count": 6,
   "metadata": {},
   "outputs": [
    {
     "data": {
      "text/plain": [
       "10.000000000000002"
      ]
     },
     "execution_count": 6,
     "metadata": {},
     "output_type": "execute_result"
    }
   ],
   "source": [
    "math.exp(math.log(10))"
   ]
  },
  {
   "cell_type": "markdown",
   "metadata": {},
   "source": [
    "**TRY IT!** Compute $e^{3/4}$"
   ]
  },
  {
   "cell_type": "code",
   "execution_count": 7,
   "metadata": {},
   "outputs": [
    {
     "data": {
      "text/plain": [
       "2.117000016612675"
      ]
     },
     "execution_count": 7,
     "metadata": {},
     "output_type": "execute_result"
    }
   ],
   "source": [
    "math.exp(3/4)"
   ]
  },
  {
   "cell_type": "markdown",
   "metadata": {},
   "source": [
    "Note that the log function in MATLAB is loge, or the natural logarithm. It is not $log_{10}$. If you\n",
    "want to use $log_{10}$, you need to use log10."
   ]
  },
  {
   "cell_type": "markdown",
   "metadata": {},
   "source": [
    "**TIP!** Using the UP ARROW in the command prompt recalls previous commands that were executed.\n",
    "If you accidentally type a command incorrectly, you can use the UP ARROW to recall it, and then\n",
    "edit it instead of retyping the entire line."
   ]
  },
  {
   "cell_type": "markdown",
   "metadata": {},
   "source": [
    "The **help** function is a command that can be used to view the description of any function in MATLAB.\n",
    "You can call the help function by typing » help at the command prompt and then the name of the\n",
    "function. If you see a function you are unfamiliar with, it is good practice to use the help function\n",
    "before asking your instructors what a specific function does. At the end of every chapter in this book is\n",
    "a section called “Functions and Operators,” which lists the new functions and operations presented in\n",
    "the chapter. If you are uncertain what these functions do, use the help function to learn about them."
   ]
  },
  {
   "cell_type": "markdown",
   "metadata": {},
   "source": [
    "**WARNING!** For some functions, the help file can be extremely complicated and wordy, even for\n",
    "simple functions. In these cases, do not be afraid to ask your instructor for help."
   ]
  },
  {
   "cell_type": "markdown",
   "metadata": {},
   "source": [
    "**TRY IT!** Use the help function to find the definition of the factorial function."
   ]
  },
  {
   "cell_type": "code",
   "execution_count": 14,
   "metadata": {},
   "outputs": [
    {
     "ename": "SyntaxError",
     "evalue": "invalid syntax (<ipython-input-14-3ff7ac67e06e>, line 1)",
     "output_type": "error",
     "traceback": [
      "\u001b[1;36m  File \u001b[1;32m\"<ipython-input-14-3ff7ac67e06e>\"\u001b[1;36m, line \u001b[1;32m1\u001b[0m\n\u001b[1;33m    help math.factorial\u001b[0m\n\u001b[1;37m            ^\u001b[0m\n\u001b[1;31mSyntaxError\u001b[0m\u001b[1;31m:\u001b[0m invalid syntax\n"
     ]
    }
   ],
   "source": [
    "help math.factorial"
   ]
  },
  {
   "cell_type": "markdown",
   "metadata": {},
   "source": [
    "**TIP!** Use the format compact command to reformat text so that you have only a single space\n",
    "between commands instead of the default setting of double space. You can change the spacing\n",
    "format using the command » format compact; to change it back, use » format loose."
   ]
  },
  {
   "cell_type": "markdown",
   "metadata": {},
   "source": [
    "MATLAB can handle the expression 1/0, which is infinity. Note that MATLAB will return 0/0\n",
    "as “not a number” or NaN. You can type Inf at the command prompt to denote infinity or NaN to\n",
    "denote something that is not a number that you wish to be handled as a number. If this is confusing,\n",
    "this distinction can be skipped for now; it will be explained more clearly when it becomes important.\n",
    "Finally, MATLAB can also handle the imaginary number, i, which is √−1. You can type » i to recall\n",
    "the stored value of i just like π."
   ]
  },
  {
   "cell_type": "markdown",
   "metadata": {},
   "source": [
    "**TRY IT!** Compute 1/0, 1/∞, and ∞ · 2 to verify that MATLAB handles infinity as you would\n",
    "expect."
   ]
  },
  {
   "cell_type": "markdown",
   "metadata": {},
   "source": [
    "**NOT SURE WHAT EXAMPLE TO PUT HERE**"
   ]
  },
  {
   "cell_type": "code",
   "execution_count": 19,
   "metadata": {},
   "outputs": [
    {
     "data": {
      "text/plain": [
       "0.0"
      ]
     },
     "execution_count": 19,
     "metadata": {},
     "output_type": "execute_result"
    }
   ],
   "source": [
    "1/float(\"Inf\")"
   ]
  },
  {
   "cell_type": "code",
   "execution_count": 20,
   "metadata": {},
   "outputs": [
    {
     "data": {
      "text/plain": [
       "inf"
      ]
     },
     "execution_count": 20,
     "metadata": {},
     "output_type": "execute_result"
    }
   ],
   "source": [
    "float(\"Inf\") * 2"
   ]
  },
  {
   "cell_type": "code",
   "execution_count": 21,
   "metadata": {},
   "outputs": [
    {
     "data": {
      "text/plain": [
       "nan"
      ]
     },
     "execution_count": 21,
     "metadata": {},
     "output_type": "execute_result"
    }
   ],
   "source": [
    "float(\"Inf\")/float(\"Inf\")"
   ]
  },
  {
   "cell_type": "code",
   "execution_count": null,
   "metadata": {},
   "outputs": [],
   "source": []
  }
 ],
 "metadata": {
  "kernelspec": {
   "display_name": "Python 3",
   "language": "python",
   "name": "python3"
  },
  "language_info": {
   "codemirror_mode": {
    "name": "ipython",
    "version": 3
   },
   "file_extension": ".py",
   "mimetype": "text/x-python",
   "name": "python",
   "nbconvert_exporter": "python",
   "pygments_lexer": "ipython3",
   "version": "3.6.5"
  }
 },
 "nbformat": 4,
 "nbformat_minor": 2
}
