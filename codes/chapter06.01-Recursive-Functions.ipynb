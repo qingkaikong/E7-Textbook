{
 "cells": [
  {
   "cell_type": "markdown",
   "metadata": {},
   "source": [
    "# Chapter 6: Recursion #"
   ]
  },
  {
   "cell_type": "markdown",
   "metadata": {},
   "source": [
    "Imagine that a CEO of a large company wants to know how many people work for him. One option is to spend a tremendous amount of personal effort counting up the number of people on the payroll. However, the CEO has other more important things to do, and so implements another, more clever, option. At the next meeting with his department directors, he asks everyone to tell him at the next meeting how many people work for them. Each director then meets with all their managers, who subsequently meet with their supervisors who perform the same task. The supervisors know how many people work under them and readily report this information back to their managers (plus one to count themselves), who relay the aggregated information to the department directors, who relay the relevant information to the CEO. In this way, the CEO accomplishes a difficult task (for himself) by delegating similar, but simpler, tasks to his subordinates. <br>\n",
    "\n",
    "This method of solving difficult problems by breaking them up into simpler problems is naturally modeled by recursive relationships, which are the topic of this chapter, and which form the basis of important engineering problem-solving techniques. By the end of this chapter, you should be able to recognize recursive relationships and program them using recursive functions."
   ]
  },
  {
   "cell_type": "markdown",
   "metadata": {},
   "source": [
    "## 6.1 Recursive Functions ##"
   ]
  },
  {
   "cell_type": "markdown",
   "metadata": {},
   "source": [
    "A __recursive__ function is a function that makes calls to itself. Although a recursive function is defined in terms of itself, Python opens a new frame every time a function is called, even for a function calling itself. <br>\n",
    "Every recursive function has two components: a __base case__ and a __recursive step__. The __base case__ is usually the smallest input and has an easily verifiable solution. This is also the mechanism that stops the function from calling itself forever. The __recursive step__ is the set of all cases where a __recursive call__, or a function call to itself, is made."
   ]
  },
  {
   "cell_type": "markdown",
   "metadata": {},
   "source": [
    "As an example, we show how recursion can be used to define and compute the factorial of an integer number. The factorial of an integer $n$ is $1 \\times 2 \\times 3 \\times ... \\times (n - 1) \\times n$. The recursive definition can be written:\n",
    "\\begin{equation}\n",
    "f(n) = \\begin{cases}\n",
    "    1 &\\text{(if } n=1)\\\\\n",
    "    n \\times f(n-1) & \\text{(otherwise)}\\\\\n",
    "    \\end{cases}\n",
    "\\end{equation}\n",
    "The base case is $n = 1$ which is trivial to compute: $f(1) = 1$. In the recursive step, $n$ is multiplied by the result of a recursive call to the factorial of $n - 1$. Here is the Python implementation of `factorial`."
   ]
  },
  {
   "cell_type": "code",
   "execution_count": 1,
   "metadata": {},
   "outputs": [],
   "source": [
    "def factorial(n):\n",
    "    \"\"\"Computes and returns the factorial of n, a non-negative integer.\"\"\"\n",
    "    if n == 0 or n == 1: # Base cases!\n",
    "        return 1\n",
    "    else: # Recursive step\n",
    "        return n * factorial(n - 1) # Recursive call     "
   ]
  },
  {
   "cell_type": "code",
   "execution_count": 3,
   "metadata": {},
   "outputs": [
    {
     "data": {
      "text/plain": [
       "6"
      ]
     },
     "execution_count": 3,
     "metadata": {},
     "output_type": "execute_result"
    }
   ],
   "source": [
    "factorial(3)"
   ]
  },
  {
   "cell_type": "markdown",
   "metadata": {},
   "source": [
    "__WHAT IS HAPPENING?__ First recall that when Python executes a function, it creates a frame for the variables that are created in that function, and whenever a function calls another function, it will wait until that function returns an answer before continuing. Even though a recursive function makes calls to itself, the same rules apply. <br>\n",
    "__1)__ A call is made to `factorial(3)`, creating a new frame. <br>\n",
    "__2)__ Input argument value 3 is compared to 1. The else statement is executed.<br>\n",
    "__3)__ `3 * factorial(2)` must now be computed. A new frame is opened to compute `factorial(2)`.<br>\n",
    "__4)__ Input argument value 2 is compared to 1. The else statement is executed.<br>\n",
    "__5)__ `2* factorial(1)` must now be computed. A new frame is opened to compute `factorial(1)`.<br>\n",
    "__6)__ Input argument value 1 is compared to 1. The if statement is executed.\n",
    "__7)__ `2*factorial(1)` can be resolved to `2 \\times 1 = 2`. 2 is returned for the frame of `factorial(2)`.<br>\n",
    "__8)__ `3*factorial(2)` can be resolved to `3 \\times 2 = 6`. 6 is returned for the frame of `factorial(3)` which was the original function call."
   ]
  }
 ],
 "metadata": {
  "kernelspec": {
   "display_name": "Python 3",
   "language": "python",
   "name": "python3"
  },
  "language_info": {
   "codemirror_mode": {
    "name": "ipython",
    "version": 3
   },
   "file_extension": ".py",
   "mimetype": "text/x-python",
   "name": "python",
   "nbconvert_exporter": "python",
   "pygments_lexer": "ipython3",
   "version": "3.6.3"
  }
 },
 "nbformat": 4,
 "nbformat_minor": 2
}
