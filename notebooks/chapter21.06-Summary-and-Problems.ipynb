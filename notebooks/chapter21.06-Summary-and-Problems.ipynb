{
 "cells": [
  {
   "cell_type": "markdown",
   "metadata": {
    "button": false,
    "new_sheet": false,
    "run_control": {
     "read_only": false
    }
   },
   "source": [
    "<!--BOOK_INFORMATION-->\n",
    "<img align=\"left\" style=\"padding-right:10px;\" src=\"images/book_cover.jpg\" width=\"120\">\n",
    "\n",
    "*This notebook contains an excerpt from the [Python Programming And Numerical Methods: A Guide For Engineers And Scientists](); the content is available [on GitHub]().*\n",
    "\n",
    "*The text is released under the [CC-BY-NC-ND license](https://creativecommons.org/licenses/by-nc-nd/3.0/us/legalcode), and code is released under the [MIT license](https://opensource.org/licenses/MIT). If you find this content useful, please consider supporting the work by [buying the book]()!*"
   ]
  },
  {
   "cell_type": "markdown",
   "metadata": {
    "button": false,
    "new_sheet": false,
    "run_control": {
     "read_only": false
    }
   },
   "source": [
    "<!--NAVIGATION-->\n",
    "< [21.5 Computing Integrals in Python](chapter21.05-Computing-Integrals-in-Python.ipynb) | [Contents](Index.ipynb) | [CHAPTER 22. Ordinary Differential Equations (ODEs): Initial-Value Problems](chapter22.00-ODE-Initial-Value-Problems.ipynb) >"
   ]
  },
  {
   "cell_type": "markdown",
   "metadata": {
    "button": false,
    "new_sheet": false,
    "run_control": {
     "read_only": false
    }
   },
   "source": [
    "# Summary\n",
    "\n",
    "\n",
    "1. Explicit integration of functions is often impossible or inconvenient, and numerical approaches must be used instead.\n",
    "2. The Riemann Integral, Trapezoid Rule, and Simpson's Rule are common methods of approximating integrals.\n",
    "3. Each method has an order of accuracy that depends on the approximation of the area below the function."
   ]
  },
  {
   "cell_type": "markdown",
   "metadata": {
    "button": false,
    "new_sheet": false,
    "run_control": {
     "read_only": false
    }
   },
   "source": [
    "# Problems\n",
    "\n",
    "1. Write a function $my\\_int\\_calc(f, f0, a, b, N, option)$, where $f$ is a function object, $a$ and $b$ are scalars such that a < b, $N$ is a positive integer, and $option$ is the string 'rect', 'trap', or 'simp'. Let $x$ be an array starting at $a$, ending at $b$, containing $N$ evenly spaced elements. The output argument, $I$, should be an approximation to the integral of $f(x)$, with initial condition $f0$, computed according to the input argument, $option$.\n",
    "\n",
    "2. Write a function $my\\_poly\\_int(x, y)$, where $x$ and $y$ are one-dimensional arrays of the same size, and the elements of $x$ are unique and in ascending order. The function $my\\_poly\\_int$ should (1) compute the Lagrange polynomial going through all the points defined by $x$ and $y$ and (2) return an approximation to the area under the curve defined by $x$ and $y$, $I$, defined as the analytic integral of the Lagrange interpolating polynomial. \n",
    "\n",
    "3. When will $my\\_poly\\_int$ work *worse* than the trapezoid method?\n",
    "\n",
    "4. Write a function $my\\_num\\_calc(f, a, b, n, option)$, where the output $I$ is the numerical integral of $f$, a function object, computed on a grid of $n$ evenly spaced points starting at $a$ and ending at $b$. The integration method used should be one of the following strings defined by option: 'rect', 'trap', 'simp'. For the rectangle method, the function value should be taken from the right endpoint of the interval. You may assume that $n$ is odd.\n",
    "\n",
    " Warning: In the reader, the $x$ subscripts start at $x_0$ not $x_1$; take note of this when programming your loops. The odd-even indices will be reversed. Also the $n$ term given in Simpsons Rule denotes the number of subintervals, not the number of points as specified by the input argument, $n$. \n",
    "\n",
    " Test Cases:\n",
    " \n",
    " ```python\n",
    " In: f = lambda x: x**2\n",
    "     my_num_int(f, 0, 1, 3, 'rect')\n",
    " Out: 0.625\n",
    "    \n",
    " In: my_num_int(f, 0, 1, 3, 'trap')\n",
    " Out: 0.375\n",
    "    \n",
    " In: my_num_int(f, 0, 1, 3, 'simp')\n",
    " Out: 0.3333333333333333\n",
    "    \n",
    " In: f = lambda x: np.exp(x**2)\n",
    "     my_num_int(f, -1, 1, 101, 'simp')\n",
    " Out: 2.9253035883926493\n",
    "    \n",
    " In: my_num_int(f, -1, 1, 10001, 'simp')\n",
    " Out: 2.925303491814364\n",
    "    \n",
    " In: my_num_int(f, -1, 1, 100001, 'simp')\n",
    " Out: 2.9253034918143634\n",
    " ```\n",
    " \n",
    "5. A previous chapter demonstrated that some functions can be expressed as an infinite sum of polynomials (i.e. Taylor serie). Other functions, particularly periodic functions, can be written as an infinite sum of sine and cosine waves. For these functions,\n",
    "\n",
    " $$f(x)= \\frac{A_0}{2}+\\sum_{n=1}^{\\infty}A_n\\ \\cos{(nx)} + B_n\\ \\sin{(nx)}$$\n",
    "\n",
    " It can be shown that the values of $A_n$ and $B_n$ can be computed using the following formulas:\n",
    "\n",
    " $$A_n= \\frac{1}{\\pi} \\int_{-\\pi}^{\\pi} f(x) \\cos{(nx)}\\ dx$$\n",
    " $$B_n= \\frac{1}{\\pi} \\int_{-\\pi}^{\\pi} f(x) \\sin{(nx)}\\ dx$$\n",
    "\n",
    " Just like Taylor series, functions can be approximated by truncating the Fourier series at some $n = N$. Fourier series can be used to approximate some particularly nasty functions such as the step function, and they form the basis of many engineering applications such as signal processing.\n",
    "\n",
    " Write a function $my\\_fourier\\_coef(f, n)$, with output $[A_n, B_n]$, where $f$ is an function object that is $2\\pi$-periodic. The function $my\\_fourier\\_coef$ should compute the $n$-th Fourier coefficients, $A_n$ and $B_n$, in the Fourier series for $f$ defined by the two formulas given earlier. You should use the $quad$ function to perform the integration.\n",
    " \n",
    " Test Cases:\n",
    " \n",
    " Use the following plotting function to plot the analytic and approximation of functions using the fourier series. \n",
    " \n",
    " ```python\n",
    "  def plot_results(f, N):\n",
    "     x = np.linspace(-np.pi, np.pi, 10000)\n",
    "     [A0, B0] = my_fourier_coef(f, 0)\n",
    "     y = A0*np.ones(len(x))/2\n",
    "     for n in range(1, N):\n",
    "         [An, Bn] = my_fourier_coef(f, n)\n",
    "         y += An*np.cos(n*x)+Bn*np.sin(n*x)\n",
    "     plt.figure(figsize = (10,6))\n",
    "     plt.plot(x, f(x), label = 'analytic')\n",
    "     plt.plot(x, y, label = 'approximate')\n",
    "     plt.xlabel('x')\n",
    "     plt.ylabel('y')\n",
    "     plt.grid()\n",
    "     plt.legend()\n",
    "     plt.title(f'{N}th Order Fourier Approximation')\n",
    "     plt.show()\n",
    "    \n",
    "  f = lambda x: np.sin(np.exp(x))\n",
    "  N = 2\n",
    "  plot_results(f, N)\n",
    " ```\n",
    " ![](images/21.06.01-Solution_for_Question_4.jpg \"Test case for Question 5\")\n",
    "\n",
    " ```python\n",
    "  N = 2\n",
    "  plot_results(f, N)\n",
    " ```\n",
    " ![](images/21.06.02-Solution_for_Question_4.jpg \"Test case for Question 5\")\n",
    "\n",
    " ```python\n",
    "  f = lambda x: np.mod(x, np.pi/2)\n",
    "  N = 5\n",
    "  plot_results(f, N)\n",
    " ```\n",
    " ![](images/21.06.03-Solution_for_Question_4.jpg \"Test case for Question 5\")\n",
    "\n",
    " ```python\n",
    "  N = 20\n",
    "  plot_results(f, N)\n",
    " ```\n",
    " ![](images/21.06.04-Solution_for_Question_4.jpg \"Test case for Question 5\")\n",
    " \n",
    " ```python\n",
    "  f = lambda x: (x > -np.pi/2) & (x < np.pi/2)\n",
    "  N = 2\n",
    "  plot_results(f, N)\n",
    " ```\n",
    " ![](images/21.06.05-Solution_for_Question_4.jpg \"Test case for Question 5\")\n",
    "\n",
    " ```python\n",
    "  N = 20\n",
    "  plot_results(f, N)\n",
    " ```\n",
    " ![](images/21.06.06-Solution_for_Question_4.jpg \"Test case for Question 5\")\n",
    " \n",
    "6. For a numerical grid with spacing $h$, Boole's Rule for approximating integrals says that\n",
    "\n",
    " $$\\int_{x_i}^{x_{i+4}} f(x) dx \\approx \\frac{3h}{90} \\left[7f(x_i)+32f(x_{i+1})+12f(x_{i+2})+32f(x_{i+3})+7f(x_{i+4})\\right].$$\n",
    "\n",
    " Show that Boole's Rule is $O(h^7)$ over a single subinterval."
   ]
  },
  {
   "cell_type": "markdown",
   "metadata": {
    "button": false,
    "new_sheet": false,
    "run_control": {
     "read_only": false
    }
   },
   "source": [
    "<!--NAVIGATION-->\n",
    "< [21.5 Computing Integrals in Python](chapter21.05-Computing-Integrals-in-Python.ipynb) | [Contents](Index.ipynb) | [CHAPTER 22. Ordinary Differential Equations (ODEs): Initial-Value Problems](chapter22.00-ODE-Initial-Value-Problems.ipynb) >"
   ]
  }
 ],
 "metadata": {
  "kernelspec": {
   "display_name": "Python 3",
   "language": "python",
   "name": "python3"
  },
  "language_info": {
   "codemirror_mode": {
    "name": "ipython",
    "version": 3
   },
   "file_extension": ".py",
   "mimetype": "text/x-python",
   "name": "python",
   "nbconvert_exporter": "python",
   "pygments_lexer": "ipython3",
   "version": "3.6.7"
  }
 },
 "nbformat": 4,
 "nbformat_minor": 2
}
