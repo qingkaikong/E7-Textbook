{
 "cells": [
  {
   "cell_type": "markdown",
   "metadata": {},
   "source": [
    "<!--BOOK_INFORMATION-->\n",
    "<img align=\"left\" style=\"padding-right:10px;\" src=\"images/book_cover.jpg\" width=\"120\">\n",
    "\n",
    "*This notebook contains an excerpt from the [Python Programming And Numerical Methods: A Guide For Engineers And Scientists](); the content is available [on GitHub]().*\n",
    "\n",
    "*The text is released under the [CC-BY-NC-ND license](https://creativecommons.org/licenses/by-nc-nd/3.0/us/legalcode), and code is released under the [MIT license](https://opensource.org/licenses/MIT). If you find this content useful, please consider supporting the work by [buying the book]()!*"
   ]
  },
  {
   "cell_type": "markdown",
   "metadata": {},
   "source": [
    "<!--NAVIGATION-->\n",
    "< [CHAPTER 13.  Parallel Your Python](chapter13.00-Parallel-Your-Python.ipynb) | [Contents](Index.ipynb) | [13.2 Mutiprocessing](chapter13.02-Multiprocessing.ipynb) >"
   ]
  },
  {
   "cell_type": "markdown",
   "metadata": {},
   "source": [
    "# Parallel Computing Basics"
   ]
  },
  {
   "cell_type": "markdown",
   "metadata": {},
   "source": [
    "So far we learned a lot how to use Python and soon we will start to use it to analyze data and perform numerical analysis. But before we go deeper, there is still one important thing we need to cover - parallel computing with Python, a way that can run your code simultaneously on multiple cores on your CPU processor, or multiple CPU processors or increase the speed by taking advantage of wasted CPU cycles while your program is waiting for external resources - downloading files, API calls and so on. Basically, the idea of parallel computing roots in doing multiple things at the same time so that it can reduce the running of your program. For example, if you have 1 million data files and need to apply the same operations on each one of them, you can do this one file at each time, or you can do it by multiple files at the same time; or if you are downloading 1 million websites, you can take advantage of downloading 10 at a time to reduce the total time of downloading. Therefore, learn the basics of parallel computing will help us to design faster code. \n",
    "\n",
    "Most of the modern computers are using the multi-core design, which means on a single computing component, there are multiple independent processing units, the so called cores, that are available to do different tasks. For example, on my laptop, there is 1 CPU processor, with 6 physical cores on it (see the following figure), each of this physical cores has two logical cores, which will bring the total number of 12 cores (see the next section when we print out the total number of CPU on your machine).\n",
    "\n",
    "![Multi-Cores](./images/13.01.01-my-hardware.png \"Example of 6 cores in 1 CPU processor in my laptop.\")\n",
    "\n",
    "In Python, there are two basic approaches to conduct parallel computing, that is using the **multiprocessing** or **threading** library. Let's first take a look of the differences of process and thread. \n",
    "\n",
    "## Process and thread\n",
    "\n",
    "A **process** is an instance of a program (such as Python interpreter, Jupyter notebook etc.). A process is created by the operating system to run program, and each process has its own memory block. A **thread** is a sub-process that reside within the process. Each process can have multiple threads, that these threads will share the same memory block within the process. Therefore, for multiple threads in a process, due to the shared memory space, the variables or objects are all shared. If you change one variable in one thread, it will change for all the other threads. But things are different in different processes, change one variable in one process will not change the one in other processes. Process and thread both have advantages or disadvantages, and can be used in different tasks to maximize the benefits.\n",
    "\n",
    "## Python's GIL problem\n",
    "\n",
    "Python has something called Global Interpreter Lock (GIL) which allow only one native thread to run at a time, that is prevent multiple threads from running simultaneously. This is because Python was designed before the multi-core processor on the personal computers (this shows you how old the language is). Even though there are workarounds in Python to do multi-threading programming, we will only cover the multiprocessing library in the next section, which we will use most of the time for taking advantage of multi-core parallel computing.  \n",
    "\n",
    "## Disadvantage of using parallel computing\n",
    "\n",
    "Of course, there are disadvantages of using parallel computing. Such as, more complicated code, overheads when spawn new processes and maintain the. Thus, if your task is small, using parallel computing will take longer time, since it takes time for the system to initialize new process and maintain them."
   ]
  },
  {
   "cell_type": "markdown",
   "metadata": {},
   "source": [
    "<!--NAVIGATION-->\n",
    "< [CHAPTER 13.  Parallel Your Python](chapter13.00-Parallel-Your-Python.ipynb) | [Contents](Index.ipynb) | [13.2 Mutiprocessing](chapter13.02-Multiprocessing.ipynb) >"
   ]
  }
 ],
 "metadata": {
  "kernelspec": {
   "display_name": "Python 3",
   "language": "python",
   "name": "python3"
  },
  "language_info": {
   "codemirror_mode": {
    "name": "ipython",
    "version": 3
   },
   "file_extension": ".py",
   "mimetype": "text/x-python",
   "name": "python",
   "nbconvert_exporter": "python",
   "pygments_lexer": "ipython3",
   "version": "3.6.7"
  }
 },
 "nbformat": 4,
 "nbformat_minor": 2
}
