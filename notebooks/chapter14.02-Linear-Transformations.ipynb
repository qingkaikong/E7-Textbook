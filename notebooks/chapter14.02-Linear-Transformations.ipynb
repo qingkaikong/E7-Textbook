{
 "cells": [
  {
   "cell_type": "markdown",
   "metadata": {
    "button": false,
    "new_sheet": false,
    "run_control": {
     "read_only": false
    }
   },
   "source": [
    "<!--BOOK_INFORMATION-->\n",
    "<img align=\"left\" style=\"padding-right:10px;\" src=\"images/book_cover.jpg\" width=\"120\">\n",
    "\n",
    "*This notebook contains an excerpt from the [Python Programming And Numerical Methods: A Guide For Engineers And Scientists](); the content is available [on GitHub]().*\n",
    "\n",
    "*The text is released under the [CC-BY-NC-ND license](https://creativecommons.org/licenses/by-nc-nd/3.0/us/legalcode), and code is released under the [MIT license](https://opensource.org/licenses/MIT). If you find this content useful, please consider supporting the work by [buying the book]()!*"
   ]
  },
  {
   "cell_type": "markdown",
   "metadata": {
    "button": false,
    "new_sheet": false,
    "run_control": {
     "read_only": false
    }
   },
   "source": [
    "<!--NAVIGATION-->\n",
    "< [14.1 Basics of Linear Algebra](chapter14.01-Basics-of-Linear-Algebra.ipynb) | [Contents](Index.ipynb) | [14.3 Systems of Linear Equations](chapter14.03-Systems-of-Linear-Equations.ipynb) >"
   ]
  },
  {
   "cell_type": "markdown",
   "metadata": {
    "button": false,
    "new_sheet": false,
    "run_control": {
     "read_only": false
    }
   },
   "source": [
    "# Linear Transformations"
   ]
  },
  {
   "cell_type": "markdown",
   "metadata": {
    "button": false,
    "new_sheet": false,
    "run_control": {
     "read_only": false
    }
   },
   "source": [
    "For vectors $x$ and $y$, and scalars $a$ and $b$, it is sufficient to say that a function, $F$, is a **linear transformation** if  \n",
    "\n",
    "$$\n",
    "F(ax + by) = aF(x) + bF(y).\n",
    "$$\n",
    "\n",
    "It can be shown that multiplying an ${m} \\times {n}$ matrix, $A$, and an ${n} \\times {1}$ vector, $v$, of compatible size is a linear transformation of $v$. Therefore from this point forward, a matrix will be synonymous with a linear transformation function.\n",
    "\n",
    "**TRY IT!** Let $x$ be a vector and let $F(x)$ be defined by $F(x) = Ax$ where $A$ is a rectangular matrix of appropriate size. Show that $F(x)$ is a linear transformation.\n",
    "\n",
    "Proof:\n",
    "Since $F(x) = Ax$, then\n",
    "for vectors $v$ and $w$, and scalars $a$ and $b$, $F(av +\n",
    "bw) = A(av + bw)$ (by definition of $F$)$=$$aAv + bAw$ (by\n",
    "distributive property of matrix multiplication)$=$$aF(v) +\n",
    "bF(w)$ (by definition of $F$).\n",
    "\n",
    "The **domain** of $A$ is the set of all vectors that can be multiplied by $A$ on the right. If $A$ is an ${m} \\times {n}$ matrix, then the domain of the linear transformation $A$ is ${\\mathbb{R}}^n$. The **range** of $A$ is the set of all vectors $y$ such that $y = Ax$. Another way to think about the range of $A$ is the set of all linear combinations of the columns in $A$, where $x_i$ is the coefficient of the ith column in $A$. The **null space** of $A$ is the subset of vectors in the domain of $A, x$, such that $Ax = 0$, where $\\textbf{0}$ is the **zero vector** (i.e., a vector in ${\\mathbb{R}}^m$ with all zeros).\n",
    "\n",
    "**TRY IT!** Let $A = [[1, 0, 0], [0, 1, 0], [0, 0, 0]]$ and let the domain of $A$ be ${\\mathbb{R}}^3$. Characterize the range and nullspace of $A$.\n",
    "  \n",
    "Let $v = [x,y,z]$ be a vector in ${\\mathbb{R}}^3$. Then $u = Av$ is the vector $u = [x,y,0]$. Since $x,y\\in {\\mathbb{R}}$, the range of $A$ is the $x$-$y$ plane at $z = 0$.\n",
    "\n",
    "Let $v = [0,0,z]$ for $z\\in {\\mathbb{R}}$. Then $u = Av$ is the vector $u = [0, 0, 0]$. Therefore, the nullspace of $A$ is the $z$-axis (i.e., the set of vectors $[0,0,z]$ $z\\in {\\mathbb{R}}$).\n",
    "\n",
    "Therefore, this linear transformation \"flattens\" any $z$-component from a vector."
   ]
  },
  {
   "cell_type": "markdown",
   "metadata": {
    "button": false,
    "new_sheet": false,
    "run_control": {
     "read_only": false
    }
   },
   "source": [
    "<!--NAVIGATION-->\n",
    "< [14.1 Basics of Linear Algebra](chapter14.01-Basics-of-Linear-Algebra.ipynb) | [Contents](Index.ipynb) | [14.3 Systems of Linear Equations](chapter14.03-Systems-of-Linear-Equations.ipynb) >"
   ]
  }
 ],
 "metadata": {
  "kernelspec": {
   "display_name": "Python 3",
   "language": "python",
   "name": "python3"
  },
  "language_info": {
   "codemirror_mode": {
    "name": "ipython",
    "version": 3
   },
   "file_extension": ".py",
   "mimetype": "text/x-python",
   "name": "python",
   "nbconvert_exporter": "python",
   "pygments_lexer": "ipython3",
   "version": "3.6.8"
  }
 },
 "nbformat": 4,
 "nbformat_minor": 2
}
