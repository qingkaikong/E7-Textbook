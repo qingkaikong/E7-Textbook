{
 "cells": [
  {
   "cell_type": "markdown",
   "metadata": {
    "button": false,
    "new_sheet": false,
    "run_control": {
     "read_only": false
    }
   },
   "source": [
    "<!--BOOK_INFORMATION-->\n",
    "<img align=\"left\" style=\"padding-right:10px;\" src=\"images/book_cover.jpg\" width=\"120\">\n",
    "\n",
    "*This notebook contains an excerpt from the [An Introduction To Python Programming And Numerical Methods For Scientists and Engineers](); the content is available [on GitHub]().*\n",
    "\n",
    "*The text is released under the [CC-BY-NC-ND license](https://creativecommons.org/licenses/by-nc-nd/3.0/us/legalcode), and code is released under the [MIT license](https://opensource.org/licenses/MIT). If you find this content useful, please consider supporting the work by [buying the book]()!*"
   ]
  },
  {
   "cell_type": "markdown",
   "metadata": {
    "button": false,
    "new_sheet": false,
    "run_control": {
     "read_only": false
    }
   },
   "source": [
    "<!--NAVIGATION-->\n",
    "< [Chapter 6 Summary and Problems](chapter06.03-Summary-and-Problems.ipynb) | [Contents](Index.ipynb) | [7.1 Introduction to OOP](chapter07.01-Introduction-to-OOP.ipynb) >"
   ]
  },
  {
   "cell_type": "markdown",
   "metadata": {
    "button": false,
    "new_sheet": false,
    "run_control": {
     "read_only": false
    }
   },
   "source": [
    "# Object Oriented Programming (OOP)"
   ]
  },
  {
   "cell_type": "markdown",
   "metadata": {
    "button": false,
    "new_sheet": false,
    "run_control": {
     "read_only": false
    }
   },
   "source": [
    "#### CHAPTER OUTLINE\n",
    "\n",
    "---\n",
    "\n",
    "* [**7.1 Introduction to OOP**](chapter07.01-Introduction-to-OOP.ipynb)\n",
    "* [**7.2 Objects**](chapter07.02-Objects.ipynb)\n",
    "* [**7.3 Classes**](chapter07.03-Classes.ipynb)\n",
    "* [**7.4 Inheritance**](chapter07.04-Inheritance.ipynb)\n",
    "* [**7.5 Summary and Problems**](chapter07.05-Summary-and-Problems.ipynb)\n"
   ]
  },
  {
   "cell_type": "markdown",
   "metadata": {
    "button": false,
    "new_sheet": false,
    "run_control": {
     "read_only": false
    }
   },
   "source": [
    "--- \n",
    "\n",
    "## Motivation\n",
    "\n",
    "Many times in our work, we need to use some other packages, such as the *scipy*, *numpy* and some other domain specified packages. When you check the source code of these packages, you may see some new keywords in the code, such as **class** that make you wondering what are the classes and why do we use them? This is a new programming paradigm - Object-Oriented Programming (OOP) that is commonly used in writing large programs or packages. When we are writing a large program, the OOP usually have the advantage of making our code simpler for better readability and describe the world, reusable, and smaller amount of bugs. Thus you will see it in most of the standard packages in the field. Therefore, understand the basics of OOP will help us to learn from many source code and to write better code in our programs. In this chapter, we will introduce the basics of OOP, especially the core components: object, class, and inheritance. Python is a highly object-oriented and understanding these concepts will help you a lot in the long run.    \n",
    "\n",
    "---"
   ]
  }
 ],
 "metadata": {
  "kernelspec": {
   "display_name": "Python 3",
   "language": "python",
   "name": "python3"
  },
  "language_info": {
   "codemirror_mode": {
    "name": "ipython",
    "version": 3
   },
   "file_extension": ".py",
   "mimetype": "text/x-python",
   "name": "python",
   "nbconvert_exporter": "python",
   "pygments_lexer": "ipython3",
   "version": "3.6.7"
  }
 },
 "nbformat": 4,
 "nbformat_minor": 2
}
