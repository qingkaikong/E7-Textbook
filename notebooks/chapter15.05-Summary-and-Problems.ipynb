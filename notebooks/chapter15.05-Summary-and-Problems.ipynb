{
 "cells": [
  {
   "cell_type": "markdown",
   "metadata": {
    "button": false,
    "new_sheet": false,
    "run_control": {
     "read_only": false
    }
   },
   "source": [
    "<!--BOOK_INFORMATION-->\n",
    "<img align=\"left\" style=\"padding-right:10px;\" src=\"images/book_cover.jpg\" width=\"120\">\n",
    "\n",
    "*This notebook contains an excerpt from the [Python Programming And Numerical Methods: A Guide For Engineers And Scientists](); the content is available [on GitHub]().*\n",
    "\n",
    "*The text is released under the [CC-BY-NC-ND license](https://creativecommons.org/licenses/by-nc-nd/3.0/us/legalcode), and code is released under the [MIT license](https://opensource.org/licenses/MIT). If you find this content useful, please consider supporting the work by [buying the book]()!*"
   ]
  },
  {
   "cell_type": "markdown",
   "metadata": {
    "button": false,
    "new_sheet": false,
    "run_control": {
     "read_only": false
    }
   },
   "source": [
    "<!--NAVIGATION-->\n",
    "< [15.4 Eigenvalues and Eigenvectors in Python](chapter15.04-Eigenvalues-and-Eigenvectors-in-Python.ipynb)  | [Contents](Index.ipynb) | [CHAPTER 16.  Least Squares Regression](chapter16.00-Least-Squares-Regression.ipynb) >"
   ]
  },
  {
   "cell_type": "markdown",
   "metadata": {
    "button": false,
    "new_sheet": false,
    "run_control": {
     "read_only": false
    }
   },
   "source": [
    "# Summary\n",
    "\n",
    "\n",
    "1. Eigenvalues and eigenvectors help us to understand the characteristics of the linear transformation. \n",
    "2. Eigenvectors of a matrix are the vectors that only be scaled length without rotation after the matrix transformation, the eigenvalues are the factors of the scale. \n",
    "3. We can use power method to get the largest eigenvalue and corresponding eigenvector of a matrix. \n",
    "4. The inverse power method can help us to get the smallest eigenvalue and corresponding eigenvector of a matrix. \n",
    "5. The shifted power method can get all the other eigenvectors/eigenvectors of a matrix. \n",
    "6. The preferred method to get all the eigenvalues is the QR method. "
   ]
  },
  {
   "cell_type": "markdown",
   "metadata": {
    "button": false,
    "new_sheet": false,
    "run_control": {
     "read_only": false
    }
   },
   "source": [
    "# Problems\n",
    "\n",
    "1. Write down the characteristic equation for matrix $A = \\begin{bmatrix}\n",
    "3 & 2\\\\\n",
    "5 & 3\\\\\n",
    "\\end{bmatrix}$. \n",
    "\n",
    "2. Using the above characteristic equation to solve for eigenvalues and eigenvectors for matrix $A$. \n",
    "\n",
    "3. Using the first eigenvector that derived from problem 2 to verify that $Ax = \\lambda{x}$. \n",
    "\n",
    "4. Get the largest eigenvalue and eigenvector for matrix $A = \\begin{bmatrix}\n",
    "2 & 1 & 2\\\\\n",
    "1 & 3 & 2\\\\\n",
    "2 & 4 & 1\\\\\n",
    "\\end{bmatrix}$ using the power method. You can start with initial vector [1, 1, 1], see what you will get after 8 iterations. \n",
    "\n",
    "5. Using the inverse power method to get the smallest eigenvalue and eigenvector for the matrix in problem 4. See how many iterations do you need for it to converge to the smallest eigenvalue. \n",
    "\n",
    "6. Do a QR decomposition for matrix $A$ in problem 4, and verify that $A=QR$ and $Q$ is an orthogonal matrix. \n",
    "\n",
    "7. Use the QR method to get all the eigenvalues for matrix $A$ in problem 4. \n",
    "\n",
    "8. Get the eigenvalues and eigenvectors for the matrix $A$ in problem 4 using the Python built-in function. "
   ]
  },
  {
   "cell_type": "markdown",
   "metadata": {
    "button": false,
    "new_sheet": false,
    "run_control": {
     "read_only": false
    }
   },
   "source": [
    "<!--NAVIGATION-->\n",
    "< [15.4 Eigenvalues and Eigenvectors in Python](chapter15.04-Eigenvalues-and-Eigenvectors-in-Python.ipynb)  | [Contents](Index.ipynb) | [CHAPTER 16.  Least Squares Regression](chapter16.00-Least-Squares-Regression.ipynb) >"
   ]
  }
 ],
 "metadata": {
  "kernelspec": {
   "display_name": "Python 3",
   "language": "python",
   "name": "python3"
  },
  "language_info": {
   "codemirror_mode": {
    "name": "ipython",
    "version": 3
   },
   "file_extension": ".py",
   "mimetype": "text/x-python",
   "name": "python",
   "nbconvert_exporter": "python",
   "pygments_lexer": "ipython3",
   "version": "3.6.7"
  }
 },
 "nbformat": 4,
 "nbformat_minor": 2
}
