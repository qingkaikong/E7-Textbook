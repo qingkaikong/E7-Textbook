{
 "cells": [
  {
   "cell_type": "markdown",
   "metadata": {},
   "source": [
    "<!--BOOK_INFORMATION-->\n",
    "<img align=\"left\" style=\"padding-right:10px;\" src=\"images/book_cover.jpg\" width=\"120\">\n",
    "\n",
    "*This notebook contains an excerpt from the [An Introduction To Python Programming And Numerical Methods For Scientists and Engineers](); the content is available [on GitHub]().*\n",
    "\n",
    "*The text is released under the [CC-BY-NC-ND license](https://creativecommons.org/licenses/by-nc-nd/3.0/us/legalcode), and code is released under the [MIT license](https://opensource.org/licenses/MIT). If you find this content useful, please consider supporting the work by [buying the book]()!*"
   ]
  },
  {
   "cell_type": "markdown",
   "metadata": {},
   "source": [
    "<!--NAVIGATION-->\n",
    "< [CHAPTER 6. Recursion](chapter06.00-Recursion.ipynb) | [Contents](Index.ipynb) | [6.2 Divide and Conquer](chapter06.02-Divide-and-Conquer.ipynb) >"
   ]
  },
  {
   "cell_type": "markdown",
   "metadata": {},
   "source": [
    "# Recursive Functions"
   ]
  },
  {
   "cell_type": "markdown",
   "metadata": {},
   "source": [
    "A **recursive** function is a function that makes calls to itself. It works like the loops we described before, but sometimes it the situation is better to use recursion than loops. \n",
    "\n",
    "Every recursive function has two components: a __base case__ and a __recursive step__. The __base case__ is usually the smallest input and has an easily verifiable solution. This is also the mechanism that stops the function from calling itself forever. The __recursive step__ is the set of all cases where a __recursive call__, or a function call to itself, is made."
   ]
  },
  {
   "cell_type": "markdown",
   "metadata": {},
   "source": [
    "As an example, we show how recursion can be used to define and compute the factorial of an integer number. The factorial of an integer $n$ is $1 \\times 2 \\times 3 \\times ... \\times (n - 1) \\times n$. The recursive definition can be written:\n",
    "\n",
    "\\begin{equation}\n",
    "f(n) = \\begin{cases}\n",
    "    1 &\\text{(if } n=1)\\\\\n",
    "    n \\times f(n-1) & \\text{(otherwise)}\\\\\n",
    "    \\end{cases}\n",
    "\\end{equation}\n",
    "\n",
    "The base case is $n = 1$ which is trivial to compute: $f(1) = 1$. In the recursive step, $n$ is multiplied by the result of a recursive call to the factorial of $n - 1$.\n",
    "\n",
    "**TRY IT!** Write the factorial function using recursion. Use your function to compute the factorial of 3. "
   ]
  },
  {
   "cell_type": "code",
   "execution_count": 1,
   "metadata": {},
   "outputs": [],
   "source": [
    "def factorial(n):\n",
    "    \"\"\"Computes and returns the factorial of n, \n",
    "    a positive integer.\n",
    "    \"\"\"\n",
    "    if n == 1: # Base cases!\n",
    "        return 1\n",
    "    else: # Recursive step\n",
    "        return n * factorial(n - 1) # Recursive call     "
   ]
  },
  {
   "cell_type": "code",
   "execution_count": 2,
   "metadata": {},
   "outputs": [],
   "source": [
    "factorial(3)"
   ]
  },
  {
   "cell_type": "markdown",
   "metadata": {},
   "source": [
    "__WHAT IS HAPPENING?__ First recall that when Python executes a function, it creates a workspace for the variables that are created in that function, and whenever a function calls another function, it will wait until that function returns an answer before continuing. For example, in the *np.sin(np.tan(x))*, *sin* must wait for *tan* to return an answer before it can be evaluated. Even though a recursive function makes calls to itself, the same rules apply.\n",
    "\n",
    "1. A call is made to *factorial(3)*, A new workspace is opened to compute *factorial(3)*.\n",
    "2. Input argument value 3 is compared to 1. Since they are not equal, else statement is executed.\n",
    "3. *3 * factorial(2)* must be computed. A new workspace is opened to compute *factorial(2)*.\n",
    "4. Input argument value 2 is compared to 1. Since they are not equal, else statement is executed.\n",
    "5. *2* factorial(1)* must be computed. A new workspace is opened to compute *factorial(1)*.\n",
    "6. Input argument value 1 is compared to 1. Since they are equal, if statement is executed.\n",
    "7. The return variable is assigned the value 1. *factorial(1)* terminates with output 1. \n",
    "8. *2*factorial(1)* can be resolved to $2 \\times 1 = 2$. Output is assigned the value 2. *factorial(2)* terminates with output 2. \n",
    "9. *3*factorial(2)* can be resolved to $3 \\times 2 = 6$. Output is assigned the value 6. *factorial(3)* terminates with output 6. "
   ]
  },
  {
   "cell_type": "markdown",
   "metadata": {},
   "source": [
    "The order of recursive calls can be depicted by a recursion tree shown in the following figure for *factorial(3)*. A recursion tree is a diagram of the function calls connected by numbered arrows to depict the order in which the calls were made. \n",
    "\n",
    "<img src=\"images/06.01.01-Recursion_tree_for_factorial.png\" alt=\"Recursion tree for factorial(3)\" width=\"200\"/>"
   ]
  },
  {
   "cell_type": "markdown",
   "metadata": {},
   "source": [
    "Fibonacci numbers were originally developed to model the idealized population growth of rabbits. Since then, they have been found to be significant in any naturally occurring phenomena. The Fibonacci numbers can be generated using the following recursive formula. Note that the recursive step contains two recursive calls and that there are also two base cases (i.e., two cases that cause the recursion to stop).\n",
    "\n",
    "\\begin{equation}\n",
    "F(n) = \\begin{cases}\n",
    "    1 &\\text{(if } n=1)\\\\\n",
    "    1 &\\text{(if } n=2)\\\\\n",
    "    F(n-1) + F(n-2) & \\text{(otherwise)}\\\\\n",
    "    \\end{cases}\n",
    "\\end{equation}\n",
    "\n",
    "**TRY IT!** Write a recursive function for computing the *n-th* Fibonacci number. Use your function to compute the first five Fibonacci numbers. Draw the associated recursion tree. "
   ]
  },
  {
   "cell_type": "code",
   "execution_count": 3,
   "metadata": {},
   "outputs": [],
   "source": [
    "def fibonacci(n):\n",
    "    \"\"\"Computes and returns the Fibonacci of n, \n",
    "    a postive integer.\n",
    "    \"\"\"\n",
    "    if n == 1: # first base case\n",
    "        return 1\n",
    "    elif n == 2: # second base case\n",
    "        return 1\n",
    "    else: # Recursive step\n",
    "        return fibonacci(n-1) + fibonacci(n-2) # Recursive call "
   ]
  },
  {
   "cell_type": "code",
   "execution_count": 4,
   "metadata": {},
   "outputs": [],
   "source": [
    "print(fibonacci(1))\n",
    "print(fibonacci(2))\n",
    "print(fibonacci(3))\n",
    "print(fibonacci(4))\n",
    "print(fibonacci(5))"
   ]
  },
  {
   "cell_type": "markdown",
   "metadata": {},
   "source": [
    "![Recursion tree for fibonacci(5)](images/06.01.02-Recursion_tree_for_fibonacci.png)"
   ]
  },
  {
   "cell_type": "markdown",
   "metadata": {},
   "source": [
    "As an exercise, consider the following modification to *fibonacci*, where the results of each recursive call are displayed to the screen.\n",
    "\n",
    "**EXAMPLE:** Modification for *fibonacci*. Can you determine the order in which the Fibonacci numbers will appear on the screen for fibonacci_display(5)?"
   ]
  },
  {
   "cell_type": "code",
   "execution_count": 5,
   "metadata": {},
   "outputs": [],
   "source": [
    "def fibonacci_display(n):\n",
    "    \"\"\"Computes and returns the Fibonacci of n, \n",
    "    a postive integer.\n",
    "    \"\"\"\n",
    "    if n == 1: # first base case\n",
    "        out = 1\n",
    "        print(out)\n",
    "        return out\n",
    "    elif n == 2: # second base case\n",
    "        out = 1\n",
    "        print(out)\n",
    "        return out\n",
    "    else: # Recursive step\n",
    "        out = fibonacci(n-1) + fibonacci(n-2)\n",
    "        print(out)\n",
    "        return out # Recursive call "
   ]
  },
  {
   "cell_type": "code",
   "execution_count": 6,
   "metadata": {},
   "outputs": [],
   "source": [
    "fibonacci_display(5)"
   ]
  },
  {
   "cell_type": "markdown",
   "metadata": {},
   "source": [
    "Notice that the number of recursive calls becomes very large for even relatively small inputs for n. If you do not agree, try to draw the recursion tree for *fibonacci(10)*. If you try your unmodified function for inputs around 35, you will notice significant computation times."
   ]
  },
  {
   "cell_type": "code",
   "execution_count": 7,
   "metadata": {},
   "outputs": [
    {
     "data": {
      "text/plain": [
       "9227465"
      ]
     },
     "execution_count": 7,
     "metadata": {},
     "output_type": "execute_result"
    }
   ],
   "source": [
    "fibonacci(35)"
   ]
  },
  {
   "cell_type": "markdown",
   "metadata": {},
   "source": [
    "There is an iterative method of computing the n-th Fibonacci number that requires only one workspace.\n",
    "\n",
    "**EXAMPLE:** Iterative implementation for computing Fibonacci numbers."
   ]
  },
  {
   "cell_type": "code",
   "execution_count": 8,
   "metadata": {},
   "outputs": [],
   "source": [
    "import numpy as np\n",
    "\n",
    "def iter_fib(n):\n",
    "    fib = np.ones(n)\n",
    "    \n",
    "    for i in range(2, n):\n",
    "        fib[i] = fib[i - 1] + fib[i - 2]\n",
    "        \n",
    "    return fib"
   ]
  },
  {
   "cell_type": "markdown",
   "metadata": {},
   "source": [
    "**TRY IT!** Compute the 25-th Fibonacci number using *iter_fib* and *fibonacci*. And use the magic command *timeit* to measure the run time for each. Notice the large difference in running times. "
   ]
  },
  {
   "cell_type": "code",
   "execution_count": 9,
   "metadata": {},
   "outputs": [
    {
     "name": "stdout",
     "output_type": "stream",
     "text": [
      "7.22 µs ± 171 ns per loop (mean ± std. dev. of 7 runs, 100000 loops each)\n"
     ]
    }
   ],
   "source": [
    "%timeit iter_fib(25)"
   ]
  },
  {
   "cell_type": "code",
   "execution_count": 10,
   "metadata": {},
   "outputs": [
    {
     "name": "stdout",
     "output_type": "stream",
     "text": [
      "16.7 ms ± 910 µs per loop (mean ± std. dev. of 7 runs, 100 loops each)\n"
     ]
    }
   ],
   "source": [
    "%timeit fibonacci(25)"
   ]
  },
  {
   "cell_type": "markdown",
   "metadata": {},
   "source": [
    "You can see in the previous example that the iterative version runs much faster than the recursive counterpart. In general, iterative functions are faster than recursive functions that perform the same task. So why use recursive functions at all? There are some solution methods that have a naturally recursive structure. In these cases it is usually very hard to write a counterpart using loops. The primary value of writing recursive functions is that they can usually be written much more compactly than iterative functions. The cost of the improved compactness is added running time.\n",
    "\n",
    "The relationship between the input arguments and the running time is discussed in more detail later in the chapter on Complexity.\n",
    "\n",
    "**TIP!** Try to write functions iteratively whenever it is convenient to do so. Your functions will run faster. "
   ]
  },
  {
   "cell_type": "markdown",
   "metadata": {},
   "source": [
    "<!--NAVIGATION-->\n",
    "< [CHAPTER 6. Recursion](chapter06.00-Recursion.ipynb) | [Contents](Index.ipynb) | [6.2 Divide and Conquer](chapter06.02-Divide-and-Conquer.ipynb) >"
   ]
  }
 ],
 "metadata": {
  "kernelspec": {
   "display_name": "Python 3",
   "language": "python",
   "name": "python3"
  },
  "language_info": {
   "codemirror_mode": {
    "name": "ipython",
    "version": 3
   },
   "file_extension": ".py",
   "mimetype": "text/x-python",
   "name": "python",
   "nbconvert_exporter": "python",
   "pygments_lexer": "ipython3",
   "version": "3.7.0"
  }
 },
 "nbformat": 4,
 "nbformat_minor": 2
}
