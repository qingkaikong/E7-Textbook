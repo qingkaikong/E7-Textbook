{
 "cells": [
  {
   "cell_type": "markdown",
   "metadata": {
    "button": false,
    "new_sheet": false,
    "run_control": {
     "read_only": false
    }
   },
   "source": [
    "<!--BOOK_INFORMATION-->\n",
    "<img align=\"left\" style=\"padding-right:10px;\" src=\"images/book_cover.jpg\" width=\"120\">\n",
    "\n",
    "*This notebook contains an excerpt from the [Python Programming And Numerical Methods: A Guide For Engineers And Scientists](); the content is available [on GitHub]().*\n",
    "\n",
    "*The text is released under the [CC-BY-NC-ND license](https://creativecommons.org/licenses/by-nc-nd/3.0/us/legalcode), and code is released under the [MIT license](https://opensource.org/licenses/MIT). If you find this content useful, please consider supporting the work by [buying the book]()!*"
   ]
  },
  {
   "cell_type": "markdown",
   "metadata": {
    "button": false,
    "new_sheet": false,
    "run_control": {
     "read_only": false
    }
   },
   "source": [
    "<!--NAVIGATION-->\n",
    "< [14.6 Summary and Problems](chapter14.06-Summary-and-Problems.ipynb) | [Contents](Index.ipynb) | [15.1 Eigenvalues and Eigenvectors Problem Statement](chapter15.01-Eigenvalues-and-Eigenvectors-Problem-Statement.ipynb)   >"
   ]
  },
  {
   "cell_type": "markdown",
   "metadata": {
    "button": false,
    "new_sheet": false,
    "run_control": {
     "read_only": false
    }
   },
   "source": [
    "# Eigenvalues and Eigenvectors"
   ]
  },
  {
   "cell_type": "markdown",
   "metadata": {
    "button": false,
    "new_sheet": false,
    "run_control": {
     "read_only": false
    }
   },
   "source": [
    "#### CHAPTER OUTLINE\n",
    "\n",
    "---\n",
    "\n",
    "* [**15.1 Eigenvalues and Eigenvectors Problem Statement**](chapter15.01-Eigenvalues-and-Eigenvectors-Problem-Statement.ipynb)\n",
    "* [**15.2 The Power Method**](chapter15.02-The-Power-Method.ipynb)  \n",
    "* [**15.3 The QR Method**](chapter15.03-The-QR-Method.ipynb)  \n",
    "* [**15.4 Eigenvalues and Eigenvectors in Python**](chapter15.04-Eigenvalues-and-Eigenvectors-in-Python.ipynb) \n",
    "* [**15.5 Summary and Problems**](chapter15.05-Summary-and-Problems.ipynb)"
   ]
  },
  {
   "cell_type": "markdown",
   "metadata": {
    "button": false,
    "new_sheet": false,
    "run_control": {
     "read_only": false
    }
   },
   "source": [
    "--- \n",
    "\n",
    "## Motivation\n",
    "\n",
    "In this chapter, we are going to introduce you the eigenvalues and eigenvectors which play a very important role in many applications in science and engineering. The prefix eigen- is adopted from the German word eigen for \"proper\", \"characteristic\" and it may sound really abstract and scary at beginning. But when you start to understand them, you will find that they bring in a lot of insights and conveniences into our problems. \n",
    "\n",
    "They have many applications, to name a few, finding the natural frequencies and mode shapes in dynamics systems, solving differential equations (we will see in later chapters), reducing the dimensions using principal components analysis, getting the principal stresses in the mechanics, and so on. Even the famous Google's search engine algorithm - PageRank, uses the eigenvalues and eigenvectors to assign scores to the pages and rank them in the search.  \n",
    "\n",
    "This chapter teaches you how to use some common ways to find the eigenvalues and eigenvectors. By the end of this chapter you should understand the power method, the QR method and how to use Python to find them.\n",
    "\n",
    "---"
   ]
  }
 ],
 "metadata": {
  "kernelspec": {
   "display_name": "Python 3",
   "language": "python",
   "name": "python3"
  },
  "language_info": {
   "codemirror_mode": {
    "name": "ipython",
    "version": 3
   },
   "file_extension": ".py",
   "mimetype": "text/x-python",
   "name": "python",
   "nbconvert_exporter": "python",
   "pygments_lexer": "ipython3",
   "version": "3.6.7"
  }
 },
 "nbformat": 4,
 "nbformat_minor": 2
}
