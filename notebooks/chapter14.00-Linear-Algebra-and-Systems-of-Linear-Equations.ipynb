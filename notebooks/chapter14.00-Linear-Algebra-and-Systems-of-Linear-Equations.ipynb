{
 "cells": [
  {
   "cell_type": "markdown",
   "metadata": {
    "button": false,
    "new_sheet": false,
    "run_control": {
     "read_only": false
    }
   },
   "source": [
    "<!--BOOK_INFORMATION-->\n",
    "<img align=\"left\" style=\"padding-right:10px;\" src=\"images/book_cover.jpg\" width=\"120\">\n",
    "\n",
    "*This notebook contains an excerpt from the [Python Programming And Numerical Methods: A Guide For Engineers And Scientists](); the content is available [on GitHub]().*\n",
    "\n",
    "*The text is released under the [CC-BY-NC-ND license](https://creativecommons.org/licenses/by-nc-nd/3.0/us/legalcode), and code is released under the [MIT license](https://opensource.org/licenses/MIT). If you find this content useful, please consider supporting the work by [buying the book]()!*"
   ]
  },
  {
   "cell_type": "markdown",
   "metadata": {
    "button": false,
    "new_sheet": false,
    "run_control": {
     "read_only": false
    }
   },
   "source": [
    "<!--NAVIGATION-->\n",
    "< [13.4 Summary and Problems](chapter13.04-Summary-and-Problems.ipynb) | [Contents](Index.ipynb) | [14.1 Linear Transformations](chapter14.01-Linear-Transformations.ipynb)  >"
   ]
  },
  {
   "cell_type": "markdown",
   "metadata": {
    "button": false,
    "new_sheet": false,
    "run_control": {
     "read_only": false
    }
   },
   "source": [
    "# Linear Algebra and Systems of Linear Equations"
   ]
  },
  {
   "cell_type": "markdown",
   "metadata": {
    "button": false,
    "new_sheet": false,
    "run_control": {
     "read_only": false
    }
   },
   "source": [
    "#### CHAPTER OUTLINE\n",
    "\n",
    "---\n",
    "* [**14.1 Basics of Linear Algebra**](chapter14.01-Basics-of-Linear-Algebra.ipynb)\n",
    "* [**14.2 Linear Transformations**](chapter14.02-Linear-Transformations.ipynb)  \n",
    "* [**14.3 Systems of Linear Equations**](chapter14.03-Systems-of-Linear-Equations.ipynb)\n",
    "* [**14.4 Solutions to Systems of Linear Equations**](chapter14.04-Solutions-to-Systems-of-Linear-Equations.ipynb)   \n",
    "* [**14.5 Solve Systems of Linear Equations in Python**](chapter14.05-Solve-Systems-of-Linear-Equations-in-Python.ipynb)  \n",
    "* [**14.6 Summary and Problems**](chapter14.06-Summary-and-Problems.ipynb) "
   ]
  },
  {
   "cell_type": "markdown",
   "metadata": {
    "button": false,
    "new_sheet": false,
    "run_control": {
     "read_only": false
    }
   },
   "source": [
    "--- \n",
    "\n",
    "## Motivation\n",
    "\n",
    "Numerous problems in engineering and science can be described or approximated by linear relationships. For example, if you combine resistors in a complicated circuit, you will obtain a system of linear relationships. Similarly, if you study small deformations of rigid structures, you will also get a system of relationships. In fact, it is difficult to think of any science or engineering field in which relationships of these kind are not fundamental.\n",
    "\n",
    "The study of linear relationship is contained in the field of linear algebra, and this chapter provides a basic overview of some basic linear algebraic vocabulary and concepts that are important for later chapters. Since this text does not assume any prior knowledge of linear algebra, some of the more abstract mathematical concepts and proofs on this topic have been omitted to make the material more accessible. However, the information in this chapter is in no way comprehensive and should not be considered a substitute for a full linear algebra course.\n",
    "\n",
    "By the end of this chapter you should understand a variety of linear algebra concepts and calculations. You should know Python's functions for these concepts and calculations. You should know what systems of linear equations are and their relationship to matrices and linear transformations. Finally, you should know how to use Python to compute solutions to systems of linear equations.\n",
    "\n",
    "---"
   ]
  }
 ],
 "metadata": {
  "kernelspec": {
   "display_name": "Python 3",
   "language": "python",
   "name": "python3"
  },
  "language_info": {
   "codemirror_mode": {
    "name": "ipython",
    "version": 3
   },
   "file_extension": ".py",
   "mimetype": "text/x-python",
   "name": "python",
   "nbconvert_exporter": "python",
   "pygments_lexer": "ipython3",
   "version": "3.6.7"
  }
 },
 "nbformat": 4,
 "nbformat_minor": 2
}
