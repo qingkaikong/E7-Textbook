{
 "cells": [
  {
   "cell_type": "markdown",
   "metadata": {},
   "source": [
    "<!--BOOK_INFORMATION-->\n",
    "<img align=\"left\" style=\"padding-right:10px;\" src=\"images/book_cover.jpg\" width=\"120\">\n",
    "\n",
    "*This notebook contains an excerpt from the [Python Programming And Numerical Methods: A Guide For Engineers And Scientists](); the content is available [on GitHub]().*\n",
    "\n",
    "*The text is released under the [CC-BY-NC-ND license](https://creativecommons.org/licenses/by-nc-nd/3.0/us/legalcode), and code is released under the [MIT license](https://opensource.org/licenses/MIT). If you find this content useful, please consider supporting the work by [buying the book]()!*"
   ]
  },
  {
   "cell_type": "markdown",
   "metadata": {},
   "source": [
    "<!--NAVIGATION-->\n",
    "< [22.4 Numerical Error and Instability](chapter22.04-Numerical-Error-and-Instability.ipynb) | [Contents](Index.ipynb) | [22.6 Python ODE Solvers](chapter22.06-Python-ODE-Solvers.ipynb) >"
   ]
  },
  {
   "cell_type": "markdown",
   "metadata": {},
   "source": [
    "# Predictor-Corrector Methods"
   ]
  },
  {
   "cell_type": "markdown",
   "metadata": {},
   "source": [
    "Given any time and state value, the function, $F(t, S(t))$, returns the change of state $\\frac{dS(t)}{dt}$. **Predictor-corrector** methods of solving initial value problems improve the approximation accuracy of non-predictor-corrector methods by querying the $F$ function several times at different locations (predictions), and then using a weighted average of the results (corrections) to update the state.\n",
    "\n",
    "The **midpoint method** method has a predictor step:\n",
    "\n",
    "$$\n",
    "S\\left(t_{j} + \\frac{h}{2}\\right) = S(t_j) + \\frac{h}{2}F(t_j, S(t_j)),\n",
    "$$\n",
    "\n",
    "which is the prediction of the solution value halfway between $t_j$ and $t_{j+1}$.\n",
    "\n",
    "It then computes the corrector step:\n",
    "\n",
    "$$\n",
    "S(t_{j+1}) = S(t_j) + hF\\left(t_j + \\frac{h}{2}, S\\left(t_{j} +\n",
    "\\frac{h}{2}\\right)\\right) $$ \n",
    "\n",
    "which computes the solution at $S(t_{j+1})$ from $S(t_j)$ but using the derivative from $S\\left(t_{j} + \\frac{h}{2}\\right)$.\n",
    "\n",
    "A classical method for integrating ODEs with a high order of accuracy is the **Fourth Order Runge Kutta** (RK4) method. This method uses four predictor corrector steps called $k_1, k_2, k_3$, and $k_4$. A weighted average of these predictions is used to produce the approximation of the solution. The formula is as follows.\n",
    "\n",
    "$$\n",
    "\\begin{eqnarray*}\n",
    "k_1 & = & F(t_j,S(t_j))\\\\\n",
    "k_2 & = & F\\left(t_j+\\frac{h}{2},S(t_j)+\\frac{1}{2}k_1h\\right)\\\\\n",
    "k_3 & = & F\\left(t_j+\\frac{h}{2},S(t_j)+\\frac{1}{2}k_2h\\right)\\\\\n",
    "k_4 & = & F(t_j+h,S(t_j)+k_3h)\n",
    "\\end{eqnarray*}\n",
    "$$\n",
    "\n",
    "The correction step is then\n",
    "\n",
    "$$\n",
    "S(t_{j+1}) = S(t_j) + \\frac{h}{6}\\left(k_1 + 2k_2 + 2k_3 + k_4\\right).\n",
    "$$\n",
    "\n",
    "As indicated by its name, the RK4 method is fourth-order accurate, or $O(h^4)$."
   ]
  },
  {
   "cell_type": "markdown",
   "metadata": {},
   "source": [
    "<!--NAVIGATION-->\n",
    "< [22.4 Numerical Error and Instability](chapter22.04-Numerical-Error-and-Instability.ipynb) | [Contents](Index.ipynb) | [22.6 Python ODE Solvers](chapter22.06-Python-ODE-Solvers.ipynb) >"
   ]
  }
 ],
 "metadata": {
  "kernelspec": {
   "display_name": "Python 3",
   "language": "python",
   "name": "python3"
  },
  "language_info": {
   "codemirror_mode": {
    "name": "ipython",
    "version": 3
   },
   "file_extension": ".py",
   "mimetype": "text/x-python",
   "name": "python",
   "nbconvert_exporter": "python",
   "pygments_lexer": "ipython3",
   "version": "3.6.7"
  }
 },
 "nbformat": 4,
 "nbformat_minor": 2
}
