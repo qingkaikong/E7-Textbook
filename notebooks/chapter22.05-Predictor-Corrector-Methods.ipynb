{
 "cells": [
  {
   "cell_type": "markdown",
   "metadata": {
    "button": false,
    "new_sheet": false,
    "run_control": {
     "read_only": false
    }
   },
   "source": [
    "<!--BOOK_INFORMATION-->\n",
    "<img align=\"left\" style=\"padding-right:10px;\" src=\"images/book_cover.jpg\" width=\"120\">\n",
    "\n",
    "*This notebook contains an excerpt from the [Python Programming and Numerical Methods - A Guide for Engineers and Scientists](https://www.elsevier.com/books/python-programming-and-numerical-methods/kong/978-0-12-819549-9), the content is also available at [Berkeley Python Numerical Methods](https://pythonnumericalmethods.berkeley.edu/notebooks/Index.html).*\n",
    "\n",
    "*The copyright of the book belongs to Elsevier. We also have this interactive book online for a better learning experience. The code is released under the [MIT license](https://opensource.org/licenses/MIT). If you find this content useful, please consider supporting the work on [Elsevier](https://www.elsevier.com/books/python-programming-and-numerical-methods/kong/978-0-12-819549-9) or [Amazon](https://www.amazon.com/Python-Programming-Numerical-Methods-Scientists/dp/0128195495/ref=sr_1_1?dchild=1&keywords=Python+Programming+and+Numerical+Methods+-+A+Guide+for+Engineers+and+Scientists&qid=1604761352&sr=8-1)!*"
   ]
  },
  {
   "cell_type": "markdown",
   "metadata": {
    "button": false,
    "new_sheet": false,
    "run_control": {
     "read_only": false
    }
   },
   "source": [
    "<!--NAVIGATION-->\n",
    "< [22.4 Numerical Error and Instability](chapter22.04-Numerical-Error-and-Instability.ipynb) | [Contents](Index.ipynb) | [22.6 Python ODE Solvers](chapter22.06-Python-ODE-Solvers.ipynb) >"
   ]
  },
  {
   "cell_type": "markdown",
   "metadata": {
    "button": false,
    "new_sheet": false,
    "run_control": {
     "read_only": false
    }
   },
   "source": [
    "# Predictor-Corrector and Runge Kutta Methods"
   ]
  },
  {
   "cell_type": "markdown",
   "metadata": {
    "button": false,
    "new_sheet": false,
    "run_control": {
     "read_only": false
    }
   },
   "source": [
    "## Predictor-Corrector Methods\n",
    "\n",
    "Given any time and state value, the function, $F(t, S(t))$, returns the change of state $\\frac{dS(t)}{dt}$. **Predictor-corrector** methods of solving initial value problems improve the approximation accuracy of non-predictor-corrector methods by querying the $F$ function several times at different locations (predictions), and then using a weighted average of the results (corrections) to update the state. Essentially, it uses two formulas: the **predictor** and **corrector**. The predictor is an explicit formula and first estimates the solution at $t_{j+1}$, i.e. we can use Euler method or some other methods to finish this step. After we obtain the solution $S(t_{j+1})$, we can apply the corrector to improve the accuracy. Using the found $S(t_{j+1})$ on the right-hand side of an otherwise implicit formula, the corrector can calculate a new, more accurate solution. \n",
    "\n",
    "The **midpoint method** has a predictor step:\n",
    "\n",
    "$$\n",
    "S\\left(t_{j} + \\frac{h}{2}\\right) = S(t_j) + \\frac{h}{2}F(t_j, S(t_j)),\n",
    "$$\n",
    "\n",
    "which is the prediction of the solution value halfway between $t_j$ and $t_{j+1}$.\n",
    "\n",
    "It then computes the corrector step:\n",
    "\n",
    "$$\n",
    "S(t_{j+1}) = S(t_j) + hF\\left(t_j + \\frac{h}{2}, S\\left(t_{j} +\n",
    "\\frac{h}{2}\\right)\\right) $$ \n",
    "\n",
    "which computes the solution at $S(t_{j+1})$ from $S(t_j)$ but using the derivative from $S\\left(t_{j} + \\frac{h}{2}\\right)$.\n",
    "\n",
    "\n",
    "## Runge Kutta Methods\n",
    "\n",
    "**Runge Kutta** (RK) methods are one of the most widely used methods for solving ODEs. Recall that the Euler method uses the first two terms in Taylor series to approximate the numerical integration, which is linear: $S(t_{j+1}) = S(t_j + h) = S(t_j) + h \\cdot S'(t_j)$.\n",
    "\n",
    "We can greatly improve the accuracy of numerical integration if we keep more terms of the series in \n",
    "\n",
    "$$S(t_{j+1}) = S(t_j + h) = S(t_j) + S'(t_j)h + \\frac{1}{2!}S''(t_j)h^2 + \\cdots + \\frac{1}{n!}S^{(n)}(t_j)h^n \\label{eq:taylor} \\tag{1}$$\n",
    "\n",
    "In order to get this more accurate solution, we need to derive the expressions of $S''(t_j), S'''(t_j), \\cdots, S^{(n)}(t_j)$. This extra work can be avoided using the RK methods, which is based on truncated Taylor series, but not require computation of these higher derivatives. \n",
    "\n",
    "### Second order Runge Kutta method\n",
    "\n",
    "Let us first derive the second order RK method. Let $\\frac{dS(t)}{dt} = F(t,S(t))$, then we can assume an integration formula the form of \n",
    "\n",
    "$$ S(t + h) = S(t) + c_1F(t, S(t))h + c_2F[t+ph, S(t)+qhF(t, S(t))]h \\label{eq:integration} \\tag{2}$$\n",
    "\n",
    "We can attempt to find these parameters $c_1, c_2, p, q$ by matching the above equation to the second-order Taylor series, which gives us\n",
    "\n",
    "$$ S(t + h) =  S(t) + S'(t)h + \\frac{1}{2!}S''(t)h^2 = S(t) + F(t, S(t))h + \\frac{1}{2!}F'(t, S(t))h^2 \\label{eq:matching} \\tag{3}$$\n",
    "\n",
    "Noting that $$F'(t, s(t)) = \\frac{\\partial F}{\\partial t} + \\frac{\\partial F}{\\partial S}\\frac{\\partial S}{\\partial t} = \\frac{\\partial F}{\\partial t} + \\frac{\\partial F}{\\partial S}F$$\n",
    "\n",
    "Therefore, equation $\\eqref{eq:matching}$ can be written as:\n",
    "\n",
    "$$ S(t + h) = S + Fh + \\frac{1}{2!}\\Big(\\frac{\\partial F}{\\partial t} + \\frac{\\partial F}{\\partial S}F\\Big)h^2 \\label{eq:rewrite-matching} \\tag{4}$$\n",
    "\n",
    "In equation $\\eqref{eq:integration}$, we can rewrite the last term by applying Taylor series in several variables, which gives us:\n",
    "\n",
    "$$F[t+ph, S+qhF)] = F + \\frac{\\partial F}{\\partial t}ph + qh\\frac{\\partial F}{\\partial S}F$$\n",
    "thus equation $\\eqref{eq:integration}$ becomes:\n",
    "\n",
    "$$ S(t + h) = S + (c_1+c_2)Fh + c_1\\Big[ \\frac{\\partial F}{\\partial t}p + q\\frac{\\partial F}{\\partial S}F \\Big]h^2 \\label{eq:rewrite-integration} \\tag{5}$$\n",
    "\n",
    "Comparing equation $\\eqref{eq:rewrite-matching}$ and $\\eqref{eq:rewrite-integration}$, we can easily obtain: \n",
    "\n",
    "$$c_1 + c_2 = 1, \\space c_2p=\\frac{1}{2}, \\space c_2q=\\frac{1}{2} \\label{eq:result} \\tag{6}$$\n",
    "\n",
    "Because $\\eqref{eq:result}$ has four unknowns and only three equations, we can assign any value to one of the parameters and get the rest of the parameters. One popular choice is:\n",
    "\n",
    "$$c_1 =\\frac{1}{2}, \\space c_2 =\\frac{1}{2}, \\space p =1, \\space q=1$$\n",
    "\n",
    "We can also define:\n",
    "$$\n",
    "\\begin{eqnarray*}\n",
    "k_1 & = & F(t_j,S(t_j))\\\\\n",
    "k_2 & = & F\\left(t_j+ph, S(t_j)+qhk_1\\right)\\\\\n",
    "\\end{eqnarray*}\n",
    "$$\n",
    "\n",
    "where we will have:\n",
    "\n",
    "$$S(t_{j+1}) = S(t_j) + \\frac{1}{2}(k_1+k_2)h$$\n",
    "\n",
    "\n",
    "### Fourth-order Runge Kutta method\n",
    "\n",
    "A classical method for integrating ODEs with a high order of accuracy is the **Fourth Order Runge Kutta** (RK4) method. It is obtained from the Taylor series using similar approach we just discussed in the second-order method. This method uses four points $k_1, k_2, k_3$, and $k_4$. A weighted average of these is used to produce the approximation of the solution. The formula is as follows.\n",
    "\n",
    "$$\n",
    "\\begin{eqnarray*}\n",
    "k_1 & = & F(t_j,S(t_j))\\\\\n",
    "k_2 & = & F\\left(t_j+\\frac{h}{2},S(t_j)+\\frac{1}{2}k_1h\\right)\\\\\n",
    "k_3 & = & F\\left(t_j+\\frac{h}{2},S(t_j)+\\frac{1}{2}k_2h\\right)\\\\\n",
    "k_4 & = & F(t_j+h,S(t_j)+k_3h)\n",
    "\\end{eqnarray*}\n",
    "$$\n",
    "\n",
    "Therefore, we will have:\n",
    "\n",
    "$$\n",
    "S(t_{j+1}) = S(t_j) + \\frac{h}{6}\\left(k_1 + 2k_2 + 2k_3 + k_4\\right).\n",
    "$$\n",
    "\n",
    "As indicated by its name, the RK4 method is fourth-order accurate, or $O(h^4)$."
   ]
  },
  {
   "cell_type": "markdown",
   "metadata": {
    "button": false,
    "new_sheet": false,
    "run_control": {
     "read_only": false
    }
   },
   "source": [
    "<!--NAVIGATION-->\n",
    "< [22.4 Numerical Error and Instability](chapter22.04-Numerical-Error-and-Instability.ipynb) | [Contents](Index.ipynb) | [22.6 Python ODE Solvers](chapter22.06-Python-ODE-Solvers.ipynb) >"
   ]
  }
 ],
 "metadata": {
  "kernelspec": {
   "display_name": "Python 3",
   "language": "python",
   "name": "python3"
  },
  "language_info": {
   "codemirror_mode": {
    "name": "ipython",
    "version": 3
   },
   "file_extension": ".py",
   "mimetype": "text/x-python",
   "name": "python",
   "nbconvert_exporter": "python",
   "pygments_lexer": "ipython3",
   "version": "3.6.8"
  }
 },
 "nbformat": 4,
 "nbformat_minor": 2
}
