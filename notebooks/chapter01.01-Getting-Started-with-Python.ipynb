{
 "cells": [
  {
   "cell_type": "markdown",
   "metadata": {},
   "source": [
    "<!--BOOK_INFORMATION-->\n",
    "<img align=\"left\" style=\"padding-right:10px;\" src=\"images/book_cover.jpg\" width=\"120\">\n",
    "\n",
    "*This notebook contains an excerpt from the [An Introduction To Python Programming And Numerical Methods For Scientists and Engineers](); the content is available [on GitHub]().*\n",
    "\n",
    "*The text is released under the [CC-BY-NC-ND license](https://creativecommons.org/licenses/by-nc-nd/3.0/us/legalcode), and code is released unde\n",
    "r the [MIT license](https://opensource.org/licenses/MIT). If you find this content useful, please consider supporting the work by [buying the book]()!*"
   ]
  },
  {
   "cell_type": "markdown",
   "metadata": {},
   "source": [
    "<!--NAVIGATION-->\n",
    "< [1.0 Python Basics](chapter01.00-Python-Basics.ipynb)| [Contents](Index.ipynb) | [1.2 Python as A Calculator](chapter01.02-Python-as-A-Calculator.ipynb) >"
   ]
  },
  {
   "cell_type": "markdown",
   "metadata": {},
   "source": [
    "# 1.1 Getting Started with Python \n",
    "\n",
    "<img align=\"left\" src=\"https://www.python.org/static/community_logos/python-logo.png\">"
   ]
  },
  {
   "cell_type": "markdown",
   "metadata": {},
   "source": [
    "Before we start to use Python, we need to set up our Python working environment on the computer. In this section, we will introduce the processes to\n",
    "\n",
    "There are different ways to install Python and related packages, here we recommend to use [Anaconda](https://www.anaconda.com/download/) or [Miniconda](https://conda.io/miniconda.html) to install and manage your packages. Depending on the operating systems (OS) you are using, i.e Windows, Mac OS X, or Linux, you need to download the different installer to install on your machine. Both Anaconda and Miniconda is towards easily managing Python work environment in scientific computing and data sciences. \n",
    "\n",
    "Here we will use Mac OS X as an example to show you the install processes, but it should be similar to other OS as well. The main difference between Anaconda and Miniconda is:\n",
    "\n",
    "* **Anaconda** is a complete distribution that include the Python interpreter, package manager as well as the common used packages in scientific computing. \n",
    "* **Miniconda** is a light version of Anaconda that doesn't include the common packages, therefore, you need to install all the different packages by yourself. But it does have the Python interpreter and package manager. "
   ]
  },
  {
   "cell_type": "markdown",
   "metadata": {},
   "source": [
    "### The Zen of Python"
   ]
  },
  {
   "cell_type": "code",
   "execution_count": 1,
   "metadata": {},
   "outputs": [
    {
     "name": "stdout",
     "output_type": "stream",
     "text": [
      "The Zen of Python, by Tim Peters\n",
      "\n",
      "Beautiful is better than ugly.\n",
      "Explicit is better than implicit.\n",
      "Simple is better than complex.\n",
      "Complex is better than complicated.\n",
      "Flat is better than nested.\n",
      "Sparse is better than dense.\n",
      "Readability counts.\n",
      "Special cases aren't special enough to break the rules.\n",
      "Although practicality beats purity.\n",
      "Errors should never pass silently.\n",
      "Unless explicitly silenced.\n",
      "In the face of ambiguity, refuse the temptation to guess.\n",
      "There should be one-- and preferably only one --obvious way to do it.\n",
      "Although that way may not be obvious at first unless you're Dutch.\n",
      "Now is better than never.\n",
      "Although never is often better than *right* now.\n",
      "If the implementation is hard to explain, it's a bad idea.\n",
      "If the implementation is easy to explain, it may be a good idea.\n",
      "Namespaces are one honking great idea -- let's do more of those!\n"
     ]
    }
   ],
   "source": [
    "import this"
   ]
  },
  {
   "cell_type": "markdown",
   "metadata": {},
   "source": [
    "<!--NAVIGATION-->\n",
    "< [1.0 Python Basics](chapter01.00-Python-Basics.ipynb)| [Contents](Index.ipynb) | [1.2 Python as A Calculator](chapter01.02-Python-as-A-Calculator.ipynb) >"
   ]
  }
 ],
 "metadata": {
  "kernelspec": {
   "display_name": "Python 3",
   "language": "python",
   "name": "python3"
  },
  "language_info": {
   "codemirror_mode": {
    "name": "ipython",
    "version": 3
   },
   "file_extension": ".py",
   "mimetype": "text/x-python",
   "name": "python",
   "nbconvert_exporter": "python",
   "pygments_lexer": "ipython3",
   "version": "3.6.6"
  }
 },
 "nbformat": 4,
 "nbformat_minor": 2
}
