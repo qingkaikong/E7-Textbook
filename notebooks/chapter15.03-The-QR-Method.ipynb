{
 "cells": [
  {
   "cell_type": "markdown",
   "metadata": {
    "button": false,
    "new_sheet": false,
    "run_control": {
     "read_only": false
    }
   },
   "source": [
    "<!--BOOK_INFORMATION-->\n",
    "<img align=\"left\" style=\"padding-right:10px;\" src=\"images/book_cover.jpg\" width=\"120\">\n",
    "\n",
    "*This notebook contains an excerpt from the [Python Programming And Numerical Methods: A Guide For Engineers And Scientists](); the content is available [on GitHub]().*\n",
    "\n",
    "*The text is released under the [CC-BY-NC-ND license](https://creativecommons.org/licenses/by-nc-nd/3.0/us/legalcode), and code is released under the [MIT license](https://opensource.org/licenses/MIT). If you find this content useful, please consider supporting the work by [buying the book]()!*"
   ]
  },
  {
   "cell_type": "markdown",
   "metadata": {
    "button": false,
    "new_sheet": false,
    "run_control": {
     "read_only": false
    }
   },
   "source": [
    "<!--NAVIGATION-->\n",
    "< [15.2 The Power Method](chapter15.02-The-Power-Method.ipynb) | [Contents](Index.ipynb) | [15.4 Eigenvalues and Eigenvectors in Python](chapter15.04-Eigenvalues-and-Eigenvectors-in-Python.ipynb)  >"
   ]
  },
  {
   "cell_type": "markdown",
   "metadata": {
    "button": false,
    "new_sheet": false,
    "run_control": {
     "read_only": false
    }
   },
   "source": [
    "# The QR Method\n",
    "\n",
    "The QR method is a preferred iterative method to find all the eigenvalues of a matrix (but not the eigenvectors at the same time). The idea is based on the following two concepts\n",
    "\n",
    "1. similar matrices will have the same eigenvalues and associated eigenvectors. Two square matrices $A$ and $B$ are similar if:\n",
    "\n",
    " $$A = C^{-1}BC$$\n",
    "\n",
    " where $C$ is an invertible matrix. \n",
    "\n",
    "2. The QR method is a way to decompose a matrix into two matrices $Q$ and $R$, where $Q$ is an orthogonal matrix, and $R$ is an upper triangular matrix. An orthogonal matrix has the features: $Q^{-1} = Q^T$, which means $Q^{-1}Q=Q^TQ=I$. \n",
    "\n",
    "How do we link these two concepts to find the eigenvalues? Let's say we have a matrix $A_1$ whose eigenvalues are to be determined. We can start the first iteration by decomposing it to:\n",
    "\n",
    "$$A_1 = Q_1R_1$$\n",
    "\n",
    "If we multiply $R_1$ from the right by $Q_1$, we have a new matrix $A_2 = R_1Q_1$, since $R_1 = Q^{-1}A_1$, therefore, we have:\n",
    "\n",
    "$$A_2 = Q^{-1}A_1Q_1$$\n",
    "\n",
    "which means that $A_1$ and $A_2$ are similar, thus having the same eigenvalues and eigenvectors. \n",
    "\n",
    "We can repeat the above procedures to decompose $A_2 = Q_2R_2$ and calculate $A_3 = R_2Q_2$. As the iteration goes, we will eventually converge to an upper triangular matrix form: \n",
    "\n",
    "$$ A_k = R_kQ_k = \\begin{bmatrix}\n",
    "\\lambda_1 & X & \\dots & X\\\\\n",
    "0 & \\lambda_2 & \\dots & X\\\\\n",
    "& &\\dots &\\\\\n",
    "0 & 0 & \\dots & \\lambda_n\\\\\n",
    "\\end{bmatrix}$$\n",
    "\n",
    "where the diagonal values are the eigenvalues of the matrix. We won't go into the mathematical details how you get the $Q$ and $R$ from the matrix, but instead, we will use the Python function to directly get the two matrices. \n",
    "\n",
    "**TRY IT!** Use the *qr* function in numpy.linalg to decompose matrix $A = \\begin{bmatrix}\n",
    "0 & 2\\\\\n",
    "2 & 3\\\\\n",
    "\\end{bmatrix}$. And verify the results. "
   ]
  },
  {
   "cell_type": "code",
   "execution_count": 1,
   "metadata": {
    "button": false,
    "new_sheet": false,
    "run_control": {
     "read_only": false
    }
   },
   "outputs": [],
   "source": [
    "import numpy as np\n",
    "from numpy.linalg import qr"
   ]
  },
  {
   "cell_type": "code",
   "execution_count": 2,
   "metadata": {},
   "outputs": [
    {
     "name": "stdout",
     "output_type": "stream",
     "text": [
      "Q: [[ 0. -1.]\n",
      " [-1.  0.]]\n",
      "R: [[-2. -3.]\n",
      " [ 0. -2.]]\n",
      "QR: [[0. 2.]\n",
      " [2. 3.]]\n"
     ]
    }
   ],
   "source": [
    "a = np.array([[0, 2], \n",
    "              [2, 3]])\n",
    "\n",
    "q, r = qr(a)\n",
    "\n",
    "print('Q:', q)\n",
    "print('R:', r)\n",
    "\n",
    "b = np.dot(q, r)\n",
    "print('QR:', b)"
   ]
  },
  {
   "cell_type": "markdown",
   "metadata": {},
   "source": [
    "**TRY IT!** Use the QR method to get the eigenvalues of matrix $A = \\begin{bmatrix}\n",
    "0 & 2\\\\\n",
    "2 & 3\\\\\n",
    "\\end{bmatrix}$. Do 20 iterations, and print out the 1st, 5th, 10th, and 20th iteration."
   ]
  },
  {
   "cell_type": "code",
   "execution_count": 3,
   "metadata": {},
   "outputs": [
    {
     "name": "stdout",
     "output_type": "stream",
     "text": [
      "Iteration 1:\n",
      "[[3. 2.]\n",
      " [2. 0.]]\n",
      "Iteration 5:\n",
      "[[ 3.99998093  0.00976559]\n",
      " [ 0.00976559 -0.99998093]]\n",
      "Iteration 10:\n",
      "[[ 4.00000000e+00  9.53674316e-06]\n",
      " [ 9.53674316e-06 -1.00000000e+00]]\n",
      "Iteration 20:\n",
      "[[ 4.00000000e+00  9.09484250e-12]\n",
      " [ 9.09494702e-12 -1.00000000e+00]]\n"
     ]
    }
   ],
   "source": [
    "a = np.array([[0, 2], \n",
    "              [2, 3]])\n",
    "p = [1, 5, 10, 20]\n",
    "for i in range(20):\n",
    "    q, r = qr(a)\n",
    "    a = np.dot(r, q)\n",
    "    if i+1 in p:\n",
    "        print(f'Iteration {i+1}:')\n",
    "        print(a)"
   ]
  },
  {
   "cell_type": "markdown",
   "metadata": {},
   "source": [
    "We can see after the 5th iteration, the eigenvalues are converge to the correct ones. \n",
    "\n",
    "In next section, we will take a look how to get the eigenvalues and eigenvectors in Python easily using the built-in function. "
   ]
  },
  {
   "cell_type": "markdown",
   "metadata": {
    "button": false,
    "new_sheet": false,
    "run_control": {
     "read_only": false
    }
   },
   "source": [
    "<!--NAVIGATION-->\n",
    "< [15.2 The Power Method](chapter15.02-The-Power-Method.ipynb) | [Contents](Index.ipynb) | [15.4 Eigenvalues and Eigenvectors in Python](chapter15.04-Eigenvalues-and-Eigenvectors-in-Python.ipynb)  >"
   ]
  }
 ],
 "metadata": {
  "kernelspec": {
   "display_name": "Python 3",
   "language": "python",
   "name": "python3"
  },
  "language_info": {
   "codemirror_mode": {
    "name": "ipython",
    "version": 3
   },
   "file_extension": ".py",
   "mimetype": "text/x-python",
   "name": "python",
   "nbconvert_exporter": "python",
   "pygments_lexer": "ipython3",
   "version": "3.6.7"
  }
 },
 "nbformat": 4,
 "nbformat_minor": 2
}
