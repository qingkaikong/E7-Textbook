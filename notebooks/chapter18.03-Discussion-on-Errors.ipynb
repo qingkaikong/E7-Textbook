{
 "cells": [
  {
   "cell_type": "markdown",
   "metadata": {
    "button": false,
    "new_sheet": false,
    "run_control": {
     "read_only": false
    }
   },
   "source": [
    "<!--BOOK_INFORMATION-->\n",
    "<img align=\"left\" style=\"padding-right:10px;\" src=\"images/book_cover.jpg\" width=\"120\">\n",
    "\n",
    "*This notebook contains an excerpt from the [Python Programming And Numerical Methods: A Guide For Engineers And Scientists](); the content is available [on GitHub]().*\n",
    "\n",
    "*The text is released under the [CC-BY-NC-ND license](https://creativecommons.org/licenses/by-nc-nd/3.0/us/legalcode), and code is released under the [MIT license](https://opensource.org/licenses/MIT). If you find this content useful, please consider supporting the work by [buying the book]()!*"
   ]
  },
  {
   "cell_type": "markdown",
   "metadata": {
    "button": false,
    "new_sheet": false,
    "run_control": {
     "read_only": false
    }
   },
   "source": [
    "<!--NAVIGATION-->\n",
    "< [18.2 Approximations with Taylor Series](chapter18.02-Approximations-with-Taylor-Series.ipynb) | [Contents](Index.ipynb) | [18.4 Summary and Problems](chapter18.04-Summary-and-Problems.ipynb)  >"
   ]
  },
  {
   "cell_type": "markdown",
   "metadata": {
    "button": false,
    "new_sheet": false,
    "run_control": {
     "read_only": false
    }
   },
   "source": [
    "# Discussion on Errors"
   ]
  },
  {
   "cell_type": "markdown",
   "metadata": {
    "button": false,
    "new_sheet": false,
    "run_control": {
     "read_only": false
    }
   },
   "source": [
    "### Truncation error for Taylor series\n",
    "\n",
    "When we are doing numerical analysis, there are usually two sources of error, **round-off** and **truncation** error. The round-off errors are due to the inexactness in the representation of real numbers on a computer and the arithmetic operations done with them. While the truncation errors are due to the approximate nature of the method used, they are usually from using an approximation in place of an exact mathematical procedure, such as that we use the Taylor series to approximate a function. For example, we can use Taylor series to approximate the function $e^x$:\n",
    "\n",
    "$$e^x = 1+x+\\frac{x^2}{2!} + \\frac{x^3}{3!} + \\frac{x^4}{4!} + \\dots$$\n",
    "\n",
    "Since it takes the infinite sequence to approximate the function, if we only take a few items, we will have a truncation error. For example, if we only use the first 4 items to approximate $e^2$, which will be:\n",
    "\n",
    "$$e^2 \\approx 1+2+\\frac{2^2}{2!} + \\frac{2^3}{3!} = 6.3333$$, \n",
    "\n",
    "We see there is an error associated with it, since we truncate the rest of the terms in the Taylor series. Therefore the function $f(x)$ can be written as the Taylor series approximation plus a truncation error term:\n",
    "\n",
    "$$f(x) = f_n(x) + E_n(x)$$\n",
    "\n",
    "with more terms we use, the approximation will be more close to the exact value. Let's use Python to see the above example. \n",
    "\n",
    "**TRY IT!** Approximate $e^2$ using different order of Taylor series, and print out the results. "
   ]
  },
  {
   "cell_type": "code",
   "execution_count": 1,
   "metadata": {},
   "outputs": [],
   "source": [
    "import numpy as np"
   ]
  },
  {
   "cell_type": "code",
   "execution_count": 2,
   "metadata": {},
   "outputs": [
    {
     "name": "stdout",
     "output_type": "stream",
     "text": [
      "Using 0-term, 1.0\n",
      "Using 1-term, 3.0\n",
      "Using 2-term, 5.0\n",
      "Using 3-term, 6.333333333333333\n",
      "Using 4-term, 7.0\n",
      "Using 5-term, 7.266666666666667\n",
      "Using 6-term, 7.355555555555555\n",
      "Using 7-term, 7.3809523809523805\n",
      "Using 8-term, 7.387301587301587\n",
      "Using 9-term, 7.3887125220458545\n",
      "The true e^2 is: \n",
      "7.38905609893065\n"
     ]
    }
   ],
   "source": [
    "exp = 0\n",
    "x = 2\n",
    "for i in range(10):\n",
    "    exp = exp + \\\n",
    "       ((x**i)/np.math.factorial(i))\n",
    "    print(f'Using {i}-term, {exp}')\n",
    "    \n",
    "print(f'The true e^2 is: \\n{np.exp(2)}')"
   ]
  },
  {
   "cell_type": "markdown",
   "metadata": {
    "button": false,
    "new_sheet": false,
    "run_control": {
     "read_only": false
    }
   },
   "source": [
    "### Estimate truncation error\n",
    "\n",
    "We can see the higher order we use to approximate the function at the value, the closer we are to the true value. For each order we choose, there is an error associated with it, and the approximation is only useful if we have an idea of how accurate the approximation is. This is the motivation that we need to understand more about the errors. \n",
    "\n",
    "From the Taylor series, if we use only the first $n$ terms, we can see:\n",
    "\n",
    "$$ f(x) = f_n(x) + E_n(x) = \\sum_{k = 0}^{n} \\frac{f^{(k)}(a)(x-a)^k}{k!} + E_n(x)\n",
    "$$\n",
    "\n",
    "The $E_n(x)$ is the remainder of the Taylor series, or the truncation error that measures how far off the approximation $f_n(x)$ is from $f(x)$. We can estimate the error using the **Taylor Remainder Estimation theorem**, which states:\n",
    "\n",
    "If the function $f(x)$ has $n+1$ derivatives for all $x$ in an interval $I$ containing $a$, then, for each x in $I$, there exists $z$ between $x$ and $a$ such that \n",
    "\n",
    "$$ E_n(x) = \\frac{f^{(n+1)}(z)(x-a)^{(n+1)}}{(n+1)!}\n",
    "$$\n",
    "\n",
    "In many times, if we know $M$ is the maximum value of $|f^{(n+1)}|$ in the interval, we will have:\n",
    "\n",
    "$$ |E_n(x)| \\le \\frac{M|x-a|^{(n+1)}}{(n+1)!}\n",
    "$$\n",
    "\n",
    "Therefore, we can get a bound for the truncation error using this theorem. Let's see the example. \n",
    "\n",
    "**TRY IT!** Estimate the remainder bound for the approximation using taylor series for $e^2$ using n = 9. \n",
    "\n",
    "Let's  work on the error when we use n = 9. We know that $(e^x)' = e^x$, and, a = 0. Therefore, the error related to x = 2 is:\n",
    "\n",
    "$$ E_n(x) = \\frac{f^{(9+1)}(z)(x)^{(9+1)}}{(9+1)!} = \\frac{e^{z}2^{10}}{10!}\n",
    "$$\n",
    "\n",
    "Recall that $ 0 \\le z \\le 2$, and $e < 3$, we will have\n",
    "\n",
    "$$ |E_n(x)| \\le \\frac{3^{2}2^{10}}{10!} = 0.00254\n",
    "$$\n",
    "\n",
    "Therefore, if we use Taylor series with n = 9 to approximate $e^2$, our absolute error should be less than  0.00254. Let's also verifty it below. "
   ]
  },
  {
   "cell_type": "code",
   "execution_count": 3,
   "metadata": {},
   "outputs": [
    {
     "data": {
      "text/plain": [
       "0.0003435768847959153"
      ]
     },
     "execution_count": 3,
     "metadata": {},
     "output_type": "execute_result"
    }
   ],
   "source": [
    "abs(7.3887125220458545-np.exp(2))"
   ]
  },
  {
   "cell_type": "markdown",
   "metadata": {
    "button": false,
    "new_sheet": false,
    "run_control": {
     "read_only": false
    }
   },
   "source": [
    "<!--NAVIGATION-->\n",
    "< [18.2 Approximations with Taylor Series](chapter18.02-Approximations-with-Taylor-Series.ipynb) | [Contents](Index.ipynb) | [18.4 Summary and Problems](chapter18.04-Summary-and-Problems.ipynb)  >"
   ]
  }
 ],
 "metadata": {
  "kernelspec": {
   "display_name": "Python 3",
   "language": "python",
   "name": "python3"
  },
  "language_info": {
   "codemirror_mode": {
    "name": "ipython",
    "version": 3
   },
   "file_extension": ".py",
   "mimetype": "text/x-python",
   "name": "python",
   "nbconvert_exporter": "python",
   "pygments_lexer": "ipython3",
   "version": "3.6.7"
  }
 },
 "nbformat": 4,
 "nbformat_minor": 2
}
