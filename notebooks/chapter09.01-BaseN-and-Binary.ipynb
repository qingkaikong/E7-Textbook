{
 "cells": [
  {
   "cell_type": "markdown",
   "metadata": {
    "button": false,
    "new_sheet": false,
    "run_control": {
     "read_only": false
    }
   },
   "source": [
    "<!--BOOK_INFORMATION-->\n",
    "<img align=\"left\" style=\"padding-right:10px;\" src=\"images/book_cover.jpg\" width=\"120\">\n",
    "\n",
    "*This notebook contains an excerpt from the [An Introduction To Python Programming And Numerical Methods For Scientists and Engineers](); the content is available [on GitHub]().*\n",
    "\n",
    "*The text is released under the [CC-BY-NC-ND license](https://creativecommons.org/licenses/by-nc-nd/3.0/us/legalcode), and code is released under the [MIT license](https://opensource.org/licenses/MIT). If you find this content useful, please consider supporting the work by [buying the book]()!*"
   ]
  },
  {
   "cell_type": "markdown",
   "metadata": {
    "button": false,
    "new_sheet": false,
    "run_control": {
     "read_only": false
    }
   },
   "source": [
    "<!--NAVIGATION-->\n",
    "< [CHAPTER 9. Representation of Numbers](chapter09.00-Representation-of-Numbers.ipynb) | [Contents](Index.ipynb) | [9.2 Floating Point Numbers](chapter09.02-Floating-Point-Numbers.ipynb)>"
   ]
  },
  {
   "cell_type": "markdown",
   "metadata": {
    "button": false,
    "new_sheet": false,
    "run_control": {
     "read_only": false
    }
   },
   "source": [
    "# Base-N and Binary"
   ]
  },
  {
   "cell_type": "markdown",
   "metadata": {
    "button": false,
    "new_sheet": false,
    "run_control": {
     "read_only": false
    }
   },
   "source": [
    "The **decimal system**  is a way of representing numbers that you are familiar with from elementary school. In the decimal system, a number is represented by a list of digits from 0 to 9, where each digit represents the coefficient for a power of 10.\n",
    "\n",
    "**EXAMPLE:** Show the decimal expansion for 147.3.\n",
    "\n",
    "$147.3 = 1 \\cdot 10^2 + 4 \\cdot 10^1 + 7 \\cdot 10^0 + 3 \\cdot 10^{-1}$.\n"
   ]
  },
  {
   "cell_type": "markdown",
   "metadata": {
    "button": false,
    "new_sheet": false,
    "run_control": {
     "read_only": false
    }
   },
   "source": [
    "Since each digit is associated with a power of 10, the decimal system is also known as **base10**  because it is based on 10 digits (0 to 9). However, there is nothing special about base10 numbers except perhaps that you are more accustomed to using them. For example, in base3 we have the digits 0, 1, and 2 and the number $121(base\\ 3) = 1 \\cdot 3^2 + 2 \\cdot 3^1 + 1 \\cdot  3^0 = 9 + 6 + 1 = 16(base\\ 10)$\n",
    "\n",
    "For the purposes of this chapter, it is useful to denote which representation a number is in. Therefore in this chapter, every number will be followed by its representation in parentheses (e.g., 11 (base10) means 11 in base10) unless the context is clear.\n",
    "\n",
    "A very important representation of numbers for computers is base2 or **binary**  numbers. In binary, the only available digits are 0 and 1, and each digit is the coefficient of a power of 2. Digits in a binary number are also known as a **bit**. Note that binary numbers are still numbers, and so addition and multiplication are defined on them exactly as you learned in grade school.\n",
    "\n",
    "**TRY IT!** Convert the number 11 (base10) into binary.\n",
    "$11 (base\\ 10) = 8 + 2 + 1 = 1 \\cdot 2^3 + 0 \\cdot 2^2 +1 \\cdot 2^1 +1 \\cdot 2^0 = 1011 (base\\ 2)$"
   ]
  },
  {
   "cell_type": "markdown",
   "metadata": {
    "button": false,
    "new_sheet": false,
    "run_control": {
     "read_only": false
    }
   },
   "source": [
    "**TRY IT!** Convert 37 (base10) and 17 (base10) to binary. Add and multiply the resulting numbers in binary. Verify that the result is correct in base10.\n",
    "\n",
    "Convert to binary: \n",
    "\n",
    "$37\\ (base\\ 10) = 32 + 4 + 1 = 1 \\cdot 2^5 + 0 \\cdot 2^4 + 0 \\cdot  2^3 + 1 \\cdot  2^2 + 0 \\cdot  2^1 + 1 \\cdot  2^0 = 100101\\ (base\\ 2)$ \n",
    "\n",
    "$17\\ (base\\ 10) = 16 + 1 = 1 \\cdot  2^4 + 0 \\cdot  2^3 + 0 \\cdot  2^2 + 0 \\cdot  2^1 + 1 \\cdot  2^0 = 10001\\ (base\\ 2)$\n",
    "\n",
    "Get results of addition and multiplication in decimal:\n",
    "\n",
    "$37 + 17 = 54$\n",
    "\n",
    "$37\\times17 = 629$"
   ]
  },
  {
   "cell_type": "markdown",
   "metadata": {
    "button": false,
    "new_sheet": false,
    "run_control": {
     "read_only": false
    }
   },
   "source": [
    "Do addition in binary:\n",
    "\n",
    "<img src=\"images/09.01.1-Binary_addition.png\" title=\"Binary addition\" width=\"230\"/>\n",
    "\n",
    "Do multiplication in binary:\n",
    "\n",
    "<img src=\"images/09.01.2-Binary_multiplication.png\" title=\"Binary addition\" width=\"300\"/>"
   ]
  },
  {
   "cell_type": "markdown",
   "metadata": {
    "button": false,
    "new_sheet": false,
    "run_control": {
     "read_only": false
    }
   },
   "source": [
    "Binary numbers are useful for computers because arithmetic operations on the digits 0 and 1 can be represented using AND, OR, and NOT, which computers can do extremely fast.\n",
    "\n",
    "Unlike humans that can abstract numbers to arbitrarily large values, computers have a fixed number of bits that they are capable of storing at one time. For example, a 32-bit computer can represent and process 32-digit binary numbers and no more. If all 32-bits are used to represent positive integer binary numbers, then this means that there are $\\sum_{n=0}^{31} 2^{n} = 4,294,967,296$ numbers the computer can represent. This is not very many numbers at all and would be completely insufficient to do any useful arithmetic on. For example, you could not compute the perfectly reasonable sum $0.5 + 1.25$ using this representation because all the bits are dedicated to only integers."
   ]
  },
  {
   "cell_type": "markdown",
   "metadata": {
    "button": false,
    "new_sheet": false,
    "run_control": {
     "read_only": false
    }
   },
   "source": [
    "<!--NAVIGATION-->\n",
    "< [CHAPTER 9. Representation of Numbers](chapter09.00-Representation-of-Numbers.ipynb) | [Contents](Index.ipynb) | [9.2 Floating Point Numbers](chapter09.02-Floating-Point-Numbers.ipynb)>"
   ]
  }
 ],
 "metadata": {
  "kernelspec": {
   "display_name": "Python 3",
   "language": "python",
   "name": "python3"
  },
  "language_info": {
   "codemirror_mode": {
    "name": "ipython",
    "version": 3
   },
   "file_extension": ".py",
   "mimetype": "text/x-python",
   "name": "python",
   "nbconvert_exporter": "python",
   "pygments_lexer": "ipython3",
   "version": "3.6.8"
  }
 },
 "nbformat": 4,
 "nbformat_minor": 2
}
