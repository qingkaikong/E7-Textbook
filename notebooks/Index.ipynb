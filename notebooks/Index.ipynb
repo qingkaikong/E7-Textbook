{
 "cells": [
  {
   "cell_type": "markdown",
   "metadata": {},
   "source": [
    "# An Introduction To Python Programming And Numerical Methods For Scientists and Engineers"
   ]
  },
  {
   "cell_type": "markdown",
   "metadata": {},
   "source": [
    "*Qingkai Kong, Alexandre M. Bayen & Timmy Siauw*\n",
    "\n",
    "## ***Need to be replaced with the new cover***\n",
    "\n",
    "![Book Cover](images/book_cover.jpg)"
   ]
  },
  {
   "cell_type": "markdown",
   "metadata": {},
   "source": [
    "This is the Jupyter notebook version of the [An Introduction To Python Programming And Numerical Methods For Scientists and Engineers](); the content is available [on GitHub]().\n",
    "\n",
    "*The text is released under the [CC-BY-NC-ND license](https://creativecommons.org/licenses/by-nc-nd/3.0/us/legalcode), and code is released under the [MIT license](https://opensource.org/licenses/MIT). If you find this content useful, please consider supporting the work by [buying the book]()!*"
   ]
  },
  {
   "cell_type": "markdown",
   "metadata": {},
   "source": [
    "## Table of Contents\n",
    "\n",
    "### [PREFACE](chapter00.00-Preface.ipynb)\n",
    "\n",
    "### [CHAPTER 1. Python Basics](chapter01.00-Python-Basics.ipynb)\n",
    "* [1.1 Getting Started with Python](chapter01.01-Getting-Started-with-Python.ipynb)\n",
    "* [1.2 Python as A Calculator](chapter01.02-Python-as-A-Calculator.ipynb)\n",
    "* [1.3 Managing Packages](chapter01.03-Managing-Packages.ipynb)\n",
    "* [1.4 Introduction to Jupyter Notebook](chapter01.04-Introduction-to-Jupyter-Notebook.ipynb)\n",
    "* [1.5 Logical Expressions and Operators](chapter01.05-Logial-Expressions-and-Operators.ipynb)\n",
    "* [1.6 Summary and Problems](chapter01.06-Summary-and-Problems.ipynb)\n",
    "\n",
    "\n",
    "### [CHAPTER 2. Variables and Basic Data Structures](chapter02.00-Variables-and-Basic-Data-Structures.ipynb)\n",
    "* [2.1 Variables and Assignment](chapter02.01-Variables-and-Assignment.ipynb)\n",
    "* [2.2 Data Structure - Strings](chapter02.02-Data-Structure-Strings.ipynb)\n",
    "* [2.3 Data Structure - Lists](chapter02.03-Data-Structure-Lists.ipynb)\n",
    "* [2.4 Data Structure - Tuples](chapter02.04-Data-Structure-Tuples.ipynb)\n",
    "* [2.5 Data Structure - Sets](chapter02.05-Data-Structure-Sets.ipynb)\n",
    "* [2.6 Data Structure - Dictionaries](chapter02.06-Data-Structure-Dictionaries.ipynb)\n",
    "* [2.7 Introducing Numpy Arrays](chapter02.07-Introducing_numpy_arrays.ipynb)\n",
    "* [2.8 Summary and Problems](chapter02.08-Summary-and-Problems.ipynb)\n",
    "\n",
    "\n",
    "### [CHAPTER 3. Functions](chapter03.00-Functions.ipynb)\n",
    "\n"
   ]
  }
 ],
 "metadata": {
  "kernelspec": {
   "display_name": "Python 3",
   "language": "python",
   "name": "python3"
  },
  "language_info": {
   "codemirror_mode": {
    "name": "ipython",
    "version": 3
   },
   "file_extension": ".py",
   "mimetype": "text/x-python",
   "name": "python",
   "nbconvert_exporter": "python",
   "pygments_lexer": "ipython3",
   "version": "3.7.0"
  }
 },
 "nbformat": 4,
 "nbformat_minor": 2
}
