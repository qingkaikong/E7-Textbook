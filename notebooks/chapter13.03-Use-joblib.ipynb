{
 "cells": [
  {
   "cell_type": "markdown",
   "metadata": {},
   "source": [
    "<!--BOOK_INFORMATION-->\n",
    "<img align=\"left\" style=\"padding-right:10px;\" src=\"images/book_cover.jpg\" width=\"120\">\n",
    "\n",
    "*This notebook contains an excerpt from the [Python Programming And Numerical Methods: A Guide For Engineers And Scientists](); the content is available [on GitHub]().*\n",
    "\n",
    "*The text is released under the [CC-BY-NC-ND license](https://creativecommons.org/licenses/by-nc-nd/3.0/us/legalcode), and code is released under the [MIT license](https://opensource.org/licenses/MIT). If you find this content useful, please consider supporting the work by [buying the book]()!*"
   ]
  },
  {
   "cell_type": "markdown",
   "metadata": {},
   "source": [
    "<!--NAVIGATION-->\n",
    "< [13.2 Multiprocessing](chapter13.02-Multiprocessing.ipynb) | [Contents](Index.ipynb) | [13.4 Summary and Problems](chapter13.04-Summary-and-Problems.ipynb) >"
   ]
  },
  {
   "cell_type": "markdown",
   "metadata": {},
   "source": [
    "# Use joblib"
   ]
  },
  {
   "cell_type": "markdown",
   "metadata": {},
   "source": [
    "In Python, there are also other 3rd party packages that can make the parallel computing easier, especially for some daily tasks. [joblib](https://joblib.readthedocs.io/en/latest/index.html) is one of them, it provides an easy simple way to do parallel computing (it has many other usages as well). \n",
    "\n",
    "First you need to install it by running \n",
    "\n",
    "```python\n",
    "pip install joblib\n",
    "```\n",
    "\n",
    "Let's see how can we run the previous example using this new package. "
   ]
  },
  {
   "cell_type": "code",
   "execution_count": 1,
   "metadata": {},
   "outputs": [],
   "source": [
    "from joblib import Parallel, delayed\n",
    "import numpy as np\n",
    "\n",
    "def random_square(seed):\n",
    "    np.random.seed(seed)\n",
    "    random_num = np.random.randint(0, 10)\n",
    "    return random_num**2"
   ]
  },
  {
   "cell_type": "code",
   "execution_count": 2,
   "metadata": {},
   "outputs": [],
   "source": [
    "results = Parallel(n_jobs=8)\\\n",
    "    (delayed(random_square)(i) for i in range(1000000))"
   ]
  },
  {
   "cell_type": "markdown",
   "metadata": {},
   "source": [
    "We can see the parallel part of the code becomes one line by using the joblib library, which is very convenient. The *Parallel* is a helper class that essentially provides a convenient interface for the *multiprocessing* module we saw before. The *delayed* is used to capture the arguments of the target function, in this case, the *random_square*. We run the above code with 8 CPUs, if you want to use all of computational power on your machine. You can use all CPUs on your machine by setting *n\\_jobs=-1*. If you set it to -2, all CPUs but one are used. \n",
    "\n",
    "Besides, you can turn on the *verbose* argument to output the status messages. "
   ]
  },
  {
   "cell_type": "code",
   "execution_count": 3,
   "metadata": {},
   "outputs": [
    {
     "name": "stderr",
     "output_type": "stream",
     "text": [
      "[Parallel(n_jobs=-1)]: Using backend LokyBackend with 12 concurrent workers.\n",
      "[Parallel(n_jobs=-1)]: Done  60 tasks      | elapsed:    0.1s\n",
      "[Parallel(n_jobs=-1)]: Done 176056 tasks      | elapsed:    3.0s\n",
      "[Parallel(n_jobs=-1)]: Done 787056 tasks      | elapsed:   12.4s\n",
      "[Parallel(n_jobs=-1)]: Done 1000000 out of 1000000 | elapsed:   15.5s finished\n"
     ]
    }
   ],
   "source": [
    "results = Parallel(n_jobs=-1, verbose=1)\\\n",
    "    (delayed(random_square)(i) for i in range(1000000))"
   ]
  },
  {
   "cell_type": "markdown",
   "metadata": {},
   "source": [
    "There are multiple backends in joblib, which means using different ways to do the parallel computing. If you set the backend as *multiprocessing*, under the hood, it is actually create a multiprocessing pool that uses separate Python woker processes to execute tasks concurrently on separate CPUs. "
   ]
  },
  {
   "cell_type": "code",
   "execution_count": 4,
   "metadata": {},
   "outputs": [
    {
     "name": "stderr",
     "output_type": "stream",
     "text": [
      "[Parallel(n_jobs=-1)]: Using backend MultiprocessingBackend with 12 concurrent workers.\n",
      "[Parallel(n_jobs=-1)]: Done 220 tasks      | elapsed:    0.0s\n",
      "[Parallel(n_jobs=-1)]: Done 457032 tasks      | elapsed:    1.9s\n",
      "[Parallel(n_jobs=-1)]: Done 1000000 out of 1000000 | elapsed:    3.8s finished\n"
     ]
    }
   ],
   "source": [
    "results = \\\n",
    "    Parallel(n_jobs=-1, backend='multiprocessing', verbose=1)\\\n",
    "    (delayed(random_square)(i) for i in range(1000000))"
   ]
  },
  {
   "cell_type": "markdown",
   "metadata": {},
   "source": [
    "<!--NAVIGATION-->\n",
    "< [13.2 Multiprocessing](chapter13.02-Multiprocessing.ipynb) | [Contents](Index.ipynb) | [13.4 Summary and Problems](chapter13.04-Summary-and-Problems.ipynb) >"
   ]
  }
 ],
 "metadata": {
  "kernelspec": {
   "display_name": "Python 3",
   "language": "python",
   "name": "python3"
  },
  "language_info": {
   "codemirror_mode": {
    "name": "ipython",
    "version": 3
   },
   "file_extension": ".py",
   "mimetype": "text/x-python",
   "name": "python",
   "nbconvert_exporter": "python",
   "pygments_lexer": "ipython3",
   "version": "3.6.7"
  }
 },
 "nbformat": 4,
 "nbformat_minor": 2
}
