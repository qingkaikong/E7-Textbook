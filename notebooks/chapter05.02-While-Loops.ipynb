{
 "cells": [
  {
   "cell_type": "markdown",
   "metadata": {},
   "source": [
    "<!--BOOK_INFORMATION-->\n",
    "<img align=\"left\" style=\"padding-right:10px;\" src=\"images/book_cover.jpg\" width=\"120\">\n",
    "\n",
    "*This notebook contains an excerpt from the [An Introduction To Python Programming And Numerical Methods For Scientists and Engineers](); the content is available [on GitHub]().*\n",
    "\n",
    "*The text is released under the [CC-BY-NC-ND license](https://creativecommons.org/licenses/by-nc-nd/3.0/us/legalcode), and code is released under the [MIT license](https://opensource.org/licenses/MIT). If you find this content useful, please consider supporting the work by [buying the book]()!*"
   ]
  },
  {
   "cell_type": "markdown",
   "metadata": {},
   "source": [
    "<!--NAVIGATION-->\n",
    "< [5.1 For Loops](chapter05.01-For-Loops.ipynb) | [Contents](Index.ipynb) | [Chapter 5 Summary and Problems](chapter05.03-Summary-and-Problems.ipynb) >"
   ]
  },
  {
   "cell_type": "markdown",
   "metadata": {},
   "source": [
    "# While Loops"
   ]
  },
  {
   "cell_type": "markdown",
   "metadata": {},
   "source": [
    "A __while loop__ or __indefinite loop__ is a set of instructions that is repeated as long as the associated logical expression is true. The following is the abstract syntax of a while loop block."
   ]
  },
  {
   "cell_type": "markdown",
   "metadata": {},
   "source": [
    "**CONSTRUCTION:** While Loop\n",
    "\n",
    "```python\n",
    "while <logical expression>:\n",
    "    # Code block to be repeated until logical statement is false\n",
    "    code block\n",
    "```"
   ]
  },
  {
   "cell_type": "markdown",
   "metadata": {},
   "source": [
    "When Python reaches a while loop block, it first determines if the logical expression of the while loop is true or false. If the expression is true, the code block will be executed, and after it is executed, the program returns to the logical expression at the beginning of the while statement. If it is false, then the while loop will terminate."
   ]
  },
  {
   "cell_type": "markdown",
   "metadata": {},
   "source": [
    "__TRY IT!__ Determine the number of times 8 can be divided by 2 until the result is less than 1."
   ]
  },
  {
   "cell_type": "code",
   "execution_count": 1,
   "metadata": {},
   "outputs": [
    {
     "name": "stdout",
     "output_type": "stream",
     "text": [
      "n = 0.5, i = 4\n"
     ]
    }
   ],
   "source": [
    "i = 0\n",
    "n = 8\n",
    "\n",
    "while n >= 1:\n",
    "    n /= 2\n",
    "    i += 1\n",
    "    \n",
    "print(f'n = {n}, i = {i}')"
   ]
  },
  {
   "cell_type": "markdown",
   "metadata": {},
   "source": [
    "**WHAT IS HAPPENING?**\n",
    "\n",
    "1. First the variable i (running count of divisions of n by 2) is set to 0.\n",
    "2. n is set to 8 and represents the current value we are dividing by 2.\n",
    "3. The while-loop begins.\n",
    "4. Python computes n >= 1 or 8 >= 1, which is true so the code block is executed.\n",
    "5. n is assigned n/2 = 8/2 = 4.\n",
    "6. i is incremented to 1.\n",
    "7. Python computes n >= 1 or 4 >= 1, which is true so the code block is executed.\n",
    "8. n is assigned n/2 = 4/2 = 2.\n",
    "9. i is incremented to 2.\n",
    "10. Python computes n >= 1 or 2 >= 1, which is true so the code block is executed.\n",
    "11. n is assigned n/2 = 2/2 = 1.\n",
    "12. i is incremented to 3.\n",
    "13. Python computes n >= 1 or 1 >= 1, which is true so the code block is executed.\n",
    "14. n is assigned n/2 = 1/2 = 0.5.\n",
    "15. i is incremented to 4.\n",
    "16. Python computes n >= 1 or 0.5 >= 1, which is false so the while-loop ends with i = 4."
   ]
  },
  {
   "cell_type": "markdown",
   "metadata": {},
   "source": [
    "You may have asked, \"What if the logical expression is true and never changes?\" and this is indeed a very good question. If the logical expression is true, and nothing in the while-loop code changes the expression, then the result is known as an **infinite loop**. Infinite loops run forever, or until your computer breaks or runs out of memory."
   ]
  },
  {
   "cell_type": "markdown",
   "metadata": {},
   "source": [
    "**EXAMPLE:** Write a while-loop that causes an infinite loop."
   ]
  },
  {
   "cell_type": "code",
   "execution_count": null,
   "metadata": {},
   "outputs": [],
   "source": [
    "n = 0\n",
    "while n > -1:\n",
    "    n += 1"
   ]
  },
  {
   "cell_type": "markdown",
   "metadata": {},
   "source": [
    "Since *n* will always be bigger than −1 no matter how many times the loop is run, this code will never end. \n",
    "\n",
    "You can terminate the infinite while loop manually by pressing the *interrupt the kernel* - the black square button in the tool bar above, or the drop down menu - *Kernel* - *Interrupt* in the notebook. Or if you are using the Python shell, you need to press *cmd + c* on Mac or *ctr + c* on PC. \n",
    "\n",
    "Can you change a single character so that the while-loop will run at least once but will not infinite loop?\n",
    "\n",
    "Infinite loops are not always easy to spot. Consider the next two examples: one infinite loops and one does not. Can you determine which is which? As your code becomes more complicated, it will become harder to detect."
   ]
  },
  {
   "cell_type": "markdown",
   "metadata": {},
   "source": [
    "**EXAMPLE:** Which while-loop causes an infinite loop? "
   ]
  },
  {
   "cell_type": "code",
   "execution_count": null,
   "metadata": {},
   "outputs": [],
   "source": [
    "# Example 1\n",
    "n = 1\n",
    "while n > 0:\n",
    "    n /= 2"
   ]
  },
  {
   "cell_type": "code",
   "execution_count": null,
   "metadata": {},
   "outputs": [],
   "source": [
    "# Example 2\n",
    "n = 2\n",
    "while n > 0:\n",
    "    if n % 2 == 0:\n",
    "        n += 1\n",
    "    else:\n",
    "        n -= 1"
   ]
  },
  {
   "cell_type": "markdown",
   "metadata": {},
   "source": [
    "**Answer:** The first example will not infinite loop because eventually n will be so small that Python cannot tell the difference between n and 0. More on this in *Chapter 9*. The second example will infinite loop because n will oscillate between 2 and 3 indefinitely."
   ]
  },
  {
   "cell_type": "markdown",
   "metadata": {},
   "source": [
    "Now we know two types of loops: *for-loops* and *while-loops*. In some cases, either can be used equally well, but sometimes one is better suited for the task than the other. In general, we should use *for-loops* when the number of iterations to be performed is well-defined. Conversely, we should use *while-loops* statements when the number of iterations to be performed is indefinite or not well known."
   ]
  },
  {
   "cell_type": "markdown",
   "metadata": {},
   "source": [
    "<!--NAVIGATION-->\n",
    "< [5.1 For Loops](chapter05.01-For-Loops.ipynb) | [Contents](Index.ipynb) | [Chapter 5 Summary and Problems](chapter05.03-Summary-and-Problems.ipynb) >"
   ]
  }
 ],
 "metadata": {
  "kernelspec": {
   "display_name": "Python 3",
   "language": "python",
   "name": "python3"
  },
  "language_info": {
   "codemirror_mode": {
    "name": "ipython",
    "version": 3
   },
   "file_extension": ".py",
   "mimetype": "text/x-python",
   "name": "python",
   "nbconvert_exporter": "python",
   "pygments_lexer": "ipython3",
   "version": "3.6.7"
  }
 },
 "nbformat": 4,
 "nbformat_minor": 2
}
