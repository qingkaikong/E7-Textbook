{
 "cells": [
  {
   "cell_type": "markdown",
   "metadata": {
    "button": false,
    "deletable": true,
    "new_sheet": false,
    "run_control": {
     "read_only": false
    }
   },
   "source": [
    "<!--BOOK_INFORMATION-->\n",
    "<img align=\"left\" style=\"padding-right:10px;\" src=\"images/book_cover.jpg\" width=\"120\">\n",
    "\n",
    "*This notebook contains an excerpt from the [Python Programming and Numerical Methods - A Guide for Engineers and Scientists](https://www.elsevier.com/books/python-programming-and-numerical-methods/kong/978-0-12-819549-9), the content is also available at [Berkeley Python Numerical Methods](https://pythonnumericalmethods.berkeley.edu/notebooks/Index.html).*\n",
    "\n",
    "*The copyright of the book belongs to Elsevier. We also have this interactive book online for a better learning experience. The code is released under the [MIT license](https://opensource.org/licenses/MIT). If you find this content useful, please consider supporting the work on [Elsevier](https://www.elsevier.com/books/python-programming-and-numerical-methods/kong/978-0-12-819549-9) or [Amazon](https://www.amazon.com/Python-Programming-Numerical-Methods-Scientists/dp/0128195495/ref=sr_1_1?dchild=1&keywords=Python+Programming+and+Numerical+Methods+-+A+Guide+for+Engineers+and+Scientists&qid=1604761352&sr=8-1)!*"
   ]
  },
  {
   "cell_type": "markdown",
   "metadata": {
    "button": false,
    "deletable": true,
    "new_sheet": false,
    "run_control": {
     "read_only": false
    }
   },
   "source": [
    "<!--NAVIGATION-->\n",
    "< [2.7 Introducing Numpy Arrays](chapter02.07-Introducing_numpy_arrays.ipynb) | [Contents](Index.ipynb) | [3.0 Functions](chapter03.00-Functions.ipynb) >"
   ]
  },
  {
   "cell_type": "markdown",
   "metadata": {
    "button": false,
    "deletable": true,
    "new_sheet": false,
    "run_control": {
     "read_only": false
    }
   },
   "source": [
    "# Summary\n",
    "\n",
    "1. Storing, retrieving, and manipulating information and data is important in any science and engineering field. \n",
    "2. Variables are an important tool for handling data values.\n",
    "3. There are different data types for storing information in Python: int, float, boolean for single value, and strings, lists, tuples, sets, dictionaries for sequential data. \n",
    "4. Numpy array is a powerful object that used a lot in scientific computing. "
   ]
  },
  {
   "cell_type": "markdown",
   "metadata": {
    "button": false,
    "deletable": true,
    "new_sheet": false,
    "run_control": {
     "read_only": false
    }
   },
   "source": [
    "# Problems\n",
    "\n",
    "1. Assign the value 2 to the variable x and the value 3 to the variable y. Clear just the variable x. \n",
    "\n",
    "2. Write a line of code that generates the following error:\n",
    "```\n",
    "NameError: name 'x' is not defined\n",
    "```\n",
    "\n",
    "3. Let x = 10 and y = 3. Write a line of code that will make each of the following assignments.\n",
    "\n",
    "```\n",
    "u = x + y\n",
    "v = xy\n",
    "w = x/y\n",
    "z = sin(x)\n",
    "r = 8sin(x) \n",
    "s = 5sin(xy)\n",
    "p = x**y\n",
    "```\n",
    "\n",
    "4. Show all the variables in the Jupyter notebook after you finish problem 3. \n",
    "\n",
    "5. Assign string '123' to the variable S. Convert the string into a float type and assign the output to the variable N. Verify that S is a string and N is a float using the *type* function. \n",
    "\n",
    "6. Assign the string 'HELLO' to the variable s1 and the string 'hello' to the variable s2. Use the *==* operator to show that they are not equal. Use the *==* operator to show that s1 and s2 are equal if the *lower* method is used on s1. Use the **==** operator to show that s1 and s2 are equal if *upper* method is used on s2. \n",
    "\n",
    "7. Use the *print* function to generate the following strings. \n",
    "    * The world 'Engineering' has 11 letters. \n",
    "    * The word 'Book' has 4 letters.\n",
    "    \n",
    "8. Check if 'Python' is in 'Python is great!'. \n",
    "\n",
    "9. Get the last word 'great' from 'Python is great!'\n",
    "\n",
    "10. Assign list [1, 8, 9, 15] to a variable *list_a* and insert 2 at index 1 using the *insert* method. Append 4 to the *list_a* using the *append* method. \n",
    "\n",
    "11. Sort the *list_a* in problem 10 in ascending order. \n",
    "\n",
    "12. Turn 'Python is great!' to a list. \n",
    "\n",
    "13. Create one tuple with element 'One', 1 and assign it to tuple_a\n",
    "\n",
    "14. Get the 2nd element in the tuple_a in problem 13. \n",
    "\n",
    "15. Get the unique element from (2, 3, 2, 3, 1, 2, 5). \n",
    "\n",
    "16. Assign (2, 3, 2) to set_a, and (1, 2, 3) to set_b. Get the following:\n",
    "    * union of set_a and set_b\n",
    "    * intersection of set_a and set_b\n",
    "    * difference of set_a to set_b using *difference* method\n",
    "\n",
    "17. Create a dictionary that has the keys 'A', 'B', 'C' with values 'a', 'b', 'c' individually. Print all the keys in the dictionary. \n",
    "\n",
    "18. Check if key 'B' is in the dictionary defined in problem 17. \n",
    "\n",
    "19. Create array x and y, where  x = [1, 4, 3, 2, 9, 4] and y=[2, 3, 4, 1, 2, 3]. Compute the assignments from Problem 3.\n",
    "\n",
    "20. Generate an array with size 100 evenly spaced between -10 to 10 using *linspace* function in Numpy.\n",
    "\n",
    "21. Let array_a be an array [-1, 0, 1, 2, 0, 3]. Write a command that will return an array consisting of all the elements of array_a that are larger than zero. Hint: Use logical expression as the index of the array.\n",
    "\n",
    "22. Create an array $y = \\begin{pmatrix} \n",
    "3 & 5 & 3 \\\\\n",
    "2 & 2 & 5 \\\\\n",
    "3 & 8 & 9 \\\\\n",
    "\\end{pmatrix}$ and calculate the transpose of the array. \n",
    "\n",
    "23. Create a zero array with size (2, 4). \n",
    "\n",
    "24. Change the 2nd column in the above array to 1.  \n",
    "\n",
    "25. Write a cell magic to clear all the variables in the Jupyter notebook"
   ]
  },
  {
   "cell_type": "markdown",
   "metadata": {
    "button": false,
    "deletable": true,
    "new_sheet": false,
    "run_control": {
     "read_only": false
    }
   },
   "source": [
    "<!--NAVIGATION-->\n",
    "< [2.7 Introducing Numpy Arrays](chapter02.07-Introducing_numpy_arrays.ipynb) | [Contents](Index.ipynb) | [3.0 Functions](chapter03.00-Functions.ipynb) >"
   ]
  }
 ],
 "metadata": {
  "kernelspec": {
   "display_name": "Python 3",
   "language": "python",
   "name": "python3"
  },
  "language_info": {
   "codemirror_mode": {
    "name": "ipython",
    "version": 3
   },
   "file_extension": ".py",
   "mimetype": "text/x-python",
   "name": "python",
   "nbconvert_exporter": "python",
   "pygments_lexer": "ipython3",
   "version": "3.5.0"
  }
 },
 "nbformat": 4,
 "nbformat_minor": 2
}
