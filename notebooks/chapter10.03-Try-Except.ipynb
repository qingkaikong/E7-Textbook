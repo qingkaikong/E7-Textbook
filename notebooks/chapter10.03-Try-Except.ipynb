{
 "cells": [
  {
   "cell_type": "markdown",
   "metadata": {},
   "source": [
    "<!--BOOK_INFORMATION-->\n",
    "<img align=\"left\" style=\"padding-right:10px;\" src=\"images/book_cover.jpg\" width=\"120\">\n",
    "\n",
    "*This notebook contains an excerpt from the [An Introduction To Python Programming And Numerical Methods For Scientists and Engineers](); the content is available [on GitHub]().*\n",
    "\n",
    "*The text is released under the [CC-BY-NC-ND license](https://creativecommons.org/licenses/by-nc-nd/3.0/us/legalcode), and code is released under the [MIT license](https://opensource.org/licenses/MIT). If you find this content useful, please consider supporting the work by [buying the book]()!*"
   ]
  },
  {
   "cell_type": "markdown",
   "metadata": {},
   "source": [
    "<!--NAVIGATION-->\n",
    "< [10.2 Avoiding Errors](chapter10.02-Avoid-Errors.ipynb) | [Contents](Index.ipynb) | [10.4 Type Checking](chapter10.04-Type-Checking.ipynb)"
   ]
  },
  {
   "cell_type": "markdown",
   "metadata": {},
   "source": [
    "# Try/Except"
   ]
  },
  {
   "cell_type": "markdown",
   "metadata": {},
   "source": [
    "Often it is important to write programs that can handle certain types of errors or exceptions gracefully. More specifically, the error or exception must not cause a critical error that makes your program shut down. A **Try-Except statement** is a code block that allows your program to take alternative actions in case an error occurs.\n",
    "\n",
    "**CONSTRUCTION:** Try-Exception Statement\n",
    "\n",
    "```python\n",
    "\n",
    "try:\n",
    "    code block 1\n",
    "except ExceptionName:\n",
    "    code block 2\n",
    "\n",
    "```\n",
    "\n",
    "Python will first attempt to execute the code in the *try* statement (code block 1). If no exception occurs, the *except* statement is skipped and the execution of the *try* statement is finished. If any exception occurs, the rest of the clause is skipped. Then if the exception type matches the exception named after the *except* keyword (*ExceptionName*), the code in the *except* statement will be executed (code block 2). If nothing in this block stops the program, it will continue to execute the rest of the code outside of the *try-except* code blocks. If the exception does not match the *ExceptionName*, it is passed on to outer *try* statements. If no other handler is found, then the execution stops with an error message. \n",
    "\n",
    "**EXAMPLE:** Capture the exception."
   ]
  },
  {
   "cell_type": "code",
   "execution_count": 1,
   "metadata": {},
   "outputs": [
    {
     "name": "stdout",
     "output_type": "stream",
     "text": [
      "Oops! x was not a valid number. Try again...\n"
     ]
    }
   ],
   "source": [
    "x = '6'\n",
    "try:\n",
    "    if x > 3:\n",
    "        print('X is larger than 3')\n",
    "except TypeError:\n",
    "    print(\"Oops! x was not a valid number. Try again...\")"
   ]
  },
  {
   "cell_type": "markdown",
   "metadata": {},
   "source": [
    "**EXAMPLE:** If your handler is trying to capture another exception type that the *except* does not capture it, then we will end up with an error and the execution stops. "
   ]
  },
  {
   "cell_type": "code",
   "execution_count": 2,
   "metadata": {},
   "outputs": [
    {
     "ename": "TypeError",
     "evalue": "'>' not supported between instances of 'str' and 'int'",
     "output_type": "error",
     "traceback": [
      "\u001b[0;31m---------------------------------------------------------------------------\u001b[0m",
      "\u001b[0;31mTypeError\u001b[0m                                 Traceback (most recent call last)",
      "\u001b[0;32m<ipython-input-2-899d928e7a1f>\u001b[0m in \u001b[0;36m<module>\u001b[0;34m\u001b[0m\n\u001b[1;32m      1\u001b[0m \u001b[0mx\u001b[0m \u001b[0;34m=\u001b[0m \u001b[0;34m'6'\u001b[0m\u001b[0;34m\u001b[0m\u001b[0m\n\u001b[1;32m      2\u001b[0m \u001b[0;32mtry\u001b[0m\u001b[0;34m:\u001b[0m\u001b[0;34m\u001b[0m\u001b[0m\n\u001b[0;32m----> 3\u001b[0;31m     \u001b[0;32mif\u001b[0m \u001b[0mx\u001b[0m \u001b[0;34m>\u001b[0m \u001b[0;36m3\u001b[0m\u001b[0;34m:\u001b[0m\u001b[0;34m\u001b[0m\u001b[0m\n\u001b[0m\u001b[1;32m      4\u001b[0m         \u001b[0mprint\u001b[0m\u001b[0;34m(\u001b[0m\u001b[0;34m'X is larger than 3'\u001b[0m\u001b[0;34m)\u001b[0m\u001b[0;34m\u001b[0m\u001b[0m\n\u001b[1;32m      5\u001b[0m \u001b[0;32mexcept\u001b[0m \u001b[0mValueError\u001b[0m\u001b[0;34m:\u001b[0m\u001b[0;34m\u001b[0m\u001b[0m\n",
      "\u001b[0;31mTypeError\u001b[0m: '>' not supported between instances of 'str' and 'int'"
     ]
    }
   ],
   "source": [
    "x = '6'\n",
    "try:\n",
    "    if x > 3:\n",
    "        print('X is larger than 3')\n",
    "except ValueError:\n",
    "    print(\"Oops! x was not a valid number. Try again...\")"
   ]
  },
  {
   "cell_type": "markdown",
   "metadata": {},
   "source": [
    "Of course, a *try* statement may have more than one except statement to handle different exceptions or you can not specify the exception type so that the *except* will catch any  exception. "
   ]
  },
  {
   "cell_type": "code",
   "execution_count": 3,
   "metadata": {},
   "outputs": [
    {
     "name": "stdout",
     "output_type": "stream",
     "text": [
      "Something is wrong with x = s\n"
     ]
    }
   ],
   "source": [
    "x = 's'\n",
    "\n",
    "try:\n",
    "    if x > 3:\n",
    "        print(x)\n",
    "except:\n",
    "    print(f'Something is wrong with x = {x}')"
   ]
  },
  {
   "cell_type": "markdown",
   "metadata": {},
   "source": [
    "**EXAMPLE:** Handling multiple exceptions. "
   ]
  },
  {
   "cell_type": "code",
   "execution_count": 4,
   "metadata": {},
   "outputs": [],
   "source": [
    "def test_exceptions(x):\n",
    "    try:\n",
    "        x = int(x)\n",
    "        if x > 3:\n",
    "            print(x)\n",
    "    except TypeError:\n",
    "        print(\"Oops! x was not a valid number. Try again...\")\n",
    "    except ValueError:\n",
    "        print(\"Oops! Can not convert x to integer. Try again...\")\n",
    "    except:\n",
    "        print(\"Unexpected error\")"
   ]
  },
  {
   "cell_type": "code",
   "execution_count": 5,
   "metadata": {},
   "outputs": [
    {
     "name": "stdout",
     "output_type": "stream",
     "text": [
      "Oops! x was not a valid number. Try again...\n"
     ]
    }
   ],
   "source": [
    "x = [1, 2]\n",
    "test_exceptions(x)"
   ]
  },
  {
   "cell_type": "code",
   "execution_count": 6,
   "metadata": {},
   "outputs": [
    {
     "name": "stdout",
     "output_type": "stream",
     "text": [
      "Oops! Can not convert x to integer. Try again...\n"
     ]
    }
   ],
   "source": [
    "x = 's'\n",
    "test_exceptions(x)"
   ]
  },
  {
   "cell_type": "markdown",
   "metadata": {},
   "source": [
    "Another useful thing in Python is that we can raise some exception in certain cases using *raise*. For example, if we need x to be less than or equal to 5, we could use the following code to raise an exception if x is larger than 5. The program will display our exception and stops the execution. "
   ]
  },
  {
   "cell_type": "code",
   "execution_count": 7,
   "metadata": {},
   "outputs": [
    {
     "ename": "Exception",
     "evalue": "x should be less or equal to 5",
     "output_type": "error",
     "traceback": [
      "\u001b[0;31m---------------------------------------------------------------------------\u001b[0m",
      "\u001b[0;31mException\u001b[0m                                 Traceback (most recent call last)",
      "\u001b[0;32m<ipython-input-7-99b32b52c4f8>\u001b[0m in \u001b[0;36m<module>\u001b[0;34m\u001b[0m\n\u001b[1;32m      2\u001b[0m \u001b[0;34m\u001b[0m\u001b[0m\n\u001b[1;32m      3\u001b[0m \u001b[0;32mif\u001b[0m \u001b[0mx\u001b[0m \u001b[0;34m>\u001b[0m \u001b[0;36m5\u001b[0m\u001b[0;34m:\u001b[0m\u001b[0;34m\u001b[0m\u001b[0m\n\u001b[0;32m----> 4\u001b[0;31m     \u001b[0;32mraise\u001b[0m\u001b[0;34m(\u001b[0m\u001b[0mException\u001b[0m\u001b[0;34m(\u001b[0m\u001b[0;34m'x should be less or equal to 5'\u001b[0m\u001b[0;34m)\u001b[0m\u001b[0;34m)\u001b[0m\u001b[0;34m\u001b[0m\u001b[0m\n\u001b[0m",
      "\u001b[0;31mException\u001b[0m: x should be less or equal to 5"
     ]
    }
   ],
   "source": [
    "x = 10\n",
    "\n",
    "if x > 5:\n",
    "    raise(Exception('x should be less or equal to 5'))"
   ]
  },
  {
   "cell_type": "markdown",
   "metadata": {},
   "source": [
    "<!--NAVIGATION-->\n",
    "< [10.2 Avoiding Errors](chapter10.02-Avoid-Errors.ipynb) | [Contents](Index.ipynb) | [10.4 Type Checking](chapter10.04-Type-Checking.ipynb)"
   ]
  }
 ],
 "metadata": {
  "kernelspec": {
   "display_name": "Python 3",
   "language": "python",
   "name": "python3"
  },
  "language_info": {
   "codemirror_mode": {
    "name": "ipython",
    "version": 3
   },
   "file_extension": ".py",
   "mimetype": "text/x-python",
   "name": "python",
   "nbconvert_exporter": "python",
   "pygments_lexer": "ipython3",
   "version": "3.7.0"
  }
 },
 "nbformat": 4,
 "nbformat_minor": 2
}
