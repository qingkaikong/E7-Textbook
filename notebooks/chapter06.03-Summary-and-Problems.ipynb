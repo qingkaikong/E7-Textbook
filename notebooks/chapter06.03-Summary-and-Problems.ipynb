{
 "cells": [
  {
   "cell_type": "markdown",
   "metadata": {
    "button": false,
    "new_sheet": false,
    "run_control": {
     "read_only": false
    }
   },
   "source": [
    "<!--BOOK_INFORMATION-->\n",
    "<img align=\"left\" style=\"padding-right:10px;\" src=\"images/book_cover.jpg\" width=\"120\">\n",
    "\n",
    "*This notebook contains an excerpt from the [Python Programming and Numerical Methods - A Guide for Engineers and Scientists](https://www.elsevier.com/books/python-programming-and-numerical-methods/kong/978-0-12-819549-9), the content is also available at [Berkeley Python Numerical Methods](https://pythonnumericalmethods.berkeley.edu/notebooks/Index.html).*\n",
    "\n",
    "*The copyright of the book belongs to Elsevier. We also have this interactive book online for a better learning experience. The code is released under the [MIT license](https://opensource.org/licenses/MIT). If you find this content useful, please consider supporting the work on [Elsevier](https://www.elsevier.com/books/python-programming-and-numerical-methods/kong/978-0-12-819549-9) or [Amazon](https://www.amazon.com/Python-Programming-Numerical-Methods-Scientists/dp/0128195495/ref=sr_1_1?dchild=1&keywords=Python+Programming+and+Numerical+Methods+-+A+Guide+for+Engineers+and+Scientists&qid=1604761352&sr=8-1)!*"
   ]
  },
  {
   "cell_type": "markdown",
   "metadata": {
    "button": false,
    "new_sheet": false,
    "run_control": {
     "read_only": false
    }
   },
   "source": [
    "<!--NAVIGATION-->\n",
    "< [6.2 Divide and Conquer](chapter06.02-Divide-and-Conquer.ipynb) | [Contents](Index.ipynb) | [7.0 Objects and Classes](chapter07.00-Objects-and-Classes.ipynb) >"
   ]
  },
  {
   "cell_type": "markdown",
   "metadata": {
    "button": false,
    "new_sheet": false,
    "run_control": {
     "read_only": false
    }
   },
   "source": [
    "# Summary\n",
    "\n",
    "\n",
    "1. A recursive function is a function that calls itself.\n",
    "2. Recursive functions are useful when problems have a hierarchical structure rather than an iterative structure.\n",
    "3. Divide and Conquer is a powerful problem-solving strategy that can be used to solve difficult problems."
   ]
  },
  {
   "cell_type": "markdown",
   "metadata": {
    "button": false,
    "new_sheet": false,
    "run_control": {
     "read_only": false
    }
   },
   "source": [
    "# Problems\n",
    "\n",
    "1. Write a function *my_sum(lst)* where *lst* is a list, and the output is the sum of all the elements of *lst*. You can use recursion or iteration to solve the problem, but do not use Python's function *sum*. "
   ]
  },
  {
   "cell_type": "code",
   "execution_count": null,
   "metadata": {
    "button": false,
    "collapsed": true,
    "new_sheet": false,
    "run_control": {
     "read_only": false
    }
   },
   "outputs": [],
   "source": [
    "def my_sum(lst):\n",
    "    # Write your function code here\n",
    "    \n",
    "    return out"
   ]
  },
  {
   "cell_type": "code",
   "execution_count": null,
   "metadata": {
    "button": false,
    "collapsed": true,
    "new_sheet": false,
    "run_control": {
     "read_only": false
    }
   },
   "outputs": [],
   "source": [
    "# Output: 6\n",
    "my_sum([1, 2, 3])"
   ]
  },
  {
   "cell_type": "code",
   "execution_count": null,
   "metadata": {
    "button": false,
    "collapsed": true,
    "new_sheet": false,
    "run_control": {
     "read_only": false
    }
   },
   "outputs": [],
   "source": [
    "# Output: 5050\n",
    "my_sum(range(1,101))"
   ]
  },
  {
   "cell_type": "markdown",
   "metadata": {
    "button": false,
    "new_sheet": false,
    "run_control": {
     "read_only": false
    }
   },
   "source": [
    "2. Chebyshev polynomials are defined recursively. Chebyshev polynomials are separated into two kinds: first and second. Chebyshev polynomials of the first kind, $T_n(x)$, and of the second kind, $U_n(x)$, are defined by the following recurrence relations:\n",
    "\n",
    " \\begin{equation}\n",
    "T_n(x) = \\begin{cases}\n",
    "    1 & \\text{if $n=0$}\\\\\n",
    "    x & \\text{if $n=1$}\\\\\n",
    "    2xT_{n-1}(x)-T_{n-2}(x) & \\text{otherwise}\\\\\n",
    "    \\end{cases}\n",
    "\\end{equation}\n",
    "\n",
    " \\begin{equation}\n",
    "U_n(x) = \\begin{cases}\n",
    "    1 & \\text{if $n=0$}\\\\\n",
    "    2x & \\text{if $n=1$}\\\\\n",
    "    2xU_{n-1}(x)-U_{n-2}(x) & \\text{otherwise}\\\\\n",
    "    \\end{cases}\n",
    "\\end{equation}\n",
    "\n",
    " Write a function *my_chebyshev_poly1(n,x)*, where the output *y* is the n-th Chebyshev polynomial of the first kind evaluated at *x*. Be sure your function can take list inputs for *x*. You may assume that *x* is a list. The output variable, *y*, must be a list also."
   ]
  },
  {
   "cell_type": "code",
   "execution_count": null,
   "metadata": {
    "button": false,
    "collapsed": true,
    "new_sheet": false,
    "run_control": {
     "read_only": false
    }
   },
   "outputs": [],
   "source": [
    "def my_chebyshev_poly1(n,x):\n",
    "    # Write your function code here\n",
    "    \n",
    "    return y"
   ]
  },
  {
   "cell_type": "code",
   "execution_count": null,
   "metadata": {
    "button": false,
    "collapsed": true,
    "new_sheet": false,
    "run_control": {
     "read_only": false
    }
   },
   "outputs": [],
   "source": [
    "x = [1, 2, 3, 4, 5]"
   ]
  },
  {
   "cell_type": "code",
   "execution_count": null,
   "metadata": {
    "button": false,
    "collapsed": true,
    "new_sheet": false,
    "run_control": {
     "read_only": false
    }
   },
   "outputs": [],
   "source": [
    "# Output: [1, 1, 1, 1, 1]\n",
    "my_chebyshev_poly1(0,x)"
   ]
  },
  {
   "cell_type": "code",
   "execution_count": null,
   "metadata": {
    "button": false,
    "collapsed": true,
    "new_sheet": false,
    "run_control": {
     "read_only": false
    }
   },
   "outputs": [],
   "source": [
    "# Output: [1, 2, 3, 4, 5]\n",
    "my_chebyshev_poly1(1,x)"
   ]
  },
  {
   "cell_type": "code",
   "execution_count": null,
   "metadata": {
    "button": false,
    "collapsed": true,
    "new_sheet": false,
    "run_control": {
     "read_only": false
    }
   },
   "outputs": [],
   "source": [
    "# Output: [1, 26, 99, 244, 485]\n",
    "my_chebyshev_poly1(3,x)"
   ]
  },
  {
   "cell_type": "markdown",
   "metadata": {
    "button": false,
    "new_sheet": false,
    "run_control": {
     "read_only": false
    }
   },
   "source": [
    "3. The Ackermann function, *A*, is a quickly growing function that is defined by the recursive relationship:\n",
    "\n",
    " \\begin{equation}\n",
    "A(m, n) = \\begin{cases}\n",
    "    n+1 &\\text{if $m=0$}\\\\\n",
    "    A(m-1,1) &\\text{if  $m>0$ and $n=1$}\\\\\n",
    "    A(m-1,A(m,n-1)) & \\text{if  $m>0$ and $n>0$}\\\\\n",
    "    \\end{cases}\n",
    "\\end{equation}\n",
    "\n",
    " Write a function *my_ackermann(m,n)*, where the output is the Ackermann function compuated for *m* and *n*. \n",
    "    \n",
    " *my_ackermann(4,4)* is so large that it would be difficult to write down. Although the Ackermann function does not have many practical uses, the inverse Ackermann function has several uses in robotic motion planning. "
   ]
  },
  {
   "cell_type": "code",
   "execution_count": null,
   "metadata": {
    "button": false,
    "collapsed": true,
    "new_sheet": false,
    "run_control": {
     "read_only": false
    }
   },
   "outputs": [],
   "source": [
    "def my_ackermann(m,n):\n",
    "    # write your own function code here\n",
    "    return out"
   ]
  },
  {
   "cell_type": "code",
   "execution_count": null,
   "metadata": {
    "button": false,
    "collapsed": true,
    "new_sheet": false,
    "run_control": {
     "read_only": false
    }
   },
   "outputs": [],
   "source": [
    "# Output: 3\n",
    "my_ackermann(1,1)"
   ]
  },
  {
   "cell_type": "code",
   "execution_count": null,
   "metadata": {
    "button": false,
    "collapsed": true,
    "new_sheet": false,
    "run_control": {
     "read_only": false
    }
   },
   "outputs": [],
   "source": [
    "# Output: 4\n",
    "my_ackermann(1,2)"
   ]
  },
  {
   "cell_type": "code",
   "execution_count": null,
   "metadata": {
    "button": false,
    "collapsed": true,
    "new_sheet": false,
    "run_control": {
     "read_only": false
    }
   },
   "outputs": [],
   "source": [
    "# Output: 9\n",
    "my_ackermann(2,3)"
   ]
  },
  {
   "cell_type": "code",
   "execution_count": null,
   "metadata": {
    "button": false,
    "collapsed": true,
    "new_sheet": false,
    "run_control": {
     "read_only": false
    }
   },
   "outputs": [],
   "source": [
    "# Output: 61\n",
    "my_ackermann(3,3)"
   ]
  },
  {
   "cell_type": "code",
   "execution_count": null,
   "metadata": {
    "button": false,
    "collapsed": true,
    "new_sheet": false,
    "run_control": {
     "read_only": false
    }
   },
   "outputs": [],
   "source": [
    "# Output: 125\n",
    "my_ackermann(3,4)"
   ]
  },
  {
   "cell_type": "markdown",
   "metadata": {
    "button": false,
    "new_sheet": false,
    "run_control": {
     "read_only": false
    }
   },
   "source": [
    "4. A function, *C(n,k)*, which computes the number of different ways of uniquely choosing *k* objects from *n* without repetition, is commonly used in many statistics applications. For example, how many three-flavored ice cream sundaes are there if there are 10 icecream flavors? To solve this problem we would have to compute *C(10,3)*, the number of ways of choosing three unique icecream flavors from 10. The function *C* is commonly called \"*n* choose *k*.\" You may assume that *n* and *k* are integers.\n",
    "\n",
    " If *n = k*, then clearly *C(n,k) = 1* because there is only way to choose *n* objects from *n* objects. \n",
    "\n",
    " If *k = 1*, then *C(n,k) = n* because choosing each of the *n* objects is a way of choosing one object from *n*. For all other cases, *C(n,k) = C(n-1,k) + C(n-1,k-1)*. Can you see why?\n",
    "\n",
    " Write a function *my_n_choose_k(n,k)* that computes the number of times $k$ objects can be uniquely chosen from $n$ objects without repetition."
   ]
  },
  {
   "cell_type": "code",
   "execution_count": null,
   "metadata": {
    "button": false,
    "collapsed": true,
    "new_sheet": false,
    "run_control": {
     "read_only": false
    }
   },
   "outputs": [],
   "source": [
    "def my_n_choose_k(n,k):\n",
    "    # Write your own function code here\n",
    "    return out"
   ]
  },
  {
   "cell_type": "code",
   "execution_count": null,
   "metadata": {
    "button": false,
    "collapsed": true,
    "new_sheet": false,
    "run_control": {
     "read_only": false
    }
   },
   "outputs": [],
   "source": [
    "# Output: 10\n",
    "my_n_choose_k(10,1)"
   ]
  },
  {
   "cell_type": "code",
   "execution_count": null,
   "metadata": {
    "button": false,
    "collapsed": true,
    "new_sheet": false,
    "run_control": {
     "read_only": false
    }
   },
   "outputs": [],
   "source": [
    "# Output: 1\n",
    "my_n_choose_k(10,10)"
   ]
  },
  {
   "cell_type": "code",
   "execution_count": null,
   "metadata": {
    "button": false,
    "collapsed": true,
    "new_sheet": false,
    "run_control": {
     "read_only": false
    }
   },
   "outputs": [],
   "source": [
    "# Output: 120\n",
    "my_n_choose_k(10,3)"
   ]
  },
  {
   "cell_type": "markdown",
   "metadata": {
    "button": false,
    "new_sheet": false,
    "run_control": {
     "read_only": false
    }
   },
   "source": [
    "5. In purchases paid in cash, the seller must return money that was overpaid. This is commonly referred to as \"giving change.\" The bills and coins required to properly give change can be defined by a recursive relationship. If the amount paid is more than \\\\$100 more than the cost, then return a hundred-dollar bill along with the result of a recursive call to the change function with \\\\$100 subtracted from the amount paid. If the amount paid is more than \\\\$50 over the cost of the item, then return a fifty-dollar bill, along with the result of a recursive call to the change function with \\\\$50 subtracted. Similar clauses can be given for every denomination of US currency. The denominations of US currency, in dollars, is 100, 50, 20, 10, 5, 1, 0.25, 0.10, 0.05, and 0.01. For this problem we will ignore the two-dollar bill, which is not in common circulation. You may assume that *cost* and\n",
    "*paid* are scalars, and that *paid >= cost*. The output\n",
    "variable, *change*, must be a list as shown in\n",
    "the test case.\n",
    "\n",
    " Use recursion to program a function *my_change(cost, paid)* where *cost* is the cost of the item, *paid* is the amount paid, and the output *change* is a list of bills and coins that should be returned to the seller. Note: Watch out for the base case!"
   ]
  },
  {
   "cell_type": "code",
   "execution_count": null,
   "metadata": {
    "button": false,
    "collapsed": true,
    "new_sheet": false,
    "run_control": {
     "read_only": false
    }
   },
   "outputs": [],
   "source": [
    "def my_change(cost, paid):\n",
    "    # Write your own function code here\n",
    "    return change"
   ]
  },
  {
   "cell_type": "code",
   "execution_count": null,
   "metadata": {
    "button": false,
    "collapsed": true,
    "new_sheet": false,
    "run_control": {
     "read_only": false
    }
   },
   "outputs": [],
   "source": [
    "# Output: [50.0, 20.0, 1.0, 1.0, 0.25, 0.10, 0.05, 0.01, 0.01, 0.01]\n",
    "my_change(27.57, 100)"
   ]
  },
  {
   "cell_type": "markdown",
   "metadata": {
    "button": false,
    "new_sheet": false,
    "run_control": {
     "read_only": false
    }
   },
   "source": [
    "6. The golden ratio, $\\phi$, is the limit of $\\frac{F(n+1)}{F(n)}$ as *n* goes to infinity and *F(n)* is the *n*-th Fibonacci number, which can be shown to be exactly $\\frac{1 + \\sqrt{5}}{2}$ and is approximately 1.62. We say that $G(n) = \\frac{F(n+1)}{F(n)}$ is the *n*-th approximation of the golden ratio, and $G(1) = 1$.\n",
    "\n",
    " It can be shown that $\\phi$ is also the limit of the continued fraction:\n",
    " \n",
    " $$\\varphi = 1 + \\dfrac{1}{1 + \\dfrac{1}{1 + \\dfrac{1}{1 + \\ddots}}}.$$\n",
    "\n",
    " Write a recursive function with header *my_golden_ratio(n)*, where the output is the *n*-th approximation of the golden ratio according to the continued fraction recursive relationship. You should use the continued fraction approximation for the Golden ratio, not the $G(n) = F(n+1)/F(n)$ definition. However for both definitions, $G(1) = 1$.\n",
    " \n",
    " Studies have shown that rectangles with aspect ratio (i.e., length divided by width) close to the golden ratio are more pleasing than rectangles that do not. What is the aspect ratio of many wide-screen TV's and movie screens?"
   ]
  },
  {
   "cell_type": "code",
   "execution_count": null,
   "metadata": {
    "button": false,
    "collapsed": true,
    "new_sheet": false,
    "run_control": {
     "read_only": false
    }
   },
   "outputs": [],
   "source": [
    "def my_golden_ratio(n):\n",
    "    # Write your own function code here\n",
    "    return out"
   ]
  },
  {
   "cell_type": "code",
   "execution_count": null,
   "metadata": {
    "button": false,
    "collapsed": true,
    "new_sheet": false,
    "run_control": {
     "read_only": false
    }
   },
   "outputs": [],
   "source": [
    "# Output: 1.618181818181818\n",
    "my_golden_ratio(10)"
   ]
  },
  {
   "cell_type": "code",
   "execution_count": null,
   "metadata": {
    "button": false,
    "collapsed": true,
    "new_sheet": false,
    "run_control": {
     "read_only": false
    }
   },
   "outputs": [],
   "source": [
    "import numpy as np\n",
    "(1 + np.sqrt(5))/2"
   ]
  },
  {
   "cell_type": "markdown",
   "metadata": {
    "button": false,
    "new_sheet": false,
    "run_control": {
     "read_only": false
    }
   },
   "source": [
    "7. The greatest common divisor of two integers *a* and *b* is the largest integer that divides both numbers without remainder, and the function to compute it is denoted by *gcd(a,b)*. The *gcd* function can be written recursively. If *b* equals 0, then *a* is the greatest common divisor. Otherwise, *gcd(a,b) = gcd(b,a%b)* where *a%b* is the remainder of *a* divided by *b*. Assume that *a* and *b* are integers.\n",
    "\n",
    " Write a recursive function *my_gcd(a,b)* that computes the greatest common divisor of *a* and *b*. Assume that *a* and *b* are integers.\n"
   ]
  },
  {
   "cell_type": "code",
   "execution_count": null,
   "metadata": {
    "button": false,
    "collapsed": true,
    "new_sheet": false,
    "run_control": {
     "read_only": false
    }
   },
   "outputs": [],
   "source": [
    "def my_gcd(a, b):\n",
    "    # Write your own function code here\n",
    "    return gcd"
   ]
  },
  {
   "cell_type": "code",
   "execution_count": null,
   "metadata": {
    "button": false,
    "collapsed": true,
    "new_sheet": false,
    "run_control": {
     "read_only": false
    }
   },
   "outputs": [],
   "source": [
    "# Output: 2\n",
    "my_gcd(10, 4)"
   ]
  },
  {
   "cell_type": "code",
   "execution_count": null,
   "metadata": {
    "button": false,
    "collapsed": true,
    "new_sheet": false,
    "run_control": {
     "read_only": false
    }
   },
   "outputs": [],
   "source": [
    "# Output: 11\n",
    "my_gcd(33, 121)"
   ]
  },
  {
   "cell_type": "code",
   "execution_count": null,
   "metadata": {
    "button": false,
    "collapsed": true,
    "new_sheet": false,
    "run_control": {
     "read_only": false
    }
   },
   "outputs": [],
   "source": [
    "# Output: 1\n",
    "my_gcd(18, 1)"
   ]
  },
  {
   "cell_type": "markdown",
   "metadata": {
    "button": false,
    "new_sheet": false,
    "run_control": {
     "read_only": false
    }
   },
   "source": [
    "8. Pascal's triangle is an arrangement of numbers such that each row is equivalent to the coefficients of the binomial expansion of $(x + y)^{(p-1)}$, where *p* is some positive integer more than or equal to 1. For example, $(x+y)^2 = 1 x^2 + 2 xy + 1 y^2$ so the third row of Pascal's triangle is 1 2 1.\n",
    "\n",
    " Let $R_{m}$ represent the *m*-th row of Pascal's triangle, and $R_m(n)$ be the $n$-th element of the row. By definition, $R_m$ has m elements, and $R_m(1) = R_m(n) = 1$. The remaining elements are computed by the following recursive relationship: $R_m(i) = R_{m-1}(i-1) + R_{m-1}(i)$ for $i = 2,\\ldots,m-1$. The first few rows of Pascal's triangle are depicted in the following figure. You may assume that *m* is a strictly positive integer. The output variable, *row*, must be a list.\n",
    " \n",
    " <img src=\"./images/06.03.01-pascal_triangle.png\" alt=\"pascal_triangle\" width=150 title=\"Pascal's Triangle\">\n",
    " \n",
    " Write a function with *my_pascal_row(m)* where output variable *row* is the *m*-th row of the Pascal triangle. You may assume that *m* is a strictly positive integer."
   ]
  },
  {
   "cell_type": "code",
   "execution_count": null,
   "metadata": {
    "button": false,
    "collapsed": true,
    "new_sheet": false,
    "run_control": {
     "read_only": false
    }
   },
   "outputs": [],
   "source": [
    "def my_pascal_row(m):\n",
    "    # Write your own function code here\n",
    "    return row"
   ]
  },
  {
   "cell_type": "code",
   "execution_count": null,
   "metadata": {
    "button": false,
    "collapsed": true,
    "new_sheet": false,
    "run_control": {
     "read_only": false
    }
   },
   "outputs": [],
   "source": [
    "# Output: [1]\n",
    "my_pascal_row(1)"
   ]
  },
  {
   "cell_type": "code",
   "execution_count": null,
   "metadata": {
    "button": false,
    "collapsed": true,
    "new_sheet": false,
    "run_control": {
     "read_only": false
    }
   },
   "outputs": [],
   "source": [
    "# Output: [1, 1]\n",
    "my_pascal_row(2)"
   ]
  },
  {
   "cell_type": "code",
   "execution_count": null,
   "metadata": {
    "button": false,
    "collapsed": true,
    "new_sheet": false,
    "run_control": {
     "read_only": false
    }
   },
   "outputs": [],
   "source": [
    "# Output: [1, 2, 1]\n",
    "my_pascal_row(3)"
   ]
  },
  {
   "cell_type": "code",
   "execution_count": null,
   "metadata": {
    "button": false,
    "collapsed": true,
    "new_sheet": false,
    "run_control": {
     "read_only": false
    }
   },
   "outputs": [],
   "source": [
    "# Output: [1, 3, 3, 1]\n",
    "my_pascal_row(4)"
   ]
  },
  {
   "cell_type": "code",
   "execution_count": null,
   "metadata": {
    "button": false,
    "collapsed": true,
    "new_sheet": false,
    "run_control": {
     "read_only": false
    }
   },
   "outputs": [],
   "source": [
    "# Output: [1, 4, 6, 4, 1]\n",
    "my_pascal_row(5)"
   ]
  },
  {
   "cell_type": "markdown",
   "metadata": {
    "button": false,
    "new_sheet": false,
    "run_control": {
     "read_only": false
    }
   },
   "source": [
    "9. Consider a $n\\times{n}$ matrix of the following form:\n",
    "\n",
    " $$A =\n",
    "\\left[{\\begin{array}{l@{\\quad}l@{\\quad}l@{\\quad}l@{\\quad}l}\n",
    "1 & 1 & 1 & 1 & 1\\\\ \n",
    "1 & 0 & 0 & 0 & 0\\\\ \n",
    "1 & 0 & 1 & 1 & 0\\\\\n",
    "1 & 0 & 0 & 1 & 0\\\\\n",
    "1 & 1 & 1 & 1 & 0\n",
    "\\end{array}}\\right]\n",
    "$$\n",
    "\n",
    " where the ones form a right spiral. Write a function *my_spiral_ones(n)* that produces an $n\\times{n}$ matrix of the given form. Take care that the recursive steps are in the correct order (i.e., the ones go right, then down, then left, then up, then right, etc.)."
   ]
  },
  {
   "cell_type": "code",
   "execution_count": null,
   "metadata": {
    "button": false,
    "collapsed": true,
    "new_sheet": false,
    "run_control": {
     "read_only": false
    }
   },
   "outputs": [],
   "source": [
    "def my_spiral_ones(n):\n",
    "    # Write your own function code here\n",
    "    return A"
   ]
  },
  {
   "cell_type": "code",
   "execution_count": null,
   "metadata": {
    "button": false,
    "collapsed": true,
    "new_sheet": false,
    "run_control": {
     "read_only": false
    }
   },
   "outputs": [],
   "source": [
    "# Output: 1\n",
    "my_spiral_ones(1)"
   ]
  },
  {
   "cell_type": "code",
   "execution_count": null,
   "metadata": {
    "button": false,
    "collapsed": true,
    "new_sheet": false,
    "run_control": {
     "read_only": false
    }
   },
   "outputs": [],
   "source": [
    "# Output: \n",
    "# array([[1, 1],\n",
    "#       [0, 1]])\n",
    "my_spiral_ones(2)"
   ]
  },
  {
   "cell_type": "code",
   "execution_count": null,
   "metadata": {
    "button": false,
    "collapsed": true,
    "new_sheet": false,
    "run_control": {
     "read_only": false
    }
   },
   "outputs": [],
   "source": [
    "# Output:\n",
    "#array([[0, 1, 1],\n",
    "#       [0, 0, 1],\n",
    "#       [1, 1, 1]])\n",
    "my_spiral_ones(3)"
   ]
  },
  {
   "cell_type": "code",
   "execution_count": null,
   "metadata": {
    "button": false,
    "collapsed": true,
    "new_sheet": false,
    "run_control": {
     "read_only": false
    }
   },
   "outputs": [],
   "source": [
    "# Output:\n",
    "#array([[1, 0, 0, 0],\n",
    "#       [1, 0, 1, 1],\n",
    "#       [1, 0, 0, 1],\n",
    "#       [1, 1, 1, 1]])\n",
    "my_spiral_ones(4)"
   ]
  },
  {
   "cell_type": "code",
   "execution_count": null,
   "metadata": {
    "button": false,
    "collapsed": true,
    "new_sheet": false,
    "run_control": {
     "read_only": false
    }
   },
   "outputs": [],
   "source": [
    "# Output:\n",
    "#array([[1, 1, 1, 1, 1],\n",
    "#       [1, 0, 0, 0, 0],\n",
    "#       [1, 0, 1, 1, 0],\n",
    "#       [1, 0, 0, 1, 0],\n",
    "#       [1, 1, 1, 1, 0]])\n",
    "my_spiral_ones(5)"
   ]
  },
  {
   "cell_type": "markdown",
   "metadata": {
    "button": false,
    "new_sheet": false,
    "run_control": {
     "read_only": false
    }
   },
   "source": [
    "10. Rewrite *my_spiral_ones* without using recursion.\n",
    "11. Draw the recursion tree for *my_towers(4)*.\n",
    "12. Rewrite the Towers of Hanoi function in this chapter without using recursion.\n",
    "13. Draw the recursion tree for *my_quicksort([5 4 6 2 9 1 7 3])*.\n",
    "14. Rewrite the *quicksort* function in this chapter without using recursion."
   ]
  },
  {
   "cell_type": "markdown",
   "metadata": {
    "button": false,
    "new_sheet": false,
    "run_control": {
     "read_only": false
    }
   },
   "source": [
    "<!--NAVIGATION-->\n",
    "< [6.2 Divide and Conquer](chapter06.02-Divide-and-Conquer.ipynb) | [Contents](Index.ipynb) | [7.0 Objects and Classes](chapter07.00-Objects-and-Classes.ipynb) >"
   ]
  }
 ],
 "metadata": {
  "kernelspec": {
   "display_name": "Python 3",
   "language": "python",
   "name": "python3"
  },
  "language_info": {
   "codemirror_mode": {
    "name": "ipython",
    "version": 3
   },
   "file_extension": ".py",
   "mimetype": "text/x-python",
   "name": "python",
   "nbconvert_exporter": "python",
   "pygments_lexer": "ipython3",
   "version": "3.6.8"
  }
 },
 "nbformat": 4,
 "nbformat_minor": 2
}
