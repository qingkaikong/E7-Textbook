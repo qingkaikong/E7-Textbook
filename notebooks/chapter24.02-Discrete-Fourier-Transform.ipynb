{
 "cells": [
  {
   "cell_type": "markdown",
   "metadata": {
    "button": false,
    "new_sheet": false,
    "run_control": {
     "read_only": false
    }
   },
   "source": [
    "<!--BOOK_INFORMATION-->\n",
    "<img align=\"left\" style=\"padding-right:10px;\" src=\"images/book_cover.jpg\" width=\"120\">\n",
    "\n",
    "*This notebook contains an excerpt from the [Python Programming And Numerical Methods: A Guide For Engineers And Scientists](); the content is available [on GitHub]().*\n",
    "\n",
    "*The text is released under the [CC-BY-NC-ND license](https://creativecommons.org/licenses/by-nc-nd/3.0/us/legalcode), and code is released under the [MIT license](https://opensource.org/licenses/MIT). If you find this content useful, please consider supporting the work by [buying the book]()!*"
   ]
  },
  {
   "cell_type": "markdown",
   "metadata": {
    "button": false,
    "new_sheet": false,
    "run_control": {
     "read_only": false
    }
   },
   "source": [
    "<!--NAVIGATION-->\n",
    "< [24.1 The Basics of Waves](chapter24.01-The-Basics-of-waves.ipynb) | [Contents](Index.ipynb) | [24.3 Fast Fourier Transform (FFT)](chapter24.03-Fast-Fourier-Transform.ipynb) >"
   ]
  },
  {
   "cell_type": "markdown",
   "metadata": {
    "button": false,
    "new_sheet": false,
    "run_control": {
     "read_only": false
    }
   },
   "source": [
    "# Discrete Fourier Transform (DFT)"
   ]
  },
  {
   "cell_type": "markdown",
   "metadata": {
    "button": false,
    "new_sheet": false,
    "run_control": {
     "read_only": false
    }
   },
   "source": [
    "From the previous section, we learned how we can easily characterize a wave with period/frequency, amplitude, phase. But these are easy for simple periodic signal, such as sine or cosine waves. For complicated waves, it is not easy to characterize like that. For example, the following is a relatively more complicate waves, and it is hard to say what's the frequency, amplitude of the wave, right?\n",
    "\n",
    "<img src=\"images/24.02.01-waves_with_3sine.jpg\" alt=\"Complicate waves\" title=\"A more complicate wave.\" width=\"500\"/>\n",
    "\n",
    "There are more complicated cases in real world, it would be great if we have a method that we can use to analyze the characteristics of the wave. The **Fourier Transform** can be used for this purpose, which it decompose any signal into a sum of simple sine and cosine waves that we can easily measure the frequency, amplitude and phase. The Fourier transform can be applied to continuous or discrete waves, in this chapter, we will only talk about the Discrete Fourier Transform (DFT). \n",
    "\n",
    "Using the DFT, we can compose the above signal to a series of sinusoids and each of them will have a different frequency. The following 3D figure shows the idea behind the DFT, that the above signal is actually the results of the sum of 3 different sine waves. The time domain signal, which is the above signal we saw can be transformed into a figure in the frequency domain called DFT amplitude spectrum, where the signal frequencies are showing as vertical bars. The height of the bar after normalization is the amplitude of the signal in the time domain. You can see that the 3 vertical bars are corresponding the 3 frequencies of the sine wave, which are also plotted in the figure. \n",
    "\n",
    "<img src=\"images/24.02.02-time_frequency.png\" alt=\"Complicate waves\" title=\"Illustration of Fourier transform with time and frequency domain signal.\" width=\"500\"/>\n",
    "\n",
    "In this section, we will learn how to use DFT to compute and plot the DFT amplitude spectrum.  \n",
    "\n",
    "## DFT \n",
    "The DFT can transform a sequence of evenly spaced signal to the information about the frequency of all the  sine waves that needed to sum to the time domain signal. It is defined as:\n",
    "\n",
    "$$ X_k = \\sum_{n=0}^{N-1}{x_n\\cdot e^{-2\\pi{kn/N}}} = \\sum_{n=0}^{N-1}{x_n[cos(2\\pi{kn/N}) -i\\cdot sin(2\\pi{kn/N})]}$$\n",
    "\n",
    "where \n",
    "* N = number of samples\n",
    "* n = current sample\n",
    "* k = current frequency, where $ k\\in [0,N-1]$\n",
    "* $x_n$ = the sine value at sample n\n",
    "* $X_k$ = The DFT which include information of both amplitude and phase\n",
    "\n",
    "Also, the last expression in the above equation derived from the *Euler's formula*, which links the trigonometric functions to the complex exponential function: $e^{i\\cdot x} = cosx+i\\cdot sinx$\n",
    "\n",
    "Due to the nature of the transform, $X_0 = \\sum_{n=0}^{N-1}x_n$. If $N$ is an odd number, the elements $X_1, X_2, ..., X_{(N-1)/2}$ contain the positive frequency terms and the elements $X_{(N+1)/2}, ..., X_{N-1}$ contain the negative frequency terms, in order of decreasingly negative frequency. While if $N$ is even, the elements $X_1, X_2, ..., X_{N/2-1}$ contain the positive frequency terms, and the elements $X_{N/2},...,X_{N-1}$ contain the negative frequency terms, in order of decreasingly negative frequency. In the case that our input signal $x$ is a real-valued sequence, the DFT output $X_n$ for positive frequencies is the conjugate of the values $X_n$ for negative frequencies, the spectrum will be symmetric. Therefore, usually we only plot the DFT corresponding to the positive frequencies. \n",
    "\n",
    "Note that the $X_k$ is a complex number that encodes both the amplitude and phase information of a complex sinusoidal component $e^{i\\cdot 2\\pi kn/N}$ of function $x_n$. The amplitude and phase of the signal can be calculated as:\n",
    "\n",
    "$$amp = \\frac{|X_k|}{N}= \\frac{\\sqrt{Re(X_k)^2 + Im(X_k)^2}}{N}$$\n",
    "$$phase = atan2(Im(X_k), Re(X_k))$$\n",
    "\n",
    "where $Im(X_k)$ and $Re(X_k)$ are the imagery and real part of the complex number, $atan2$ is the two-argument form of the $arctan$ function. \n",
    "\n",
    "The amplitudes returned by DFT equal to the amplitudes of the signals fed into the DFT if we normalize it by the number of sample points. Note that doing this will divide the power between the positive and negative sides, if the input signal is real-valued sequence as we described above, the spectrum of the positive and negative frequencies will be symmetric, therefore, we will only look at one side of the DFT result, and instead of divide $N$, we divide $N/2$ to get the amplitude corresponding to the time domain signal.\n",
    "\n",
    "Now that we have the basic knowledge of DFT, let's see how we can use it. \n",
    "\n",
    "**TRY IT!** Generate 3 sine waves with frequencies 1 Hz, 4 Hz, and 7 Hz, amplitudes 3, 1 and 0.5, and phase all zeros. Add this 3 sine waves together with a sampling rate 100 Hz, you will see that it is the same signal we just shown at the beginning of the section. "
   ]
  },
  {
   "cell_type": "code",
   "execution_count": 1,
   "metadata": {},
   "outputs": [],
   "source": [
    "import matplotlib.pyplot as plt\n",
    "import numpy as np\n",
    "\n",
    "plt.style.use('seaborn-poster')\n",
    "%matplotlib inline"
   ]
  },
  {
   "cell_type": "code",
   "execution_count": 2,
   "metadata": {},
   "outputs": [
    {
     "data": {
      "image/png": "[encoded data removed]",
      "text/plain": [
       "<Figure size 576x432 with 1 Axes>"
      ]
     },
     "metadata": {
      "needs_background": "light"
     },
     "output_type": "display_data"
    }
   ],
   "source": [
    "# sampling rate\n",
    "sr = 100\n",
    "# sampling interval\n",
    "ts = 1.0/sr\n",
    "t = np.arange(0,1,ts)\n",
    "\n",
    "freq = 1.\n",
    "y = 3*np.sin(2*np.pi*freq*t)\n",
    "\n",
    "freq = 4\n",
    "y += np.sin(2*np.pi*freq*t)\n",
    "\n",
    "freq = 7   \n",
    "y += 0.5* np.sin(2*np.pi*freq*t)\n",
    "\n",
    "plt.figure(figsize = (8, 6))\n",
    "plt.plot(t, y, 'r')\n",
    "plt.ylabel('Amplitude')\n",
    "\n",
    "plt.show()"
   ]
  },
  {
   "cell_type": "markdown",
   "metadata": {},
   "source": [
    "**TRY IT!** Write a function *DFT(x, sr)* which takes in two arguments, _x_ - input 1 dimensional real-valued signal and *sr* - the sampling rate of the signal. The function will calculate the DFT of the signal and return only the positive frequencies with its DFT values. Apply this function to the signal we generated above and only plot the result within frequencies (0, 10). "
   ]
  },
  {
   "cell_type": "code",
   "execution_count": 3,
   "metadata": {},
   "outputs": [],
   "source": [
    "def DFT(x, sr):\n",
    "    \"\"\"\n",
    "    Function to calculate the \n",
    "    discrete Fourier Transform \n",
    "    of a 1D real-valued signal x\n",
    "    \"\"\"\n",
    "\n",
    "    N = len(x)\n",
    "    n = np.arange(N)\n",
    "    k = n.reshape((N, 1))\n",
    "    e = np.exp(-2j * np.pi * k * n / N)\n",
    "    \n",
    "    T = N/sr\n",
    "    n_oneside = N//2\n",
    "    \n",
    "    # two sides frequency range\n",
    "    freq = n/T \n",
    "    \n",
    "    # get the one side frequency\n",
    "    freq = freq[np.arange(n_oneside)] \n",
    "    \n",
    "    y = np.dot(e, x)\n",
    "    y = y[np.arange(n_oneside)]\n",
    "    \n",
    "    # normalize the amplitude\n",
    "    y /= n_oneside\n",
    "        \n",
    "    return freq, y"
   ]
  },
  {
   "cell_type": "code",
   "execution_count": 4,
   "metadata": {},
   "outputs": [
    {
     "data": {
      "text/plain": [
       "(0, 10)"
      ]
     },
     "execution_count": 4,
     "metadata": {},
     "output_type": "execute_result"
    },
    {
     "data": {
      "image/png": "[encoded data removed]",
      "text/plain": [
       "<Figure size 576x432 with 1 Axes>"
      ]
     },
     "metadata": {
      "needs_background": "light"
     },
     "output_type": "display_data"
    }
   ],
   "source": [
    "f, y_dft = DFT(y, 100)\n",
    "\n",
    "plt.figure(figsize = (8, 6))\n",
    "plt.stem(f, abs(y_dft), 'b', \\\n",
    "         markerfmt=\" \", basefmt=\"-b\")\n",
    "plt.xlabel('Freq (Hz)')\n",
    "plt.ylabel('DFT Amplitude |X(freq)|')\n",
    "plt.xlim(0, 10)"
   ]
  },
  {
   "cell_type": "markdown",
   "metadata": {},
   "source": [
    "We can see DFT results in the 3 clear amplitude at frequency 1 Hz, 4 Hz, and 7 Hz, with amplitude 3, 1, 0.5 as expected. This is how we can use the DFT to analyze an arbitrary signal by decomposing it to simple sine waves.   "
   ]
  },
  {
   "cell_type": "markdown",
   "metadata": {},
   "source": [
    "## The inverse DFT\n",
    "\n",
    "Of course, we can do the inverse transform of the DFT easily. \n",
    "\n",
    "$$ x_n = \\frac{1}{N}\\sum_{k=0}^{N-1}{X_k\\cdot e^{i\\cdot 2\\pi{kn/N}}}$$\n",
    "\n",
    "We will leave this as an exercise for you to write a function. "
   ]
  },
  {
   "cell_type": "markdown",
   "metadata": {},
   "source": [
    "## The limit of DFT\n",
    "\n",
    "The main issue with the above DFT implementation is that it is not efficient if we have a signal with many data points. It may take a long time to compute the DFT if the signal is large.\n",
    "\n",
    "**TRY IT** Write a function to generate a simple signal with different sampling rate, and see the difference of computing time by varying the sampling rate. "
   ]
  },
  {
   "cell_type": "code",
   "execution_count": 5,
   "metadata": {},
   "outputs": [],
   "source": [
    "def gen_sig(sr):\n",
    "    '''\n",
    "    function to generate\n",
    "    a simple 1D signal with\n",
    "    different sampling rate\n",
    "    '''\n",
    "    ts = 1.0/sr\n",
    "    t = np.arange(0,1,ts)\n",
    "\n",
    "    freq = 1.\n",
    "    y = 3*np.sin(2*np.pi*freq*t)\n",
    "    return y"
   ]
  },
  {
   "cell_type": "code",
   "execution_count": 6,
   "metadata": {},
   "outputs": [
    {
     "name": "stdout",
     "output_type": "stream",
     "text": [
      "118 ms ± 4.53 ms per loop (mean ± std. dev. of 7 runs, 10 loops each)\n"
     ]
    }
   ],
   "source": [
    "# sampling rate =2000\n",
    "sr = 2000\n",
    "%timeit DFT(gen_sig(sr), sr)"
   ]
  },
  {
   "cell_type": "code",
   "execution_count": 7,
   "metadata": {},
   "outputs": [
    {
     "name": "stdout",
     "output_type": "stream",
     "text": [
      "14.2 s ± 241 ms per loop (mean ± std. dev. of 7 runs, 1 loop each)\n"
     ]
    }
   ],
   "source": [
    "# sampling rate 20000\n",
    "sr = 20000\n",
    "%timeit DFT(gen_sig(sr), sr)"
   ]
  },
  {
   "cell_type": "markdown",
   "metadata": {},
   "source": [
    "We can see that, with the number of data points increasing, we can use a lot of computation time with this DFT. Luckily, the Fast Fourier Transform (FFT) was developed by Cooley and Tukey that solve this problem efficiently, which will be the topic for the next section. "
   ]
  },
  {
   "cell_type": "markdown",
   "metadata": {
    "button": false,
    "new_sheet": false,
    "run_control": {
     "read_only": false
    }
   },
   "source": [
    "<!--NAVIGATION-->\n",
    "< [24.1 The Basics of Waves](chapter24.01-The-Basics-of-waves.ipynb) | [Contents](Index.ipynb) | [24.3 Fast Fourier Transform (FFT)](chapter24.03-Fast-Fourier-Transform.ipynb) >"
   ]
  }
 ],
 "metadata": {
  "kernelspec": {
   "display_name": "Python 3",
   "language": "python",
   "name": "python3"
  },
  "language_info": {
   "codemirror_mode": {
    "name": "ipython",
    "version": 3
   },
   "file_extension": ".py",
   "mimetype": "text/x-python",
   "name": "python",
   "nbconvert_exporter": "python",
   "pygments_lexer": "ipython3",
   "version": "3.6.7"
  }
 },
 "nbformat": 4,
 "nbformat_minor": 2
}
