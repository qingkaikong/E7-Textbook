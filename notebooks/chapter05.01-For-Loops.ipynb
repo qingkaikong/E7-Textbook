{
 "cells": [
  {
   "cell_type": "raw",
   "metadata": {},
   "source": [
    "Many tasks in life are boring or tedious because they require doing the same  basic actions over and over again—iterating—in slightly different contexts. For example, consider looking up the definition of 20 words in the dictionary, populating a large table of numbers with data, alphabetizing many stacks of\n",
    "paper, or dusting off every object and shelf in your room. Since repetitive tasks appear so frequently, it is only natural that programming languages like Python would have direct methods of performing iteration.\n",
    "\n",
    "This chapter teaches you how to program iterative tasks. With branching and iteration, it is possible to program just about any task that you can imagine."
   ]
  },
  {
   "cell_type": "code",
   "execution_count": null,
   "metadata": {},
   "outputs": [],
   "source": []
  }
 ],
 "metadata": {
  "kernelspec": {
   "display_name": "Python 3",
   "language": "python",
   "name": "python3"
  },
  "language_info": {
   "codemirror_mode": {
    "name": "ipython",
    "version": 3
   },
   "file_extension": ".py",
   "mimetype": "text/x-python",
   "name": "python",
   "nbconvert_exporter": "python",
   "pygments_lexer": "ipython3",
   "version": "3.6.3"
  }
 },
 "nbformat": 4,
 "nbformat_minor": 2
}
