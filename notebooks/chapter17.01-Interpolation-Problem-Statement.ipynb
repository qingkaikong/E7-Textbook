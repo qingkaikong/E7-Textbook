{
 "cells": [
  {
   "cell_type": "markdown",
   "metadata": {},
   "source": [
    "<!--BOOK_INFORMATION-->\n",
    "<img align=\"left\" style=\"padding-right:10px;\" src=\"images/book_cover.jpg\" width=\"120\">\n",
    "\n",
    "*This notebook contains an excerpt from the [Python Programming And Numerical Methods: A Guide For Engineers And Scientists](); the content is available [on GitHub]().*\n",
    "\n",
    "*The text is released under the [CC-BY-NC-ND license](https://creativecommons.org/licenses/by-nc-nd/3.0/us/legalcode), and code is released under the [MIT license](https://opensource.org/licenses/MIT). If you find this content useful, please consider supporting the work by [buying the book]()!*"
   ]
  },
  {
   "cell_type": "markdown",
   "metadata": {},
   "source": [
    "<!--NAVIGATION-->\n",
    "< [CHAPTER 17. Interpolation](chapter17.00-Interpolation.ipynb) | [Contents](Index.ipynb) | [17.2 Linear Interpolation](chapter17.02-Linear-Interpolation.ipynb)  >"
   ]
  },
  {
   "cell_type": "markdown",
   "metadata": {},
   "source": [
    "# Interpolation Problem Statement"
   ]
  },
  {
   "cell_type": "markdown",
   "metadata": {},
   "source": [
    "Assume we have a data set consisting of independent data values, $x_i$, and dependent data values, $y_i$, where $i = 1,\\ldots, n$. We would like to find an estimation function $\\hat{y}(x)$ such that $\\hat{y}(x_i) = y_i$ for every point in our data set. This means the estimation function goes through our data points. Given a new $x{\\ast}$, we can **interpolate** its function value using $\\hat{y}(x{\\ast})$. In this context, $\\hat{y}(x)$ is called an **interpolation function**. The following figure shows the interpolation problem statement.\n",
    "\n",
    "<img src=\"./images/17.01.01-Illustration_of_Interpolation.jpg\" alt=\"Interpolation\" title=\"Illustration of the interpolation problem: estimate the value of a function in between data points.\" width=\"200\"/>\n",
    "\n",
    "Unlike regression, interpolation does not require the user to have an underlying model for the data, especially when there are many reliable data points. However, the processes that underly the data must still inform the user about the quality of the interpolation. For example, our data may consist of $(x,y)$ coordinates of a car over time. Since motion is restricted to the maneuvering physics of the car, we can expect that the points between the $(x,y)$ coordinates in our set will be \"smooth\" rather than jagged.\n",
    "\n",
    "In the following sections we derive several common interpolation methods."
   ]
  },
  {
   "cell_type": "markdown",
   "metadata": {},
   "source": [
    "<!--NAVIGATION-->\n",
    "< [CHAPTER 17. Interpolation](chapter17.00-Interpolation.ipynb) | [Contents](Index.ipynb) | [17.2 Linear Interpolation](chapter17.02-Linear-Interpolation.ipynb)  >"
   ]
  }
 ],
 "metadata": {
  "kernelspec": {
   "display_name": "Python 3",
   "language": "python",
   "name": "python3"
  },
  "language_info": {
   "codemirror_mode": {
    "name": "ipython",
    "version": 3
   },
   "file_extension": ".py",
   "mimetype": "text/x-python",
   "name": "python",
   "nbconvert_exporter": "python",
   "pygments_lexer": "ipython3",
   "version": "3.6.7"
  }
 },
 "nbformat": 4,
 "nbformat_minor": 2
}
