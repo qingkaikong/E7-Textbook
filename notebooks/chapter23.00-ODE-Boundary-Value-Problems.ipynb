{
 "cells": [
  {
   "cell_type": "markdown",
   "metadata": {
    "button": false,
    "new_sheet": false,
    "run_control": {
     "read_only": false
    }
   },
   "source": [
    "<!--BOOK_INFORMATION-->\n",
    "<img align=\"left\" style=\"padding-right:10px;\" src=\"images/book_cover.jpg\" width=\"120\">\n",
    "\n",
    "*This notebook contains an excerpt from the [Python Programming And Numerical Methods: A Guide For Engineers And Scientists](); the content is available [on GitHub]().*\n",
    "\n",
    "*The text is released under the [CC-BY-NC-ND license](https://creativecommons.org/licenses/by-nc-nd/3.0/us/legalcode), and code is released under the [MIT license](https://opensource.org/licenses/MIT). If you find this content useful, please consider supporting the work by [buying the book]()!*"
   ]
  },
  {
   "cell_type": "markdown",
   "metadata": {
    "button": false,
    "new_sheet": false,
    "run_control": {
     "read_only": false
    }
   },
   "source": [
    "<!--NAVIGATION-->\n",
    "< [22.7 Summary and Problems](chapter22.07-Summary-and-Problems.ipynb) | [Contents](Index.ipynb) | [23.1 ODE Boundary Value Problem Statement](chapter23.01-ODE-Boundary-Value-Problem-Statement.ipynb) >"
   ]
  },
  {
   "cell_type": "markdown",
   "metadata": {
    "button": false,
    "new_sheet": false,
    "run_control": {
     "read_only": false
    }
   },
   "source": [
    "# Ordinary Differential Equation - Boundary Value Problems"
   ]
  },
  {
   "cell_type": "markdown",
   "metadata": {
    "button": false,
    "new_sheet": false,
    "run_control": {
     "read_only": false
    }
   },
   "source": [
    "#### CHAPTER OUTLINE\n",
    "\n",
    "---\n",
    "\n",
    "* [**23.1 ODE Boundary Value Problem Statement**](chapter23.01-ODE-Boundary-Value-Problem-Statement.ipynb) \n",
    "* [**23.2 The Shooting Method**](chapter23.02-The-Shooting-Method.ipynb)\n",
    "* [**23.3 Finite Difference Method**](chapter23.03-Finite-Difference-Method.ipynb)\n",
    "* [**23.4 Numerical Error and Instability**](chapter23.04-Numerical-Error-and-Instability.ipynb)\n",
    "* [**23.5 Python ODE Solvers (Boundary Value)**](chapter23.05-Python-ODE-Solvers.ipynb)\n",
    "* [**23.6 Summary and Problems**](chapter23.06-Summary-and-Problems.ipynb)"
   ]
  },
  {
   "cell_type": "markdown",
   "metadata": {
    "button": false,
    "new_sheet": false,
    "run_control": {
     "read_only": false
    }
   },
   "source": [
    "--- \n",
    "\n",
    "## Motivation\n",
    "\n",
    "After the discussion of ODE initial value problems, in this chapter, we will introduce another type of problems - the boundary value problems. \n",
    "\n",
    "The boundary value problem in ODE is an ordinary differential equation together with a set of additional constraints, that is boundary conditions. There are many boundary value problems in science and engineering. Therefore, this chapter covers the basics of ordinary differential equations with specified boundary values. We will discuss two methods for solving boundary value problems, the shooting methods and finite difference methods. By the end of this chapter, you should understand what ordinary differential equation boundary value problems are, how to pose these problems to Python, and how these Python solvers work. \n",
    "\n",
    "---"
   ]
  }
 ],
 "metadata": {
  "kernelspec": {
   "display_name": "Python 3",
   "language": "python",
   "name": "python3"
  },
  "language_info": {
   "codemirror_mode": {
    "name": "ipython",
    "version": 3
   },
   "file_extension": ".py",
   "mimetype": "text/x-python",
   "name": "python",
   "nbconvert_exporter": "python",
   "pygments_lexer": "ipython3",
   "version": "3.6.7"
  }
 },
 "nbformat": 4,
 "nbformat_minor": 2
}
