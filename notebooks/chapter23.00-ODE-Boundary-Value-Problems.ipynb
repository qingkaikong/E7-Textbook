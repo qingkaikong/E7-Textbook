{
 "cells": [
  {
   "cell_type": "markdown",
   "metadata": {
    "button": false,
    "new_sheet": false,
    "run_control": {
     "read_only": false
    }
   },
   "source": [
    "<!--BOOK_INFORMATION-->\n",
    "<img align=\"left\" style=\"padding-right:10px;\" src=\"images/book_cover.jpg\" width=\"120\">\n",
    "\n",
    "*This notebook contains an excerpt from the [Python Programming and Numerical Methods - A Guide for Engineers and Scientists](https://www.elsevier.com/books/python-programming-and-numerical-methods/kong/978-0-12-819549-9), the content is also available at [Berkeley Python Numerical Methods](https://pythonnumericalmethods.berkeley.edu/notebooks/Index.html).*\n",
    "\n",
    "*The copyright of the book belongs to Elsevier. We also have this interactive book online for a better learning experience. The code is released under the [MIT license](https://opensource.org/licenses/MIT). If you find this content useful, please consider supporting the work on [Elsevier](https://www.elsevier.com/books/python-programming-and-numerical-methods/kong/978-0-12-819549-9) or [Amazon](https://www.amazon.com/Python-Programming-Numerical-Methods-Scientists/dp/0128195495/ref=sr_1_1?dchild=1&keywords=Python+Programming+and+Numerical+Methods+-+A+Guide+for+Engineers+and+Scientists&qid=1604761352&sr=8-1)!*"
   ]
  },
  {
   "cell_type": "markdown",
   "metadata": {
    "button": false,
    "new_sheet": false,
    "run_control": {
     "read_only": false
    }
   },
   "source": [
    "<!--NAVIGATION-->\n",
    "< [22.8 Summary and Problems](chapter22.08-Summary-and-Problems.ipynb) | [Contents](Index.ipynb) | [23.1 ODE Boundary Value Problem Statement](chapter23.01-ODE-Boundary-Value-Problem-Statement.ipynb) >"
   ]
  },
  {
   "cell_type": "markdown",
   "metadata": {
    "button": false,
    "new_sheet": false,
    "run_control": {
     "read_only": false
    }
   },
   "source": [
    "# Ordinary Differential Equation - Boundary Value Problems"
   ]
  },
  {
   "cell_type": "markdown",
   "metadata": {
    "button": false,
    "new_sheet": false,
    "run_control": {
     "read_only": false
    }
   },
   "source": [
    "#### CHAPTER OUTLINE\n",
    "\n",
    "---\n",
    "\n",
    "* [**23.1 ODE Boundary Value Problem Statement**](chapter23.01-ODE-Boundary-Value-Problem-Statement.ipynb) \n",
    "* [**23.2 The Shooting Method**](chapter23.02-The-Shooting-Method.ipynb)\n",
    "* [**23.3 Finite Difference Method**](chapter23.03-Finite-Difference-Method.ipynb)\n",
    "* [**23.4 Numerical Error and Instability**](chapter23.04-Numerical-Error-and-Instability.ipynb)\n",
    "* [**23.5 Summary and Problems**](chapter23.05-Summary-and-Problems.ipynb)"
   ]
  },
  {
   "cell_type": "markdown",
   "metadata": {
    "button": false,
    "new_sheet": false,
    "run_control": {
     "read_only": false
    }
   },
   "source": [
    "--- \n",
    "\n",
    "## Motivation\n",
    "\n",
    "After the discussion of ODE initial value problems, in this chapter, we will introduce another type of problems - the boundary value problems. \n",
    "\n",
    "The boundary value problem in ODE is an ordinary differential equation together with a set of additional constraints, that is boundary conditions. There are many boundary value problems in science and engineering. Therefore, this chapter covers the basics of ordinary differential equations with specified boundary values. We will discuss two methods for solving boundary value problems, the shooting methods and finite difference methods. By the end of this chapter, you should understand what ordinary differential equation boundary value problems are, how to pose these problems to Python, and how to solve the problems. \n",
    "\n",
    "---"
   ]
  }
 ],
 "metadata": {
  "kernelspec": {
   "display_name": "Python 3",
   "language": "python",
   "name": "python3"
  },
  "language_info": {
   "codemirror_mode": {
    "name": "ipython",
    "version": 3
   },
   "file_extension": ".py",
   "mimetype": "text/x-python",
   "name": "python",
   "nbconvert_exporter": "python",
   "pygments_lexer": "ipython3",
   "version": "3.6.8"
  }
 },
 "nbformat": 4,
 "nbformat_minor": 2
}
