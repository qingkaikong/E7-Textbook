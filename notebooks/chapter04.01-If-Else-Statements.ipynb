{
 "cells": [
  {
   "cell_type": "markdown",
   "metadata": {},
   "source": [
    "<!--BOOK_INFORMATION-->\n",
    "<img align=\"left\" style=\"padding-right:10px;\" src=\"images/book_cover.jpg\" width=\"120\">\n",
    "\n",
    "*This notebook contains an excerpt from the [An Introduction To Python Programming And Numerical Methods For Scientists and Engineers](); the content is available [on GitHub]().*\n",
    "\n",
    "*The text is released under the [CC-BY-NC-ND license](https://creativecommons.org/licenses/by-nc-nd/3.0/us/legalcode), and code is released under the [MIT license](https://opensource.org/licenses/MIT). If you find this content useful, please consider supporting the work by [buying the book]()!*"
   ]
  },
  {
   "cell_type": "markdown",
   "metadata": {},
   "source": [
    "<!--NAVIGATION-->\n",
    "< [CHAPTER 4. Branching Statements](chapter04.00-Branching-Statements.ipynb) | [Contents](Index.ipynb) | [4.2 Summary and Problems](chapter04.02-Summary-and-Problems.ipynb) >"
   ]
  },
  {
   "cell_type": "markdown",
   "metadata": {},
   "source": [
    "# If-Elif Statements\n",
    "\n",
    "A **branching statement**, **If-Eles Statement**, or **If-Statement** for short, is a code construct that executes blocks of code only if certain conditions are met. These conditions are represented as logical expressions. Let *P*, *Q*, and *R* be some logical expressions in Python. The following shows an if-statement construction."
   ]
  },
  {
   "cell_type": "markdown",
   "metadata": {},
   "source": [
    "**CONSTRUCTION**: Simple If-Else Statement Syntax\n",
    "\n",
    "```pseudocode\n",
    "if logical expression:\n",
    "    code block\n",
    "```"
   ]
  },
  {
   "cell_type": "markdown",
   "metadata": {},
   "source": [
    "The word \"if\" is a keyword. When Python sees an if-statement, it will determine if the associated logical expression is true. If it is true, then the code in *code block* will be executed. If it is false, then the code in the if-statement will not be executed. The way to read this is \"If logical expression is true then do code block.\"\n",
    "\n",
    "When there are several conditions to consider you can include elif-statements; if you want a condition that covers any other case, then you can use an else statement.\n",
    "\n",
    "**Note!** Python gives the same level of indentation to every line of code within a conditional statement."
   ]
  },
  {
   "cell_type": "markdown",
   "metadata": {},
   "source": [
    "**CONSTRUCTION**: Extended If-Else Statement Syntax\n",
    "\n",
    "```pseudocode\n",
    "if logical expression P:\n",
    "    code block 1\n",
    "elif logical expression Q:\n",
    "    code block 2\n",
    "elif logical expression R:\n",
    "    code block 3\n",
    "else:\n",
    "    code block 4\n",
    "   \n",
    "```"
   ]
  },
  {
   "cell_type": "markdown",
   "metadata": {},
   "source": [
    "In the previous code, Python will first check if *P* is true. If *P* is true, then code block 1 will be executed, and then the *if-statement will end*. In other words, Python will *not* check the rest of the statements once it reaches a true statement. However, if *P* is false, then Python will check if *Q* is true. If *Q* is true, then code block 2 will be executed, and the if-statement will end. If it is false, then *R* will be executed, and so forth. If *P*, *Q*, and *R* are all false, then code block 4 will be executed. You can have any number of elif statements (or none) as long as there is at least one if-statement (the first statement). You do not need an else statement, but you can have at most one else statement. The logical expressions after the if and elif (i.e., such as P, Q, and R) will be referred to as conditional statements."
   ]
  },
  {
   "cell_type": "markdown",
   "metadata": {},
   "source": [
    "**TRY IT!** Write a function *my_thermo_stat(temp, desired_temp)*. The return value of the function should be the string *'Heat'* if temp is less than desired_temp minus 5 degrees, *'AC'* if temp is more than the desired_temp plus 5, and *'off'* otherwise."
   ]
  },
  {
   "cell_type": "code",
   "execution_count": 1,
   "metadata": {},
   "outputs": [],
   "source": [
    "def my_thermo_stat(temp, desired_temp):\n",
    "    \"\"\"\n",
    "    Changes the status of the thermostat based on \n",
    "    temperature and desired temperature\n",
    "    author\n",
    "    date\n",
    "    :type temp: Int\n",
    "    :type desiredTemp: Int\n",
    "    :rtype: String\n",
    "    \"\"\"\n",
    "    if temp < desired_temp - 5:\n",
    "        status = 'Heat'\n",
    "    elif temp > desired_temp + 5:\n",
    "        status = 'AC'\n",
    "    else:\n",
    "        status = 'off'\n",
    "    return status"
   ]
  },
  {
   "cell_type": "code",
   "execution_count": 2,
   "metadata": {},
   "outputs": [
    {
     "name": "stdout",
     "output_type": "stream",
     "text": [
      "Heat\n"
     ]
    }
   ],
   "source": [
    "status = my_thermo_stat(65,75)\n",
    "print(status)"
   ]
  },
  {
   "cell_type": "code",
   "execution_count": 3,
   "metadata": {},
   "outputs": [
    {
     "name": "stdout",
     "output_type": "stream",
     "text": [
      "AC\n"
     ]
    }
   ],
   "source": [
    "status = my_thermo_stat(75,65)\n",
    "print(status)"
   ]
  },
  {
   "cell_type": "code",
   "execution_count": 4,
   "metadata": {},
   "outputs": [
    {
     "name": "stdout",
     "output_type": "stream",
     "text": [
      "off\n"
     ]
    }
   ],
   "source": [
    "status = my_thermo_stat(65,63)\n",
    "print(status)"
   ]
  },
  {
   "cell_type": "markdown",
   "metadata": {},
   "source": [
    "**EXAMPLE**: What will be the value of y after the following script is executed?"
   ]
  },
  {
   "cell_type": "code",
   "execution_count": 5,
   "metadata": {},
   "outputs": [
    {
     "name": "stdout",
     "output_type": "stream",
     "text": [
      "2\n"
     ]
    }
   ],
   "source": [
    "x = 3\n",
    "if x > 1:\n",
    "    y = 2\n",
    "elif x > 2:\n",
    "    y = 4\n",
    "else:\n",
    "    y = 0\n",
    "print(y)"
   ]
  },
  {
   "cell_type": "markdown",
   "metadata": {},
   "source": [
    "We can also insert more complicated conditional statements using logical operators."
   ]
  },
  {
   "cell_type": "markdown",
   "metadata": {},
   "source": [
    "**EXAMPLE:** What will be the value of y after the following code is executed?"
   ]
  },
  {
   "cell_type": "code",
   "execution_count": 6,
   "metadata": {},
   "outputs": [
    {
     "name": "stdout",
     "output_type": "stream",
     "text": [
      "4\n"
     ]
    }
   ],
   "source": [
    "x = 3\n",
    "if x > 1 and x < 2:\n",
    "    y = 2\n",
    "elif x > 2 and x < 4:\n",
    "    y = 4\n",
    "else:\n",
    "    y = 0\n",
    "print(y)"
   ]
  },
  {
   "cell_type": "markdown",
   "metadata": {},
   "source": [
    "Note that if you want the logical statement a < x < b, this is two conditional statements, *a < x and x < b*. In Python, you can type a < x < b as well. For example:"
   ]
  },
  {
   "cell_type": "code",
   "execution_count": 7,
   "metadata": {},
   "outputs": [
    {
     "name": "stdout",
     "output_type": "stream",
     "text": [
      "4\n"
     ]
    }
   ],
   "source": [
    "x = 3\n",
    "if 1 < x < 2:\n",
    "    y = 2\n",
    "elif 2 < x < 4:\n",
    "    y = 4\n",
    "else:\n",
    "    y = 0\n",
    "print(y)"
   ]
  },
  {
   "cell_type": "markdown",
   "metadata": {},
   "source": [
    "A statement is called **nested** if it is entirely contained within another statement of the same type as itself. For example, a **nested if-statement** is an if-statement that is entirely contained within a clause of another if-statement."
   ]
  },
  {
   "cell_type": "markdown",
   "metadata": {},
   "source": [
    "**EXAMPLE:** Think about what will happen when the following code is executed. What are all the possible outcomes based on the input values of x and y?"
   ]
  },
  {
   "cell_type": "code",
   "execution_count": 8,
   "metadata": {},
   "outputs": [],
   "source": [
    "def my_nested_branching(x,y):\n",
    "    \"\"\"\n",
    "    Nested Branching Statement Example\n",
    "    author\n",
    "    date\n",
    "    :type x: Int\n",
    "    :type y: Int\n",
    "    :rtype: Int\n",
    "    \"\"\"\n",
    "    if x > 2:\n",
    "        if y < 2:\n",
    "            out = x + y\n",
    "        else:\n",
    "            out = x - y\n",
    "    else:\n",
    "        if y > 2:\n",
    "            out = x*y\n",
    "        else:\n",
    "            out = 0\n",
    "    return out"
   ]
  },
  {
   "cell_type": "markdown",
   "metadata": {},
   "source": [
    "**Note!** As before, Python gives the same level of indentation to every line of code within a conditional statement. The nested if-statement have deeper indentation by increasing four white spaces. You will get an **IndentationError** if the indentation is not correct, as we saw in the defining of the functions. "
   ]
  },
  {
   "cell_type": "code",
   "execution_count": 9,
   "metadata": {},
   "outputs": [],
   "source": [
    "import numpy as np"
   ]
  },
  {
   "cell_type": "code",
   "execution_count": 10,
   "metadata": {},
   "outputs": [
    {
     "data": {
      "text/plain": [
       "False"
      ]
     },
     "execution_count": 10,
     "metadata": {},
     "output_type": "execute_result"
    }
   ],
   "source": [
    "all([1, 1, 0])"
   ]
  },
  {
   "cell_type": "markdown",
   "metadata": {},
   "source": [
    "There are many logical functions that are designed to help you build branching statements. For example, you can ask if a variable has a certain data type with function *isinstance*. There are also functions that can tell you information about arrays of logicals like *any*, which computes to true if any element in an array is true, and false otherwise, and *all*, which computes to true only if all the elements in an array are true.\n",
    "\n",
    "Sometimes you may want to design your function to check the inputs of a function to ensure that your function will be used properly. For example, the function *my_adder* in the previous chapter expects doubles as input. If the user inputs a *list* or a *string* as one of the input variables, then the function will throw an error or have unexpected results. To prevent this, you can put a check to tell the user the function has not been used properly. This and other techniques for controlling errors are explored further in Chapter XXX. For the moment, you only need to know that we could use the *raise* function with a *TypeError* exception to stop a function's execution and throw an error with a specific text. "
   ]
  },
  {
   "cell_type": "markdown",
   "metadata": {},
   "source": [
    "**EXAMPLE**: Modify *my_adder* to throw out a warning if the user does not input numerical values. Try your function for non-numerical inputs to show that the check works. When a statement is too long, we can use '\\\\' symbol to break a line to multiple lines. "
   ]
  },
  {
   "cell_type": "code",
   "execution_count": 11,
   "metadata": {},
   "outputs": [],
   "source": [
    "def my_adder(a, b, c):\n",
    "    \"\"\"\n",
    "    Calculate the sum of three numbers\n",
    "    author\n",
    "    date\n",
    "    \"\"\"\n",
    "    \n",
    "    # Check for erroneous input\n",
    "    if not (isinstance(a, (int, float)) \\\n",
    "            or isinstance(b, (int, float)) \\\n",
    "            or isinstance(c, (int, float))):\n",
    "        raise TypeError('Inputs must be numbers.')\n",
    "    # Return output\n",
    "    return a + b + c"
   ]
  },
  {
   "cell_type": "code",
   "execution_count": 12,
   "metadata": {},
   "outputs": [
    {
     "name": "stdout",
     "output_type": "stream",
     "text": [
      "6\n"
     ]
    }
   ],
   "source": [
    "x = my_adder(1,2,3)\n",
    "print(x)"
   ]
  },
  {
   "cell_type": "code",
   "execution_count": 13,
   "metadata": {},
   "outputs": [
    {
     "ename": "TypeError",
     "evalue": "Inputs must be numbers.",
     "output_type": "error",
     "traceback": [
      "\u001b[0;31m---------------------------------------------------------------------------\u001b[0m",
      "\u001b[0;31mTypeError\u001b[0m                                 Traceback (most recent call last)",
      "\u001b[0;32m<ipython-input-13-c3e353c636b0>\u001b[0m in \u001b[0;36m<module>\u001b[0;34m\u001b[0m\n\u001b[0;32m----> 1\u001b[0;31m \u001b[0mx\u001b[0m \u001b[0;34m=\u001b[0m \u001b[0mmy_adder\u001b[0m\u001b[0;34m(\u001b[0m\u001b[0;34m'1'\u001b[0m\u001b[0;34m,\u001b[0m\u001b[0;34m'2'\u001b[0m\u001b[0;34m,\u001b[0m\u001b[0;34m'3'\u001b[0m\u001b[0;34m)\u001b[0m\u001b[0;34m\u001b[0m\u001b[0;34m\u001b[0m\u001b[0m\n\u001b[0m\u001b[1;32m      2\u001b[0m \u001b[0mprint\u001b[0m\u001b[0;34m(\u001b[0m\u001b[0mx\u001b[0m\u001b[0;34m)\u001b[0m\u001b[0;34m\u001b[0m\u001b[0;34m\u001b[0m\u001b[0m\n",
      "\u001b[0;32m<ipython-input-11-0f3d29eecee0>\u001b[0m in \u001b[0;36mmy_adder\u001b[0;34m(a, b, c)\u001b[0m\n\u001b[1;32m     10\u001b[0m             \u001b[0;32mor\u001b[0m \u001b[0misinstance\u001b[0m\u001b[0;34m(\u001b[0m\u001b[0mb\u001b[0m\u001b[0;34m,\u001b[0m \u001b[0;34m(\u001b[0m\u001b[0mint\u001b[0m\u001b[0;34m,\u001b[0m \u001b[0mfloat\u001b[0m\u001b[0;34m)\u001b[0m\u001b[0;34m)\u001b[0m\u001b[0;31m \u001b[0m\u001b[0;31m\\\u001b[0m\u001b[0;34m\u001b[0m\u001b[0;34m\u001b[0m\u001b[0m\n\u001b[1;32m     11\u001b[0m             or isinstance(c, (int, float))):\n\u001b[0;32m---> 12\u001b[0;31m         \u001b[0;32mraise\u001b[0m \u001b[0mTypeError\u001b[0m\u001b[0;34m(\u001b[0m\u001b[0;34m'Inputs must be numbers.'\u001b[0m\u001b[0;34m)\u001b[0m\u001b[0;34m\u001b[0m\u001b[0;34m\u001b[0m\u001b[0m\n\u001b[0m\u001b[1;32m     13\u001b[0m     \u001b[0;31m# Return output\u001b[0m\u001b[0;34m\u001b[0m\u001b[0;34m\u001b[0m\u001b[0;34m\u001b[0m\u001b[0m\n\u001b[1;32m     14\u001b[0m     \u001b[0;32mreturn\u001b[0m \u001b[0ma\u001b[0m \u001b[0;34m+\u001b[0m \u001b[0mb\u001b[0m \u001b[0;34m+\u001b[0m \u001b[0mc\u001b[0m\u001b[0;34m\u001b[0m\u001b[0;34m\u001b[0m\u001b[0m\n",
      "\u001b[0;31mTypeError\u001b[0m: Inputs must be numbers."
     ]
    }
   ],
   "source": [
    "x = my_adder('1','2','3')\n",
    "print(x)"
   ]
  },
  {
   "cell_type": "markdown",
   "metadata": {},
   "source": [
    "There is a large variety of erroneous inputs that your function may encounter from users, and it is unreasonable to expect that your function will catch them all. Therefore, unless otherwise stated, write your functions assuming the functions will be used properly.\n",
    "\n",
    "The remainder of the section gives a few more examples of branching statements."
   ]
  },
  {
   "cell_type": "markdown",
   "metadata": {},
   "source": [
    "**TRY IT!** Write a function called is_odd that returns 'odd' if the input is odd and 'even' if it is even. You can assume that input will be a positive integer."
   ]
  },
  {
   "cell_type": "code",
   "execution_count": 14,
   "metadata": {},
   "outputs": [],
   "source": [
    "def is_odd(number):\n",
    "    \"\"\"\n",
    "    function returns 'odd' if the input is odd, \n",
    "       'even' otherwise\n",
    "    author\n",
    "    date\n",
    "    :type number: Int\n",
    "    :rtype: String\n",
    "    \"\"\"\n",
    "    # use modulo to check if the input is divisible by 2\n",
    "    if number % 2 == 0:\n",
    "        # if it is divisible by 2, then input is not odd\n",
    "        return 'even'\n",
    "    else:\n",
    "        return 'odd'"
   ]
  },
  {
   "cell_type": "code",
   "execution_count": 15,
   "metadata": {},
   "outputs": [
    {
     "data": {
      "text/plain": [
       "'odd'"
      ]
     },
     "execution_count": 15,
     "metadata": {},
     "output_type": "execute_result"
    }
   ],
   "source": [
    "is_odd(11)"
   ]
  },
  {
   "cell_type": "code",
   "execution_count": 16,
   "metadata": {},
   "outputs": [
    {
     "data": {
      "text/plain": [
       "'even'"
      ]
     },
     "execution_count": 16,
     "metadata": {},
     "output_type": "execute_result"
    }
   ],
   "source": [
    "is_odd(2)"
   ]
  },
  {
   "cell_type": "markdown",
   "metadata": {},
   "source": [
    "**TRY IT!** Write a function called *my_circ_calc* that takes a numerical number, *r*, and a string, *calc* as input arguments. You may assume that r is positive, and that *calc* is either the string 'area' or 'circumference'. The function *my_circ_calc* should compute the area of a circle with radius, *r*, if the string *calc* is 'area', and the circumference of a circle with radius, *r*, if *calc* is 'circumference'."
   ]
  },
  {
   "cell_type": "code",
   "execution_count": 17,
   "metadata": {},
   "outputs": [
    {
     "data": {
      "text/plain": [
       "3.141592653589793"
      ]
     },
     "execution_count": 17,
     "metadata": {},
     "output_type": "execute_result"
    }
   ],
   "source": [
    "np.pi"
   ]
  },
  {
   "cell_type": "code",
   "execution_count": 18,
   "metadata": {},
   "outputs": [],
   "source": [
    "def my_circ_calc(r, calc):\n",
    "    \"\"\"\n",
    "    Calculate various circle measurements\n",
    "    author\n",
    "    date\n",
    "    :type r: Int or Float\n",
    "    :type calc: String\n",
    "    :rtype: Int or Float\n",
    "    \"\"\"\n",
    "    if calc == 'area':\n",
    "        return np.pi*r**2\n",
    "    elif calc == 'circumference':\n",
    "        return 2*np.pi*r"
   ]
  },
  {
   "cell_type": "code",
   "execution_count": 19,
   "metadata": {},
   "outputs": [
    {
     "data": {
      "text/plain": [
       "19.634954084936208"
      ]
     },
     "execution_count": 19,
     "metadata": {},
     "output_type": "execute_result"
    }
   ],
   "source": [
    "my_circ_calc(2.5, 'area')"
   ]
  },
  {
   "cell_type": "code",
   "execution_count": 20,
   "metadata": {},
   "outputs": [
    {
     "data": {
      "text/plain": [
       "18.84955592153876"
      ]
     },
     "execution_count": 20,
     "metadata": {},
     "output_type": "execute_result"
    }
   ],
   "source": [
    "my_circ_calc(3, 'circumference')"
   ]
  },
  {
   "cell_type": "markdown",
   "metadata": {},
   "source": [
    "**Note!** The function we write not only working on single value, but on Numpy arrays as well (that is the same operation will apply on each item of the array). See the following example, that we could calculate the circumferences for radius as [2, 3, 4] using a Numpy array. "
   ]
  },
  {
   "cell_type": "code",
   "execution_count": 21,
   "metadata": {},
   "outputs": [
    {
     "data": {
      "text/plain": [
       "array([12.56637061, 18.84955592, 25.13274123])"
      ]
     },
     "execution_count": 21,
     "metadata": {},
     "output_type": "execute_result"
    }
   ],
   "source": [
    "my_circ_calc(np.array([2, 3, 4]), 'circumference')"
   ]
  },
  {
   "cell_type": "markdown",
   "metadata": {},
   "source": [
    "<!--NAVIGATION-->\n",
    "< [CHAPTER 4. Branching Statements](chapter04.00-Branching-Statements.ipynb) | [Contents](Index.ipynb) | [4.2 Summary and Problems](chapter04.02-Summary-and-Problems.ipynb) >"
   ]
  }
 ],
 "metadata": {
  "kernelspec": {
   "display_name": "Python 3",
   "language": "python",
   "name": "python3"
  },
  "language_info": {
   "codemirror_mode": {
    "name": "ipython",
    "version": 3
   },
   "file_extension": ".py",
   "mimetype": "text/x-python",
   "name": "python",
   "nbconvert_exporter": "python",
   "pygments_lexer": "ipython3",
   "version": "3.6.7"
  }
 },
 "nbformat": 4,
 "nbformat_minor": 2
}
