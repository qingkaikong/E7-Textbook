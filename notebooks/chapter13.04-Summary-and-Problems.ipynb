{
 "cells": [
  {
   "cell_type": "markdown",
   "metadata": {
    "button": false,
    "new_sheet": false,
    "run_control": {
     "read_only": false
    }
   },
   "source": [
    "<!--BOOK_INFORMATION-->\n",
    "<img align=\"left\" style=\"padding-right:10px;\" src=\"images/book_cover.jpg\" width=\"120\">\n",
    "\n",
    "*This notebook contains an excerpt from the [Python Programming and Numerical Methods - A Guide for Engineers and Scientists](https://www.elsevier.com/books/python-programming-and-numerical-methods/kong/978-0-12-819549-9), the content is also available at [Berkeley Python Numerical Methods](https://pythonnumericalmethods.berkeley.edu/notebooks/Index.html).*\n",
    "\n",
    "*The copyright of the book belongs to Elsevier. We also have this interactive book online for a better learning experience. The code is released under the [MIT license](https://opensource.org/licenses/MIT). If you find this content useful, please consider supporting the work on [Elsevier](https://www.elsevier.com/books/python-programming-and-numerical-methods/kong/978-0-12-819549-9) or [Amazon](https://www.amazon.com/Python-Programming-Numerical-Methods-Scientists/dp/0128195495/ref=sr_1_1?dchild=1&keywords=Python+Programming+and+Numerical+Methods+-+A+Guide+for+Engineers+and+Scientists&qid=1604761352&sr=8-1)!*"
   ]
  },
  {
   "cell_type": "markdown",
   "metadata": {
    "button": false,
    "new_sheet": false,
    "run_control": {
     "read_only": false
    }
   },
   "source": [
    "<!--NAVIGATION-->\n",
    "< [13.3 Use joblib](chapter13.03-Use-joblib.ipynb) | [Contents](Index.ipynb) | [CHAPTER 14.  Linear Algebra and Systems of Linear Equations](chapter14.00-Linear-Algebra-and-Systems-of-Linear-Equations.ipynb) >"
   ]
  },
  {
   "cell_type": "markdown",
   "metadata": {
    "button": false,
    "new_sheet": false,
    "run_control": {
     "read_only": false
    }
   },
   "source": [
    "# Summary\n",
    "\n",
    "\n",
    "1. Parallel computing can reduce our execution time by using multiple cores in our computer. \n",
    "2. There is a difference between process and thread, and it is easier to use process-based approach in Python to achieve parallelism. \n",
    "3. Multiprocessing package is easy to use to solve your problems on multiple cores.\n",
    "4. We can also use joblib to simplify our parallel computing code for many common tasks. "
   ]
  },
  {
   "cell_type": "markdown",
   "metadata": {
    "button": false,
    "new_sheet": false,
    "run_control": {
     "read_only": false
    }
   },
   "source": [
    "# Problems\n",
    "\n",
    "1. What's parallel computing?\n",
    "2. Please specify the difference between process and thread. \n",
    "3. Find out the number of your processors on your computer using the multiprocessing package. \n",
    "4. Use multiprocessing package to parallel the following code, and record the running time. Hint: You may need to check out the `pool.apply` function. \n",
    "\n",
    "```python\n",
    "def plus_cube(x, y):\n",
    "    return (x+y)**3\n",
    "\n",
    "for x, y in zip(range(100), range(100)):\n",
    "    results.append(plus_cube(x, y))\n",
    "```\n",
    "5. Can you provide an example to illustrate the difference of `pool.map` and `pool.map_async`? \n",
    "6. What is Python's GIL?\n",
    "7. Use joblib to parallel the above example, and use the multiprocessing as the backend. "
   ]
  },
  {
   "cell_type": "markdown",
   "metadata": {
    "button": false,
    "new_sheet": false,
    "run_control": {
     "read_only": false
    }
   },
   "source": [
    "<!--NAVIGATION-->\n",
    "< [13.3 Use joblib](chapter13.03-Use-joblib.ipynb) | [Contents](Index.ipynb) | [CHAPTER 14.  Linear Algebra and Systems of Linear Equations](chapter14.00-Linear-Algebra-and-Systems-of-Linear-Equations.ipynb) >"
   ]
  }
 ],
 "metadata": {
  "kernelspec": {
   "display_name": "Python 3",
   "language": "python",
   "name": "python3"
  },
  "language_info": {
   "codemirror_mode": {
    "name": "ipython",
    "version": 3
   },
   "file_extension": ".py",
   "mimetype": "text/x-python",
   "name": "python",
   "nbconvert_exporter": "python",
   "pygments_lexer": "ipython3",
   "version": "3.6.8"
  }
 },
 "nbformat": 4,
 "nbformat_minor": 2
}
