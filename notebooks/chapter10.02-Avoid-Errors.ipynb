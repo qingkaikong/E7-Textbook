{
 "cells": [
  {
   "cell_type": "markdown",
   "metadata": {},
   "source": [
    "<!--BOOK_INFORMATION-->\n",
    "<img align=\"left\" style=\"padding-right:10px;\" src=\"images/book_cover.jpg\" width=\"120\">\n",
    "\n",
    "*This notebook contains an excerpt from the [An Introduction To Python Programming And Numerical Methods For Scientists and Engineers](); the content is available [on GitHub]().*\n",
    "\n",
    "*The text is released under the [CC-BY-NC-ND license](https://creativecommons.org/licenses/by-nc-nd/3.0/us/legalcode), and code is released under the [MIT license](https://opensource.org/licenses/MIT). If you find this content useful, please consider supporting the work by [buying the book]()!*"
   ]
  },
  {
   "cell_type": "markdown",
   "metadata": {},
   "source": [
    "<!--NAVIGATION-->\n",
    "< [10.1 Error Types](chapter10.01-Error-Types.ipynb) | [Contents](Index.ipynb) | [10.3 Try/Except](chapter10.03-Try-Except.ipynb)"
   ]
  },
  {
   "cell_type": "markdown",
   "metadata": {},
   "source": [
    "# Avoid Errors"
   ]
  },
  {
   "cell_type": "markdown",
   "metadata": {},
   "source": [
    "There are many techniques that can help prevent errors and make it easier for you to find them when they occur. Becoming familiar with the types of mistakes common in programming is a \"learning as you go\" process; therefore, we could not possibly list them all here. However, we present a few of them in the following section to help get you started building good habits."
   ]
  },
  {
   "cell_type": "markdown",
   "metadata": {},
   "source": [
    "## Plan your program\n",
    "\n",
    "When writing an essay, it is important to have a structure and a direction that you intend to follow. To help make your structure more tangible, writing an essay usually starts with an outline containing the main points you wish to address in your paper. This is even more important to do when programming, because computers are more strict than humans when interpreting what you write. Therefore, for complicated programs you should start with an outline of your program that addresses all the tasks you want your program to perform and in the order in which it should perform them.\n",
    "\n",
    "Many novice programmers, eager to finish their assignments, will attempt to rush to the programming part without properly planning out the tasks that are needed to accomplish the given task. Haphazard planning results in equally haphazard code that is full of errors. Time spent planning out what you are trying to do will be well spent, and you will surely finish faster than had you thrown together a program.\n",
    "\n",
    "So what does planning a program consist of? Recall in Chapter 3 that a function is defined as a sequence of instructions designed to perform a certain task. A **module** is a function or group of functions that perform a certain task. It is important to design your program in terms of modules, especially for tasks that need to be repeated over and over again. Each module should accomplish a small, well-defined task and know as little information about other functions as possible (i.e., have a very limited set of inputs and outputs).\n",
    "\n",
    "A good rule of thumb is to plan from the top to bottom and then program from the bottom to the top. That is, decide what the overall program is supposed to do, then determine what the main tasks are to complete the program, and then break the main tasks into components until the module is small enough that you are confident you can write it without errors."
   ]
  },
  {
   "cell_type": "markdown",
   "metadata": {},
   "source": [
    "## Test everything often\n",
    "\n",
    "Along the lines of coding in modules, you should test each module for test cases for which you know the answer and enough cases to be confident that the function is working properly (including corner cases). For example, if you are writing a function that tells you whether a number is prime or not, you should test the function for inputs of 0 (corner case), 1 (corner case), 2 (simple yes), 4 (simple no), and 97 (complicated no). If it passes all the test cases, you can move on to other modules, confident that the current module works correctly. This is especially important if subsequent modules depend on or call the module you are working on. If you assume incorrect code is correct because you did not test it, when you get an error in later modules, you will not know whether the error is in the module you are working on or in a previous module, and this will make finding the error more difficult.\n",
    "\n",
    "You should also test often, even within a single module or function. When you are working on a particular module that has several steps, you should do intermediate tests to make sure it is correct up to the point you have completed. Then if you ever get an error, it will probably be in the part of your code written since the last time you did test it. Even many seasoned programmers are guilty of writing pages and pages of code without testing and then having to spend hours finding a small error somewhere."
   ]
  },
  {
   "cell_type": "markdown",
   "metadata": {},
   "source": [
    "## Keep your code clean\n",
    "\n",
    "Just like good craftsmen keep their work area as clean as possible, free of unnecessary clutter, so should you keep your code as clean as possible. There are many things you can do to keep your code clean. First, you should write your code in the fewest instructions possible. For example,\n",
    "```python\n",
    "y = x**2 + 2*x+1\n",
    "```\n",
    "\n",
    "is better than \n",
    "\n",
    "```python\n",
    "y=x**2\n",
    "y=y+2*x\n",
    "y=y+1\n",
    "``` \n",
    "Even if the outcome is the same, every character you type is a chance that you will make a mistake; therefore, reducing how much you write down reduces your risk. Additionally, writing a complete expression will help you and other people understand what you are doing. In the previous example, in the first case it is clear that you are computing the value of a quadratic at x, while in the second case it is not clear.\n",
    "You can also keep your code clean by using variables rather than values."
   ]
  },
  {
   "cell_type": "markdown",
   "metadata": {},
   "source": [
    "**EXAMPLE:** Poor implementation of adding 10 random numbers. "
   ]
  },
  {
   "cell_type": "code",
   "execution_count": 1,
   "metadata": {},
   "outputs": [],
   "source": [
    "import numpy as np\n",
    "\n",
    "s = 0\n",
    "a = np.random.rand(10)\n",
    "for i in range(10):\n",
    "    s = s + a[i]"
   ]
  },
  {
   "cell_type": "markdown",
   "metadata": {},
   "source": [
    "**EXAMPLE:** Good implementation of adding 10 random numbers. "
   ]
  },
  {
   "cell_type": "code",
   "execution_count": 2,
   "metadata": {},
   "outputs": [],
   "source": [
    "n = 10\n",
    "s = 0\n",
    "a = np.random.rand(n)\n",
    "\n",
    "for i in range(n):\n",
    "    s = s + a[i]"
   ]
  },
  {
   "cell_type": "markdown",
   "metadata": {},
   "source": [
    "The second implementation is better for two reasons: first, it is easier for anyone reading your code that *n* represents the number of random numbers you want to add up, and it appears rationally where it is supposed to in the code (i.e., when creating the array of random numbers and when indexing the array in the for-loop); second, if you ever wanted to change the number of random numbers to add up, you would only have to change it in one place at the beginning. This reduces the chances of making mistakes while writing the code and when changing the value of *n*.\n",
    "\n",
    "Again, this is not critical for such a small piece of code. However, it will become very important when your code becomes more complicated and values must be reused many times."
   ]
  },
  {
   "cell_type": "markdown",
   "metadata": {},
   "source": [
    "**EXAMPLE:** An even better implementation of adding 10 random numbers. "
   ]
  },
  {
   "cell_type": "code",
   "execution_count": 3,
   "metadata": {},
   "outputs": [],
   "source": [
    "s = sum(np.random.rand(10))"
   ]
  },
  {
   "cell_type": "markdown",
   "metadata": {},
   "source": [
    "When you become more familiar with Python, you will want to use as fewer lines as possible to do the same job, therefore, a familiarity of the common functions and how to use them will make your code more concise and efficient. "
   ]
  },
  {
   "cell_type": "markdown",
   "metadata": {},
   "source": [
    "You can also keep your code clean by giving your variables short, descriptive names. For example, *n* is a sufficient variable for such a simple task as given earlier. The variable name *x* is probably a good name since *x* usually holds value of position, rather than a number. Likewise, *theNumberOfRandomNumbersToBeAdded* is also a poor variable name even though it is descriptive.\n",
    "\n",
    "Finally, you can keep your code clean by commenting frequently. Although no commenting is certainly bad practice, over-commenting can be just as bad practice. However, different programmers will disagree on exactly how much commenting is appropriate. It will be up to you to decide what level of commenting is appropriate."
   ]
  },
  {
   "cell_type": "markdown",
   "metadata": {},
   "source": [
    "<!--NAVIGATION-->\n",
    "< [10.1 Error Types](chapter10.01-Error-Types.ipynb) | [Contents](Index.ipynb) | [10.3 Try/Except](chapter10.03-Try-Except.ipynb)"
   ]
  }
 ],
 "metadata": {
  "kernelspec": {
   "display_name": "Python 3",
   "language": "python",
   "name": "python3"
  },
  "language_info": {
   "codemirror_mode": {
    "name": "ipython",
    "version": 3
   },
   "file_extension": ".py",
   "mimetype": "text/x-python",
   "name": "python",
   "nbconvert_exporter": "python",
   "pygments_lexer": "ipython3",
   "version": "3.7.0"
  }
 },
 "nbformat": 4,
 "nbformat_minor": 2
}
