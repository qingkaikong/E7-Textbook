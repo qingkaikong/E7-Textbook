{
 "cells": [
  {
   "cell_type": "markdown",
   "metadata": {
    "button": false,
    "new_sheet": false,
    "run_control": {
     "read_only": false
    }
   },
   "source": [
    "<!--BOOK_INFORMATION-->\n",
    "<img align=\"left\" style=\"padding-right:10px;\" src=\"images/book_cover.jpg\" width=\"120\">\n",
    "\n",
    "*This notebook contains an excerpt from the [Python Programming and Numerical Methods - A Guide for Engineers and Scientists](https://www.elsevier.com/books/python-programming-and-numerical-methods/kong/978-0-12-819549-9), the content is also available at [Berkeley Python Numerical Methods](https://pythonnumericalmethods.berkeley.edu/notebooks/Index.html).*\n",
    "\n",
    "*The copyright of the book belongs to Elsevier. We also have this interactive book online for a better learning experience. The code is released under the [MIT license](https://opensource.org/licenses/MIT). If you find this content useful, please consider supporting the work on [Elsevier](https://www.elsevier.com/books/python-programming-and-numerical-methods/kong/978-0-12-819549-9) or [Amazon](https://www.amazon.com/Python-Programming-Numerical-Methods-Scientists/dp/0128195495/ref=sr_1_1?dchild=1&keywords=Python+Programming+and+Numerical+Methods+-+A+Guide+for+Engineers+and+Scientists&qid=1604761352&sr=8-1)!*"
   ]
  },
  {
   "cell_type": "markdown",
   "metadata": {
    "button": false,
    "new_sheet": false,
    "run_control": {
     "read_only": false
    }
   },
   "source": [
    "<!--NAVIGATION-->\n",
    "< [21.3 Trapezoid Rule](chapter21.03-Trapezoid-Rule.ipynb) | [Contents](Index.ipynb) | [21.5 Computing Integrals in Python](chapter21.05-Computing-Integrals-in-Python.ipynb) >"
   ]
  },
  {
   "cell_type": "markdown",
   "metadata": {
    "button": false,
    "new_sheet": false,
    "run_control": {
     "read_only": false
    }
   },
   "source": [
    "# Simpson's Rule"
   ]
  },
  {
   "cell_type": "markdown",
   "metadata": {
    "button": false,
    "new_sheet": false,
    "run_control": {
     "read_only": false
    }
   },
   "source": [
    "Consider *two* consecutive subintervals, $[x_{i-1}, x_i]$ and $[x_i, x_{i+1}]$. **Simpson's Rule** approximates the area under $f(x)$ over these two subintervals by fitting a quadratic polynomial through the points $(x_{i-1}, f(x_{i-1})), (x_i, f(x_i))$, and $(x_{i+1}, f(x_{i+1}))$, which is a unique polynomial, and then integrating the quadratic exactly. The following shows this integral approximation for an arbitrary function.\n",
    "\n",
    "<img src=\"images/21.04.1-Simpson_integral.png\" alt=\"Simpsons integral\" title=\"Illustration of the Simpson integral formula. Discretization points are grouped by three, and a parabola is fit between the three points. This can be done by a typical interpolation polynomial. The area under the curve is approximated by the area under the parabola.\" width=\"350\"/>\n",
    "\n",
    "First, we construct the quadratic polynomial approximation of the function over the two subintervals. The easiest way to do this is to use Lagrange polynomials, which was discussed in [Chapter 17](chapter17.04-Lagrange-Polynomial-Interpolation.ipynb). By applying the formula for constructing Lagrange polynomials we get the polynomial\n",
    "\n",
    "\\begin{eqnarray*}P_i(x) &=& f(x_{i-1})\\frac{(x - x_i)(x - x_{i+1})}{(x_{i-1} - x_i)(x_{i-1} - x_{i+1})} + f(x_i)\\frac{(x - x_{i-1})(x - x_{i+1})}{(x_{i} - x_{i-1})(x_{i} - x_{i+1})}\\\\\n",
    "&&+ f(x_{i+1})\\frac{(x - x_{i-1})(x - x_{i})}{(x_{i+1} - x_{i-1})(x_{i+1} -\n",
    "x_{i})},\\end{eqnarray*}\n",
    "\n",
    "and with substitutions for $h$ results in\n",
    "\n",
    "$$P_i(x) = \\frac{f(x_{i-1})}{2h^2} (x - x_i)(x - x_{i+1}) - \\frac{f(x_i)}{h^2} (x - x_{i-1})(x - x_{i+1}) + \\frac{f(x_{i+1})}{2h^2} (x - x_{i-1})(x - x_{i}).$$\n",
    "\n",
    "You can confirm that the polynomial intersects the desired points. With some algebra and manipulation, the integral of $P_i(x)$ over the two subintervals is\n",
    "\n",
    "$$\\int_{x_{i-1}}^{x_{i+1}} P_i(x) dx = \\frac{h}{3}(f(x_{i-1}) + 4f(x_i) + f(x_{i+1}).$$\n",
    "\n",
    "To approximate the integral over $(a, b)$, we must sum the integrals of $P_i(x)$ over every *two* subintervals since $P_i(x)$ spans two subintervals. Substituting $\\frac{h}{3}(f(x_{i-1}) + 4f(x_i) + f(x_{i+1}))$ for the integral of $P_i(x)$ and regrouping the terms for efficiency leads to the formula\n",
    "\n",
    "$$\\int_a^b f(x) dx \\approx \\frac{h}{3} \\left[f(x_0)+4 \\left(\\sum_{i=1, i\\  {\\text{odd}}}^{n-1}f(x_i)\\right)+2 \\left(\\sum_{i=2, i\\  {\\text{even}}}^{n-2}f(x_i)\\right)+f(x_n)\\right].$$\n",
    "\n",
    "This regrouping is illustrated in the figure below:\n",
    "\n",
    "<img src=\"images/21.04.2-Simpson_integral_2.png\" alt=\"Regrouping\" title=\"Illustration of the accounting procedure to approximate the function f by the Simpson rule for the entire interval [a, b].\" width=\"350\"/>\n",
    "\n",
    "**WARNING!** Note that to use Simpson's Rule, you **must** have an even number of intervals and, therefore, an odd number of grid points.\n",
    "\n",
    "To compute the accuracy of the Simpson's Rule, we take the Taylor series approximation of $f(x)$ around $x_i$, which is\n",
    "\n",
    "$$f(x) = f(x_i) + f^{\\prime}(x_i)(x - x_i) + \\frac{f''(x_i)(x-x_i)^2}{2!} + \\frac{f'''(x_i)(x-x_i)^3}{3!} + \\frac{f''''(x_i)(x-x_i)^4}{4!} + \\cdots$$\n",
    "\n",
    "Computing the Taylor series at $x_{i-1}$ and $x_{i+1}$ and substituting for $h$ where appropriate gives the expressions\n",
    "\n",
    "$$f(x_{i-1}) = f(x_i) - hf^{\\prime}(x_i) + \\frac{h^2f''(x_i)}{2!} - \\frac{h^3f'''(x_i)}{3!} + \\frac{h^4f''''(x_i)}{4!} - \\cdots$$\n",
    "\n",
    "and\n",
    "\n",
    "$$f(x_{i+1}) = f(x_i) + hf^{\\prime}(x_i) + \\frac{h''(x_i)}{2!} + \\frac{h^3f'''(x_i)}{3!} + \\frac{h^4f''''(x_i)}{4!} + \\cdots$$\n",
    "\n",
    "Now consider the expression $\\frac{f(x_{i-1}) + 4f(x_i) + f(x_{i+1})}{6}$. Substituting the Taylor series for the respective numerator values produces the equation\n",
    "\n",
    "$$\\frac{f(x_{i-1}) + 4f(x_i) + f(x_{i+1})}{6} = f(x_i) + \\frac{h^2}{6}f''(x_i) + \\frac{h^4}{72}f''''(x_i) + \\cdots$$\n",
    "\n",
    "Note that the odd terms cancel out. This implies\n",
    "\n",
    "$$f(x_i) =\\frac{f(x_{i-1}) + 4f(x_i) + f(x_{i+1})}{6} - \\frac{h^2}{6}f''(x_i) + O(h^4).$$\n",
    "\n",
    "By substitution of the Taylor series for $f(x)$, the integral of $f(x)$ over two subintervals is then\n",
    "\n",
    "\\begin{eqnarray*}\\int_{x_{i-1}}^{x_{i+1}} f(x) dx &=& \\int_{x_{i-1}}^{x_{i+1}} \\left(f(x_i) + f^{\\prime}(x_i)(x - x_i) + \\frac{f''(x_i)(x-x_i)^2}{2!}\\right.\\\\\n",
    "&&\\qquad\\qquad\\left. + \\frac{f'''(x_i)(x-x_i)^3}{3!}+ \\frac{f''''(x_i)(x-x_i)^4}{4!} + \\cdots\\right)\n",
    "dx.\\end{eqnarray*}\n",
    "\n",
    "Again, we distribute the integral and without showing it, we drop the integrals of terms with odd powers because they are zero.\n",
    "\n",
    "$$\\int_{x_{i-1}}^{x_{i+1}} f(x) dx = \\int_{x_{i-1}}^{x_{i+1}} f(x_i) dx + \\int_{x_{i-1}}^{x_{i+1}}\\frac{f''(x_i)(x-x_i)^2}{2!}dx + \\int_{x_{i-1}}^{x_{i+1}}\\frac{f''''(x_i)(x-x_i)^4}{4!}dx + \\cdots.$$\n",
    "\n",
    "We then carry out the integrations. As will soon be clear, it benefits us to compute the integral of the second term exactly. The resulting equation is\n",
    "\n",
    "$$\\int_{x_{i-1}}^{x_{i+1}} f(x) dx = 2h f(x_i) + \\frac{h^3}{3}f''(x_i) + O(h^5).$$\n",
    "\n",
    "Substituting the expression for $f(x_i)$ derived earlier, the right-hand side becomes\n",
    "\n",
    "$$2h \\left(\\frac{f(x_{i-1}) + 4f(x_i) + f(x_{i+1})}{6} - \\frac{h^2}{6}f''(x_i) + O(h^4)\\right) + \\frac{h^3}{3}f''(x_i) + O(h^5),$$\n",
    "\n",
    "which can be rearranged to\n",
    "\n",
    "$$\\left[\\frac{h}{3}(f(x_{i-1}) + 4f(x_i) + f(x_{i+1})) - \\frac{h^3}{3}f''(x_i) + O(h^5)\\right] + \\frac{h^3}{3}f''(x_i) + O(h^5).$$\n",
    "\n",
    "Canceling and combining the appropriate terms results in the integral expression\n",
    "\n",
    "$$\\int_{x_{i-1}}^{x_{i+1}} f(x) dx = \\frac{h}{3}(f(x_{i-1}) + 4f(x_i) + f(x_{i+1})) + O(h^5).$$\n",
    "\n",
    "Recognizing that $\\frac{h}{3}(f(x_{i-1}) + 4f(x_i) + f(x_{i+1}))$ is exactly the Simpson's Rule approximation for the integral over this subinterval, this equation implies that Simpson's Rule is $O(h^5)$ over a subinterval and $O(h^4)$ over the whole interval. Because the $h^3$ terms cancel out exactly, Simpson's Rule gains another *two* orders of accuracy!\n",
    "\n",
    "**TRY IT!** Use Simpson's Rule to approximate $\\int_{0}^{\\pi} \\text{sin} (x)dx$ with 11 evenly spaced grid points over the whole interval. Compare this value to the exact value of 2."
   ]
  },
  {
   "cell_type": "code",
   "execution_count": 1,
   "metadata": {
    "button": false,
    "new_sheet": false,
    "run_control": {
     "read_only": false
    }
   },
   "outputs": [
    {
     "name": "stdout",
     "output_type": "stream",
     "text": [
      "2.0001095173150043\n",
      "-0.00010951731500430384\n"
     ]
    }
   ],
   "source": [
    "import numpy as np\n",
    "\n",
    "a = 0\n",
    "b = np.pi\n",
    "n = 11\n",
    "h = (b - a) / (n - 1)\n",
    "x = np.linspace(a, b, n)\n",
    "f = np.sin(x)\n",
    "\n",
    "I_simp = (h/3) * (f[0] + 2*sum(f[:n-2:2]) \\\n",
    "            + 4*sum(f[1:n-1:2]) + f[n-1])\n",
    "err_simp = 2 - I_simp\n",
    "\n",
    "print(I_simp)\n",
    "print(err_simp)"
   ]
  },
  {
   "cell_type": "markdown",
   "metadata": {
    "button": false,
    "new_sheet": false,
    "run_control": {
     "read_only": false
    }
   },
   "source": [
    "<!--NAVIGATION-->\n",
    "< [21.3 Trapezoid Rule](chapter21.03-Trapezoid-Rule.ipynb) | [Contents](Index.ipynb) | [21.5 Computing Integrals in Python](chapter21.05-Computing-Integrals-in-Python.ipynb) >"
   ]
  }
 ],
 "metadata": {
  "kernelspec": {
   "display_name": "Python 3",
   "language": "python",
   "name": "python3"
  },
  "language_info": {
   "codemirror_mode": {
    "name": "ipython",
    "version": 3
   },
   "file_extension": ".py",
   "mimetype": "text/x-python",
   "name": "python",
   "nbconvert_exporter": "python",
   "pygments_lexer": "ipython3",
   "version": "3.6.8"
  }
 },
 "nbformat": 4,
 "nbformat_minor": 2
}
