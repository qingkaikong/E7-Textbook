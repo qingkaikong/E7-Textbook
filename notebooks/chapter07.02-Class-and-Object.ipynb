{
 "cells": [
  {
   "cell_type": "markdown",
   "metadata": {
    "button": false,
    "new_sheet": false,
    "run_control": {
     "read_only": false
    }
   },
   "source": [
    "<!--BOOK_INFORMATION-->\n",
    "<img align=\"left\" style=\"padding-right:10px;\" src=\"images/book_cover.jpg\" width=\"120\">\n",
    "\n",
    "*This notebook contains an excerpt from the [An Introduction To Python Programming And Numerical Methods For Scientists and Engineers](); the content is available [on GitHub]().*\n",
    "\n",
    "*The text is released under the [CC-BY-NC-ND license](https://creativecommons.org/licenses/by-nc-nd/3.0/us/legalcode), and code is released under the [MIT license](https://opensource.org/licenses/MIT). If you find this content useful, please consider supporting the work by [buying the book]()!*"
   ]
  },
  {
   "cell_type": "markdown",
   "metadata": {
    "button": false,
    "new_sheet": false,
    "run_control": {
     "read_only": false
    }
   },
   "source": [
    "<!--NAVIGATION-->\n",
    "< [7.1 Introduction to OOP](chapter07.01-Introduction-to-OOP.ipynb) | [Contents](Index.ipynb) | [7.3 Inheritance](chapter07.03-Inheritance.ipynb) >"
   ]
  },
  {
   "cell_type": "markdown",
   "metadata": {
    "button": false,
    "new_sheet": false,
    "run_control": {
     "read_only": false
    }
   },
   "source": [
    "# Class and Object"
   ]
  },
  {
   "cell_type": "markdown",
   "metadata": {
    "button": false,
    "new_sheet": false,
    "run_control": {
     "read_only": false
    }
   },
   "source": [
    "In the previous section, we introduced the two main components of OOP: **Class**, which is a blueprint to define a logical grouping of data and functions and **Object**, which is an instance of the defined class with actual value. In this section, we will try to understand the details of both of them. \n",
    "\n",
    "## Class"
   ]
  },
  {
   "cell_type": "markdown",
   "metadata": {},
   "source": [
    "A **class** is a definition of the structure that we want. Similar to a function, it is defined as a block of code starting with the **class** statement. The syntax of defining a class is:\n",
    "\n",
    "```python\n",
    "class ClassName(superclass):\n",
    "    \n",
    "    def __init__(self, arguments):\n",
    "        # define or assign object attributes\n",
    "        \n",
    "    def other_methods(self, arguments):\n",
    "        # body of the method\n",
    "\n",
    "```\n",
    "\n",
    "You can see the definition of a class is very similar to a function. It also needs to be called first before you can use it. For the class name, it should normally use the CapWords convention. The **superclass** is used when you want create a new class to **inherit** the attributes and methods from another already defined class. We will talk more about **inheritance** in the next section. The **\\_\\_init__** is one of the special methods in Python classes that is run as soon as an object of a class is instantiated (created). It is a method to assign initial values to the object before it is ready for you to use it. Note the two underscores at the beginning and end of the init, it indicates that the methods is called by Python instead of you. In this init method, you can assign attributes directly or pass in values to the attributes when you create the object. The other_methods functions are used to define the methods that will apply on the attributes, just like other functions. You may also notice that, there is an argument **self** for each method in the class, what's that? This is the difference of a class method function versus a regular function, that a class method must have an extra argument as the first argument when you define it. This particular argument refers to the object itself, and we usually use **self** to name it. When you call a method, you don't need to give value to this argument, since Python automatically will provide it. Let's see an example below. \n",
    "\n",
    "**EXAMPLE:** Define a class named *Student*, with the attributes *sid* (student id), *name*, *gender*, *type* in the *init* method and a method called *say_name* to print out the student's name. All the attributes will be passed in except *type*, which will have a value as 'learning'. "
   ]
  },
  {
   "cell_type": "code",
   "execution_count": 1,
   "metadata": {},
   "outputs": [],
   "source": [
    "class Student():\n",
    "    \n",
    "    def __init__(self, sid, name, gender):\n",
    "        self.sid = sid\n",
    "        self.name = name\n",
    "        self.gender = gender\n",
    "        self.type = 'learning'\n",
    "        \n",
    "    def say_name(self):\n",
    "        print(\"My name is \" + self.name)"
   ]
  },
  {
   "cell_type": "markdown",
   "metadata": {},
   "source": [
    "From the above example, we can see this simple class contains all the necessary parts we mentioned before. The *\\_\\_init__* method will initialize the attributes when we create an object. We need to pass in the initial value for *sid*, *name*, and *gender* to the object, while the attribute *type* is a fixed value as 'learning'. These attributes can be accessed by all the other methods defined in the class with *self.attribute*, for example, in the *say_name* function (which need no more parameters as argument except for the self), we can use the *name* attribute using *self.name*. The methods defined in the class can be accessed to other different methods as well in the class using *self.method*. \n",
    "\n",
    "**TRY IT!** Add a method **report** that print not only the student name, but also the student id. The method will have another argument *score*, that will pass in a number between 0 - 100 as part of the report. "
   ]
  },
  {
   "cell_type": "code",
   "execution_count": 2,
   "metadata": {},
   "outputs": [],
   "source": [
    "class Student():\n",
    "    \n",
    "    def __init__(self, sid, name, gender):\n",
    "        self.sid = sid\n",
    "        self.name = name\n",
    "        self.gender = gender\n",
    "        self.type = 'learning'\n",
    "        \n",
    "    def say_name(self):\n",
    "        print(\"My name is \" + self.name)\n",
    "        \n",
    "    def report(self, score):\n",
    "        self.say_name()\n",
    "        print(\"My id is: \" + self.sid)\n",
    "        print(\"My score is: \" + str(score))"
   ]
  },
  {
   "cell_type": "markdown",
   "metadata": {},
   "source": [
    "## Object\n",
    "\n",
    "As mentioned before, an **object** is an instance of the defined class with actual value. We can have many instances of different values associated with the class. See the following example:\n",
    "\n",
    "**EXAMPLE:** Create two objects (\"001\", \"Susan\", \"F\") and (\"002\", \"Mike\", \"M\"), and call the method *say_name*. "
   ]
  },
  {
   "cell_type": "code",
   "execution_count": 3,
   "metadata": {},
   "outputs": [
    {
     "name": "stdout",
     "output_type": "stream",
     "text": [
      "My name is Susan\n",
      "My name is Mike\n",
      "learning\n",
      "F\n"
     ]
    }
   ],
   "source": [
    "student1 = Student(\"001\", \"Susan\", \"F\")\n",
    "student2 = Student(\"002\", \"Mike\", \"M\")\n",
    "\n",
    "student1.say_name()\n",
    "student2.say_name()\n",
    "print(student1.type)\n",
    "print(student1.gender)"
   ]
  },
  {
   "cell_type": "markdown",
   "metadata": {},
   "source": [
    "In the above code, we created two object *student1* and *student2*, with two different sets of values. Each object is an instance of the *Student* class, and has different set of attributes. You can type *student1. + TAB* to have a look of the defined attributes and methods. To get access to one attribute, you just type *object.attribute*, for example, *student1.type*. In contrast, to call a method, you need the parentheses as that you call a regular function, such as *student1.say_name()*.  \n",
    "\n",
    "**TRY IT!** Call method *report* for student1 and student2 with score 95 and 90 individually. "
   ]
  },
  {
   "cell_type": "code",
   "execution_count": 4,
   "metadata": {},
   "outputs": [
    {
     "name": "stdout",
     "output_type": "stream",
     "text": [
      "My name is Susan\n",
      "My id is: 001\n",
      "My score is: 95\n",
      "My name is Mike\n",
      "My id is: 002\n",
      "My score is: 90\n"
     ]
    }
   ],
   "source": [
    "student1.report(95)\n",
    "student2.report(90)"
   ]
  },
  {
   "cell_type": "markdown",
   "metadata": {},
   "source": [
    "We can see the two method calls print out the data associated with the two objects, and note that, the score value we passed in is only available to the method *report* (within the scope of this method). We can also see that the method *say_name* call in the *report* also works, as long as you call the method with the *self*. \n",
    "\n",
    "## Class vs instance attributes\n",
    "\n",
    "The attributes we talked above are actually called instance attributes, which means that they are only belong to specific instance, and when you use them, you need to use the *self.attribute*. But there are another type of attributes - class attributes, which will be shared with all the instances created from this class. Let's see an example how to define and use a class attribute. \n",
    "\n",
    "**EXAMPLE:** Modify the *Student* class to add a class attribute *n_instances*, which will record how many object we are creating. Also, add a method *num_instances* to print out the number. "
   ]
  },
  {
   "cell_type": "code",
   "execution_count": 5,
   "metadata": {},
   "outputs": [],
   "source": [
    "class Student():\n",
    "    \n",
    "    n_instances = 0\n",
    "    \n",
    "    def __init__(self, sid, name, gender):\n",
    "        self.sid = sid\n",
    "        self.name = name\n",
    "        self.gender = gender\n",
    "        self.type = 'learning'\n",
    "        Student.n_instances += 1\n",
    "        \n",
    "    def say_name(self):\n",
    "        print(\"My name is \" + self.name)\n",
    "        \n",
    "    def report(self, score):\n",
    "        self.say_name()\n",
    "        print(\"My id is: \" + self.sid)\n",
    "        print(\"My score is: \" + str(score))\n",
    "        \n",
    "    def num_instances(self):\n",
    "        print(f'We have {Student.n_instances}-instance in total')"
   ]
  },
  {
   "cell_type": "markdown",
   "metadata": {},
   "source": [
    "We can see that to define a class attribute, we define it outside of all the other methods **without** using *self*. To use the class attribute, we use *ClassName.attribute*, in this case, *Student.n_instances*. This attribute will be shared with all the instances that created from this class. Let's see the following code to show the idea. "
   ]
  },
  {
   "cell_type": "code",
   "execution_count": 6,
   "metadata": {},
   "outputs": [
    {
     "name": "stdout",
     "output_type": "stream",
     "text": [
      "We have 1-instance in total\n",
      "We have 2-instance in total\n",
      "We have 2-instance in total\n"
     ]
    }
   ],
   "source": [
    "student1 = Student(\"001\", \"Susan\", \"F\")\n",
    "student1.num_instances()\n",
    "student2 = Student(\"002\", \"Mike\", \"M\")\n",
    "student1.num_instances()\n",
    "student2.num_instances()"
   ]
  },
  {
   "cell_type": "markdown",
   "metadata": {},
   "source": [
    "We still created two object, as before, the instance attribute *sid*, *name*, *gender* only belong to the specific object. For example *student1.name* is \"Susan\" and *student2.name* is \"Mike\". But when we print out the class attribute *Student.n_instances* after we created object *student2*, the one in the student1 changes as well. This is the expectation we have for the class attribute, that shared across all the created objects. \n",
    "\n",
    "Now that we understand the difference between class and instance attributes, we are in good shape of using the basic OOP in Python. But before you really take advantage of the OOP, we still need to understand the **inheritance**. Let's start next section! "
   ]
  },
  {
   "cell_type": "markdown",
   "metadata": {
    "button": false,
    "new_sheet": false,
    "run_control": {
     "read_only": false
    }
   },
   "source": [
    "<!--NAVIGATION-->\n",
    "< [7.1 Introduction to OOP](chapter07.01-Introduction-to-OOP.ipynb) | [Contents](Index.ipynb) | [7.3 Inheritance](chapter07.03-Inheritance.ipynb) >"
   ]
  }
 ],
 "metadata": {
  "kernelspec": {
   "display_name": "Python 3",
   "language": "python",
   "name": "python3"
  },
  "language_info": {
   "codemirror_mode": {
    "name": "ipython",
    "version": 3
   },
   "file_extension": ".py",
   "mimetype": "text/x-python",
   "name": "python",
   "nbconvert_exporter": "python",
   "pygments_lexer": "ipython3",
   "version": "3.6.7"
  }
 },
 "nbformat": 4,
 "nbformat_minor": 2
}
