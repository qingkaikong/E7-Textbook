{
 "cells": [
  {
   "cell_type": "markdown",
   "metadata": {
    "button": false,
    "new_sheet": false,
    "run_control": {
     "read_only": false
    }
   },
   "source": [
    "<!--BOOK_INFORMATION-->\n",
    "<img align=\"left\" style=\"padding-right:10px;\" src=\"images/book_cover.jpg\" width=\"120\">\n",
    "\n",
    "*This notebook contains an excerpt from the [An Introduction To Python Programming And Numerical Methods For Scientists and Engineers](); the content is available [on GitHub]().*\n",
    "\n",
    "*The text is released under the [CC-BY-NC-ND license](https://creativecommons.org/licenses/by-nc-nd/3.0/us/legalcode), and code is released under the [MIT license](https://opensource.org/licenses/MIT). If you find this content useful, please consider supporting the work by [buying the book]()!*"
   ]
  },
  {
   "cell_type": "markdown",
   "metadata": {
    "button": false,
    "new_sheet": false,
    "run_control": {
     "read_only": false
    }
   },
   "source": [
    "<!--NAVIGATION-->\n",
    "< [CHAPTER 7. Object Oriented Programming (OOP)](chapter07.00-Objects-Oriented-Programming.ipynb) | [Contents](Index.ipynb) | [7.2 Class and Object](chapter07.02-Classe-and-Object.ipynb) >"
   ]
  },
  {
   "cell_type": "markdown",
   "metadata": {
    "button": false,
    "new_sheet": false,
    "run_control": {
     "read_only": false
    }
   },
   "source": [
    "# Introduction to OOP"
   ]
  },
  {
   "cell_type": "markdown",
   "metadata": {
    "button": false,
    "new_sheet": false,
    "run_control": {
     "read_only": false
    }
   },
   "source": [
    "So far all the codes we wrote before belong to the category of procedure-oriented programming (POP), which consist of a list of instructions to tell the computer what to do and organize these instructions into functions. The program is divided into a collection of variables, data structures, and routines to accomplish different tasks. There is a different way to do programming in Python - object-oriented programming (OOP), which does have a more steeper learning curve but very powerful. Note that, you don't have to use OOP in your programming in Python, i.e. you can still write very powerful programs using the POP. However, most of the time, the POP is good for simple and small program, while the OOP is better suited for large programs. Let's take a closer look at of the object-oriented programming. \n",
    "\n",
    "The object-oriented programming breaks the programming task into **objects**, which combine data (known as attributes) and behaviors/functions (known as methods). The **class** provides a way to define the structure of an object. Therefore, the two main components of the OOP is **class** and **object**. \n",
    "\n",
    "The class is a blueprint to define a logical grouping of data and functions. It provides a way that we can freely create data structures that model the real-world entities. For example, we can create a *people* class that contains the data such as name, age and some behavior functions to print out the age and gender. While class is the blueprint, an object is an *instance* of the class with the actual values. For example, a person named 'Iron man' with age 35. Put it another way, a class is like a template to define the needed information and an object is one specific copy that filled in the template. Let's implement the above example in Python (don't worry if you can not totally understand it, we will explain everything in the next section). "
   ]
  },
  {
   "cell_type": "code",
   "execution_count": 1,
   "metadata": {},
   "outputs": [],
   "source": [
    "class People():\n",
    "    def __init__(self, name, age):\n",
    "        self.name = name\n",
    "        self.age = age\n",
    "        \n",
    "    def greet(self):\n",
    "        print(\"Greetings, \" + self.name)"
   ]
  },
  {
   "cell_type": "code",
   "execution_count": 2,
   "metadata": {},
   "outputs": [
    {
     "name": "stdout",
     "output_type": "stream",
     "text": [
      "Greetings, Iron Man\n",
      "Iron Man\n",
      "35\n"
     ]
    }
   ],
   "source": [
    "person1 = People(name = 'Iron Man', age = 35)\n",
    "person1.greet()\n",
    "print(person1.name)\n",
    "print(person1.age)"
   ]
  },
  {
   "cell_type": "markdown",
   "metadata": {},
   "source": [
    "In the above code example, we first defined a class - People, with *name* and *age* as the data, and a method *greet*. We then initialized an object - *person1* with the specific name and age. We can clearly see that the *class* defines the whole structure, while the object is just an *instance* of the *class*. \n",
    "\n",
    "The main benefits of using OOP are:\n",
    "\n",
    "* It provides a clear modular structure for programs which enhances code reusability.\n",
    "* It gives us a simple way to solve complex problems. \n",
    "* It helps us to define more abstract data types to model the real-world scenario.\n",
    "* It hides the implementation details and only leaves a clearly defined interface. \n",
    "* It combines data and operations. \n",
    "\n",
    "Of course, there are also other aspects of the advantages of using OOP in a large project, you can search online to find out more. At this point, you may still not fully understand why OOP is useful until you really involve into some complex large projects. But don't worry, let's continue to learn more about OOP and hopefully you will get more tastes of its sweetness. "
   ]
  },
  {
   "cell_type": "markdown",
   "metadata": {
    "button": false,
    "new_sheet": false,
    "run_control": {
     "read_only": false
    }
   },
   "source": [
    "<!--NAVIGATION-->\n",
    "< [CHAPTER 7. Object Oriented Programming (OOP)](chapter07.00-Objects-Oriented-Programming.ipynb) | [Contents](Index.ipynb) | [7.2 Class and Object](chapter07.02-Classe-and-Object.ipynb) >"
   ]
  }
 ],
 "metadata": {
  "kernelspec": {
   "display_name": "Python 3",
   "language": "python",
   "name": "python3"
  },
  "language_info": {
   "codemirror_mode": {
    "name": "ipython",
    "version": 3
   },
   "file_extension": ".py",
   "mimetype": "text/x-python",
   "name": "python",
   "nbconvert_exporter": "python",
   "pygments_lexer": "ipython3",
   "version": "3.6.7"
  }
 },
 "nbformat": 4,
 "nbformat_minor": 2
}
