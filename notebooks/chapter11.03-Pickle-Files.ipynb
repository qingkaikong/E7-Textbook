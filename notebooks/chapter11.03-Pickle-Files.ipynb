{
 "cells": [
  {
   "cell_type": "markdown",
   "metadata": {},
   "source": [
    "<!--BOOK_INFORMATION-->\n",
    "<img align=\"left\" style=\"padding-right:10px;\" src=\"images/book_cover.jpg\" width=\"120\">\n",
    "\n",
    "*This notebook contains an excerpt from the [An Introduction To Python Programming And Numerical Methods For Scientists and Engineers](); the content is available [on GitHub]().*\n",
    "\n",
    "*The text is released under the [CC-BY-NC-ND license](https://creativecommons.org/licenses/by-nc-nd/3.0/us/legalcode), and code is released under the [MIT license](https://opensource.org/licenses/MIT). If you find this content useful, please consider supporting the work by [buying the book]()!*"
   ]
  },
  {
   "cell_type": "markdown",
   "metadata": {},
   "source": [
    "<!--NAVIGATION-->\n",
    "< [11.2 CSV Files](chapter11.02-CSV-Files.ipynb) | [Contents](Index.ipynb) | [11.4 HDF5 Files](chapter11.04-HDF5-Files.ipynb) >"
   ]
  },
  {
   "cell_type": "markdown",
   "metadata": {},
   "source": [
    "# Pickle Files"
   ]
  },
  {
   "cell_type": "markdown",
   "metadata": {},
   "source": [
    "In this section, we will introduce another way to store the data to the disk - **pickle**. We talked about saving data into text file or csv file. But in certain cases, we want to store dictionaries, tuples, lists, or any other data type to the disk and use them later or send them to some colleagues. This is where pickle comes in, it can serialize objects so that they can be saved into a file and loaded again later. \n",
    "\n",
    "Pickle can be used to serialize and de-serialize Python object structures, which refers to the process of converting an object in the memory to a byte stream that can be stored as a binary file on disk. When we load it back to a Python program, this binary file can be de-serialized back to a Python object. \n",
    "\n",
    "### Write a pickle file\n",
    "\n",
    "**TRY IT!** Create a dictionary, and save it to a pickle file on disk. To use a pickle, we need to import the module first. "
   ]
  },
  {
   "cell_type": "code",
   "execution_count": 1,
   "metadata": {},
   "outputs": [],
   "source": [
    "import pickle"
   ]
  },
  {
   "cell_type": "code",
   "execution_count": 3,
   "metadata": {},
   "outputs": [],
   "source": [
    "dict_a = {'A':0, 'B':1, 'C':2}\n",
    "pickle.dump(dict_a, open('test.pkl', 'wb'))"
   ]
  },
  {
   "cell_type": "markdown",
   "metadata": {},
   "source": [
    "To use pickle to serialize an object, we use the *pickle.dump* function, which takes two arguments: the first one is the object, and the second argument is a file object returned by the *open* function. Note here the mode of the *open* function is 'wb' which indicates write binary file. \n",
    "\n",
    "### Read a pickle file\n",
    "\n",
    "Now let's load the pickle file we just saved on the disk back using the *pickle.load* function. "
   ]
  },
  {
   "cell_type": "code",
   "execution_count": 4,
   "metadata": {},
   "outputs": [
    {
     "data": {
      "text/plain": [
       "{'A': 0, 'B': 1, 'C': 2}"
      ]
     },
     "execution_count": 4,
     "metadata": {},
     "output_type": "execute_result"
    }
   ],
   "source": [
    "my_dict = pickle.load(open('./test.pkl', 'rb'))\n",
    "my_dict"
   ]
  },
  {
   "cell_type": "markdown",
   "metadata": {},
   "source": [
    "We can see the loading of a pickle file is very similar to the saving process, but here the mode of the *open* function is 'rb' indicates read the binary file. And this function will be de-serialize the binary file back to the original object, which is a dictionary in our case. "
   ]
  },
  {
   "cell_type": "markdown",
   "metadata": {},
   "source": [
    "### Read in Python 2 pickle file\n",
    "\n",
    "Sometimes, you may need to open a pickle file from some colleague who generates it using Python 2 instead of Python 3. You could either unpickle it using Python 2, or use Python 3 with the *encoding='latin1' in the *pickle.load* function. \n",
    "\n",
    "```python\n",
    "infile = open(filename,'rb')\n",
    "new_dict = pickle.load(infile, encoding='latin1')\n",
    "```"
   ]
  },
  {
   "cell_type": "markdown",
   "metadata": {},
   "source": [
    "**WARNING!** One drawback of pickle file is that it is not a universal file format, which means that it is not easy for other programming languages to use it. The TXT and CSV files could be easily shared with other colleagues who are not use Python, and they could open it using R, Matlab, Java and so on. But for pickle file, it is specially designed for Python, therefore, not easy to use the data with other languages. "
   ]
  },
  {
   "cell_type": "markdown",
   "metadata": {},
   "source": [
    "<!--NAVIGATION-->\n",
    "< [11.2 CSV Files](chapter11.02-CSV-Files.ipynb) | [Contents](Index.ipynb) | [11.4 HDF5 Files](chapter11.04-HDF5-Files.ipynb) >"
   ]
  }
 ],
 "metadata": {
  "kernelspec": {
   "display_name": "Python 3",
   "language": "python",
   "name": "python3"
  },
  "language_info": {
   "codemirror_mode": {
    "name": "ipython",
    "version": 3
   },
   "file_extension": ".py",
   "mimetype": "text/x-python",
   "name": "python",
   "nbconvert_exporter": "python",
   "pygments_lexer": "ipython3",
   "version": "3.7.0"
  }
 },
 "nbformat": 4,
 "nbformat_minor": 2
}
