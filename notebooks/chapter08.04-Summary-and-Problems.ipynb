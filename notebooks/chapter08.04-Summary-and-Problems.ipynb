{
 "cells": [
  {
   "cell_type": "markdown",
   "metadata": {
    "button": false,
    "new_sheet": false,
    "run_control": {
     "read_only": false
    }
   },
   "source": [
    "<!--BOOK_INFORMATION-->\n",
    "<img align=\"left\" style=\"padding-right:10px;\" src=\"images/book_cover.jpg\" width=\"120\">\n",
    "\n",
    "*This notebook contains an excerpt from the [An Introduction To Python Programming And Numerical Methods For Scientists and Engineers](); the content is available [on GitHub]().*\n",
    "\n",
    "*The text is released under the [CC-BY-NC-ND license](https://creativecommons.org/licenses/by-nc-nd/3.0/us/legalcode), and code is released under the [MIT license](https://opensource.org/licenses/MIT). If you find this content useful, please consider supporting the work by [buying the book]()!*"
   ]
  },
  {
   "cell_type": "markdown",
   "metadata": {
    "button": false,
    "new_sheet": false,
    "run_control": {
     "read_only": false
    }
   },
   "source": [
    "<!--NAVIGATION-->\n",
    "< [8.3 The Profiler](chapter08.03-The-Profiler.ipynb) | [Contents](Index.ipynb) | [9.0 Errors, Good Programming Practices, and Debugging](chapter09.00-Errors-Practices-Debugging.ipynb) >"
   ]
  },
  {
   "cell_type": "markdown",
   "metadata": {
    "button": false,
    "new_sheet": false,
    "run_control": {
     "read_only": false
    }
   },
   "source": [
    "# Summary\n",
    "\n",
    "\n",
    "1. The complexity of an algorithm is the relationship between the size of the input problem and the time it takes the algorithm to terminate.\n",
    "2. Big-O notation is a standard method of classifying algorithmic complexity in a way that is computer and operating-system-independent.\n",
    "3. Algorithms with log complexity are faster than algorithms with polynomial complexity, which are faster than algorithms with exponential complexity.\n",
    "4. The Profiler is a useful tool for determining where your code is running slowly so that you can improve its performance."
   ]
  },
  {
   "cell_type": "markdown",
   "metadata": {
    "button": false,
    "new_sheet": false,
    "run_control": {
     "read_only": false
    }
   },
   "source": [
    "# Problems\n",
    "\n",
    "1. How would you define the size of the following tasks?\n",
    "\n",
    "    * Solving a jigsaw puzzle.\n",
    "    * Passing a handout to a class.\n",
    "    * Walking to class.\n",
    "    * Finding a name in dictionary.\n",
    "    \n",
    "2. For the tasks given in the previous problem, what would you say is the Big-O complexity of the tasks in terms of the size definitions you gave?\n",
    "\n",
    "3. You may be surprised to know that there is a $\\log$ time algorithm for finding a word in an $n$-word dictionary. Instead of starting at the beginning of the list, you go to the middle. If this is the word you are looking for then you are done. If the word comes after the word you are looking for, then look halfway between the current word and the end. If it is before the word you are looking for, then look halfway between the first word and the current word. Keep repeating this process until you find the word. This algorithm is known as a binary search, and it is $\\log$ time because the search space is cut in half at each iteration, and therefore, requires at most $\\log_2(n)$ iterations to find the word. Hence the increase in run time is only log in the length of the list.\n",
    "\n",
    " There is a way to look up a word in $O(1)$ or constant time. This means that no matter how long the list is, it takes the same amount of time! Can you think of how this is done? Hint: Research hash functions.\n",
    " \n",
    "4. What is the complexity of the algorithms that compute the following recursive relationships? Classify the following algorithms as log time, polynomial time, or exponential time in terms of n given that the implementation is (a) recursive, and (b) iterative.\n",
    "\n",
    " Tribonacci, $T(n)$:\n",
    " \n",
    " $\\begin{eqnarray*}\n",
    "T(n) &=& T(n-1) + T(n-2) + T(n-3)\\\\\n",
    "T(1) &=& T(2) = T(3) = 1.\n",
    "\\end{eqnarray*}$\n",
    "\n",
    " Timmynacci, $t(n)$:\n",
    " \n",
    " $\\begin{eqnarray*}\n",
    "t(n) &=& t(n/2) + t(n/4)\\\\\n",
    "t(n) &=& 1\\ if\\ n < 1.\n",
    "\\end{eqnarray*}$\n",
    "\n",
    "5. What is the Big-O complexity of the Towers of Hanoi problem given in Chapter 6? Is the complexity an upper bound or is it exact?\n",
    "\n",
    "6. What is the Big-O complexity of the quicksort algorithm?\n",
    "\n",
    "7. Run the following two iterative implementations of finding Fibonacci numbers in the line_profiler as well as using the magic command to get the repeated run time. The first implementation preallocates memory to an array that stores all the Fibonacci numbers. The second implementation expands the list at each iteration of the for-loop."
   ]
  },
  {
   "cell_type": "code",
   "execution_count": null,
   "metadata": {},
   "outputs": [],
   "source": [
    "import numpy as np\n",
    "\n",
    "def my_fib_iter1(n):\n",
    "    out = np.zeros(n)\n",
    "    \n",
    "    out[:2] = 1\n",
    "    \n",
    "    for i in range(2, n):\n",
    "        out[i] = out[i-1] + out[i-2]\n",
    "        \n",
    "    return out\n",
    "\n",
    "def my_fib_iter2(n):\n",
    "    \n",
    "    out = [1, 1]\n",
    "    \n",
    "    for i in range(2, n):\n",
    "        out.append(out[i-1]+out[i-2])\n",
    "        \n",
    "    return np.array(out)"
   ]
  },
  {
   "cell_type": "markdown",
   "metadata": {},
   "source": [
    "<!--NAVIGATION-->\n",
    "< [8.3 The Profiler](chapter08.03-The-Profiler.ipynb) | [Contents](Index.ipynb) | [9.0 Errors, Good Programming Practices, and Debugging](chapter09.00-Errors-Practices-Debugging.ipynb) >"
   ]
  }
 ],
 "metadata": {
  "kernelspec": {
   "display_name": "Python 3",
   "language": "python",
   "name": "python3"
  },
  "language_info": {
   "codemirror_mode": {
    "name": "ipython",
    "version": 3
   },
   "file_extension": ".py",
   "mimetype": "text/x-python",
   "name": "python",
   "nbconvert_exporter": "python",
   "pygments_lexer": "ipython3",
   "version": "3.7.0"
  }
 },
 "nbformat": 4,
 "nbformat_minor": 2
}
