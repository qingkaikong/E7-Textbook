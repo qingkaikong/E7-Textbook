{
 "cells": [
  {
   "cell_type": "markdown",
   "metadata": {},
   "source": [
    "<!--BOOK_INFORMATION-->\n",
    "<img align=\"left\" style=\"padding-right:10px;\" src=\"images/book_cover.jpg\" width=\"120\">\n",
    "\n",
    "*This notebook contains an excerpt from the [An Introduction To Python Programming And Numerical Methods For Scientists and Engineers](); the content is available [on GitHub]().*\n",
    "\n",
    "*The text is released under the [CC-BY-NC-ND license](https://creativecommons.org/licenses/by-nc-nd/3.0/us/legalcode), and code is released under the [MIT license](https://opensource.org/licenses/MIT). If you find this content useful, please consider supporting the work by [buying the book]()!*"
   ]
  },
  {
   "cell_type": "markdown",
   "metadata": {},
   "source": [
    "<!--NAVIGATION-->\n",
    "< [Preface](chapter00.00-Preface.ipynb) | [Contents](Index.ipynb) | [1.2 Python as A Calculator](chapter01.02-Python-as-A-Calculator.ipynb) >"
   ]
  },
  {
   "cell_type": "markdown",
   "metadata": {},
   "source": [
    "# Chapter 1 Python Basics"
   ]
  },
  {
   "cell_type": "markdown",
   "metadata": {},
   "source": [
    "#### CHAPTER OUTLINE\n",
    "\n",
    "---\n",
    "\n",
    "* [**1.1 Getting Started with Python**](chapter01.01-Getting-Started-with-Python.ipynb)\n",
    "* [**1.2 Python as A Calculator**](chapter01.02-Python-as-A-Calculator.ipynb)\n",
    "* [**1.3 Managing Packages**](chapter01.03-Managing-Packages.ipynb)\n",
    "* [**1.4 Introduction to Jupyter Notebooks**](chapter01.04-Introduction-to-Jupyter-Notebooks.ipynb)\n",
    "* [**1.5 Logical Expressions and Operators**](chapter01.05-Logial-Expressions-and-Operators.ipynb)"
   ]
  },
  {
   "cell_type": "markdown",
   "metadata": {},
   "source": [
    "--- \n",
    "\n",
    "## Motivation\n",
    "\n",
    "This chapter gets you started with Python, using it as a calculator, managing Python packages, getting familiar with the Jupyter Notebook. As you will see, Python has a great community with packages that could potentially do anything. At the end of this chapter, you should be familiar with Python, how to execute commmands in Python, and in Jupyter Notebook, how to install and manage the Python packages, and Python's basic mathematical functionalities.  \n",
    "\n",
    "---"
   ]
  }
 ],
 "metadata": {
  "kernelspec": {
   "display_name": "Python 3",
   "language": "python",
   "name": "python3"
  },
  "language_info": {
   "codemirror_mode": {
    "name": "ipython",
    "version": 3
   },
   "file_extension": ".py",
   "mimetype": "text/x-python",
   "name": "python",
   "nbconvert_exporter": "python",
   "pygments_lexer": "ipython3",
   "version": "3.6.6"
  }
 },
 "nbformat": 4,
 "nbformat_minor": 2
}
