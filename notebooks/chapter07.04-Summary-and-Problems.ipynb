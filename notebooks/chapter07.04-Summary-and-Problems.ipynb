{
 "cells": [
  {
   "cell_type": "markdown",
   "metadata": {
    "button": false,
    "new_sheet": false,
    "run_control": {
     "read_only": false
    }
   },
   "source": [
    "<!--BOOK_INFORMATION-->\n",
    "<img align=\"left\" style=\"padding-right:10px;\" src=\"images/book_cover.jpg\" width=\"120\">\n",
    "\n",
    "*This notebook contains an excerpt from the [An Introduction To Python Programming And Numerical Methods For Scientists and Engineers](); the content is available [on GitHub]().*\n",
    "\n",
    "*The text is released under the [CC-BY-NC-ND license](https://creativecommons.org/licenses/by-nc-nd/3.0/us/legalcode), and code is released under the [MIT license](https://opensource.org/licenses/MIT). If you find this content useful, please consider supporting the work by [buying the book]()!*"
   ]
  },
  {
   "cell_type": "markdown",
   "metadata": {
    "button": false,
    "new_sheet": false,
    "run_control": {
     "read_only": false
    }
   },
   "source": [
    "<!--NAVIGATION-->\n",
    "< [7.3 Inheritance](chapter07.03-Inheritance.ipynb) | [Contents](Index.ipynb) | [CHAPTER 8. Complexity](chapter08.00-Complexity.ipynb) >"
   ]
  },
  {
   "cell_type": "markdown",
   "metadata": {
    "button": false,
    "new_sheet": false,
    "run_control": {
     "read_only": false
    }
   },
   "source": [
    "# Summary\n",
    "\n",
    "\n",
    "1. OOP and POP are different, and OOP has many benefits in large-scale project. \n",
    "2. Class is the blueprint of the structure to group data and methods while object is an instance from the class. \n",
    "3. The inheritance is an important part of OOP that allow us to transfer attributes or methods from the superclass."
   ]
  },
  {
   "cell_type": "markdown",
   "metadata": {
    "button": false,
    "new_sheet": false,
    "run_control": {
     "read_only": false
    }
   },
   "source": [
    "# Problems\n",
    "\n",
    "1. Describe what are the differences of classes versus objects.\n",
    "2. Describe why we use self as the first argument in the methods. \n",
    "3. What is a constructor? And why do we use it?\n",
    "4. Describe the differences between class and instance attributes. \n",
    "5. The following is a definition of the class *Point* that takes in the coordinate x, y. Add a method *plot_point* that plot the position of point. \n",
    "\n",
    "    ```python\n",
    "   import matplotlib.pyplot as plt\n",
    "\n",
    "   class Point():\n",
    "       def __init__(self, x, y):\n",
    "           self.x = x\n",
    "           self.y = y\n",
    "    ```\n",
    "6. Use the class from problem 5, add a method *calculate_dist* which takes in x and y from another point, and returns the distance calculated between the two points.  \n",
    "7. What's inheritance? \n",
    "8. How do we inherit from a superclass and add new methods?\n",
    "9. When we inherit from a superclass, we need to replace a method with a new one, how do we do that?\n",
    "10. What's the super method? Why do we need it?\n",
    "11. Create a class to model some real world object and create a new class to inherit from it. One example can be the following. You should use a different example and use as many things we learned as possible. "
   ]
  },
  {
   "cell_type": "code",
   "execution_count": 1,
   "metadata": {
    "button": false,
    "new_sheet": false,
    "run_control": {
     "read_only": false
    }
   },
   "outputs": [],
   "source": [
    "class Car():\n",
    "    def __init__(self, brand, color):\n",
    "        self.brand = brand\n",
    "        self.color = color\n",
    "    \n",
    "    def start_my_car(self):\n",
    "        print('I am ready to drive!')\n",
    "        \n",
    "class Truck(Car):\n",
    "    def __init__(self, brand, color, size):\n",
    "        super().__init__(brand, color)\n",
    "        self.size = size\n",
    "        \n",
    "    def start_my_car(self, key):\n",
    "        if key == 'truck_key':\n",
    "            print('I am ready to drive!')\n",
    "        else:\n",
    "            print('Key is not right')\n",
    "            \n",
    "    def stop_my_car(self, brake):\n",
    "        if brake:\n",
    "            print('The engine is stopped!')\n",
    "        else:\n",
    "            print('I am still running!')\n",
    "            \n",
    "truck1 = Truck('Toyota', 'Silver', 'Large')\n",
    "truck1.start_my_car('truck_key')\n",
    "truck1.stop_my_car(brake = False)"
   ]
  },
  {
   "cell_type": "markdown",
   "metadata": {
    "button": false,
    "new_sheet": false,
    "run_control": {
     "read_only": false
    }
   },
   "source": [
    "<!--NAVIGATION-->\n",
    "< [7.3 Inheritance](chapter07.03-Inheritance.ipynb) | [Contents](Index.ipynb) | [CHAPTER 8. Complexity](chapter08.00-Complexity.ipynb) >"
   ]
  }
 ],
 "metadata": {
  "kernelspec": {
   "display_name": "Python 3",
   "language": "python",
   "name": "python3"
  },
  "language_info": {
   "codemirror_mode": {
    "name": "ipython",
    "version": 3
   },
   "file_extension": ".py",
   "mimetype": "text/x-python",
   "name": "python",
   "nbconvert_exporter": "python",
   "pygments_lexer": "ipython3",
   "version": "3.6.7"
  }
 },
 "nbformat": 4,
 "nbformat_minor": 2
}
