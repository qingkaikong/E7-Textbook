{
 "cells": [
  {
   "cell_type": "markdown",
   "metadata": {},
   "source": [
    "<!--BOOK_INFORMATION-->\n",
    "<img align=\"left\" style=\"padding-right:10px;\" src=\"images/book_cover.jpg\" width=\"120\">\n",
    "\n",
    "*This notebook contains an excerpt from the [An Introduction To Python Programming And Numerical Methods For Scientists and Engineers](); the content is available [on GitHub]().*\n",
    "\n",
    "*The text is released under the [CC-BY-NC-ND license](https://creativecommons.org/licenses/by-nc-nd/3.0/us/legalcode), and code is released under the [MIT license](https://opensource.org/licenses/MIT). If you find this content useful, please consider supporting the work by [buying the book]()!*"
   ]
  },
  {
   "cell_type": "markdown",
   "metadata": {},
   "source": [
    "<!--NAVIGATION-->\n",
    "| [Contents](Index.ipynb) | [1.1 Python Basics](chapter01.00-Python-Basics.ipynb) >"
   ]
  },
  {
   "cell_type": "markdown",
   "metadata": {},
   "source": [
    "# Preface\n",
    "---\n",
    "## Purpose\n",
    "\n",
    "Because programming has become an essential component of engineering, science, medicine, media, business, finance, and many other fields, it is important for scientists and engineers to have a basic foundation in programming to be competitive. This book introduces programming to students from a wide range of backgruonds and gives them programming and mathematical tools that will be useful to them throughout their careers. \n",
    "\n",
    "For the most part, this book follows the standard material taught at the University of California, Berkeley, in the class *E7: Introduction to computer programming for scientists and engineers*. This class is taken by most science and engineering frehmen in the College of Engineering and by undergraduate students from other disciplines, including physics, biology, Earth and cognitive science. The course was originally taught in Matlab, with the recent trend data science movement at Berkeley, the Division of Data Sciences decides to transform this course into a Python oriented course. The course has two fundamental goals:\n",
    "\n",
    "* Teach Python programming to science and engineering students who do not have prior exposure to programming. \n",
    "* Introduce a variety of numerical analysis tools that are useful for solving science and engineering problems. \n",
    "\n",
    "These two goals are reflected in the two parts of this book:\n",
    "\n",
    "* Introduction to Programming for Scientists and Engineers\n",
    "* Introduction to Numerical Methods\n",
    "\n",
    "---\n",
    "## Prerequisites\n",
    "\n",
    "\n",
    "---\n",
    "\n",
    "## Organization\n",
    "\n",
    "\n",
    "---\n",
    "\n",
    "## What's Missing?\n",
    "\n",
    "\n",
    "---\n",
    "\n",
    "## How to read this book?\n",
    "\n",
    "\n",
    "---\n",
    "\n",
    "## Why Python?\n",
    "\n",
    "---\n",
    "## Python Version\n"
   ]
  },
  {
   "cell_type": "code",
   "execution_count": null,
   "metadata": {},
   "outputs": [],
   "source": []
  }
 ],
 "metadata": {
  "kernelspec": {
   "display_name": "Python 3",
   "language": "python",
   "name": "python3"
  },
  "language_info": {
   "codemirror_mode": {
    "name": "ipython",
    "version": 3
   },
   "file_extension": ".py",
   "mimetype": "text/x-python",
   "name": "python",
   "nbconvert_exporter": "python",
   "pygments_lexer": "ipython3",
   "version": "3.6.6"
  }
 },
 "nbformat": 4,
 "nbformat_minor": 2
}
