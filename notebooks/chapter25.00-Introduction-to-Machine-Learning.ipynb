{
 "cells": [
  {
   "cell_type": "markdown",
   "metadata": {
    "button": false,
    "new_sheet": false,
    "run_control": {
     "read_only": false
    }
   },
   "source": [
    "<!--BOOK_INFORMATION-->\n",
    "<img align=\"left\" style=\"padding-right:10px;\" src=\"images/book_cover.jpg\" width=\"120\">\n",
    "\n",
    "*This notebook is an extension from the [Python Programming and Numerical Methods - A Guide for Engineers and Scientists](https://www.elsevier.com/books/python-programming-and-numerical-methods/kong/978-0-12-819549-9), the content is also available at [Berkeley Python Numerical Methods](https://pythonnumericalmethods.berkeley.edu/notebooks/Index.html).*\n",
    "\n",
    "*The text is released under the [CC-BY-NC-ND license](https://creativecommons.org/licenses/by-nc-nd/3.0/us/legalcode), and code is released under the [MIT license](https://opensource.org/licenses/MIT). If you find this content useful, please consider supporting the work on [Elsevier](https://www.elsevier.com/books/python-programming-and-numerical-methods/kong/978-0-12-819549-9) or [Amazon](https://www.amazon.com/Python-Programming-Numerical-Methods-Scientists/dp/0128195495/ref=sr_1_1?dchild=1&keywords=Python+Programming+and+Numerical+Methods+-+A+Guide+for+Engineers+and+Scientists&qid=1604761352&sr=8-1)!*"
   ]
  },
  {
   "cell_type": "markdown",
   "metadata": {
    "button": false,
    "new_sheet": false,
    "run_control": {
     "read_only": false
    }
   },
   "source": [
    "<!--NAVIGATION-->\n",
    "< [24.5 Summary and Problems](chapter24.05-Summary-and-Problems.ipynb) | [Contents](Index.ipynb) | [25.1 Concept of Machine Learning](chapter25.01-Concept-of-Machine-Learning.ipynb)  >"
   ]
  },
  {
   "cell_type": "markdown",
   "metadata": {
    "button": false,
    "new_sheet": false,
    "run_control": {
     "read_only": false
    }
   },
   "source": [
    "# Chapter 25. Introduction to Machine Learning"
   ]
  },
  {
   "cell_type": "markdown",
   "metadata": {
    "button": false,
    "new_sheet": false,
    "run_control": {
     "read_only": false
    }
   },
   "source": [
    "#### CHAPTER OUTLINE\n",
    "\n",
    "---\n",
    "\n",
    "* [**25.1 Concept of Machine Learning**](chapter25.01-Concept-of-Machine-Learning.ipynb) \n",
    "* [**25.2 Classification**](chapter25.02-Classification.ipynb)\n",
    "* [**25.3 Regression**](chapter25.03-Regression.ipynb)\n",
    "* [**25.4 Clustering**](chapter25.04-Clustering.ipynb)\n",
    "* [**25.5 Summary and Problems**](chapter25.05-Summary-and-Problems.ipynb)"
   ]
  },
  {
   "cell_type": "markdown",
   "metadata": {
    "button": false,
    "new_sheet": false,
    "run_control": {
     "read_only": false
    }
   },
   "source": [
    "--- \n",
    "\n",
    "## Motivation\n",
    "\n",
    "We introduced different type of problems in the numerical analysis in the 2nd part of the book, which gives you a good basic knowledge to solve more problems in real-world. Recently, machine learning becomes more and more popular to make the computers learn from the data. Numerical analysis forms the foundation of many of the machine learning algorithms. Therefore, in the last chapter of the 2nd part of the book, we will introduce you some of the basic machine learning problems as a motivation for you to learn more tools and skills to solve problems in the future. \n",
    "\n",
    "In this chapter, we will not cover the mathematics behind machine learning, but instead to give you some of the intuition behind and the tools in Python to easily use the different algorithms. We will give you a tour of some of the important components in machine learning, such as, classification, regression, and clustering. Hope by the end of the chapter, you will have the interest to learn more about it. \n",
    "\n",
    "---"
   ]
  }
 ],
 "metadata": {
  "kernelspec": {
   "display_name": "Python 3",
   "language": "python",
   "name": "python3"
  },
  "language_info": {
   "codemirror_mode": {
    "name": "ipython",
    "version": 3
   },
   "file_extension": ".py",
   "mimetype": "text/x-python",
   "name": "python",
   "nbconvert_exporter": "python",
   "pygments_lexer": "ipython3",
   "version": "3.6.8"
  }
 },
 "nbformat": 4,
 "nbformat_minor": 2
}
