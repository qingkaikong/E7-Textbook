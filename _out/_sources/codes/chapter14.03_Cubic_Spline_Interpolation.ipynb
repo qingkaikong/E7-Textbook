{
 "cells": [
  {
   "cell_type": "markdown",
   "metadata": {},
   "source": [
    "# 14.3 Cubic Spline Interpolation"
   ]
  },
  {
   "cell_type": "markdown",
   "metadata": {},
   "source": [
    "TRY IT! Use `scipy.interpolate.CubicSpline` to plot the cubic spline interpolation of the data set $x = [0,1,2]$ and $y = [1,3,2]$ for $0 \\le x \\le 2$. (See Figure 14.4.)"
   ]
  },
  {
   "cell_type": "code",
   "execution_count": 19,
   "metadata": {},
   "outputs": [
    {
     "data": {
      "image/png": "[encoded data removed]",
      "text/plain": [
       "<Figure size 432x288 with 1 Axes>"
      ]
     },
     "metadata": {},
     "output_type": "display_data"
    }
   ],
   "source": [
    "import math\n",
    "import numpy as np\n",
    "import matplotlib.pyplot as plt\n",
    "%matplotlib inline\n",
    "\n",
    "fig = plt.figure()\n",
    "\n",
    "# Data\n",
    "x = np.array([0, 1, 2])\n",
    "y = np.array([1, 3, 2])\n",
    "\n",
    "# Calculations\n",
    "f = CubicSpline([0,1,2], [1,3,2])\n",
    "xnew = np.arange(0, 2, (2-0)/100)\n",
    "ynew = f(xnew)\n",
    "\n",
    "# x = np.insert(x, 3, 1.5)\n",
    "# y = np.insert(y, 3, f(1.5))\n",
    "\n",
    "# Plot\n",
    "plt.plot(xnew, ynew, c='b')\n",
    "plt.plot(x, y, 'o', alpha=.8, c='r')\n",
    "plt.plot(1.5, f(1.5),'o', c='g')\n",
    "plt.title('Cubic Spline Interpolation')\n",
    "plt.xlabel('x')\n",
    "plt.ylabel('y')\n",
    "plt.xlim([0,2])\n",
    "plt.grid(b=True, which='major', color='lightgrey', linestyle='-')\n",
    "\n",
    "plt.show()\n",
    "# Figure 14.2 Linear interpolation of the points $x = (0, 1, 2)$ and $y = (1, 3, 2)$."
   ]
  },
  {
   "cell_type": "code",
   "execution_count": 7,
   "metadata": {},
   "outputs": [
    {
     "name": "stdout",
     "output_type": "stream",
     "text": [
      "2.875\n"
     ]
    }
   ],
   "source": [
    "from scipy.interpolate import CubicSpline\n",
    "\n",
    "f = CubicSpline([0,1 ,2], [1,3,2])\n",
    "print(f(1.5))"
   ]
  },
  {
   "cell_type": "code",
   "execution_count": 58,
   "metadata": {},
   "outputs": [
    {
     "data": {
      "image/png": "[encoded data removed]",
      "text/plain": [
       "<Figure size 432x288 with 1 Axes>"
      ]
     },
     "metadata": {},
     "output_type": "display_data"
    }
   ],
   "source": [
    "import math\n",
    "import numpy as np\n",
    "import matplotlib.pyplot as plt\n",
    "%matplotlib inline\n",
    "\n",
    "fig = plt.figure()\n",
    "ax = fig.add_subplot(111)\n",
    "# Create data\n",
    "N = 4\n",
    "x = np.array([1,3,4,7], dtype=float)\n",
    "y = np.array([3,2,4,3], dtype=float)\n",
    "\n",
    "# Calculations\n",
    "f = CubicSpline(x, y)\n",
    "xnew = np.arange(0, 10, (10-0)/100)\n",
    "ynew = f(xnew)\n",
    "\n",
    "x_labels = [\"$x_\" + str(i) + \"$\" for i in range(1,N+1)]\n",
    "y_labels = [\"$y_\" + str(i) + \"$\" for i in range(1,N+1)]\n",
    "color = ['b','r','b','r','b','r','b']\n",
    "\n",
    "to_interp = [1.7, 3.5, 6.3]\n",
    "\n",
    "x_labels.insert(1, \"\")\n",
    "y_labels.insert(1, \"$S_1(x)$\")\n",
    "x = np.insert(x, 1, to_interp[0])\n",
    "y = np.insert(y, 1, f(to_interp[0]))\n",
    "\n",
    "x_labels.insert(3, \"\")\n",
    "y_labels.insert(3, \"$S_2(x)$\")\n",
    "x = np.insert(x, 3, to_interp[1])\n",
    "y = np.insert(y, 3, f(to_interp[1]))\n",
    "\n",
    "x_labels.insert(5, \"\")\n",
    "y_labels.insert(5, \"$S_3(x)$\")\n",
    "x = np.insert(x, 5, to_interp[2])\n",
    "y = np.insert(y, 5, f(to_interp[2]))\n",
    "\n",
    "# Plot\n",
    "plt.plot(xnew, ynew, c='b')\n",
    "plt.scatter(x, y, c=color)\n",
    "plt.title('Figure 14.4')\n",
    "plt.xlabel('x')\n",
    "plt.ylabel('y')\n",
    "plt.xlim([0,10])\n",
    "plt.ylim([0,10])\n",
    "for label, x_i, y_i in zip(y_labels, x, y):\n",
    "    ax.annotate(label, xy=(x_i,y_i), xytext=(6, 3), textcoords='offset points')\n",
    "plt.xticks(x, x_labels)\n",
    "\n",
    "plt.show()"
   ]
  },
  {
   "cell_type": "markdown",
   "metadata": {},
   "source": [
    "**TRY IT!** Find the cubic spline interpolation at $x = 1.5$ based on the data $x = [0,1,2]$, $y = [1,3,2]$.\n",
    "First we create the appropriate system of equations and find the coefficients of the cubic splines by solving the system in matrix form.\n",
    "The matrix form of the system of equations is:\n",
    "\n",
    "$\n",
    "  A =\n",
    "  \\left[ {\\begin{array}{ccccc}\n",
    "        0 &  0 &  0 &  1 &  0 &  0 &  0 &  0\\\\\n",
    "        0 &  0 &  0 &  0 &  1 &  1 &  1 &  1\\\\\n",
    "        1 &  1 &  1 &  1 &  0 &  0 &  0 &  0\\\\\n",
    "        0 &  0 &  0 &  0 &  8 &  4 &  2 &  1\\\\\n",
    "        3 &  2 &  1 &  0 & -3 & -2 & -1 &  0\\\\\n",
    "        6 &  2 &  0 &  0 & -6 & -2 &  0 &  0\\\\\n",
    "        0 &  2 &  0 &  0 &  0 &  0 &  0 &  0\\\\\n",
    "        0 &  0 &  0 &  0 & 12 &  2 &  0 &  0\n",
    "  \\end{array} } \\right]\n",
    "$\n",
    "\n",
    "$\n",
    "  b =\n",
    "  \\left[ {\\begin{array}{ccccc}\n",
    "        1\\\\\n",
    "        3\\\\\n",
    "        3\\\\\n",
    "        2\\\\\n",
    "        0\\\\\n",
    "        0\\\\\n",
    "        0\\\\\n",
    "        0\n",
    "  \\end{array} } \\right]\n",
    "$\n",
    "\n",
    "$\\begin{aligned}\n",
    "Ax&=b \\\\\n",
    "x&=A\\backslash b\n",
    "\\end{aligned}$"
   ]
  },
  {
   "cell_type": "code",
   "execution_count": 31,
   "metadata": {},
   "outputs": [
    {
     "name": "stdout",
     "output_type": "stream",
     "text": [
      "x =\n",
      "[-0.75  0.    2.75  1.    0.75 -4.5   7.25 -0.5 ]\n"
     ]
    }
   ],
   "source": [
    "import numpy as np\n",
    "import numpy.linalg as lin\n",
    "\n",
    "A = np.array([[ 0, 0, 0, 1, 0, 0, 0, 0],\n",
    "             [ 0, 0, 0, 0, 1, 1, 1, 1],\n",
    "             [ 1, 1, 1, 1, 0, 0, 0, 0],\n",
    "             [ 0, 0, 0, 0, 8, 4, 2, 1],\n",
    "             [ 3, 2, 1, 0,-3,-2,-1, 0],\n",
    "             [ 6, 2, 0, 0,-6,-2, 0, 0],\n",
    "             [ 0, 2, 0, 0, 0, 0, 0, 0],\n",
    "             [ 0, 0, 0, 0,12, 2, 0, 0]],\n",
    "             dtype=float)\n",
    "\n",
    "b = np.array([1, 3, 3, 2, 0, 0, 0, 0], dtype=float)\n",
    "\n",
    "x, resid, rank, s = np.linalg.lstsq(A, b, rcond=None)\n",
    "print(\"x =\")\n",
    "print(np.around(x, decimals=4))"
   ]
  }
 ],
 "metadata": {
  "kernelspec": {
   "display_name": "Python 3",
   "language": "python",
   "name": "python3"
  },
  "language_info": {
   "codemirror_mode": {
    "name": "ipython",
    "version": 3
   },
   "file_extension": ".py",
   "mimetype": "text/x-python",
   "name": "python",
   "nbconvert_exporter": "python",
   "pygments_lexer": "ipython3",
   "version": "3.7.0"
  }
 },
 "nbformat": 4,
 "nbformat_minor": 2
}
