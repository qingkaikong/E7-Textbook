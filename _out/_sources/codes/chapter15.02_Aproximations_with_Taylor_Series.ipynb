{
 "cells": [
  {
   "cell_type": "markdown",
   "metadata": {},
   "source": [
    "# Chapter 15.2 Approximations with Taylor Series"
   ]
  },
  {
   "cell_type": "markdown",
   "metadata": {},
   "source": [
    "TRY IT! Use MATLAB to plot the sin function along with the first, third, fifth, and seventh order Taylor series approximations. Note that this is the zero-th to third term in the formula given earlier (See Figure 15.1.)."
   ]
  },
  {
   "cell_type": "code",
   "execution_count": 17,
   "metadata": {},
   "outputs": [
    {
     "data": {
      "text/plain": [
       "Text(0,0.5,'y')"
      ]
     },
     "execution_count": 17,
     "metadata": {},
     "output_type": "execute_result"
    },
    {
     "data": {
      "image/png": "[encoded data removed]",
      "text/plain": [
       "<Figure size 432x288 with 1 Axes>"
      ]
     },
     "metadata": {},
     "output_type": "display_data"
    }
   ],
   "source": [
    "import math\n",
    "import numpy as np\n",
    "import matplotlib.pyplot as plt\n",
    "%matplotlib inline\n",
    "\n",
    "c = ['b','g','r','c']\n",
    "x = np.linspace(-math.pi, math.pi, 200)\n",
    "y = np.zeros(x.shape)\n",
    "\n",
    "fig = plt.figure()\n",
    "for n in range(0,4):\n",
    "    y = y + (np.power(-1, n) * np.power(x,(2*n+1))) / math.factorial(2*n+1)\n",
    "    plt.plot(x,y,c[n], alpha=0.5)\n",
    "\n",
    "plt.plot(x, np.sin(x), 'k', alpha=0.5)\n",
    "plt.grid()\n",
    "plt.title('Taylor Series Approximations of Various Orders')\n",
    "plt.xlabel('x')\n",
    "plt.ylabel('y')"
   ]
  },
  {
   "cell_type": "markdown",
   "metadata": {},
   "source": [
    "As you can see, the approximation approaches the analytic function quickly, even for $x$ not near to $a = 0$."
   ]
  },
  {
   "cell_type": "markdown",
   "metadata": {},
   "source": [
    "**TRY IT!** Compute the seventh order Taylor series approximation for $sin(x)$ around $a = 0$ at $x = π/2$. Compare the value to the correct value, 1."
   ]
  },
  {
   "cell_type": "code",
   "execution_count": 18,
   "metadata": {},
   "outputs": [
    {
     "data": {
      "text/plain": [
       "0.9998431013994987"
      ]
     },
     "execution_count": 18,
     "metadata": {},
     "output_type": "execute_result"
    }
   ],
   "source": [
    "x = math.pi/2\n",
    "y = 0\n",
    "for i in range(0,4):\n",
    "    y = y + (np.power(-1, i) * np.power(x,(2*i+1))) / math.factorial(2*i+1)\n",
    "y"
   ]
  },
  {
   "cell_type": "markdown",
   "metadata": {},
   "source": [
    "The seventh order Taylor series approximation is very close to the theoretical value of the function even if it is computed far from the point around which the Taylor series was computed (i.e., $x = π/2$ and $a = 0$).\n"
   ]
  },
  {
   "cell_type": "markdown",
   "metadata": {},
   "source": [
    "**TRY IT!** Take the linear approximation for $e^{x}$ around the point $a = 0$. Use the linear approximation for $e^{x}$ to approximate the value of $e^{1}$ and $e^{0.01}$. Use Numpy’s function `exp` to compute `exp(1)` and `exp(0.01)` for comparison.\n",
    "The linear approximation of $e^{x}$ around $a = 0$ is $1 + x$. Numpy’s exp function gives the following:"
   ]
  },
  {
   "cell_type": "code",
   "execution_count": 19,
   "metadata": {},
   "outputs": [
    {
     "data": {
      "text/plain": [
       "2.718281828459045"
      ]
     },
     "execution_count": 19,
     "metadata": {},
     "output_type": "execute_result"
    }
   ],
   "source": [
    "np.exp(1)"
   ]
  },
  {
   "cell_type": "code",
   "execution_count": 20,
   "metadata": {},
   "outputs": [
    {
     "data": {
      "text/plain": [
       "1.010050167084168"
      ]
     },
     "execution_count": 20,
     "metadata": {},
     "output_type": "execute_result"
    }
   ],
   "source": [
    "np.exp(0.01)"
   ]
  },
  {
   "cell_type": "markdown",
   "metadata": {},
   "source": [
    "The linear approximation of $e^{1}$ is $2$, which is inaccurate, and the linear approximation of $e^{0.01}$ is $1.01$, which is very good. This example illustrates how the linear approximation becomes close to the functions close to the point around which the approximation is taken."
   ]
  },
  {
   "cell_type": "code",
   "execution_count": null,
   "metadata": {},
   "outputs": [],
   "source": []
  }
 ],
 "metadata": {
  "kernelspec": {
   "display_name": "Python 3",
   "language": "python",
   "name": "python3"
  },
  "language_info": {
   "codemirror_mode": {
    "name": "ipython",
    "version": 3
   },
   "file_extension": ".py",
   "mimetype": "text/x-python",
   "name": "python",
   "nbconvert_exporter": "python",
   "pygments_lexer": "ipython3",
   "version": "3.7.0"
  }
 },
 "nbformat": 4,
 "nbformat_minor": 2
}
