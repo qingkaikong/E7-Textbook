{
 "cells": [
  {
   "cell_type": "code",
   "execution_count": 1,
   "metadata": {},
   "outputs": [],
   "source": [
    "import numpy as np\n",
    "from matplotlib import pyplot as plt"
   ]
  },
  {
   "cell_type": "markdown",
   "metadata": {},
   "source": [
    "## Example:\n",
    "Consider the function $f(x) = cos(x)$.  We know the derivative of $cos(x)$ is $-sin(x)$.  Although in practice we may not know the underlying function we are finding the derivative for, we use the simple example to illustrate the aforementioned numerical differentiation methods and their accuracy.  The following code computes the derivatives numerically.  "
   ]
  },
  {
   "cell_type": "code",
   "execution_count": 2,
   "metadata": {},
   "outputs": [
    {
     "data": {
      "image/png": "[encoded data removed]",
      "text/plain": [
       "<matplotlib.figure.Figure at 0x29adadfa438>"
      ]
     },
     "metadata": {},
     "output_type": "display_data"
    },
    {
     "name": "stdout",
     "output_type": "stream",
     "text": [
      "0.0499583472197\n"
     ]
    }
   ],
   "source": [
    "h = 0.1 # step size\n",
    "x = np.arange(-2, 2, .1) # define grid\n",
    "y = np.cos(x) # compute function\n",
    "\n",
    "forward_diff = np.diff(y)/h # compute vector of forward differences\n",
    "x_diff = x[:-1:] # compute corresponding grid\n",
    "exact_solution = -np.sin(x_diff) # compute exact solution\n",
    "\n",
    "# Plot solution\n",
    "plt.plot(x_diff, forward_diff, '--')\n",
    "# plot of the approximate derivative is in dashed lines\n",
    "plt.plot(x_diff, exact_solution) # plot of the exact derivative in solid line\n",
    "plt.show()\n",
    "\n",
    "# Compute max error between numerical derivative and exact solution\n",
    "max_error = max(abs(exact_solution - forward_diff))\n",
    "print(max_error)"
   ]
  },
  {
   "cell_type": "markdown",
   "metadata": {},
   "source": [
    "As Figure ____ shows, there is a small offset between the two curves, which results from the nuerical error in the evaluation of the numerical derivatives.  The maximal error between the two numerical results is of the order 0.05 and expected to decrease with the size of the step"
   ]
  },
  {
   "cell_type": "markdown",
   "metadata": {},
   "source": [
    "## Example:\n",
    "The following code computes the numerical derivative of $f(x) = cos(x)$ using the forward difference formula for decreasing step sizes, $h$.  It then plots the maximum error between the approximated derivative and the true derivative versus $h$ (Figure ____)."
   ]
  },
  {
   "cell_type": "code",
   "execution_count": 3,
   "metadata": {},
   "outputs": [],
   "source": [
    "%reset -f"
   ]
  },
  {
   "cell_type": "code",
   "execution_count": 4,
   "metadata": {
    "collapsed": true
   },
   "outputs": [],
   "source": [
    "import numpy as np\n",
    "from matplotlib import pyplot as plt"
   ]
  },
  {
   "cell_type": "code",
   "execution_count": 5,
   "metadata": {},
   "outputs": [
    {
     "data": {
      "image/png": "[encoded data removed]",
      "text/plain": [
       "<matplotlib.figure.Figure at 0x29adaea2cf8>"
      ]
     },
     "metadata": {},
     "output_type": "display_data"
    }
   ],
   "source": [
    "h = 1 # define step size\n",
    "iterations = 20 # define number of iterations to perform\n",
    "step_size = [] # create a list to store our step sizes\n",
    "max_error = [] # create a list to store maximum error for each step size\n",
    "\n",
    "for i in range(iterations):\n",
    "    h /= 2 # halve the step size\n",
    "    step_size.append(h) # store this step size\n",
    "    x = np.arange(0, 2 * np.pi, h) # compute new grid\n",
    "    y = np.cos(x) # compute function value at grid\n",
    "    forward_diff = np.diff(y)/h # compute vector of forward differences\n",
    "    x_diff = x[:-1] # compute corresponding grid\n",
    "    exact_solution = -np.sin(x_diff) # compute exact solution\n",
    "    \n",
    "    # Compute max error between numerical derivative and exact solution\n",
    "    max_error.append(max(abs(exact_solution - forward_diff)))\n",
    "\n",
    "# produce log-log plot of max error versus step size\n",
    "plt.loglog(step_size, max_error, 'v')\n",
    "plt.show()"
   ]
  },
  {
   "cell_type": "code",
   "execution_count": null,
   "metadata": {
    "collapsed": true
   },
   "outputs": [],
   "source": []
  }
 ],
 "metadata": {
  "kernelspec": {
   "display_name": "Python 3",
   "language": "python",
   "name": "python3"
  },
  "language_info": {
   "codemirror_mode": {
    "name": "ipython",
    "version": 3
   },
   "file_extension": ".py",
   "mimetype": "text/x-python",
   "name": "python",
   "nbconvert_exporter": "python",
   "pygments_lexer": "ipython3",
   "version": "3.6.1"
  }
 },
 "nbformat": 4,
 "nbformat_minor": 2
}
