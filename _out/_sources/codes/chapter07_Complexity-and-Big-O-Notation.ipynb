{
 "cells": [
  {
   "cell_type": "markdown",
   "metadata": {},
   "source": [
    "## Motivation"
   ]
  },
  {
   "cell_type": "markdown",
   "metadata": {},
   "source": [
    "Once you have programmed a solution to a problem, an important question is “How long is my program going to run?” Clearly the answer to this question depends on many factors, such as the computer memory, the computer speed, and the size of the problem. For example, if your function sums every element of a very large array, the time to complete the task will depend on whether your computer can hold the entire array in its memory at once, how fast your computer can do additions, and the size of the array.\n",
    "\n",
    "The effort required to run a program to completion is the notion of “complexity,” and it is the topic of this chapter. By the end of this chapter, you should be able to estimate the complexity of simple programs and identify poor complexity properties when you see them."
   ]
  },
  {
   "cell_type": "markdown",
   "metadata": {},
   "source": [
    "## 7.1 Complexity and Big-O Notation"
   ]
  },
  {
   "cell_type": "markdown",
   "metadata": {},
   "source": [
    "The complexity of a function is the relationship between the size of the input and the difﬁculty of running the function to completion. The size of the input is usually denoted by $n$. In computer science, this is usually taken to be the number of bits required to describe the problem. However, $n$ usually describes something more tangible, such as the length of an array. The difﬁculty of a problem can be measured in several ways. It can be measured by the number of bit operations needed for the function to ﬁnish, which means the number of times a 1 must be turned to a 0 and vice versa, as well as a few other simple things that computers can do. It is usually more suitable to describe the difﬁculty of the problem in terms of basic operations: additions, subtractions, multiplications, divisions, assignments, and function calls. Although each basic operation takes different amounts of time, the number of basic operations needed to complete a function is sufﬁciently related to the running time to be useful, and it is much easier to count. "
   ]
  },
  {
   "cell_type": "code",
   "execution_count": 3,
   "metadata": {
    "collapsed": true
   },
   "outputs": [],
   "source": [
    "def foo(n):\n",
    "    \"\"\"Count the number of basic operations\n",
    "    in terms of N, required for the following\n",
    "    function to terminate\n",
    "    \"\"\"\n",
    "    out = 0\n",
    "    for i in range(1, n+1): # note that range(a,b) includes a and excludes b\n",
    "        for j in range(1, n+1):\n",
    "            out += i * j\n"
   ]
  },
  {
   "cell_type": "code",
   "execution_count": 4,
   "metadata": {
    "collapsed": true
   },
   "outputs": [],
   "source": [
    "def my_fib_iter(n):\n",
    "    \"\"\"Determine the complexity of the iterative\n",
    "    Fibonacci function in Big-O notation\"\"\"\n",
    "    lst = [1, 1]\n",
    "    \n",
    "    assert n >= 0, \"We define the 0th and 1st fibonacci numbers to be 1\"\n",
    "    if n < 2:\n",
    "        return lst[n]\n",
    "    \n",
    "    for i in range(2, n+1):\n",
    "        lst.append(lst[i-1] + lst[i-2])\n",
    "    return lst[-1] # note that negative indexing counts backwards from the end of the list\n"
   ]
  },
  {
   "cell_type": "code",
   "execution_count": 7,
   "metadata": {
    "collapsed": true
   },
   "outputs": [],
   "source": [
    "def my_fib_rec(n):\n",
    "    \"\"\"Give an upper bound on the complexity of the recursive implementation of Fibonacci.\n",
    "    Do you think it is a good approximation of the upper bound?  Do you think that\n",
    "    recursive Fibonacci could possibly be polynomial time?\"\"\"\n",
    "    #We define the 0th and 1st fibonacci numbers to be 1\n",
    "    if n < 2:\n",
    "        return 1\n",
    "    else:\n",
    "        return my_fib_rec(n-1) + my_fib_rec(n-2)\n",
    "    "
   ]
  },
  {
   "cell_type": "code",
   "execution_count": 8,
   "metadata": {
    "collapsed": true
   },
   "outputs": [],
   "source": [
    "def my_divide_by_two(n):\n",
    "    out = 0\n",
    "    while n > 1:\n",
    "        n = n / 2\n",
    "        out += 1\n"
   ]
  },
  {
   "cell_type": "code",
   "execution_count": 16,
   "metadata": {},
   "outputs": [
    {
     "name": "stdout",
     "output_type": "stream",
     "text": [
      "2.3486624596586694\n"
     ]
    }
   ],
   "source": [
    "# \"Profiler\" Test\n",
    "### NOTE: Profiler is a MATLAB specific tool\n",
    "# I changed the example slightly to use time.clock to measure\n",
    "# the runtime manually.  This preserves the original intention\n",
    "# of the example.\n",
    "###\n",
    "import time\n",
    "def slow_sum():\n",
    "    import numpy as np\n",
    "\n",
    "    n = 1000\n",
    "    m = 10000\n",
    "\n",
    "    for i in range(n):\n",
    "        a = np.random.rand(m)\n",
    "        # we create a size m array of random numbers\n",
    "        # (random numbers reduces the impact of caching on runtime)\n",
    "        s = 0\n",
    "        for j in range(m):\n",
    "            s += a[j]\n",
    "            # in this loop we iterate through the array\n",
    "            # and add elements to the sum one by one\n",
    "\n",
    "t0 = time.clock()\n",
    "slow_sum()\n",
    "t1 = time.clock()\n",
    "print(t1 - t0)"
   ]
  },
  {
   "cell_type": "code",
   "execution_count": 17,
   "metadata": {},
   "outputs": [
    {
     "name": "stdout",
     "output_type": "stream",
     "text": [
      "0.12212653292971254\n"
     ]
    }
   ],
   "source": [
    "# \"Profiler\" Test (Modified)\n",
    "def fast_sum():\n",
    "    n = 1000\n",
    "    m = 10000\n",
    "\n",
    "    for i in range(n):\n",
    "        a = np.random.rand(m)\n",
    "        s = np.sum(a)\n",
    "        # instead of manually iterating, we use a built-in \"sum\" function\n",
    "\n",
    "t0 = time.clock()\n",
    "fast_sum()\n",
    "t1 = time.clock()\n",
    "print(t1 - t0)"
   ]
  },
  {
   "cell_type": "code",
   "execution_count": null,
   "metadata": {
    "collapsed": true
   },
   "outputs": [],
   "source": []
  }
 ],
 "metadata": {
  "kernelspec": {
   "display_name": "Python 3",
   "language": "python",
   "name": "python3"
  },
  "language_info": {
   "codemirror_mode": {
    "name": "ipython",
    "version": 3
   },
   "file_extension": ".py",
   "mimetype": "text/x-python",
   "name": "python",
   "nbconvert_exporter": "python",
   "pygments_lexer": "ipython3",
   "version": "3.6.1"
  }
 },
 "nbformat": 4,
 "nbformat_minor": 2
}
