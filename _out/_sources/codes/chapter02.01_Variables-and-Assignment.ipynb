{
 "cells": [
  {
   "cell_type": "markdown",
   "metadata": {},
   "source": [
    "# __Chapter 2: Variables and Basic Data Structures__"
   ]
  },
  {
   "cell_type": "markdown",
   "metadata": {},
   "source": [
    "Currently, technology can acquire information from the physical world at an enormous rate. For example,\n",
    "there are sensors that can take tens of thousands of pressure, temperature, and acceleration readings per\n",
    "second. To make sense of all this data and process it in a way that will help solve engineering problems\n",
    "requires storing information in data structures that you and MATLAB can easily work with.\n",
    "\n",
    "Variables are used in MATLAB to store and work with data. However, data can take many forms.\n",
    "For example, data can be numbers, words, or have a more complicated structure. It is only natural that\n",
    "MATLAB would have different kinds of variables to hold different kinds of data. In this chapter, you\n",
    "will learn how to create and manipulate MATLAB’s most common variable types."
   ]
  },
  {
   "cell_type": "markdown",
   "metadata": {},
   "source": [
    "## __2.1__ Variables and Assignment"
   ]
  },
  {
   "cell_type": "markdown",
   "metadata": {},
   "source": [
    "When programming, it is useful to be able to store information in variables. A **variable** is a string of\n",
    "characters and numbers associated with a piece of information. The **assignment operator**, denoted by\n",
    "the “=” symbol, is the operator that is used to assign values to variables in MATLAB. The line `x=\n",
    "1` takes the known value, 1, and **assigns** that value to the variable with name “`x`.” After executing this\n",
    "line, you will see a new variable appear in the workspace window. Until the value is changed or the\n",
    "variable deleted, the character `x` behaves like the value 1."
   ]
  },
  {
   "cell_type": "markdown",
   "metadata": {},
   "source": [
    "**TRY IT!** Assign the value 2 to the variable y. Multiply y by 3 to show that it behaves like the\n",
    "value 2."
   ]
  },
  {
   "cell_type": "code",
   "execution_count": 2,
   "metadata": {},
   "outputs": [
    {
     "data": {
      "text/plain": [
       "2"
      ]
     },
     "execution_count": 2,
     "metadata": {},
     "output_type": "execute_result"
    }
   ],
   "source": [
    "y = 2\n",
    "y"
   ]
  },
  {
   "cell_type": "code",
   "execution_count": 3,
   "metadata": {},
   "outputs": [
    {
     "data": {
      "text/plain": [
       "6"
      ]
     },
     "execution_count": 3,
     "metadata": {},
     "output_type": "execute_result"
    }
   ],
   "source": [
    "y*3"
   ]
  },
  {
   "cell_type": "markdown",
   "metadata": {},
   "source": [
    "The **workspace** is an abstraction for the space in the computer’s memory being utilized to store\n",
    "variables. For now, it is sufficient to know that the command window has its own workspace, the\n",
    "contents of which are made visually available in the workspace window. As a result of the previous\n",
    "example, you will see the variable `y` appear in the workspace window. You can view a list of all the\n",
    "variables in the command window’s workspace using the function `whos`.\n",
    "\n",
    "Note that the equal sign in programming is <i>not</i> the same as a truth statement in mathematics. In math,\n",
    "the statement <i>x = 2</i> declares the universal truth within the given framework, <i>x is 2</i>. In programming, the\n",
    "statement `x=2` means a known value is being associated with a variable name, <i>store</i> 2 in x. Although\n",
    "it is perfectly valid to say <i>1 = x</i> in mathematics, assignments in MATLAB always go <i>left</i>: meaning the\n",
    "value to the right of the equal sign is assigned to the variable on the left of the equal sign. Therefore,\n",
    "`1=x` will generate an error in MATLAB. The assignment operator is always last in the order of\n",
    "operations relative to mathematical, logical, and comparison operators."
   ]
  },
  {
   "cell_type": "markdown",
   "metadata": {},
   "source": [
    "**TRY IT!** The mathematical statement <i>x=x+1</i> has no solution for any value of <i>x</i>. In programming,\n",
    "if we initialize the value of `x` to be 1, then the statement makes perfect sense. It means, “Add `x`\n",
    "and 1, which is 2, then assign that value to the variable `x`.” Note that this operation overwrites the\n",
    "previous value stored in `x`."
   ]
  },
  {
   "cell_type": "code",
   "execution_count": 5,
   "metadata": {},
   "outputs": [
    {
     "data": {
      "text/plain": [
       "1"
      ]
     },
     "execution_count": 5,
     "metadata": {},
     "output_type": "execute_result"
    }
   ],
   "source": [
    "x = 1\n",
    "x"
   ]
  },
  {
   "cell_type": "code",
   "execution_count": 6,
   "metadata": {},
   "outputs": [
    {
     "data": {
      "text/plain": [
       "2"
      ]
     },
     "execution_count": 6,
     "metadata": {},
     "output_type": "execute_result"
    }
   ],
   "source": [
    "x = x + 1\n",
    "x"
   ]
  },
  {
   "cell_type": "markdown",
   "metadata": {},
   "source": [
    "There are some restrictions on the names variables can take. Variables can only contain alphanumeric\n",
    "characters (letters and numbers) as well as underscores. However, the first character of a variable name\n",
    "must be a letter. The maximum length of a variable name is 255 characters, which is rarely a problem.\n",
    "Spaces within a variable name are not permitted, and the variable names are case-sensitive (e.g., `x` and\n",
    "`X` will be considered different variables)."
   ]
  },
  {
   "cell_type": "markdown",
   "metadata": {},
   "source": [
    "**TIP!** Unlike in pure mathematics, variables in programming almost always represent <i>something</i>\n",
    "tangible. It may be the distance between two points in space or the number of rabbits in a population.\n",
    "Therefore, as your code becomes increasingly complicated, it is very important that your variables carry a name that can easily be associated with what they represent. For example, the distance\n",
    "between two points in space is better represented by the variable `dist` than `x`, and the number of\n",
    "rabbits in a population is better represented by `nRabbits` than `y`."
   ]
  },
  {
   "cell_type": "markdown",
   "metadata": {},
   "source": [
    "Note that when a variable is assigned, it has no memory of <i>how</i> it was assigned. That is, if the value\n",
    "of a variable, `y`, is constructed from other variables, like `x`, reassigning the value of `x` will not change\n",
    "the value of `y`."
   ]
  },
  {
   "cell_type": "markdown",
   "metadata": {},
   "source": [
    "**EXAMPLE:** What value will `y` have after the following lines of code are executed?\n",
    "```\n",
    ">> x = 1\n",
    ">> y = x + 1\n",
    ">> x = 2\n",
    "```"
   ]
  },
  {
   "cell_type": "code",
   "execution_count": 7,
   "metadata": {},
   "outputs": [
    {
     "data": {
      "text/plain": [
       "2"
      ]
     },
     "execution_count": 7,
     "metadata": {},
     "output_type": "execute_result"
    }
   ],
   "source": [
    "x = 1\n",
    "y = x + 1\n",
    "x = 2\n",
    "y"
   ]
  },
  {
   "cell_type": "markdown",
   "metadata": {},
   "source": [
    "**WARNING!** You can overwrite variables or functions that have been stored in MATLAB. For\n",
    "example, the command `sin = 2` will store the value 2 in the variable with name `sin`. After\n",
    "this assignment `sin` will behave like the value 2 instead of the function <i>sin</i>. Therefore, you should\n",
    "always be careful not to give your variables the same name as built-in functions or values. An easy\n",
    "way to check if a name is already being used is by using the help function."
   ]
  },
  {
   "cell_type": "markdown",
   "metadata": {},
   "source": [
    "You can clear a variable from the workspace using the `clear` function. Typing `clear x` will\n",
    "clear the variable `x` from the workspace. Typing `clear` or `clear all` will remove all the\n",
    "variables from the workspace. Typing `clc` will clear the screen, but will not remove any of your\n",
    "variables.\n",
    "\n",
    "In mathematics, variables are usually associated with unknown numbers; in programming, variables\n",
    "are associated with a value of a certain type. There are many data types that can be assigned to variables.\n",
    "A **data type** is a classification of the type of information that is being stored in a variable. The basic\n",
    "data types that you will utilize throughout this book are logical, double, `char`, struct, and cell. A formal\n",
    "description of these data types is given in the following sections.\n",
    "\n",
    "First, we give a brief overview of matrices and their parts. A **matrix** or **array** can be viewed as\n",
    "a rectangular table of values, not necessarily numerical values. An **element of a matrix** is a unit of\n",
    "information contained in a matrix. An **index of a matrix** is an address within that array. For this book,\n",
    "we will be dealing exclusively with one- and two-dimensional arrays. For one-dimensional arrays, the\n",
    "index is a positive integer denoting the position of the element under consideration. For two-dimensional\n",
    "arrays, the index is a pair of positive integers that denotes the row and column of the element under\n",
    "consideration.\n",
    "\n",
    "In mathematics, matrices are usually associated with tables of numbers. However, in MATLAB,\n",
    "every value is considered to be a matrix. Words are defined as a matrix of letters. Even a single number\n",
    "is considered a 1 × 1 matrix."
   ]
  },
  {
   "cell_type": "markdown",
   "metadata": {},
   "source": [
    "**TIP!** Some of the data structures that you will create and work with will be very large, having\n",
    "thousands or millions of entries. Since it is not useful for a human to physically view the contents\n",
    "of these data structures, a semicolon can be used after a variable is created to suppress the display.\n",
    "For example, `x = 2`; will not display the resulting assignment to the screen, but the assignment\n",
    "to `x` will still be executed. You can verify this by looking in the workspace window."
   ]
  },
  {
   "cell_type": "markdown",
   "metadata": {},
   "source": [
    "**TRY IT!** Assign the value 2 to the variable `x` with a semicolon and without a semicolon after the\n",
    "command."
   ]
  },
  {
   "cell_type": "markdown",
   "metadata": {},
   "source": [
    "**NOT SURE WHAT EXAMPLE TO PUT**"
   ]
  },
  {
   "cell_type": "markdown",
   "metadata": {},
   "source": [
    "**TIP!** Now that you know how to assign variables, it is important that you learn to <i>never</i> leave\n",
    "unassigned commands. An **unassigned command** is an operation that has a result, but that result\n",
    "is not assigned to a variable. For example, you should never use `2+2`. You should instead\n",
    "assign it to some variable `x=2+2`. This allows you to “hold on” to the results of previous\n",
    "commands and will make your interaction with MATLAB must less confusing."
   ]
  },
  {
   "cell_type": "code",
   "execution_count": null,
   "metadata": {},
   "outputs": [],
   "source": []
  }
 ],
 "metadata": {
  "kernelspec": {
   "display_name": "Python 3",
   "language": "python",
   "name": "python3"
  },
  "language_info": {
   "codemirror_mode": {
    "name": "ipython",
    "version": 3
   },
   "file_extension": ".py",
   "mimetype": "text/x-python",
   "name": "python",
   "nbconvert_exporter": "python",
   "pygments_lexer": "ipython3",
   "version": "3.6.5"
  }
 },
 "nbformat": 4,
 "nbformat_minor": 2
}
