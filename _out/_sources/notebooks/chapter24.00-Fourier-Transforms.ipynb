{
 "cells": [
  {
   "cell_type": "markdown",
   "metadata": {
    "button": false,
    "new_sheet": false,
    "run_control": {
     "read_only": false
    }
   },
   "source": [
    "<!--BOOK_INFORMATION-->\n",
    "<img align=\"left\" style=\"padding-right:10px;\" src=\"images/book_cover.jpg\" width=\"120\">\n",
    "\n",
    "*This notebook contains an excerpt from the [Python Programming And Numerical Methods: A Guide For Engineers And Scientists](); the content is available [on GitHub]().*\n",
    "\n",
    "*The text is released under the [CC-BY-NC-ND license](https://creativecommons.org/licenses/by-nc-nd/3.0/us/legalcode), and code is released under the [MIT license](https://opensource.org/licenses/MIT). If you find this content useful, please consider supporting the work by [buying the book]()!*"
   ]
  },
  {
   "cell_type": "markdown",
   "metadata": {
    "button": false,
    "new_sheet": false,
    "run_control": {
     "read_only": false
    }
   },
   "source": [
    "<!--NAVIGATION-->\n",
    "< [23.5 Summary and Problems](chapter23.05-Summary-and-Problems.ipynb) | [Contents](Index.ipynb) | [24.1 The Basics of Waves](chapter24.01-The-Basics-of-waves.ipynb) >"
   ]
  },
  {
   "cell_type": "markdown",
   "metadata": {
    "button": false,
    "new_sheet": false,
    "run_control": {
     "read_only": false
    }
   },
   "source": [
    "# Fourier Transform"
   ]
  },
  {
   "cell_type": "markdown",
   "metadata": {
    "button": false,
    "new_sheet": false,
    "run_control": {
     "read_only": false
    }
   },
   "source": [
    "#### CHAPTER OUTLINE\n",
    "\n",
    "---\n",
    "\n",
    "* [**24.1 The Basics of Waves**](chapter24.01-The-Basics-of-waves.ipynb) \n",
    "* [**24.2 Discrete Fourier Transform (DFT)**](chapter24.02-Discrete-Fourier-Transform.ipynb)\n",
    "* [**24.3 Fast Fourier Transform (FFT)**](chapter24.03-Fast-Fourier-Transform.ipynb)\n",
    "* [**24.4 FFT in Python**](chapter24.04-FFT-in-Python.ipynb)\n",
    "* [**24.5 Summary and Problems**](chapter24.05-Summary-and-Problems.ipynb)"
   ]
  },
  {
   "cell_type": "markdown",
   "metadata": {
    "button": false,
    "new_sheet": false,
    "run_control": {
     "read_only": false
    }
   },
   "source": [
    "--- \n",
    "\n",
    "## Motivation\n",
    "\n",
    "In this chapter, we will start to introduce you the Fourier method that named after the French mathematician and physicist Joseph Fourier, who used this type of method to study the heat transfer. The basic idea of this method is to express some complicated functions as the infinite sum of sine and cosine waves. We saw this in the previous chapters, that we can decompose a function using the Taylor series, which express the function with an infinite sum of polynomials.\n",
    "\n",
    "The Fourier method has many applications in engineering and science, such as signal processing, partial differential equations, image processing and so on. The Fast Fourier Transform is chosen as one of the 10 algorithms with the greatest influence on the development and practice of science and engineering in the 20th century in the January/February 2000 issue of *Computing in Science and Engineering*. In this chapter, we take the Fourier transform as an independent chapter with more focus on the signal processing, which we will encounter in many problems in science and engineering. By the end of this chapter, you should be able to know the basics of Fourier transform, as well as how to do simple signal analysis with it.  \n",
    "\n",
    "---"
   ]
  }
 ],
 "metadata": {
  "kernelspec": {
   "display_name": "Python 3",
   "language": "python",
   "name": "python3"
  },
  "language_info": {
   "codemirror_mode": {
    "name": "ipython",
    "version": 3
   },
   "file_extension": ".py",
   "mimetype": "text/x-python",
   "name": "python",
   "nbconvert_exporter": "python",
   "pygments_lexer": "ipython3",
   "version": "3.6.7"
  }
 },
 "nbformat": 4,
 "nbformat_minor": 2
}
