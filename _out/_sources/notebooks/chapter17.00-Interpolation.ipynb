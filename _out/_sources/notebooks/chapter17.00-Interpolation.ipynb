{
 "cells": [
  {
   "cell_type": "markdown",
   "metadata": {
    "button": false,
    "new_sheet": false,
    "run_control": {
     "read_only": false
    }
   },
   "source": [
    "<!--BOOK_INFORMATION-->\n",
    "<img align=\"left\" style=\"padding-right:10px;\" src=\"images/book_cover.jpg\" width=\"120\">\n",
    "\n",
    "*This notebook contains an excerpt from the [Python Programming and Numerical Methods - A Guide for Engineers and Scientists](https://www.elsevier.com/books/python-programming-and-numerical-methods/kong/978-0-12-819549-9), the content is also available at [Berkeley Python Numerical Methods](https://pythonnumericalmethods.berkeley.edu/notebooks/Index.html).*\n",
    "\n",
    "*The copyright of the book belongs to Elsevier. We also have this interactive book online for a better learning experience. The code is released under the [MIT license](https://opensource.org/licenses/MIT). If you find this content useful, please consider supporting the work on [Elsevier](https://www.elsevier.com/books/python-programming-and-numerical-methods/kong/978-0-12-819549-9) or [Amazon](https://www.amazon.com/Python-Programming-Numerical-Methods-Scientists/dp/0128195495/ref=sr_1_1?dchild=1&keywords=Python+Programming+and+Numerical+Methods+-+A+Guide+for+Engineers+and+Scientists&qid=1604761352&sr=8-1)!*"
   ]
  },
  {
   "cell_type": "markdown",
   "metadata": {
    "button": false,
    "new_sheet": false,
    "run_control": {
     "read_only": false
    }
   },
   "source": [
    "<!--NAVIGATION-->\n",
    "< [16.6 Summary and Problems](chapter16.06-Summary-and-Problems.ipynb) | [Contents](Index.ipynb) | [17.1 Interpolation Problem Statement](chapter17.01-Interpolation-Problem-Statement.ipynb)   >"
   ]
  },
  {
   "cell_type": "markdown",
   "metadata": {
    "button": false,
    "new_sheet": false,
    "run_control": {
     "read_only": false
    }
   },
   "source": [
    "# Interpolation"
   ]
  },
  {
   "cell_type": "markdown",
   "metadata": {
    "button": false,
    "new_sheet": false,
    "run_control": {
     "read_only": false
    }
   },
   "source": [
    "#### CHAPTER OUTLINE\n",
    "\n",
    "---\n",
    "\n",
    "* [**17.1 Interpolation Problem Statement**](chapter17.01-Interpolation-Problem-Statement.ipynb) \n",
    "* [**17.2 Linear Interpolation**](chapter17.02-Linear-Interpolation.ipynb)  \n",
    "* [**17.3 Cubic Spline Interpolation**](chapter17.03-Cubic-Spline-Interpolation.ipynb)  \n",
    "* [**17.4 Lagrange Polynomial Interpolation**](chapter17.04-Lagrange-Polynomial-Interpolation.ipynb)  \n",
    "* [**17.5 Newton's Polynomial Interpolation**](chapter17.05-Newtons-Polynomial-Interpolation.ipynb)  \n",
    "* [**17.6 Summary and Problems**](chapter17.06-Summary-and-Problems.ipynb)"
   ]
  },
  {
   "cell_type": "markdown",
   "metadata": {
    "button": false,
    "new_sheet": false,
    "run_control": {
     "read_only": false
    }
   },
   "source": [
    "--- \n",
    "\n",
    "## Motivation\n",
    "\n",
    "The previous chapter used regression to find the parameters of a function that best estimated a set of data points. Regression assumes that the data set has measurement errors, and that you need to find a set of model parameters that minimize the error between your model and the data. However, sometimes you have measurements that are assumed to be very reliable; in these cases, you want an estimation function that goes through the data points you have. This technique is commonly referred to as interpolation.\n",
    "\n",
    "By the end of the chapter, you should be able to understand and compute some of those most common interpolating functions.\n",
    "\n",
    "---"
   ]
  }
 ],
 "metadata": {
  "kernelspec": {
   "display_name": "Python 3",
   "language": "python",
   "name": "python3"
  },
  "language_info": {
   "codemirror_mode": {
    "name": "ipython",
    "version": 3
   },
   "file_extension": ".py",
   "mimetype": "text/x-python",
   "name": "python",
   "nbconvert_exporter": "python",
   "pygments_lexer": "ipython3",
   "version": "3.6.8"
  }
 },
 "nbformat": 4,
 "nbformat_minor": 2
}
