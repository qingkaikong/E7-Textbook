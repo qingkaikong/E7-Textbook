{
 "cells": [
  {
   "cell_type": "markdown",
   "metadata": {
    "button": false,
    "new_sheet": false,
    "run_control": {
     "read_only": false
    }
   },
   "source": [
    "<!--BOOK_INFORMATION-->\n",
    "<img align=\"left\" style=\"padding-right:10px;\" src=\"images/book_cover.jpg\" width=\"120\">\n",
    "\n",
    "*This notebook contains an excerpt from the [Python Programming and Numerical Methods - A Guide for Engineers and Scientists](https://www.elsevier.com/books/python-programming-and-numerical-methods/kong/978-0-12-819549-9), the content is also available at [Berkeley Python Numerical Methods](https://pythonnumericalmethods.berkeley.edu/notebooks/Index.html).*\n",
    "\n",
    "*The copyright of the book belongs to Elsevier. We also have this interactive book online for a better learning experience. The code is released under the [MIT license](https://opensource.org/licenses/MIT). If you find this content useful, please consider supporting the work on [Elsevier](https://www.elsevier.com/books/python-programming-and-numerical-methods/kong/978-0-12-819549-9) or [Amazon](https://www.amazon.com/Python-Programming-Numerical-Methods-Scientists/dp/0128195495/ref=sr_1_1?dchild=1&keywords=Python+Programming+and+Numerical+Methods+-+A+Guide+for+Engineers+and+Scientists&qid=1604761352&sr=8-1)!*"
   ]
  },
  {
   "cell_type": "markdown",
   "metadata": {
    "button": false,
    "new_sheet": false,
    "run_control": {
     "read_only": false
    }
   },
   "source": [
    "<!--NAVIGATION-->\n",
    "< [7.1 Introduction to OOP](chapter07.01-Introduction-to-OOP.ipynb) | [Contents](Index.ipynb) | [7.3 Inheritance, Encapsulation and Polymorphism](chapter07.03-Inheritance-Encapsulation-and-Polymorphism.ipynb) >"
   ]
  },
  {
   "cell_type": "markdown",
   "metadata": {
    "button": false,
    "new_sheet": false,
    "run_control": {
     "read_only": false
    }
   },
   "source": [
    "# Class and Object"
   ]
  },
  {
   "cell_type": "markdown",
   "metadata": {
    "button": false,
    "new_sheet": false,
    "run_control": {
     "read_only": false
    }
   },
   "source": [
    "The previous section introduced the two main components of OOP: **Class**, which is a blueprint used to define a logical grouping of data and functions, and **Object**, which is an instance of the defined class with actual values. In this section, we will get into greater detail of both of these components.\n",
    "\n",
    "## Class"
   ]
  },
  {
   "cell_type": "markdown",
   "metadata": {},
   "source": [
    "A **class** is a definition of the structure that we want. Similar to a function, it is defined as a block of code, starting with the class statement. The syntax of defining a class is:\n",
    "\n",
    "```python\n",
    "class ClassName(superclass):\n",
    "    \n",
    "    def __init__(self, arguments):\n",
    "        # define or assign object attributes\n",
    "        \n",
    "    def other_methods(self, arguments):\n",
    "        # body of the method\n",
    "\n",
    "```\n",
    "\n",
    "Note: the definition of a class is very similar to a function. It needs to be instantiated first before you can use it. For the class name, it is standard convention to use \"CapWords.\" The **superclass** is used when you want create a new class to **inherit** the attributes and methods from another already defined class. We will talk more about **inheritance** in the next section. The **\\_\\_init\\_\\_** is one of the special methods in Python classes that is run as soon as an object of a class is instantiated (created). It assigns initial values to the object before it is ready to be used. Note the two underscores at the beginning and end of the\n",
    "`init`, indicating this is a special method reserved for special use in the language.\n",
    "In this `init` method, you can assign attributes directly when you create the object. The `other_methods`\n",
    "functions are used to define the instance methods that will be applied on the attributes, just like functions we discussed before. You may notice that there is a parameter `self` for defining this method in the class. Why? A class instance method must have this extra argument as the first argument when you define it. This particular argument refers to the object itself; conventionally, we use `self` to name it. Through this self parameter, instance methods can freely access attributes and other methods in the same object. When we define or call an instance method within a class, we need to use this self parameter. Let us see an example below.\n",
    "\n",
    "**EXAMPLE:** Define a class named `Student`, with the attributes `sid` (student id), `name`, `gender`, `type` in the `init` method and a method called `say_name` to print out the student's name. All the attributes will be passed in except `type`, which will have a value as 'learning'. "
   ]
  },
  {
   "cell_type": "code",
   "execution_count": 19,
   "metadata": {},
   "outputs": [],
   "source": [
    "class Student():\n",
    "    \n",
    "    def __init__(self, sid, name, gender):\n",
    "        self.sid = sid\n",
    "        self.name = name\n",
    "        self.gender = gender\n",
    "        self.type = 'learning'\n",
    "        \n",
    "    def say_name(self):\n",
    "        print(\"My name is \" + self.name)"
   ]
  },
  {
   "cell_type": "markdown",
   "metadata": {},
   "source": [
    "From the above example, we can see this simple class contains all the necessary parts mentioned previously. The `__init__` method will initialize the attributes when we create an object. We need to pass in the initial value for `sid`, `name`, and `gender`, while the attribute `type` is a fixed value as \"learning\".\n",
    "\n",
    "These attributes can be accessed by all the other methods defined in the class with `self.attribute`, for example, in the `say_name` method, we can use the `name` attribute with `self.name`. The methods defined in the class can be accessed and used in other different methods as well using `self.method`. Let us see the following example. \n",
    "\n",
    "**TRY IT!** Add a method **report** that print not only the student name, but also the student id. The method will have another argument *score*, that will pass in a number between 0 - 100 as part of the report. "
   ]
  },
  {
   "cell_type": "code",
   "execution_count": 20,
   "metadata": {},
   "outputs": [],
   "source": [
    "class Student():\n",
    "    \n",
    "    def __init__(self, sid, name, gender):\n",
    "        self.sid = sid\n",
    "        self.name = name\n",
    "        self.gender = gender\n",
    "        self.type = 'learning'\n",
    "        \n",
    "    def say_name(self):\n",
    "        print(\"My name is \" + self.name)\n",
    "        \n",
    "    def report(self, score):\n",
    "        self.say_name()\n",
    "        print(\"My id is: \" + self.sid)\n",
    "        print(\"My score is: \" + str(score))"
   ]
  },
  {
   "cell_type": "markdown",
   "metadata": {},
   "source": [
    "## Object\n",
    "\n",
    "As mentioned before, an **object** is an instance of the defined class with actual values. We can have many instances of different values associated with the class, and each of these instances will be independent with each other as we saw previously. Also, after we create an object, and call this instance method from the object, we do not need to give value to the `self` parameter since Python automatically provides it. See the following example:\n",
    "\n",
    "**EXAMPLE:** Create two objects (\"001\", \"Susan\", \"F\") and (\"002\", \"Mike\", \"M\"), and call the method *say_name*. "
   ]
  },
  {
   "cell_type": "code",
   "execution_count": 22,
   "metadata": {},
   "outputs": [
    {
     "name": "stdout",
     "output_type": "stream",
     "text": [
      "My name is Susan\n",
      "My name is Mike\n",
      "learning\n",
      "F\n"
     ]
    }
   ],
   "source": [
    "student1 = Student(\"001\", \"Susan\", \"F\")\n",
    "student2 = Student(\"002\", \"Mike\", \"M\")\n",
    "\n",
    "student1.say_name()\n",
    "student2.say_name()\n",
    "print(student1.type)\n",
    "print(student1.gender)"
   ]
  },
  {
   "cell_type": "markdown",
   "metadata": {},
   "source": [
    "In the above code, we created two objects, `student1` and `student2`, with two different sets of values. Each object is an instance of the `Student` class and has a different set of attributes. Type `student1.+TAB` to see the defined attributes and methods. To get access to one attribute, type `object.attribute`, e.g., `student1.type`. In contrast, to call a method, you need the parentheses because you are calling a function, such as `student1.say_name()`.\n",
    "\n",
    "\n",
    "**TRY IT!** Call method *report* for student1 and student2 with score 95 and 90 individually. Note: we do not need the \"self\" as an argument here. "
   ]
  },
  {
   "cell_type": "code",
   "execution_count": 23,
   "metadata": {},
   "outputs": [
    {
     "name": "stdout",
     "output_type": "stream",
     "text": [
      "My name is Susan\n",
      "My id is: 001\n",
      "My score is: 95\n",
      "My name is Mike\n",
      "My id is: 002\n",
      "My score is: 90\n"
     ]
    }
   ],
   "source": [
    "student1.report(95)\n",
    "student2.report(90)"
   ]
  },
  {
   "cell_type": "markdown",
   "metadata": {},
   "source": [
    "We can see both methods calling to print out the data associated with the two objects. Note: the score value we passed in is only available to the method `report` (within the scope of this method). We can also see that the method `say_name` call in the `report` also works, as long as you call the method with the `self` in it.\n",
    "\n",
    "## Class vs instance attributes\n",
    "\n",
    "The attributes we presented above are actually called instance attributes, which means that they are only belong to a specific instance; when you use them, you need to use the `self.attribute` within the class. There are another type of attributes called class attributes, which will be shared with all the instances created from this class. Let us see an example how to define and use a class attribute.\n",
    "\n",
    "**EXAMPLE:** Modify the `Student` class to add a class attribute `n`, which will record how many object we are creating. Also, add a method `num_instances` to print out the number."
   ]
  },
  {
   "cell_type": "code",
   "execution_count": 5,
   "metadata": {},
   "outputs": [],
   "source": [
    "class Student():\n",
    "    \n",
    "    n_instances = 0\n",
    "    \n",
    "    def __init__(self, sid, name, gender):\n",
    "        self.sid = sid\n",
    "        self.name = name\n",
    "        self.gender = gender\n",
    "        self.type = 'learning'\n",
    "        Student.n_instances += 1\n",
    "        \n",
    "    def say_name(self):\n",
    "        print(\"My name is \" + self.name)\n",
    "        \n",
    "    def report(self, score):\n",
    "        self.say_name()\n",
    "        print(\"My id is: \" + self.sid)\n",
    "        print(\"My score is: \" + str(score))\n",
    "        \n",
    "    def num_instances(self):\n",
    "        print(f'We have {Student.n_instances}-instance in total')"
   ]
  },
  {
   "cell_type": "markdown",
   "metadata": {},
   "source": [
    "In defining a class attribute, we must define it outside of all the other methods `without` using `self`. To use the class attributes, we use `ClassName.attribute`, which in this case is `Student.n`. This attribute will be shared with all the instances that are created from this class. Let us see the following code to show the idea."
   ]
  },
  {
   "cell_type": "code",
   "execution_count": 6,
   "metadata": {},
   "outputs": [
    {
     "name": "stdout",
     "output_type": "stream",
     "text": [
      "We have 1-instance in total\n",
      "We have 2-instance in total\n",
      "We have 2-instance in total\n"
     ]
    }
   ],
   "source": [
    "student1 = Student(\"001\", \"Susan\", \"F\")\n",
    "student1.num_instances()\n",
    "student2 = Student(\"002\", \"Mike\", \"M\")\n",
    "student1.num_instances()\n",
    "student2.num_instances()"
   ]
  },
  {
   "cell_type": "markdown",
   "metadata": {},
   "source": [
    "As before, we created two objects, the instance attribute `sid`, `name`, but `gender` only belongs to the specific object. For example, `student1.name` is \"Susan\" and `student2.name` is \"Mike\". But when we print out the class attribute `Student.n_instances` after we created object `student2`, the one in the `student1` changes as well. This is the expectation we have for the class attribute because it is shared across all the\n",
    "created objects.\n",
    "\n",
    "Now that we understand the difference between class and instance, we are in good shape to use basic OOP in Python. Before we can take full advantage of OOP, we still need to understand the concept of\n",
    "inheritance, encapsulation and polymorphism. Let us start next section!\n"
   ]
  },
  {
   "cell_type": "markdown",
   "metadata": {
    "button": false,
    "new_sheet": false,
    "run_control": {
     "read_only": false
    }
   },
   "source": [
    "<!--NAVIGATION-->\n",
    "< [7.1 Introduction to OOP](chapter07.01-Introduction-to-OOP.ipynb) | [Contents](Index.ipynb) | [7.3 Inheritance, Encapsulation and Polymorphism](chapter07.03-Inheritance-Encapsulation-and-Polymorphism.ipynb) >"
   ]
  }
 ],
 "metadata": {
  "kernelspec": {
   "display_name": "Python 3",
   "language": "python",
   "name": "python3"
  },
  "language_info": {
   "codemirror_mode": {
    "name": "ipython",
    "version": 3
   },
   "file_extension": ".py",
   "mimetype": "text/x-python",
   "name": "python",
   "nbconvert_exporter": "python",
   "pygments_lexer": "ipython3",
   "version": "3.6.8"
  }
 },
 "nbformat": 4,
 "nbformat_minor": 2
}
