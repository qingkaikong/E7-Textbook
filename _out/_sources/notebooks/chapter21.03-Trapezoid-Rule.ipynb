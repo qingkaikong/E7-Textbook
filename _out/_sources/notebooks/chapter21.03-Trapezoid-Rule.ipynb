{
 "cells": [
  {
   "cell_type": "markdown",
   "metadata": {},
   "source": [
    "<!--BOOK_INFORMATION-->\n",
    "<img align=\"left\" style=\"padding-right:10px;\" src=\"images/book_cover.jpg\" width=\"120\">\n",
    "\n",
    "*This notebook contains an excerpt from the [Python Programming And Numerical Methods: A Guide For Engineers And Scientists](); the content is available [on GitHub]().*\n",
    "\n",
    "*The text is released under the [CC-BY-NC-ND license](https://creativecommons.org/licenses/by-nc-nd/3.0/us/legalcode), and code is released under the [MIT license](https://opensource.org/licenses/MIT). If you find this content useful, please consider supporting the work by [buying the book]()!*"
   ]
  },
  {
   "cell_type": "markdown",
   "metadata": {},
   "source": [
    "<!--NAVIGATION-->\n",
    "< [21.2 Riemann's Integral](chapter21.02-Riemanns-Integral.ipynb) | [Contents](Index.ipynb) | [21.4 Simpson's Rule](chapter21.04-Simpsons-Rule.ipynb) >"
   ]
  },
  {
   "cell_type": "markdown",
   "metadata": {},
   "source": [
    "# Trapezoid Rule"
   ]
  },
  {
   "cell_type": "markdown",
   "metadata": {},
   "source": [
    "The **Trapezoid Rule** fits a trapezoid into each subinterval and sums the areas of the trapezoid to approximate the total integral. This approximation for the integral to an arbitrary function is shown in the following figure. For each subinterval, the Trapezoid Rule computes the area of a trapezoid with corners at $(x_i, 0), (x_{i+1}, 0), (x_i, f(x_i))$, and $(x_{i+1}, f(x_{i+1}))$, which is $h\\frac{f(x_i) + f(x_{i+1})}{2}$. Thus, the Trapezoid Rule approximates integrals according to the expression\n",
    "\n",
    "$$\\int_a^b f(x) dx \\approx \\sum_{i=0}^{n-1} h\\frac{f(x_i) + f(x_{i+1})}{2}.$$\n",
    "\n",
    "<img src=\"images/21.03.1-Trapezoid_integral.png\" alt=\"Trapezoid integral\" title=\"Illustration of the trapezoid integral procedure. The area below the curve is approximated by a summation of trapezoids that approximate the function.\" width=\"200\"/>\n",
    "\n",
    "**TRY IT!** You may notice that the Trapezoid Rule \"double-counts\" most of the terms in the series. To illustrate this fact, consider the expansion of the Trapezoid Rule:\n",
    "\n",
    "\\begin{eqnarray*}\\sum_{i=0}^{n-1} h\\frac{f(x_i) + f(x_{i+1})}{2} &=& \\frac{h}{2} \\left[(f(x_0) + f(x_1)) + (f(x_1) + f(x_2)) + (f(x_2)\\right. \\\\\n",
    "&&\\left. + f(x_3)) + \\cdots + (f(x_{n-1}) + f(x_n))\\right].\\end{eqnarray*}\n",
    "\n",
    "Computationally, this is many extra additions and calls to $f(x)$ than is really necessary. We can be more computationally efficient using the following expression.\n",
    "\n",
    "$$\\int_a^b f(x) dx \\approx \\frac{h}{2} \\left(f(x_0) + 2 \\left(\\sum_{i=1}^{n-1} f(x_i)\\right) + f(x_n)\\right).$$\n",
    "\n",
    "To determine the accuracy of the Trapezoid Rule approximation, we first take Taylor series expansion of $f(x)$ around $y_i = \\frac{x_{i+1} + x_i}{2}$, which is the midpoint between $x_i$ and $x_{i+1}$. This Taylor series expansion is\n",
    "\n",
    "$$f(x) = f(y_i) + f^{\\prime}(y_i)(x - y_i) + \\frac{f''(y_i)(x - y_i)^2}{2!} + \\cdots$$\n",
    "\n",
    "Computing the Taylor series at $x_i$ and $x_{i+1}$ and noting that $x_i - y_i = -\\frac{h}{2}$ and $x_{i+1} - y_i = \\frac{h}{2}$, results in the following expressions:\n",
    "\n",
    "$$f(x_i) = f(y_i) - \\frac{hf^{\\prime}(y_i)}{2} + \\frac{h^2f''(y_i)}{8} - \\cdots$$\n",
    "\n",
    "and\n",
    "\n",
    "$$f(x_{i+1}) = f(y_i) + \\frac{hf^{\\prime}(y_i)}{2} + \\frac{h^2f''(y_i)}{8} + \\cdots.$$\n",
    "\n",
    "Taking the average of these two expressions results in the new expression,\n",
    "\n",
    "$$\\frac{f(x_{i+1})+f(x_i)}{2} = f(y_i) + O(h^2).$$\n",
    "\n",
    "Solving this expression for $f(y_i)$ yields\n",
    "\n",
    "$$f(y_i) = \\frac{f(x_{i+1})+f(x_i)}{2} + O(h^2).$$\n",
    "\n",
    "Now returning to the Taylor expansion for $f(x)$, the integral of $f(x)$ over a subinterval is\n",
    "\n",
    "$$\\int_{x_i}^{x_{i+1}} f(x) dx = \\int_{x_i}^{x_{i+1}} \\left(f(y_i) + f^{\\prime}(y_i)(x - y_i) + \\frac{f''(y_i)(x - y_i)^2}{2!} + \\cdots\\right) dx.$$\n",
    "\n",
    "Distributing the integral results in the expression\n",
    "\n",
    "$$\\int_{x_i}^{x_{i+1}} f(x) dx = \\int_{x_i}^{x_{i+1}} f(y_i) dx + \\int_{x_i}^{x_{i+1}} f^{\\prime}(y_i)(x - y_i)dx + \\int_{x_i}^{x_{i+1}} \\frac{f''(y_i)(x - y_i)^2}{2!} dx + \\cdots$$\n",
    "\n",
    "Now since $x_i$ and $x_{i+1}$ are symmetric around $y_i$, the integrals of the odd powers of $(x - y_i)^p$ disappear and the even powers resolve to a multiple $h^{p+1}$.\n",
    "\n",
    "$$\\int_{x_i}^{x_{i+1}} f(x) dx = hf(y_i) + O(h^3).$$\n",
    "\n",
    "Now if we substitute $f(y_i)$ with the expression derived explicitly in terms of $f(x_i)$ and $f(x_{i+1})$, we get\n",
    "\n",
    "$$\\int_{x_i}^{x_{i+1}} f(x) dx = h \\left(\\frac{f(x_{i+1})+f(x_i)}{2} + O(h^2)\\right) + O(h^3), $$\n",
    "\n",
    "which is equivalent to\n",
    "\n",
    "$$h \\left(\\frac{f(x_{i+1})+f(x_i)}{2}\\right) + hO(h^2) + O(h^3)$$\n",
    "\n",
    "and therefore,\n",
    "\n",
    "$$\\int_{x_i}^{x_{i+1}} f(x) dx = h \\left(\\frac{f(x_{i+1})+f(x_i)}{2}\\right) + O(h^3).$$\n",
    "\n",
    "Since $\\frac{h}{2}(f(x_{i+1}) + f(x_i))$ is the Trapezoid Rule approximation for the integral over the subinterval, it is $O(h^3)$ for a single subinterval and $O(h^2)$ over the whole interval.\n",
    "\n",
    "**TRY IT!** Use the Trapezoid Rule to approximate $\\int_0^{\\pi} \\sin(x) dx$ with 11 evenly spaced grid points over\n",
    "the whole interval. Compare this value to the exact value of 2."
   ]
  },
  {
   "cell_type": "code",
   "execution_count": 1,
   "metadata": {},
   "outputs": [
    {
     "name": "stdout",
     "output_type": "stream",
     "text": [
      "1.9835235375094546\n",
      "0.01647646249054535\n"
     ]
    }
   ],
   "source": [
    "import numpy as np\n",
    "\n",
    "a = 0\n",
    "b = np.pi\n",
    "n = 11\n",
    "h = (b - a) / (n - 1)\n",
    "x = np.linspace(a, b, n)\n",
    "f = np.sin(x)\n",
    "\n",
    "I_trap = (h/2)*(f[0] + \\\n",
    "          2 * sum(f[1:n-1]) + f[n-1])\n",
    "err_trap = 2 - I_trap\n",
    "\n",
    "print(I_trap)\n",
    "print(err_trap)"
   ]
  },
  {
   "cell_type": "markdown",
   "metadata": {},
   "source": [
    "<!--NAVIGATION-->\n",
    "< [21.2 Riemann's Integral](chapter21.02-Riemanns-Integral.ipynb) | [Contents](Index.ipynb) | [21.4 Simpson's Rule](chapter21.04-Simpsons-Rule.ipynb) >"
   ]
  }
 ],
 "metadata": {
  "kernelspec": {
   "display_name": "Python 3",
   "language": "python",
   "name": "python3"
  },
  "language_info": {
   "codemirror_mode": {
    "name": "ipython",
    "version": 3
   },
   "file_extension": ".py",
   "mimetype": "text/x-python",
   "name": "python",
   "nbconvert_exporter": "python",
   "pygments_lexer": "ipython3",
   "version": "3.6.7"
  }
 },
 "nbformat": 4,
 "nbformat_minor": 2
}
