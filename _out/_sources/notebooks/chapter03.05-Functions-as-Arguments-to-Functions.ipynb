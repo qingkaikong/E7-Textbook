{
 "cells": [
  {
   "cell_type": "markdown",
   "metadata": {
    "button": false,
    "new_sheet": false,
    "run_control": {
     "read_only": false
    }
   },
   "source": [
    "<!--BOOK_INFORMATION-->\n",
    "<img align=\"left\" style=\"padding-right:10px;\" src=\"images/book_cover.jpg\" width=\"120\">\n",
    "\n",
    "*This notebook contains an excerpt from the [Python Programming And Numerical Methods: A Guide For Engineers And Scientists](); the content is available [on GitHub]().*\n",
    "\n",
    "*The text is released under the [CC-BY-NC-ND license](https://creativecommons.org/licenses/by-nc-nd/3.0/us/legalcode), and code is released under the [MIT license](https://opensource.org/licenses/MIT). If you find this content useful, please consider supporting the work by [buying the book]()!*"
   ]
  },
  {
   "cell_type": "markdown",
   "metadata": {
    "button": false,
    "new_sheet": false,
    "run_control": {
     "read_only": false
    }
   },
   "source": [
    "<!--NAVIGATION-->\n",
    "< [3.4 Lambda Functions](chapter03.04-Lambda-Functions.ipynb) | [Contents](Index.ipynb) | [3.6 Summary and Problems](chapter03.06-Summary-and-Problems.ipynb) >"
   ]
  },
  {
   "cell_type": "markdown",
   "metadata": {
    "button": false,
    "new_sheet": false,
    "run_control": {
     "read_only": false
    }
   },
   "source": [
    "# Functions as Arguments to Functions"
   ]
  },
  {
   "cell_type": "markdown",
   "metadata": {
    "button": false,
    "new_sheet": false,
    "run_control": {
     "read_only": false
    }
   },
   "source": [
    "Up until now, you have assigned various data structures to variable names. Being able to assign a data structure to a variable allows us to pass information to functions and get information back from them in a neat and orderly way. Sometimes it is useful to be able to pass a function as a variable to another function. In other words, the input to some functions may be other functions. In last section, we did see the lambda function returns a function object to the variable. In this section, we will continue to see how the function object can be used as the input to another function. \n",
    "\n",
    "**TRY IT!** Assign the function *max* to the variable *f*. Verify the type of *f*. "
   ]
  },
  {
   "cell_type": "code",
   "execution_count": 1,
   "metadata": {},
   "outputs": [
    {
     "name": "stdout",
     "output_type": "stream",
     "text": [
      "<class 'builtin_function_or_method'>\n"
     ]
    }
   ],
   "source": [
    "f = max\n",
    "print(type(f))"
   ]
  },
  {
   "cell_type": "markdown",
   "metadata": {},
   "source": [
    "In the previous example, *f* is now equivalent to the *max* function. Just like *x = 1* means that *x* and 1 are interchangeable, *f* and *max* function are now interchangeable. \n",
    "\n",
    "**TRY IT!** Get the maximum value from list [2, 3, 5] using *f*. Verify that the result is the same as using *max*. "
   ]
  },
  {
   "cell_type": "code",
   "execution_count": 2,
   "metadata": {},
   "outputs": [
    {
     "name": "stdout",
     "output_type": "stream",
     "text": [
      "5\n",
      "5\n"
     ]
    }
   ],
   "source": [
    "print(f([2, 3, 5]))\n",
    "print(max([2, 3, 5]))"
   ]
  },
  {
   "cell_type": "markdown",
   "metadata": {},
   "source": [
    "**TRY IT!** Write a function *my_fun_plus_one* that takes a function object, *f*, and a float number *x* as input arguments. *my_fun_plus_one* should return *f* evaluated at *x*, and the result added to the value 1. Verify that it works for various functions and values of *x*. "
   ]
  },
  {
   "cell_type": "code",
   "execution_count": 3,
   "metadata": {},
   "outputs": [
    {
     "name": "stdout",
     "output_type": "stream",
     "text": [
      "2.0\n",
      "1.0\n",
      "6.0\n"
     ]
    }
   ],
   "source": [
    "import numpy as np \n",
    "\n",
    "def my_fun_plus_one(f, x):\n",
    "    return f(x) + 1\n",
    "\n",
    "print(my_fun_plus_one(np.sin, np.pi/2))\n",
    "print(my_fun_plus_one(np.cos, np.pi/2))\n",
    "print(my_fun_plus_one(np.sqrt, 25))"
   ]
  },
  {
   "cell_type": "markdown",
   "metadata": {},
   "source": [
    "We can see the above example that different functions are used as the inputs into the function. Of course, we can use the lambda functions as well. "
   ]
  },
  {
   "cell_type": "code",
   "execution_count": 4,
   "metadata": {},
   "outputs": [
    {
     "name": "stdout",
     "output_type": "stream",
     "text": [
      "5\n"
     ]
    }
   ],
   "source": [
    "print(my_fun_plus_one(lambda x: x + 2, 2))"
   ]
  },
  {
   "cell_type": "markdown",
   "metadata": {
    "button": false,
    "new_sheet": false,
    "run_control": {
     "read_only": false
    }
   },
   "source": [
    "<!--NAVIGATION-->\n",
    "< [3.4 Lambda Functions](chapter03.04-Lambda-Functions.ipynb) | [Contents](Index.ipynb) | [3.6 Summary and Problems](chapter03.06-Summary-and-Problems.ipynb) >"
   ]
  }
 ],
 "metadata": {
  "kernelspec": {
   "display_name": "Python 3",
   "language": "python",
   "name": "python3"
  },
  "language_info": {
   "codemirror_mode": {
    "name": "ipython",
    "version": 3
   },
   "file_extension": ".py",
   "mimetype": "text/x-python",
   "name": "python",
   "nbconvert_exporter": "python",
   "pygments_lexer": "ipython3",
   "version": "3.6.7"
  }
 },
 "nbformat": 4,
 "nbformat_minor": 2
}
