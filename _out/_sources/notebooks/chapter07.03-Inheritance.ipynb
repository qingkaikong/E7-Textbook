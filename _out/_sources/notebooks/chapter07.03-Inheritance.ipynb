{
 "cells": [
  {
   "cell_type": "markdown",
   "metadata": {
    "button": false,
    "new_sheet": false,
    "run_control": {
     "read_only": false
    }
   },
   "source": [
    "<!--BOOK_INFORMATION-->\n",
    "<img align=\"left\" style=\"padding-right:10px;\" src=\"images/book_cover.jpg\" width=\"120\">\n",
    "\n",
    "*This notebook contains an excerpt from the [An Introduction To Python Programming And Numerical Methods For Scientists and Engineers](); the content is available [on GitHub]().*\n",
    "\n",
    "*The text is released under the [CC-BY-NC-ND license](https://creativecommons.org/licenses/by-nc-nd/3.0/us/legalcode), and code is released under the [MIT license](https://opensource.org/licenses/MIT). If you find this content useful, please consider supporting the work by [buying the book]()!*"
   ]
  },
  {
   "cell_type": "markdown",
   "metadata": {
    "button": false,
    "new_sheet": false,
    "run_control": {
     "read_only": false
    }
   },
   "source": [
    "<!--NAVIGATION-->\n",
    "< [7.2 Class and Object](chapter07.02-Class-and-Object.ipynb) | [Contents](Index.ipynb) | [7.4 Summary and Problems](chapter07.04-Summary-and-Problems.ipynb) >"
   ]
  },
  {
   "cell_type": "markdown",
   "metadata": {
    "button": false,
    "new_sheet": false,
    "run_control": {
     "read_only": false
    }
   },
   "source": [
    "# Inheritance"
   ]
  },
  {
   "cell_type": "markdown",
   "metadata": {
    "button": false,
    "new_sheet": false,
    "run_control": {
     "read_only": false
    }
   },
   "source": [
    "We have already seen the modeling power of the OOP using the class and object by combining data and methods. But there is one more important concept, **inheritance**, which make the OOP code more modular and easier to reuse. Inheritance can let a new class to process the data and methods from a defined class, and then we can add modifications on the class. Usually the new class is called a child class and the one that inherit from is called parent class or superclass. Back to the definition of the class structure, we can see a basic inheritance is **class ClassName(superclass)**, which means the new class get all the attributes and methods from the superclass. Let's try an example. \n",
    "\n",
    "**TRY IT!** Define a class named *Sensor* with attributes *name*, *location*, and *record_date* that pass from the creation of an object and an attribute *data* as an empty dictionary to store data. It should one method *add_data* with *t* and *data* as arguments to take in timestamp and data arrays and put into the *data* attribute. In addition, it should have one *clear_data* method to delete the data. "
   ]
  },
  {
   "cell_type": "code",
   "execution_count": 1,
   "metadata": {},
   "outputs": [],
   "source": [
    "class Sensor():\n",
    "    def __init__(self, name, location, record_date):\n",
    "        self.name = name\n",
    "        self.location = location\n",
    "        self.record_date = record_date\n",
    "        self.data = {}\n",
    "        \n",
    "    def add_data(self, t, data):\n",
    "        self.data['time'] = t\n",
    "        self.data['data'] = data\n",
    "        print(f'We have {len(data)} points saved')        \n",
    "        \n",
    "    def clear_data(self):\n",
    "        self.data = {}\n",
    "        print('Data cleared!')"
   ]
  },
  {
   "cell_type": "markdown",
   "metadata": {},
   "source": [
    "Now we have a class to store general sensor information. We can create a sensor object to store some data. \n",
    "\n",
    "**EXAMPLE:** Create a sensor object. "
   ]
  },
  {
   "cell_type": "code",
   "execution_count": 2,
   "metadata": {},
   "outputs": [
    {
     "name": "stdout",
     "output_type": "stream",
     "text": [
      "We have 10 points saved\n"
     ]
    },
    {
     "data": {
      "text/plain": [
       "{'time': array([0, 1, 2, 3, 4, 5, 6, 7, 8, 9]),\n",
       " 'data': array([ 3,  2,  5, -1,  2, -2,  6, -1,  5,  4])}"
      ]
     },
     "execution_count": 2,
     "metadata": {},
     "output_type": "execute_result"
    }
   ],
   "source": [
    "import numpy as np\n",
    "\n",
    "sensor1 = Sensor('sensor1', 'Berkeley', '2019-01-01')\n",
    "data = np.random.randint(-10, 10, 10)\n",
    "sensor1.add_data(np.arange(10), data)\n",
    "sensor1.data"
   ]
  },
  {
   "cell_type": "markdown",
   "metadata": {},
   "source": [
    "## Inherit and extend new method\n",
    "\n",
    "Now say we have two different type of sensors, one accelerometer and one temperature sensor, they do share the same attributes and methods as *Sensor* class, but they also have different attributes or methods need to be appended or modified from the original class, what should we do? Do we create two different classes from scratch? This is where the **inheritance** comes in to make life easier. These two new class will inherit from the *Sensor* class and get all the attributes and methods, we can decide whether we want to extend the attributes or methods. Let's first create a new class *Accelerometer* and add a new method *show_type* to report what kind of sensor it is. "
   ]
  },
  {
   "cell_type": "code",
   "execution_count": 3,
   "metadata": {},
   "outputs": [
    {
     "name": "stdout",
     "output_type": "stream",
     "text": [
      "I am an accelerometer!\n",
      "We have 10 points saved\n"
     ]
    },
    {
     "data": {
      "text/plain": [
       "{'time': array([0, 1, 2, 3, 4, 5, 6, 7, 8, 9]),\n",
       " 'data': array([ -1,   4,   7, -10,  -2,  -6,   2,  -8,   9,   3])}"
      ]
     },
     "execution_count": 3,
     "metadata": {},
     "output_type": "execute_result"
    }
   ],
   "source": [
    "class Accelerometer(Sensor):\n",
    "    \n",
    "    def show_type(self):\n",
    "        print('I am an accelerometer!')\n",
    "        \n",
    "acc = Accelerometer('acc1', 'Oakland', '2019-02-01')\n",
    "acc.show_type()\n",
    "data = np.random.randint(-10, 10, 10)\n",
    "acc.add_data(np.arange(10), data)\n",
    "acc.data"
   ]
  },
  {
   "cell_type": "markdown",
   "metadata": {},
   "source": [
    "We can see that creating this new **Accelerometer** class is very simple, we inherit from *Sensor* (called superclass) and the new class actually contains all the attributes and methods from the superclass. We then add a new method *show_type*, which actually no existed in the *Sensor* class, we successfully extend the child class with a new methods. This shows the power of inheritance, you reused most part of the *Sensor* class in a new class, and extend the functionality. Also notice that, the modeling of the real-world entities are very logical in the OOP. The *Sensor* class as the parent class passes all the characteristics to the child class *Accelerometer* which are similar to our human society that we inherit a lot of our parents' characteristics with our unique ones. \n",
    "\n",
    "## Inherit and update the method\n",
    "\n",
    "Of course, we can replace some of the old methods with new methods just by simply redefine it. \n",
    "\n",
    "**EXAMPLE:** Create a class *TempSensor* that inherit from *Accelerometer* but replace the *show_type* method that also print out the name of the sensor. "
   ]
  },
  {
   "cell_type": "code",
   "execution_count": 4,
   "metadata": {},
   "outputs": [
    {
     "name": "stdout",
     "output_type": "stream",
     "text": [
      "I am temp, measure temperature!\n"
     ]
    }
   ],
   "source": [
    "class TempSensor(Accelerometer):\n",
    "    \n",
    "    def show_type(self):\n",
    "        print(f'I am {self.name}, measure temperature!')\n",
    "        \n",
    "temp = TempSensor('temp', 'Oakland', '2019-03-01')\n",
    "temp.show_type()"
   ]
  },
  {
   "cell_type": "markdown",
   "metadata": {},
   "source": [
    "We see that, our new *TempSensor* class actually override the method *show_type* with new features. We are not only inherit and extend the characteristics from our parent class, but also modified/improved some methods. \n",
    "\n",
    "## Inherit and update attributes with super"
   ]
  },
  {
   "cell_type": "markdown",
   "metadata": {},
   "source": [
    "Let's see we want to create a class **NewSensor** that inherit from *Sensor* class, but with updated the attributes by adding a new attribute *brand*. We can of course re-define the whole *\\_\\_init__* method as shown below. "
   ]
  },
  {
   "cell_type": "code",
   "execution_count": 5,
   "metadata": {},
   "outputs": [
    {
     "data": {
      "text/plain": [
       "'XYZ'"
      ]
     },
     "execution_count": 5,
     "metadata": {},
     "output_type": "execute_result"
    }
   ],
   "source": [
    "class NewSensor(Sensor):\n",
    "    def __init__(self, name, location, record_date, brand):\n",
    "        self.name = name\n",
    "        self.location = location\n",
    "        self.record_date = record_date\n",
    "        self.brand = brand\n",
    "        self.data = {}\n",
    "        \n",
    "new_sensor = NewSensor('OK', 'SF', '2019-03-01', 'XYZ')\n",
    "new_sensor.brand"
   ]
  },
  {
   "cell_type": "markdown",
   "metadata": {},
   "source": [
    "But we don't want to re-type all the code as before for all the attributes, this is especially true if we have tens of attributes. Therefore, there is a more concise and popular way to do it: we can use the **super** method to avoid referring to the parent class explicitly. Let's see the following example:\n",
    "\n",
    "**EXAMPLE:** Use *super* method to redefine the attributes. "
   ]
  },
  {
   "cell_type": "code",
   "execution_count": 6,
   "metadata": {},
   "outputs": [
    {
     "data": {
      "text/plain": [
       "'XYZ'"
      ]
     },
     "execution_count": 6,
     "metadata": {},
     "output_type": "execute_result"
    }
   ],
   "source": [
    "class NewSensor(Sensor):\n",
    "    def __init__(self, name, location, record_date, brand):\n",
    "        super().__init__(name, location, record_date)\n",
    "        self.brand = brand\n",
    "        \n",
    "new_sensor = NewSensor('OK', 'SF', '2019-03-01', 'XYZ')\n",
    "new_sensor.brand"
   ]
  },
  {
   "cell_type": "markdown",
   "metadata": {},
   "source": [
    "Now we can see with the *super* method, we avoid to list all the definition of the attributes, this helps keep your code maintainable for the foreseeable future. But it really useful when you are doing multiple inheritance, which is beyond the discussion of this book. \n",
    "\n",
    "## Multiple inheritance\n",
    "\n",
    "Quickly we will show here that you can inherit from multiple classes instead of just a single one. For example, the above different classes have different features, the *NewSensor* class have a *brand* attribute, and the *Accelerometer* class has a new method *show_type*. If we want to have both of these features, we can inherit from both of them.\n",
    "\n",
    "**EXAMPLE:** Create a new class *BetterSensor* that inherit directly from *NewSensor* class and *Accelerometer* class. Test that the new class do have the *brand* attribute and *show_type* method. "
   ]
  },
  {
   "cell_type": "code",
   "execution_count": 7,
   "metadata": {},
   "outputs": [
    {
     "name": "stdout",
     "output_type": "stream",
     "text": [
      "I am an accelerometer!\n"
     ]
    },
    {
     "data": {
      "text/plain": [
       "'XYZ'"
      ]
     },
     "execution_count": 7,
     "metadata": {},
     "output_type": "execute_result"
    }
   ],
   "source": [
    "class BetterSensor(NewSensor, Accelerometer):\n",
    "    pass\n",
    "\n",
    "better_sensor = BetterSensor('OK', 'SF', '2019-03-01', 'XYZ')\n",
    "better_sensor.show_type()\n",
    "better_sensor.brand"
   ]
  },
  {
   "cell_type": "markdown",
   "metadata": {},
   "source": [
    "You can see that inherit from multiple classes is simple. But sometimes it may need caution if there is a conflict from the two superclasses, you need to think through which constructor and methods you are inheriting from. This is definitely adding in more complexity in your code, therefore, use with caution. "
   ]
  },
  {
   "cell_type": "markdown",
   "metadata": {
    "button": false,
    "new_sheet": false,
    "run_control": {
     "read_only": false
    }
   },
   "source": [
    "<!--NAVIGATION-->\n",
    "< [7.2 Class and Object](chapter07.02-Class-and-Object.ipynb) | [Contents](Index.ipynb) | [7.4 Summary and Problems](chapter07.04-Summary-and-Problems.ipynb) >"
   ]
  }
 ],
 "metadata": {
  "kernelspec": {
   "display_name": "Python 3",
   "language": "python",
   "name": "python3"
  },
  "language_info": {
   "codemirror_mode": {
    "name": "ipython",
    "version": 3
   },
   "file_extension": ".py",
   "mimetype": "text/x-python",
   "name": "python",
   "nbconvert_exporter": "python",
   "pygments_lexer": "ipython3",
   "version": "3.6.7"
  }
 },
 "nbformat": 4,
 "nbformat_minor": 2
}
