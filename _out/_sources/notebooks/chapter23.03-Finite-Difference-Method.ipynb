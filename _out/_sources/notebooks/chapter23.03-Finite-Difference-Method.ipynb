{
 "cells": [
  {
   "cell_type": "markdown",
   "metadata": {
    "button": false,
    "new_sheet": false,
    "run_control": {
     "read_only": false
    }
   },
   "source": [
    "<!--BOOK_INFORMATION-->\n",
    "<img align=\"left\" style=\"padding-right:10px;\" src=\"images/book_cover.jpg\" width=\"120\">\n",
    "\n",
    "*This notebook contains an excerpt from the [Python Programming and Numerical Methods - A Guide for Engineers and Scientists](https://www.elsevier.com/books/python-programming-and-numerical-methods/kong/978-0-12-819549-9), the content is also available at [Berkeley Python Numerical Methods](https://pythonnumericalmethods.berkeley.edu/notebooks/Index.html).*\n",
    "\n",
    "*The copyright of the book belongs to Elsevier. We also have this interactive book online for a better learning experience. The code is released under the [MIT license](https://opensource.org/licenses/MIT). If you find this content useful, please consider supporting the work on [Elsevier](https://www.elsevier.com/books/python-programming-and-numerical-methods/kong/978-0-12-819549-9) or [Amazon](https://www.amazon.com/Python-Programming-Numerical-Methods-Scientists/dp/0128195495/ref=sr_1_1?dchild=1&keywords=Python+Programming+and+Numerical+Methods+-+A+Guide+for+Engineers+and+Scientists&qid=1604761352&sr=8-1)!*"
   ]
  },
  {
   "cell_type": "markdown",
   "metadata": {
    "button": false,
    "new_sheet": false,
    "run_control": {
     "read_only": false
    }
   },
   "source": [
    "<!--NAVIGATION-->\n",
    "< [23.2 The Shooting Method](chapter23.02-The-Shooting-Method.ipynb) | [Contents](Index.ipynb) | [23.4 Numerical Error and Instability](chapter23.04-Numerical-Error-and-Instability.ipynb) >"
   ]
  },
  {
   "cell_type": "markdown",
   "metadata": {
    "button": false,
    "new_sheet": false,
    "run_control": {
     "read_only": false
    }
   },
   "source": [
    "# Finite Difference Method"
   ]
  },
  {
   "cell_type": "markdown",
   "metadata": {
    "button": false,
    "new_sheet": false,
    "run_control": {
     "read_only": false
    }
   },
   "source": [
    "Another way to solve the ODE boundary value problems is the **finite difference method**, where we can use finite difference formulas at evenly spaced grid points to approximate the differential equations. This way, we can transform a differential equation into a system of algebraic equations to solve. \n",
    "\n",
    "In the finite difference method, the derivatives in the differential equation are approximated using the finite difference formulas. We can divide the the interval of $[a, b]$ into $n$ equal subintervals of length $h$ as shown in the following figure. \n",
    "\n",
    "<img src=\"images/23.03.01-Finite-difference.png\" alt=\"finite difference\" title=\"Finite difference grids\" width=\"500\"/>\n",
    "\n",
    "Commonly, we usually use the central difference formulas in the finite difference methods due to the fact that they yield better accuracy. The differential equation is enforced only at the grid points, and the first and second derivatives are:\n",
    "\n",
    "$$\\frac{dy}{dx} = \\frac{y_{i+1}-y_{i-1}}{2h}$$\n",
    "\n",
    "$$\\frac{d^2y}{dx^2} = \\frac{y_{i-1}-2y_i+y_{i+1}}{h^2}$$\n",
    "\n",
    "These finite difference expressions are used to replace the derivatives of $y$ in the differential equation which leads to a system of $n+1$ linear algebraic equations if the differential equation is linear. If the differential equation is nonlinear, the algebraic equations will also be nonlinear.  \n",
    "\n",
    "**EXAMPLE:** Solve the rocket problem in the previous section using the finite difference method, plot the altitude of the rocket after launching. The ODE is\n",
    "\n",
    "$$ \\frac{d^2y}{dt^2} = -g$$\n",
    "\n",
    "with the boundary conditions $y(0) = 0$ and $y(5) = 50$. Let's take $n=10$. \n",
    "\n",
    "Since the time interval is $[0, 5]$ and we have $n=10$, therefore, $h=0.5$, using the finite difference approximated derivatives, we have \n",
    "\n",
    "$$ y_0 = 0$$\n",
    "\n",
    "$$ y_{i-1} - 2y_i + y_{i+1} = -gh^2, \\;i = 1, 2, ..., n-1$$\n",
    "\n",
    "$$ y_{10} = 50$$\n",
    "\n",
    "if we use matrix notation, we will have:\n",
    "\n",
    "$$\\begin{bmatrix}\n",
    "1 & 0 & & & \\\\\n",
    "1 & -2 & 1 & &  \\\\\n",
    " & \\ddots & \\ddots & \\ddots & \\\\\n",
    " & & 1& -2& 1 \\\\\n",
    " & & & &1\n",
    "\\end{bmatrix}\\left[\\begin{array}{c} y_0 \\\\y_1 \\\\ ... \\\\ y_{n-1}\\\\y_n \\end{array}\\right] =\n",
    "\\left[\\begin{array}{c} 0 \\\\-gh^2 \\\\ ... \\\\ -gh^2 \\\\50\\end{array}\\right]$$\n",
    "\n",
    "Therefore, we have 11 equations in the system, we can solve it using the method we learned in chapter 14. "
   ]
  },
  {
   "cell_type": "code",
   "execution_count": 1,
   "metadata": {
    "button": false,
    "new_sheet": false,
    "run_control": {
     "read_only": false
    }
   },
   "outputs": [
    {
     "name": "stdout",
     "output_type": "stream",
     "text": [
      "[[ 1.  0.  0.  0.  0.  0.  0.  0.  0.  0.  0.]\n",
      " [ 1. -2.  1.  0.  0.  0.  0.  0.  0.  0.  0.]\n",
      " [ 0.  1. -2.  1.  0.  0.  0.  0.  0.  0.  0.]\n",
      " [ 0.  0.  1. -2.  1.  0.  0.  0.  0.  0.  0.]\n",
      " [ 0.  0.  0.  1. -2.  1.  0.  0.  0.  0.  0.]\n",
      " [ 0.  0.  0.  0.  1. -2.  1.  0.  0.  0.  0.]\n",
      " [ 0.  0.  0.  0.  0.  1. -2.  1.  0.  0.  0.]\n",
      " [ 0.  0.  0.  0.  0.  0.  1. -2.  1.  0.  0.]\n",
      " [ 0.  0.  0.  0.  0.  0.  0.  1. -2.  1.  0.]\n",
      " [ 0.  0.  0.  0.  0.  0.  0.  0.  1. -2.  1.]\n",
      " [ 0.  0.  0.  0.  0.  0.  0.  0.  0.  0.  1.]]\n",
      "[ 0.   -2.45 -2.45 -2.45 -2.45 -2.45 -2.45 -2.45 -2.45 -2.45 50.  ]\n"
     ]
    },
    {
     "data": {
      "image/png": "[encoded data removed]",
      "text/plain": [
       "<Figure size 720x576 with 1 Axes>"
      ]
     },
     "metadata": {
      "needs_background": "light"
     },
     "output_type": "display_data"
    }
   ],
   "source": [
    "import numpy as np\n",
    "import matplotlib.pyplot as plt\n",
    "plt.style.use('seaborn-poster')\n",
    "%matplotlib inline\n",
    "\n",
    "n = 10\n",
    "h = (5-0) / n\n",
    "\n",
    "# Get A\n",
    "A = np.zeros((n+1, n+1))\n",
    "A[0, 0] = 1\n",
    "A[n, n] = 1\n",
    "for i in range(1, n):\n",
    "    A[i, i-1] = 1\n",
    "    A[i, i] = -2\n",
    "    A[i, i+1] = 1\n",
    "\n",
    "print(A)\n",
    "\n",
    "# Get b\n",
    "b = np.zeros(n+1)\n",
    "b[1:-1] = -9.8*h**2\n",
    "b[-1] = 50\n",
    "print(b)\n",
    "\n",
    "# solve the linear equations\n",
    "y = np.linalg.solve(A, b)\n",
    "\n",
    "t = np.linspace(0, 5, 11)\n",
    "\n",
    "plt.figure(figsize=(10,8))\n",
    "plt.plot(t, y)\n",
    "plt.plot(5, 50, 'ro')\n",
    "plt.xlabel('time (s)')\n",
    "plt.ylabel('altitude (m)')\n",
    "plt.show()"
   ]
  },
  {
   "cell_type": "markdown",
   "metadata": {
    "button": false,
    "new_sheet": false,
    "run_control": {
     "read_only": false
    }
   },
   "source": [
    "Now, let's solve $y'(0)$, from the finite difference formula, we know that $\\frac{dy}{dx} = \\frac{y_{i+1}-y_{i-1}}{2h}$, which means that $y'(0) = \\frac{y_{1} - y_{-1}}{2h}$, but we don't know what is $y_{-1}$. Actually, we can calculate $y_{-1}$ since we know the $y$ values on each grid point. From the 2nd derivative finite difference formula, we know that $\\frac{y_{-1}-2y_0+y_{1}}{h^2} = -g$, therefore, we can solve for $y_{-1}$ and then get the launching velocity. See the calculation below. "
   ]
  },
  {
   "cell_type": "code",
   "execution_count": 2,
   "metadata": {
    "button": false,
    "new_sheet": false,
    "run_control": {
     "read_only": false
    }
   },
   "outputs": [
    {
     "data": {
      "text/plain": [
       "34.5"
      ]
     },
     "execution_count": 2,
     "metadata": {},
     "output_type": "execute_result"
    }
   ],
   "source": [
    "y_n1 = -9.8*h**2 + 2*y[0] - y[1]\n",
    "(y[1] - y_n1) / (2*h)"
   ]
  },
  {
   "cell_type": "markdown",
   "metadata": {
    "button": false,
    "new_sheet": false,
    "run_control": {
     "read_only": false
    }
   },
   "source": [
    "We can see that we get the correct launching velocity using the finite difference method. To make you more comfortable with the method, let's see another example. \n",
    "\n",
    "**TRY IT!** Using finite difference method to solve the following linear boundary value problem\n",
    "\n",
    "$$ y'' = -4y +4x $$\n",
    "\n",
    "with the boundary conditions as $y(0) = 0$ and $y'(\\pi/2)=0$. The exact solution of the problem is $y=x-sin2x$, plot the errors against the n grid points (n from 3 to 100) for the boundary point $y(\\pi/2)$. \n",
    "\n",
    "Using the finite difference approximated derivatives, we have \n",
    "\n",
    "$$ y_0 = 0$$\n",
    "\n",
    "$$ y_{i-1} - 2y_i + y_{i+1} -h^2(-4y_i+4x_i)=0 , \\;i = 1, 2, ..., n-1$$\n",
    "\n",
    "$$ 2y_{n-1}-2y_n -h^2(-4y_n+4x_n)=0$$\n",
    "\n",
    "The last equation is derived from the fact that $\\frac{y_{n+1}-y_{n-1}}{2h} = 0$ (the boundary condition $y'(\\pi/2)=0$). Therefore, $y_{n+1}=y_{n-1}$. \n",
    "\n",
    "if we use matrix notation, we will have:\n",
    "\n",
    "$$\\begin{bmatrix}\n",
    "1 & 0 & & & \\\\\n",
    "1 & -2+4h^2 & 1 & &  \\\\\n",
    " & \\ddots & \\ddots & \\ddots & \\\\\n",
    " & & 1& -2+4h^2 & 1 \\\\\n",
    " & & & 2 &-2+4h^2\n",
    "\\end{bmatrix}\\left[\\begin{array}{c} y_0 \\\\y_1 \\\\ ... \\\\ y_{n-1}\\\\y_n \\end{array}\\right] =\n",
    "\\left[\\begin{array}{c} 0 \\\\4h^2x_1 \\\\ ... \\\\ 4h^2x_{n-1} \\\\4h^2x_{n}\\end{array}\\right]$$"
   ]
  },
  {
   "cell_type": "code",
   "execution_count": 3,
   "metadata": {
    "button": false,
    "new_sheet": false,
    "run_control": {
     "read_only": false
    }
   },
   "outputs": [
    {
     "data": {
      "image/png": "[encoded data removed]",
      "text/plain": [
       "<Figure size 720x576 with 1 Axes>"
      ]
     },
     "metadata": {
      "needs_background": "light"
     },
     "output_type": "display_data"
    }
   ],
   "source": [
    "def get_a_b(n):\n",
    "    h = (np.pi/2-0) / n\n",
    "    x = np.linspace(0, np.pi/2, n+1)\n",
    "    # Get A\n",
    "    A = np.zeros((n+1, n+1))\n",
    "    A[0, 0] = 1\n",
    "    A[n, n] = -2+4*h**2\n",
    "    A[n, n-1] = 2\n",
    "    for i in range(1, n):\n",
    "        A[i, i-1] = 1\n",
    "        A[i, i] = -2+4*h**2\n",
    "        A[i, i+1] = 1\n",
    "\n",
    "    # Get b\n",
    "    b = np.zeros(n+1)\n",
    "    for i in range(1, n+1):\n",
    "        b[i] = 4*h**2*x[i]\n",
    "    \n",
    "    return x, A, b\n",
    "\n",
    "x = np.pi/2\n",
    "v = x - np.sin(2*x)\n",
    "\n",
    "n_s = []\n",
    "errors = []\n",
    "\n",
    "for n in range(3, 100, 5):\n",
    "    x, A, b = get_a_b(n)\n",
    "    y = np.linalg.solve(A, b)\n",
    "    n_s.append(n)\n",
    "    e = v - y[-1]\n",
    "    errors.append(e)\n",
    "    \n",
    "plt.figure(figsize = (10,8))\n",
    "plt.plot(n_s, errors)\n",
    "plt.yscale('log')\n",
    "plt.xlabel('n gird points')\n",
    "plt.ylabel('errors at x = $\\pi/2$')\n",
    "plt.show()"
   ]
  },
  {
   "cell_type": "markdown",
   "metadata": {
    "button": false,
    "new_sheet": false,
    "run_control": {
     "read_only": false
    }
   },
   "source": [
    "We can see with denser grid points, we are approaching the exact solution on the boundary point. \n",
    "\n",
    "The finite difference method can be also applied to higher-order ODEs, but it needs approximation of the higher-order derivatives using the finite difference formula. For example, if we are solving a fourth-order ODE, we will need to use the following:\n",
    "\n",
    "$$\\frac{d^4y}{dx^4} = \\frac{y_{i-2}-4y_{i-1}+6y_i-4y_{i+1}+y_{i+2}}{h^4}$$\n",
    "\n",
    "We won't talk more on the higher-order ODEs, since the idea behind to solve it is similar to the second-order ODE we discussed above. "
   ]
  },
  {
   "cell_type": "markdown",
   "metadata": {
    "button": false,
    "new_sheet": false,
    "run_control": {
     "read_only": false
    }
   },
   "source": [
    "<!--NAVIGATION-->\n",
    "< [23.2 The Shooting Method](chapter23.02-The-Shooting-Method.ipynb) | [Contents](Index.ipynb) | [23.4 Numerical Error and Instability](chapter23.04-Numerical-Error-and-Instability.ipynb) >"
   ]
  }
 ],
 "metadata": {
  "kernelspec": {
   "display_name": "Python 3",
   "language": "python",
   "name": "python3"
  },
  "language_info": {
   "codemirror_mode": {
    "name": "ipython",
    "version": 3
   },
   "file_extension": ".py",
   "mimetype": "text/x-python",
   "name": "python",
   "nbconvert_exporter": "python",
   "pygments_lexer": "ipython3",
   "version": "3.6.8"
  }
 },
 "nbformat": 4,
 "nbformat_minor": 2
}
