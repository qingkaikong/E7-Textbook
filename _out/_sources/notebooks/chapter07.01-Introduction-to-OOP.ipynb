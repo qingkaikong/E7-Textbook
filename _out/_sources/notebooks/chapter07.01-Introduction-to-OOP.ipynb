{
 "cells": [
  {
   "cell_type": "markdown",
   "metadata": {
    "button": false,
    "new_sheet": false,
    "run_control": {
     "read_only": false
    }
   },
   "source": [
    "<!--BOOK_INFORMATION-->\n",
    "<img align=\"left\" style=\"padding-right:10px;\" src=\"images/book_cover.jpg\" width=\"120\">\n",
    "\n",
    "*This notebook contains an excerpt from the [Python Programming and Numerical Methods - A Guide for Engineers and Scientists](https://www.elsevier.com/books/python-programming-and-numerical-methods/kong/978-0-12-819549-9), the content is also available at [Berkeley Python Numerical Methods](https://pythonnumericalmethods.berkeley.edu/notebooks/Index.html).*\n",
    "\n",
    "*The copyright of the book belongs to Elsevier. We also have this interactive book online for a better learning experience. The code is released under the [MIT license](https://opensource.org/licenses/MIT). If you find this content useful, please consider supporting the work on [Elsevier](https://www.elsevier.com/books/python-programming-and-numerical-methods/kong/978-0-12-819549-9) or [Amazon](https://www.amazon.com/Python-Programming-Numerical-Methods-Scientists/dp/0128195495/ref=sr_1_1?dchild=1&keywords=Python+Programming+and+Numerical+Methods+-+A+Guide+for+Engineers+and+Scientists&qid=1604761352&sr=8-1)!*"
   ]
  },
  {
   "cell_type": "markdown",
   "metadata": {
    "button": false,
    "new_sheet": false,
    "run_control": {
     "read_only": false
    }
   },
   "source": [
    "<!--NAVIGATION-->\n",
    "< [CHAPTER 7. Object Oriented Programming (OOP)](chapter07.00-Objects-Oriented-Programming.ipynb) | [Contents](Index.ipynb) | [7.2 Class and Object](chapter07.02-Class-and-Object.ipynb) >"
   ]
  },
  {
   "cell_type": "markdown",
   "metadata": {
    "button": false,
    "new_sheet": false,
    "run_control": {
     "read_only": false
    }
   },
   "source": [
    "# Introduction to OOP"
   ]
  },
  {
   "cell_type": "markdown",
   "metadata": {
    "button": false,
    "new_sheet": false,
    "run_control": {
     "read_only": false
    }
   },
   "source": [
    "So far, all the codes we have written belong to the category of **procedure-oriented programming (POP)**, which consists of a list of instructions to tell the computer what to do; these instructions are then organized into functions. The program is divided into a collection of variables, data structures, and routines to accomplish different tasks. Python is a multi-paradigm programming language, which means it supports different programming approach. One different way to program in Python is **object-oriented programming (OOP)**. The learning curve is steeper, but it is extremely very powerful and worth the time invested in mastering it. Note: you do not have to use OOP when programming in Python. You can still write very powerful programs using the POP. That said, the POP is good for simple and small programs, while the OOP is better suited for large programs. Let us take a closer look at object-oriented programming.\n",
    "\n",
    "The object-oriented programming breaks the programming task into **objects**, which combine data (known as attributes) and behaviors/functions (known as methods). Therefore, there are two main components of the OOP: **class** and **object**.\n",
    "\n",
    "The class is a blueprint to define a logical grouping of data and functions. It provides a way to create data structures that model real-world entities. For example, we can create a `people` class that contains the data such as name, age, and some behavior functions to print out ages and genders of a group of people. While class is the blueprint, an object is an `instance` of the class with actual values. For example, a person named 'Iron man' with age 35. Put it another way, a class is like a template to define the needed information, and an object is one specific copy that filled in the template. Also, objects instantiated from the same class are **independent** from each other. For example, if we have another person - 'Batman' with age 33, it can be instantiated from the `people` class, but it is an independent instance. \n",
    "\n",
    "Let us implement the above example in Python. Do not worry if you do not understand the syntax below; the next section provide more helpful examples."
   ]
  },
  {
   "cell_type": "code",
   "execution_count": 1,
   "metadata": {
    "button": false,
    "collapsed": true,
    "new_sheet": false,
    "run_control": {
     "read_only": false
    }
   },
   "outputs": [],
   "source": [
    "class People():\n",
    "    def __init__(self, name, age):\n",
    "        self.name = name\n",
    "        self.age = age\n",
    "        \n",
    "    def greet(self):\n",
    "        print(\"Greetings, \" + self.name)"
   ]
  },
  {
   "cell_type": "code",
   "execution_count": 2,
   "metadata": {
    "button": false,
    "new_sheet": false,
    "run_control": {
     "read_only": false
    }
   },
   "outputs": [
    {
     "name": "stdout",
     "output_type": "stream",
     "text": [
      "Greetings, Iron Man\n",
      "Iron Man\n",
      "35\n"
     ]
    }
   ],
   "source": [
    "person1 = People(name = 'Iron Man', age = 35)\n",
    "person1.greet()\n",
    "print(person1.name)\n",
    "print(person1.age)"
   ]
  },
  {
   "cell_type": "code",
   "execution_count": 3,
   "metadata": {
    "button": false,
    "new_sheet": false,
    "run_control": {
     "read_only": false
    }
   },
   "outputs": [
    {
     "name": "stdout",
     "output_type": "stream",
     "text": [
      "Greetings, Batman\n",
      "Batman\n",
      "33\n"
     ]
    }
   ],
   "source": [
    "person2 = People(name = 'Batman', age = 33)\n",
    "person2.greet()\n",
    "print(person2.name)\n",
    "print(person2.age)"
   ]
  },
  {
   "cell_type": "markdown",
   "metadata": {
    "button": false,
    "new_sheet": false,
    "run_control": {
     "read_only": false
    }
   },
   "source": [
    "In the above code example, we first defined a class - People, with *name* and *age* as the data, and a method *greet*. We then initialized an object - `person1` with the specific name and age. We can clearly see that the *class* defines the whole structure, while the object is just an `instance` of the `class`. Later, we instantiated another object, `person2`. It is clear that `person1` and `person2` are independent with each other, though they are all instantiated from the same class. \n",
    "\n",
    "The concept of OOP is to create reusable code. There are three key principles of using OOP: \n",
    "\n",
    "* **Inheritance** - a way of creating new classes from existing class without modifying it.\n",
    "* **Encapsulation** - a way of hiding some of the private details of a class from other objects. \n",
    "* **Polymorphism** - a way of using common operation in different ways for different data input. \n",
    "\n",
    "With the above principles, there are many benefits of using OOP: It provides a clear modular structure for programs that enhances code re-usability. It provides a simple way to solve complex problems. It helps define more abstract data types to model real-world scenarios. It hides implementation details, leaving a clearly defined\n",
    "interface. It combines data and operations.\n",
    "\n",
    "There are also other advantages to use OOP in a large project. We encourage you can search online to find out more. At this point, you may still not fully understand OOP's advantages until you are involved in complex large projects. We will continue to learn more about OOP during the course of this book, and its usefulness will become apparent."
   ]
  },
  {
   "cell_type": "markdown",
   "metadata": {
    "button": false,
    "new_sheet": false,
    "run_control": {
     "read_only": false
    }
   },
   "source": [
    "<!--NAVIGATION-->\n",
    "< [CHAPTER 7. Object Oriented Programming (OOP)](chapter07.00-Objects-Oriented-Programming.ipynb) | [Contents](Index.ipynb) | [7.2 Class and Object](chapter07.02-Class-and-Object.ipynb) >"
   ]
  }
 ],
 "metadata": {
  "kernelspec": {
   "display_name": "Python 3",
   "language": "python",
   "name": "python3"
  },
  "language_info": {
   "codemirror_mode": {
    "name": "ipython",
    "version": 3
   },
   "file_extension": ".py",
   "mimetype": "text/x-python",
   "name": "python",
   "nbconvert_exporter": "python",
   "pygments_lexer": "ipython3",
   "version": "3.6.8"
  }
 },
 "nbformat": 4,
 "nbformat_minor": 2
}
