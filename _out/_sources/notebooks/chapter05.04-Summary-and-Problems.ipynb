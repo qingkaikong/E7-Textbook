{
 "cells": [
  {
   "cell_type": "markdown",
   "metadata": {
    "button": false,
    "new_sheet": false,
    "run_control": {
     "read_only": false
    }
   },
   "source": [
    "<!--BOOK_INFORMATION-->\n",
    "<img align=\"left\" style=\"padding-right:10px;\" src=\"images/book_cover.jpg\" width=\"120\">\n",
    "\n",
    "*This notebook contains an excerpt from the [An Introduction To Python Programming And Numerical Methods For Scientists and Engineers](); the content is available [on GitHub]().*\n",
    "\n",
    "*The text is released under the [CC-BY-NC-ND license](https://creativecommons.org/licenses/by-nc-nd/3.0/us/legalcode), and code is released under the [MIT license](https://opensource.org/licenses/MIT). If you find this content useful, please consider supporting the work by [buying the book]()!*"
   ]
  },
  {
   "cell_type": "markdown",
   "metadata": {
    "button": false,
    "new_sheet": false,
    "run_control": {
     "read_only": false
    }
   },
   "source": [
    "<!--NAVIGATION-->\n",
    "< [5.3 Comprehensions](chapter05.03-Comprehensions.ipynb) | [Contents](Index.ipynb) | [6.0 Recursion](chapter06.00-Recursion.ipynb) >"
   ]
  },
  {
   "cell_type": "markdown",
   "metadata": {
    "button": false,
    "new_sheet": false,
    "run_control": {
     "read_only": false
    }
   },
   "source": [
    "# Summary\n",
    "\n",
    "\n",
    "1. Loops provide a mechanism for code to perform repetitive tasks; that is, iteration. \n",
    "2. There are two kinds of loops: for-loops and while-loops.\n",
    "3. Loops are important for constructing iterative solutions to problems.\n",
    "4. Comprehensions provide another concise way to iterate sequence. "
   ]
  },
  {
   "cell_type": "markdown",
   "metadata": {
    "button": false,
    "new_sheet": false,
    "run_control": {
     "read_only": false
    }
   },
   "source": [
    "# Problems\n",
    "\n",
    "1. What will the value of y be after the following code is executed?"
   ]
  },
  {
   "cell_type": "code",
   "execution_count": null,
   "metadata": {},
   "outputs": [],
   "source": [
    "y = 0\n",
    "for i in range(1000):\n",
    "    for j in range(1000):\n",
    "        if i == j:\n",
    "            y += 1"
   ]
  },
  {
   "cell_type": "markdown",
   "metadata": {},
   "source": [
    "2. Write a function *my_max(x)* to return the maximum (largest) value in *x*. Don't use the built-in Python function *max*."
   ]
  },
  {
   "cell_type": "markdown",
   "metadata": {},
   "source": [
    "3. Write a function *my_n_max(x, n)* to return a list consisting of the n largest elements of *x*. You may use Python's *max* function. You may also assume that *x* is a one-dimensional list with no duplicate entries, and that *n* is strictly positive integer smaller than the length of *x* "
   ]
  },
  {
   "cell_type": "code",
   "execution_count": null,
   "metadata": {},
   "outputs": [],
   "source": [
    "x = [7, 9, 10, 5, 8, 3, 4, 6, 2, 1]\n",
    "\n",
    "def my_n_max(x, n):\n",
    "    # write your function code here\n",
    "    \n",
    "    return out"
   ]
  },
  {
   "cell_type": "code",
   "execution_count": null,
   "metadata": {},
   "outputs": [],
   "source": [
    "# Output = [10, 9, 8]\n",
    "out = my_n_max(x, n)\n",
    "print(out)"
   ]
  },
  {
   "cell_type": "markdown",
   "metadata": {},
   "source": [
    "4. Let *m* be a matrix of positive integers. Write a function *my_trig_odd_even(m)* to return an array *q*, where q[i, j] = sin (m[i, j]) if m[i, j] is even, and q[i, j] = cos (m[i, j]) if m[i, j] is odd."
   ]
  },
  {
   "cell_type": "markdown",
   "metadata": {},
   "source": [
    "5. Let *P* be an $m \\times p$ array and Q be a $p \\times n$ array. As you will find later in this book, $M = P \\times Q$ is defined as $M[i, j] = \\sum_{k=1}^{p}P[i, k]\\cdot Q[k, j]$. Write a function *my_mat_mult(P, Q) that uses for-loops to compute *M*, the matrix product of *P* and *Q*. Hint: You may need up to three nested for-loops. Do not use the function *np.dot*."
   ]
  },
  {
   "cell_type": "code",
   "execution_count": null,
   "metadata": {},
   "outputs": [],
   "source": [
    "import numpy as np\n",
    "\n",
    "def my_mat_mult(P, Q):\n",
    "    # write your function code here\n",
    "    \n",
    "    return M"
   ]
  },
  {
   "cell_type": "code",
   "execution_count": null,
   "metadata": {},
   "outputs": [],
   "source": [
    "# Output:\n",
    "#  array([[3., 3., 3.],\n",
    "#        [3., 3., 3.],\n",
    "#        [3., 3., 3.]])\n",
    "\n",
    "P = np.ones((3, 3))\n",
    "my_mat_mult(P, P)"
   ]
  },
  {
   "cell_type": "code",
   "execution_count": null,
   "metadata": {},
   "outputs": [],
   "source": [
    "# Output:\n",
    "# array([[30, 30, 30],\n",
    "#       [70, 70, 70]])\n",
    "\n",
    "P = np.array([[1, 2, 3, 4], [5, 6, 7, 8]])\n",
    "Q = np.array([[1, 1, 1], [2, 2, 2], [3, 3, 3], [4, 4, 4]])\n",
    "my_mat_mult(P, Q)"
   ]
  },
  {
   "cell_type": "markdown",
   "metadata": {},
   "source": [
    "6. The interest, $i$, on a principle, $P_0$, is a payment for allowing the bank to use your money. Compound interest is accumulated according to the formula $P_n = (1 + i)P_{n-1}$, where n is the compounding period, usually in months or years. Write a function *my_saving_plan(P0, i, goal)* where the output is the number of years it will take $P_0$ to become goal at $i\\%$ interest compounded annually. "
   ]
  },
  {
   "cell_type": "code",
   "execution_count": null,
   "metadata": {},
   "outputs": [],
   "source": [
    "def my_saving_plan(P0, i, goal):\n",
    "    # write your function code here\n",
    "    \n",
    "    return years"
   ]
  },
  {
   "cell_type": "code",
   "execution_count": null,
   "metadata": {},
   "outputs": [],
   "source": [
    "# Output: 15\n",
    "my_saving_plan(1000, 0.05, 2000)"
   ]
  },
  {
   "cell_type": "code",
   "execution_count": null,
   "metadata": {},
   "outputs": [],
   "source": [
    "# Output: 11\n",
    "my_saving_plan(1000, 0.07, 2000)"
   ]
  },
  {
   "cell_type": "code",
   "execution_count": null,
   "metadata": {},
   "outputs": [],
   "source": [
    "# Output: 21\n",
    "my_saving_plan(500, 0.07, 2000)"
   ]
  },
  {
   "cell_type": "markdown",
   "metadata": {},
   "source": [
    "7. Write a function with *my_find(M)*, where output is a list of indices *i* where M[i] is 1. You may assume that *M* is a list of only ones and zeros. Do not use the built-in Python function find."
   ]
  },
  {
   "cell_type": "code",
   "execution_count": null,
   "metadata": {},
   "outputs": [],
   "source": [
    "# Output: [0, 2, 3]\n",
    "\n",
    "M = [1, 0, 1, 1, 0]\n",
    "\n",
    "my_find(M)"
   ]
  },
  {
   "cell_type": "markdown",
   "metadata": {},
   "source": [
    "8. Assume you are rolling two six-sided dice, each side having an equal chance of occurring. Write a function *my_monopoly_dice()*, where the output is the sum of the values of the two dice thrown but with the following extra rule: if the two dice rolls are the same, then another roll is made, and the new sum added to the running total. For example, if the two dice show 3 and 4, then the running total should be 7. If the two dice show 1 and 1, then the running total should be 2 plus the total of another throw. Rolls stop when the dice rolls are different."
   ]
  },
  {
   "cell_type": "markdown",
   "metadata": {},
   "source": [
    "9. A number is prime if it is divisible without remainder only by itself and 1. The number 1 is not prime. Write a function *my_is_prime(n)*, where output is 1 if *n* is prime and 0 otherwise. Assume that *n* is a strictly positive integer."
   ]
  },
  {
   "cell_type": "markdown",
   "metadata": {},
   "source": [
    "10. Write a function *my_n_primes(n)* where primes is a list of the first *n* primes. Assume that *n* is a strictly positive integer."
   ]
  },
  {
   "cell_type": "markdown",
   "metadata": {},
   "source": [
    "11. Write a function *my_n_fib_primes(n)*, where the output *fib_primes* is a list of the first *n* numbers that are both a Fibonacci number and prime. Note: 1 is not prime. Hint: Do not use the recursive implementation of Fibonacci numbers. A function to compute Fibonacci numbers is presented in Section 6.1. You may use the code freely."
   ]
  },
  {
   "cell_type": "code",
   "execution_count": null,
   "metadata": {},
   "outputs": [],
   "source": [
    "def my_n_fib_primes(n):\n",
    "    # write your function code here\n",
    "    \n",
    "    return fib_primes"
   ]
  },
  {
   "cell_type": "code",
   "execution_count": null,
   "metadata": {},
   "outputs": [],
   "source": [
    "# Output: [3, 5, 13, 89, 233, 1597, 28657, 514229]\n",
    "\n",
    "my_n_fib_primes(3)"
   ]
  },
  {
   "cell_type": "code",
   "execution_count": null,
   "metadata": {},
   "outputs": [],
   "source": [
    "# Output: [3, 5, 13]\n",
    "\n",
    "my_n_fib_primes(8)"
   ]
  },
  {
   "cell_type": "markdown",
   "metadata": {},
   "source": [
    "12. Write a function *my_trig_odd_even(M)*, where the output $Q[i, j] = sin (\\pi/M[i, j])$ if $M[i,j]$ is odd, and $Q[i, j] = cos (\\pi/M[i, j])$ if $M[i, j]$ is even. Assume that M is a two-dimensional array of strictly positive integers."
   ]
  },
  {
   "cell_type": "code",
   "execution_count": null,
   "metadata": {},
   "outputs": [],
   "source": [
    "def my_trig_odd_even(M):\n",
    "    # write your function code here\n",
    "    \n",
    "    return Q"
   ]
  },
  {
   "cell_type": "code",
   "execution_count": null,
   "metadata": {},
   "outputs": [],
   "source": [
    "# Output: [[0.8660, 0.7071], [0.8660, 0.4339]]\n",
    "M = [[3, 4], [6, 7]]\n",
    "my_trig_odd_even(M)"
   ]
  },
  {
   "cell_type": "markdown",
   "metadata": {},
   "source": [
    "13. Let $C$ be a square connectivity array containing zeros and ones. We say that point $i$ has a connection to point $j$ , or $i$ is connected to $j$ , if $C [i , j ] = 1$. Note that connections in this context are one-directional, meaning $C [i , j]$ is not necessarily the same as $C [ j , i ]$. For example, think of a one-way street from point A to point B. If A is connected to B, then B is not necessarily connected to A.\n",
    "\n",
    "Write a function *my_connectivity_mat_2_dict(C, names)*, where *C* is a connectivity array and *names* is a list of strings that denote the name of a point. That is, *names[i]* is the name of the name of the *i-th* point. \n",
    "\n",
    "The output variable *node* should be a dict with the key as the string in *names* and value is a vector containing the indices, j, such that $C[i,j] = 1$. In other words, it is a list of points that point i is connected to."
   ]
  },
  {
   "cell_type": "code",
   "execution_count": null,
   "metadata": {},
   "outputs": [],
   "source": [
    "def my_connectivity_mat_2_dict(C, names):\n",
    "    # write your function code here\n",
    "    return node"
   ]
  },
  {
   "cell_type": "code",
   "execution_count": null,
   "metadata": {},
   "outputs": [],
   "source": [
    "C = [[0, 1, 0, 1], [1, 0, 0, 1], [0, 0, 0, 1], [1, 1, 1, 0]]\n",
    "names = ['Los Angeles', 'New York', 'Miami', 'Dallas']"
   ]
  },
  {
   "cell_type": "code",
   "execution_count": null,
   "metadata": {},
   "outputs": [],
   "source": [
    "# Output: node['Los Angeles'] = [2, 4]\n",
    "#         node['New York'] = [1, 4]\n",
    "#         node['Miami'] = [4]\n",
    "#         node['Dallas'] = [1, 2, 3]\n",
    "\n",
    "node = my_connectivity_mat_2_dict(C, names)"
   ]
  },
  {
   "cell_type": "markdown",
   "metadata": {},
   "source": [
    "14. Turn the list *words* of lower case characters to upper case using list comprehension. "
   ]
  },
  {
   "cell_type": "code",
   "execution_count": null,
   "metadata": {},
   "outputs": [],
   "source": [
    "words = ['test', 'data', 'analyze']"
   ]
  },
  {
   "cell_type": "markdown",
   "metadata": {},
   "source": [
    "<!--NAVIGATION-->\n",
    "< [5.3 Comprehensions](chapter05.03-Comprehensions.ipynb) | [Contents](Index.ipynb) | [6.0 Recursion](chapter06.00-Recursion.ipynb) >"
   ]
  }
 ],
 "metadata": {
  "kernelspec": {
   "display_name": "Python 3",
   "language": "python",
   "name": "python3"
  },
  "language_info": {
   "codemirror_mode": {
    "name": "ipython",
    "version": 3
   },
   "file_extension": ".py",
   "mimetype": "text/x-python",
   "name": "python",
   "nbconvert_exporter": "python",
   "pygments_lexer": "ipython3",
   "version": "3.6.7"
  }
 },
 "nbformat": 4,
 "nbformat_minor": 2
}
