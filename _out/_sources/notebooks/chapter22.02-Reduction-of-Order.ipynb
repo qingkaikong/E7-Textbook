{
 "cells": [
  {
   "cell_type": "markdown",
   "metadata": {
    "button": false,
    "new_sheet": false,
    "run_control": {
     "read_only": false
    }
   },
   "source": [
    "<!--BOOK_INFORMATION-->\n",
    "<img align=\"left\" style=\"padding-right:10px;\" src=\"images/book_cover.jpg\" width=\"120\">\n",
    "\n",
    "*This notebook contains an excerpt from the [Python Programming and Numerical Methods - A Guide for Engineers and Scientists](https://www.elsevier.com/books/python-programming-and-numerical-methods/kong/978-0-12-819549-9), the content is also available at [Berkeley Python Numerical Methods](https://pythonnumericalmethods.berkeley.edu/notebooks/Index.html).*\n",
    "\n",
    "*The copyright of the book belongs to Elsevier. We also have this interactive book online for a better learning experience. The code is released under the [MIT license](https://opensource.org/licenses/MIT). If you find this content useful, please consider supporting the work on [Elsevier](https://www.elsevier.com/books/python-programming-and-numerical-methods/kong/978-0-12-819549-9) or [Amazon](https://www.amazon.com/Python-Programming-Numerical-Methods-Scientists/dp/0128195495/ref=sr_1_1?dchild=1&keywords=Python+Programming+and+Numerical+Methods+-+A+Guide+for+Engineers+and+Scientists&qid=1604761352&sr=8-1)!*"
   ]
  },
  {
   "cell_type": "markdown",
   "metadata": {
    "button": false,
    "new_sheet": false,
    "run_control": {
     "read_only": false
    }
   },
   "source": [
    "<!--NAVIGATION-->\n",
    "< [22.1 ODE Initial Value Problem Statement](chapter22.01-ODE-Initial-Value-Problem-Statement.ipynb) | [Contents](Index.ipynb) | [22.3 The Euler Method](chapter22.03-The-Euler-Method.ipynb) >"
   ]
  },
  {
   "cell_type": "markdown",
   "metadata": {
    "button": false,
    "new_sheet": false,
    "run_control": {
     "read_only": false
    }
   },
   "source": [
    "# Reduction of Order"
   ]
  },
  {
   "cell_type": "markdown",
   "metadata": {
    "button": false,
    "new_sheet": false,
    "run_control": {
     "read_only": false
    }
   },
   "source": [
    "Many numerical methods for solving initial value problems are designed specifically to solve first-order differential equations. To make these solvers useful for solving higher order differential equations, we must often **reduce the order** of the differential equation to first order. To reduce the order of a differential equation, consider a vector, $S(t)$, which is the **state** of the system as a function of time. In general, the state of a system is a collection of all the dependent variables that are relevant to the behavior of the system. Recalling that the ODEs of interest in this book can be expressed as\n",
    "\n",
    "$$\n",
    "f^{(n)}(t) = F\\left(t, f(t), f^{(1)}(t), f^{(2)}(t), f^{(3)}(t),\\ldots, f^{(n-1)}(t)\\right),\n",
    "$$\n",
    "\n",
    "for initial value problems, it is useful to take the state to be\n",
    "\n",
    "$$\n",
    "S(t) =\\left[\\begin{array}{c}\n",
    "f(t) \\\\\n",
    "f^{(1)}(t) \\\\\n",
    "f^{(2)}(t) \\\\\n",
    "f^{(3)}(t) \\\\\n",
    "\\cdots \\\\\n",
    "f^{(n-1)}(t)\n",
    "\\end{array}\\right].\n",
    "$$\n",
    "\n",
    "Then the derivative of the state is\n",
    "\n",
    "$$\n",
    "\\frac{dS(t)}{dt} =\\!\\left[\\begin{array}{c}\n",
    "f^{(1)}(t) \\\\\n",
    "f^{(2)}(t) \\\\\n",
    "f^{(3)}(t) \\\\\n",
    "f^{(4)}(t) \\\\\n",
    "\\cdots \\\\\n",
    "f^{(n)}(t)\n",
    "\\end{array}\\right]\\!=\\!\\left[\\begin{array}{c}\n",
    "f^{(1)}(t) \\\\\n",
    "f^{(2)}(t) \\\\\n",
    "f^{(3)}(t) \\\\\n",
    "f^{(4)}(t) \\\\\n",
    "\\cdots \\\\\n",
    "F\\left(t, f(t), f^{(1)}(t),\\ldots, f^{(n-1)}(t)\\right)\n",
    "\\end{array}\\right]\\!=\\!\\left[\\begin{array}{c}\n",
    "S_2(t) \\\\\n",
    "S_3(t) \\\\\n",
    "S_4(t) \\\\\n",
    "S_5(t) \\\\\n",
    "\\cdots \\\\\n",
    "F\\left(t, S_1(t), S_2(t),\\ldots, S_{n-1}(t)\\right)\n",
    "\\end{array}\\right]\\!,\n",
    "$$\n",
    "\n",
    "where $S_i(t)$ is the $i^{\\mathrm{th}}$ element of $S(t)$. With the state written in this way, $\\frac{dS(t)}{dt}$ can be written using only $S(t)$ (i.e., no $f(t)$) or its derivatives. In particular, $\\frac{dS(t)}{dt} = {\\mathcal{F}}(t,S(t))$, where ${\\mathcal{F}}$ is a function that appropriately assembles the vector describing the derivative of the state. This equation is in the form of a first-order differential equation in $S$. Essentially, what we have done is turn an $n^{\\mathrm{th}}$ order ODE into $n$ first order ODEs that are **coupled** together, meaning they share the same terms."
   ]
  },
  {
   "cell_type": "markdown",
   "metadata": {
    "button": false,
    "new_sheet": false,
    "run_control": {
     "read_only": false
    }
   },
   "source": [
    "**TRY IT!** Reduce the second order pendulum equation to first order, where\n",
    "\n",
    "$$\n",
    "S(t) =\\left[\\begin{array}{c}\n",
    "\\Theta(t) \\\\\n",
    "\\dot{\\Theta}(t)\n",
    "\\end{array}\\right].\n",
    "$$\n",
    "\n",
    "Taking the derivative of $S(t)$ and substituting gives the correct expression.\n",
    "\n",
    "$$\n",
    "\\frac{dS(t)}{dt} =\\left[\\begin{array}{c}\n",
    "S_2(t) \\\\\n",
    "-\\frac{g}{l}S_1(t)\n",
    "\\end{array}\\right]\n",
    "$$\n",
    "\n",
    "It happens that this ODE can be written in matrix form:\n",
    "\n",
    "$$\n",
    "\\frac{dS(t)}{dt} =\\left[\\begin{array}{cc}\n",
    "0 & 1 \\\\\n",
    "-\\frac{g}{l} & 0\n",
    "\\end{array}\\right]S(t)\n",
    "$$\n",
    "\n",
    "ODEs that can be written in this way are said to be **linear ODEs**."
   ]
  },
  {
   "cell_type": "markdown",
   "metadata": {
    "button": false,
    "new_sheet": false,
    "run_control": {
     "read_only": false
    }
   },
   "source": [
    "Although reducing the order of an ODE to first order results in an ODE with multiple variables, all the derivatives are still taken with respect to the same independent variable, $t$. Therefore, the ordinariness of the differential equation is retained.\n",
    "\n",
    "It is worth noting that the state can hold multiple dependent variables and their derivatives as long as the derivatives are with respect to the same independent variable."
   ]
  },
  {
   "cell_type": "markdown",
   "metadata": {
    "button": false,
    "new_sheet": false,
    "run_control": {
     "read_only": false
    }
   },
   "source": [
    "**TRY IT!** A very simple model to describe the change in population of rabbits, $r(t)$, and wolves, $w(t)$, might be\n",
    "\n",
    "$$\n",
    "\\frac{dr(t)}{dt} = 4r(t) - 2w(t)\n",
    "$$\n",
    "\n",
    "and\n",
    "\n",
    "$$\n",
    "\\frac{dw(t)}{dt} = r(t) + w(t).\n",
    "$$\n",
    "\n",
    "The first ODE says that at each time step, the rabbit population multiplies by 4, but each wolf eats two of the rabbits. The second ODE says that at each time step, the population of wolves increases by the number of rabbits and wolves in the system. Write this system of differential equations as an equivalent differential equation in $S(t)$ where\n",
    "\n",
    "$$\n",
    "S(t) =\\left[\\begin{array}{c}\n",
    "r(t) \\\\\n",
    "w(t)\n",
    "\\end{array}\\right].\n",
    "$$\n",
    "\n",
    "The following first-order ODE is equivalent to the pair of ODEs.\n",
    "\n",
    "$$\n",
    "\\frac{dS(t)}{dt} = \\left[\\begin{array}{cc}\n",
    "4 & -2 \\\\\n",
    "1 & 1\n",
    "\\end{array}\\right]S(t).\n",
    "$$"
   ]
  },
  {
   "cell_type": "markdown",
   "metadata": {
    "button": false,
    "new_sheet": false,
    "run_control": {
     "read_only": false
    }
   },
   "source": [
    "<!--NAVIGATION-->\n",
    "< [22.1 ODE Initial Value Problem Statement](chapter22.01-ODE-Initial-Value-Problem-Statement.ipynb) | [Contents](Index.ipynb) | [22.3 The Euler Method](chapter22.03-The-Euler-Method.ipynb) >"
   ]
  }
 ],
 "metadata": {
  "kernelspec": {
   "display_name": "Python 3",
   "language": "python",
   "name": "python3"
  },
  "language_info": {
   "codemirror_mode": {
    "name": "ipython",
    "version": 3
   },
   "file_extension": ".py",
   "mimetype": "text/x-python",
   "name": "python",
   "nbconvert_exporter": "python",
   "pygments_lexer": "ipython3",
   "version": "3.6.8"
  }
 },
 "nbformat": 4,
 "nbformat_minor": 2
}
