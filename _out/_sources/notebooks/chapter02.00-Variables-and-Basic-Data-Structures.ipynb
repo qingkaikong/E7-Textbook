{
 "cells": [
  {
   "cell_type": "markdown",
   "metadata": {
    "button": false,
    "new_sheet": false,
    "run_control": {
     "read_only": false
    }
   },
   "source": [
    "<!--BOOK_INFORMATION-->\n",
    "<img align=\"left\" style=\"padding-right:10px;\" src=\"images/book_cover.jpg\" width=\"120\">\n",
    "\n",
    "*This notebook contains an excerpt from the [Python Programming and Numerical Methods - A Guide for Engineers and Scientists](https://www.elsevier.com/books/python-programming-and-numerical-methods/kong/978-0-12-819549-9), the content is also available at [Berkeley Python Numerical Methods](https://pythonnumericalmethods.berkeley.edu/notebooks/Index.html).*\n",
    "\n",
    "*The copyright of the book belongs to Elsevier. We also have this interactive book online for a better learning experience. The code is released under the [MIT license](https://opensource.org/licenses/MIT). If you find this content useful, please consider supporting the work on [Elsevier](https://www.elsevier.com/books/python-programming-and-numerical-methods/kong/978-0-12-819549-9) or [Amazon](https://www.amazon.com/Python-Programming-Numerical-Methods-Scientists/dp/0128195495/ref=sr_1_1?dchild=1&keywords=Python+Programming+and+Numerical+Methods+-+A+Guide+for+Engineers+and+Scientists&qid=1604761352&sr=8-1)!*"
   ]
  },
  {
   "cell_type": "markdown",
   "metadata": {
    "button": false,
    "new_sheet": false,
    "run_control": {
     "read_only": false
    }
   },
   "source": [
    "<!--NAVIGATION-->\n",
    "< [Chapter 1 Summary and Problems](chapter01.06-Summary-and-Problems.ipynb) | [Contents](Index.ipynb) | [2.1 Python as A Calculator](chapter02.01-Variables-and-Assignment.ipynb) >"
   ]
  },
  {
   "cell_type": "markdown",
   "metadata": {
    "button": false,
    "new_sheet": false,
    "run_control": {
     "read_only": false
    }
   },
   "source": [
    "# Chapter 2. Variables and Basic Data Structures"
   ]
  },
  {
   "cell_type": "markdown",
   "metadata": {
    "button": false,
    "new_sheet": false,
    "run_control": {
     "read_only": false
    }
   },
   "source": [
    "#### CHAPTER OUTLINE\n",
    "\n",
    "---\n",
    "\n",
    "* [**2.1 Variables and Assignment**](chapter02.01-Variables-and-Assignment.ipynb)\n",
    "* [**2.2 Data Structure - Strings**](chapter02.02-Data-Structure-Strings.ipynb)\n",
    "* [**2.3 Data Structure - Lists**](chapter02.03-Data-Structure-Lists.ipynb)\n",
    "* [**2.4 Data Structure - Tuples**](chapter02.04-Data-Structure-Tuples.ipynb)\n",
    "* [**2.5 Data Structure - Sets**](chapter02.05-Data-Structure-Sets.ipynb)\n",
    "* [**2.6 Data Structure - Dictionaries**](chapter02.06-Data-Structure-Dictionaries.ipynb)\n",
    "* [**2.7 Introducing Numpy Arrays**](chapter02.07-Introducing_numpy_arrays.ipynb)\n",
    "* [**2.8 Summary and Problems**](chapter02.08-Summary-and-Problems.ipynb)\n",
    "\n"
   ]
  },
  {
   "cell_type": "markdown",
   "metadata": {
    "button": false,
    "new_sheet": false,
    "run_control": {
     "read_only": false
    }
   },
   "source": [
    "--- \n",
    "\n",
    "## Motivation\n",
    "\n",
    "Currently, technology can acquire information from the physical world at an enormous rate. For example, there are sensors that can take tens of thousands of pressure, temperature, and acceleration readings per second. To make sense of all this data and process it in a way that will help solve science and engineering problems requires storing information in data structures that you and Python can easily work with.\n",
    "\n",
    "Variables are used in Python to store and work with data. However, data can take many forms. For example, data can be numbers, words, or have a more complicated structure. It is only natural that Python would have different kinds of variables to hold different kinds of data. In this chapter, you will learn how to create and manipulate Python’s most common variable types. \n",
    "\n",
    "---"
   ]
  }
 ],
 "metadata": {
  "kernelspec": {
   "display_name": "Python 3",
   "language": "python",
   "name": "python3"
  },
  "language_info": {
   "codemirror_mode": {
    "name": "ipython",
    "version": 3
   },
   "file_extension": ".py",
   "mimetype": "text/x-python",
   "name": "python",
   "nbconvert_exporter": "python",
   "pygments_lexer": "ipython3",
   "version": "3.6.8"
  }
 },
 "nbformat": 4,
 "nbformat_minor": 2
}
