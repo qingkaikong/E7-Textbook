{
 "cells": [
  {
   "cell_type": "markdown",
   "metadata": {
    "button": false,
    "new_sheet": false,
    "run_control": {
     "read_only": false
    }
   },
   "source": [
    "<!--BOOK_INFORMATION-->\n",
    "<img align=\"left\" style=\"padding-right:10px;\" src=\"images/book_cover.jpg\" width=\"120\">\n",
    "\n",
    "*This notebook contains an excerpt from the [Python Programming and Numerical Methods - A Guide for Engineers and Scientists](https://www.elsevier.com/books/python-programming-and-numerical-methods/kong/978-0-12-819549-9), the content is also available at [Berkeley Python Numerical Methods](https://pythonnumericalmethods.berkeley.edu/notebooks/Index.html).*\n",
    "\n",
    "*The copyright of the book belongs to Elsevier. We also have this interactive book online for a better learning experience. The code is released under the [MIT license](https://opensource.org/licenses/MIT). If you find this content useful, please consider supporting the work on [Elsevier](https://www.elsevier.com/books/python-programming-and-numerical-methods/kong/978-0-12-819549-9) or [Amazon](https://www.amazon.com/Python-Programming-Numerical-Methods-Scientists/dp/0128195495/ref=sr_1_1?dchild=1&keywords=Python+Programming+and+Numerical+Methods+-+A+Guide+for+Engineers+and+Scientists&qid=1604761352&sr=8-1)!*"
   ]
  },
  {
   "cell_type": "markdown",
   "metadata": {
    "button": false,
    "new_sheet": false,
    "run_control": {
     "read_only": false
    }
   },
   "source": [
    "<!--NAVIGATION-->\n",
    "< [20.5 Summary and Problems](chapter20.05-Summary-and-Problems.ipynb) | [Contents](Index.ipynb) | [21.1 Numerical Integration Problem Statement](chapter21.01-Numerical-Integration-Problem-Statement.ipynb)  >"
   ]
  },
  {
   "cell_type": "markdown",
   "metadata": {
    "button": false,
    "new_sheet": false,
    "run_control": {
     "read_only": false
    }
   },
   "source": [
    "# Chapter 21. Numerical Integration"
   ]
  },
  {
   "cell_type": "markdown",
   "metadata": {
    "button": false,
    "new_sheet": false,
    "run_control": {
     "read_only": false
    }
   },
   "source": [
    "#### CHAPTER OUTLINE\n",
    "\n",
    "---\n",
    "\n",
    "* [**21.1 Numerical Integration Problem Statement**](chapter21.01-Numerical-Integration-Problem-Statement.ipynb) \n",
    "* [**21.2 Riemann's Integral**](chapter21.02-Riemanns-Integral.ipynb)\n",
    "* [**21.3 Trapezoid Rule**](chapter21.03-Trapezoid-Rule.ipynb)\n",
    "* [**21.4 Simpson's Rule**](chapter21.04-Simpsons-Rule.ipynb)\n",
    "* [**21.5 Computing Integrals in Python**](chapter21.05-Computing-Integrals-in-Python.ipynb)\n",
    "* [**21.6 Summary and Problems**](chapter21.06-Summary-and-Problems.ipynb)"
   ]
  },
  {
   "cell_type": "markdown",
   "metadata": {
    "button": false,
    "new_sheet": false,
    "run_control": {
     "read_only": false
    }
   },
   "source": [
    "--- \n",
    "\n",
    "## Motivation\n",
    "\n",
    "The integral of a function is normally described as the \"area under the curve.\" In engineering and science, the integral has many applications for modeling, predicting, and understanding physical systems. However in practice, finding an exact solution for the integral of a function is difficult or impossible.\n",
    "\n",
    "This chapter describes several methods of numerically integrating functions. By the end of this chapter, you should understand these methods, how they are derived, their geometric interpretation, and their accuracy.\n",
    "\n",
    "---"
   ]
  }
 ],
 "metadata": {
  "kernelspec": {
   "display_name": "Python 3",
   "language": "python",
   "name": "python3"
  },
  "language_info": {
   "codemirror_mode": {
    "name": "ipython",
    "version": 3
   },
   "file_extension": ".py",
   "mimetype": "text/x-python",
   "name": "python",
   "nbconvert_exporter": "python",
   "pygments_lexer": "ipython3",
   "version": "3.6.8"
  }
 },
 "nbformat": 4,
 "nbformat_minor": 2
}
