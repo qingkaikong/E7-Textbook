{
 "cells": [
  {
   "cell_type": "markdown",
   "metadata": {
    "button": false,
    "new_sheet": false,
    "run_control": {
     "read_only": false
    }
   },
   "source": [
    "<!--BOOK_INFORMATION-->\n",
    "<img align=\"left\" style=\"padding-right:10px;\" src=\"images/book_cover.jpg\" width=\"120\">\n",
    "\n",
    "*This notebook contains an excerpt from the [Python Programming and Numerical Methods - A Guide for Engineers and Scientists](https://www.elsevier.com/books/python-programming-and-numerical-methods/kong/978-0-12-819549-9), the content is also available at [Berkeley Python Numerical Methods](https://pythonnumericalmethods.berkeley.edu/notebooks/Index.html).*\n",
    "\n",
    "*The copyright of the book belongs to Elsevier. We also have this interactive book online for a better learning experience. The code is released under the [MIT license](https://opensource.org/licenses/MIT). If you find this content useful, please consider supporting the work on [Elsevier](https://www.elsevier.com/books/python-programming-and-numerical-methods/kong/978-0-12-819549-9) or [Amazon](https://www.amazon.com/Python-Programming-Numerical-Methods-Scientists/dp/0128195495/ref=sr_1_1?dchild=1&keywords=Python+Programming+and+Numerical+Methods+-+A+Guide+for+Engineers+and+Scientists&qid=1604761352&sr=8-1)!*"
   ]
  },
  {
   "cell_type": "markdown",
   "metadata": {
    "button": false,
    "new_sheet": false,
    "run_control": {
     "read_only": false
    }
   },
   "source": [
    "<!--NAVIGATION-->\n",
    "< [20.4 Numerical Differentiation with Noise](chapter20.04-Numerical-Differentiation-with-Noise.ipynb) | [Contents](Index.ipynb) | [CHAPTER 21. Numerical Integration](chapter21.00-Numerical-Integration.ipynb) >"
   ]
  },
  {
   "cell_type": "markdown",
   "metadata": {
    "button": false,
    "new_sheet": false,
    "run_control": {
     "read_only": false
    }
   },
   "source": [
    "# Summary\n",
    "\n",
    "\n",
    "1. Because explicit derivation of functions is sometimes cumbersome for engineering applications, numerical approaches can be preferable.\n",
    "2. Numerical approximation of derivatives can be done using a grid on which the derivative is approximated by finite differences.\n",
    "3. Finite differences approximate the derivative by ratios of differences in the function value over small intervals.\n",
    "4. Finite difference schemes have different approximation orders depending on the method used.\n",
    "5. There are issues with finite differences for approximation of derivatives when the data is noisy."
   ]
  },
  {
   "cell_type": "markdown",
   "metadata": {
    "button": false,
    "new_sheet": false,
    "run_control": {
     "read_only": false
    }
   },
   "source": [
    "# Problems\n",
    "\n",
    "1. Write a function $my\\_der\\_calc(f, a, b, N, option)$, with the output as $[df, X]$, where $f$ is a function object, $a$ and $b$ are scalars such that a < b, $N$ is an integer bigger than 10, and $option$ is the string $forward$, $backward$, or $central$. Let $x$ be an array starting at $a$, ending at $b$, containing $N$ evenly spaced elements, and let $y$ be the array $f(x)$. The output argument, $df$, should be the numerical derivatives computed for $x$ and $y$ according to the method defined by the input argument, $option$. The output argument $X$ should be an array the same size as $df$ containing the points in $x$ for which $df$ is valid. Specifically, the forward difference method \"loses\" the last point, the backward difference method loses the first point, and the central difference method loses the first and last points.\n",
    "\n",
    "2. Write a function $my\\_num\\_diff(f, a, b, n, option)$, with the output as $[df, X]$, where $f$ is a function object. The function $my\\_num\\_diff$ should compute the derivative of $f$ numerical for $n$ evenly spaced points starting at $a$ and ending at $b$ according to the method defined by $option$. The input argument $option$ is one of the following strings: 'forward', 'backward', 'central'. Note that for the forward and backward method, the output argument, $dy$, should be $(n-1)$ 1D array, and for the central difference method $dy$ should be $(n-2)$ 1D array. The function should also output a vector $X$ that is the same size as $dy$ and denotes the x-values for which $dy$ is valid.\n",
    "\n",
    " Test Cases:\n",
    " \n",
    " ```python\n",
    " x = np.linspace(0, 2*np.pi, 100)\n",
    " f = lambda x: np.sin(x)\n",
    " [dyf, Xf] = my_num_diff(f, 0, 2*np.pi, 10, 'forward')\n",
    " [dyb, Xb] = my_num_diff(f, 0, 2*np.pi, 10, 'backward')\n",
    " [dyc, Xc] = my_num_diff(f, 0, 2*np.pi, 10, 'central')\n",
    " plt.figure(figsize = (12, 8))\n",
    " plt.plot(x, np.cos(x), label = 'analytic')\n",
    " plt.plot(Xf, dyf, label = 'forward')\n",
    " plt.plot(Xb, dyb, label = 'backward')\n",
    " plt.plot(Xc, dyc, label = 'central')\n",
    " plt.legend()\n",
    " plt.title('Analytic and Numerical Derivatives of Sine')\n",
    " plt.xlabel('x')\n",
    " plt.ylabel('y')\n",
    " plt.show()\n",
    " ```\n",
    " \n",
    " ![](images/20.05.01-Q2-1.png \"Test case for Question 2\")\n",
    " \n",
    " ```python\n",
    " x = np.linspace(0, np.pi, 1000)\n",
    " f = lambda x: np.sin(np.exp(x))\n",
    " [dy10, X10] = my_num_diff(f, 0, np.pi, 10, 'central')\n",
    " [dy20, X20] = my_num_diff(f, 0, np.pi, 20, 'central')\n",
    " [dy100, X100] = my_num_diff(f, 0, np.pi, 100, 'central')\n",
    " plt.figure(figsize = (12, 8))\n",
    " plt.plot(x, np.cos(np.exp(x)), label = 'analytic')\n",
    " plt.plot(X10, dy10, label = '10 points')\n",
    " plt.plot(X20, dy20, label = '20 points')\n",
    " plt.plot(X100, dy100, label = '100 points')\n",
    " plt.legend()\n",
    " plt.title('Analytic and Numerical Derivatives of Sine')\n",
    " plt.xlabel('x')\n",
    " plt.ylabel('y')\n",
    " plt.show()\n",
    " ```\n",
    " \n",
    " ![](images/20.05.01-Q2-2.png \"Test case for Question 2\")\n",
    " \n",
    "3. Write a function $my\\_num\\_diff\\_w\\_smoothing(x, y, n)$, with the output $[dy, X], $where $x$ and $y$ are 1D numpy array of the same length, and $n$ is a strictly positive scalar. The function should first create a vector of \"smoothed\" $y$ data points where $y\\_smooth[i] = np.mean(y[i-n:i+n])$. The function should then compute $dy$, the derivative of the smoothed $y$-vector using the central difference method. The function should also output a 1D array $X$ that is the same size as $dy$ and denotes the x-values for which $dy$ is valid.\n",
    "\n",
    " Assume that the data contained in $x$ is in ascending order with no duplicate entries. However, it is possible that the elements of $x$ will not be evenly spaced. Note that the output $dy$ will have $2n + 2$ fewer points than $y$. Assume that the length of $y$ is much bigger than $2n + 2$.\n",
    " \n",
    " Test Cases:\n",
    " \n",
    " ```python\n",
    " x = np.linspace(0, 2*np.pi, 100)\n",
    " y = np.sin(x) + np.random.randn(len(x))/100\n",
    " [dy, X] = my_num_diff_w_smoothing(x, y, 4)\n",
    " plt.figure(figsize = (12, 12))\n",
    " plt.subplot(211)\n",
    " plt.plot(x, y)\n",
    " plt.title('Noisy Sine function')\n",
    " plt.xlabel('x')\n",
    " plt.ylabel('y')\n",
    " plt.subplot(212)\n",
    " plt.plot(x, np.cos(x), 'b', label = 'cosine')\n",
    " plt.plot(x[:-1], (y[1:] - y[:-1])/(x[1]-x[0]), 'g', \\\n",
    "     label = 'unsmoothed forward diff')\n",
    " plt.plot(X, dy, 'r', label = 'smoothed')\n",
    " plt.title('Analytic Derivative and Smoothed Derivative')\n",
    " plt.xlabel('x')\n",
    " plt.ylabel('y')\n",
    " plt.legend()\n",
    " plt.tight_layout()\n",
    " plt.show()\n",
    " ```\n",
    " \n",
    "  ![](images/20.05.01-Q3.png \"Test case for Question 3\")\n",
    "  \n",
    "4. Use Taylor series to show the following approximations and their accuracy.\n",
    "$$\n",
    "\\begin{eqnarray*}\n",
    "f''(x_j) &=& \\frac{-f(x_{j+3})+4f(x_{j+2}) - 5f(x_{j+1}) + 2f(x_j)}{h^2} + O(h^2),\\\\\n",
    "f'''(x_j) &=& \\frac{f(x_{j+3})-3f(x_{j+2}) +3f(x_{j+1}) - f(x_j)}{h^3} + O(h).\n",
    "\\end{eqnarray*}\n",
    "$$\n"
   ]
  },
  {
   "cell_type": "markdown",
   "metadata": {
    "button": false,
    "new_sheet": false,
    "run_control": {
     "read_only": false
    }
   },
   "source": [
    "<!--NAVIGATION-->\n",
    "< [20.4 Numerical Differentiation with Noise](chapter20.04-Numerical-Differentiation-with-Noise.ipynb) | [Contents](Index.ipynb) | [CHAPTER 21. Numerical Integration](chapter21.00-Numerical-Integration.ipynb) >"
   ]
  }
 ],
 "metadata": {
  "kernelspec": {
   "display_name": "Python 3",
   "language": "python",
   "name": "python3"
  },
  "language_info": {
   "codemirror_mode": {
    "name": "ipython",
    "version": 3
   },
   "file_extension": ".py",
   "mimetype": "text/x-python",
   "name": "python",
   "nbconvert_exporter": "python",
   "pygments_lexer": "ipython3",
   "version": "3.6.8"
  }
 },
 "nbformat": 4,
 "nbformat_minor": 2
}
