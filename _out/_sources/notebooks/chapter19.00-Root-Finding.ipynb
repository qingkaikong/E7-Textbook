{
 "cells": [
  {
   "cell_type": "markdown",
   "metadata": {
    "button": false,
    "new_sheet": false,
    "run_control": {
     "read_only": false
    }
   },
   "source": [
    "<!--BOOK_INFORMATION-->\n",
    "<img align=\"left\" style=\"padding-right:10px;\" src=\"images/book_cover.jpg\" width=\"120\">\n",
    "\n",
    "*This notebook contains an excerpt from the [Python Programming and Numerical Methods - A Guide for Engineers and Scientists](https://www.elsevier.com/books/python-programming-and-numerical-methods/kong/978-0-12-819549-9), the content is also available at [Berkeley Python Numerical Methods](https://pythonnumericalmethods.berkeley.edu/notebooks/Index.html).*\n",
    "\n",
    "*The copyright of the book belongs to Elsevier. We also have this interactive book online for a better learning experience. The code is released under the [MIT license](https://opensource.org/licenses/MIT). If you find this content useful, please consider supporting the work on [Elsevier](https://www.elsevier.com/books/python-programming-and-numerical-methods/kong/978-0-12-819549-9) or [Amazon](https://www.amazon.com/Python-Programming-Numerical-Methods-Scientists/dp/0128195495/ref=sr_1_1?dchild=1&keywords=Python+Programming+and+Numerical+Methods+-+A+Guide+for+Engineers+and+Scientists&qid=1604761352&sr=8-1)!*"
   ]
  },
  {
   "cell_type": "markdown",
   "metadata": {
    "button": false,
    "new_sheet": false,
    "run_control": {
     "read_only": false
    }
   },
   "source": [
    "<!--NAVIGATION-->\n",
    "< [18.5 Summary and Problems](chapter18.05-Summary-and-Problems.ipynb) | [Contents](Index.ipynb) | [19.1 Root Finding Problem Statement](chapter19.01-Root-Finding-Problem-Statement.ipynb)  >"
   ]
  },
  {
   "cell_type": "markdown",
   "metadata": {
    "button": false,
    "new_sheet": false,
    "run_control": {
     "read_only": false
    }
   },
   "source": [
    "# Chapter 19. Root Finding"
   ]
  },
  {
   "cell_type": "markdown",
   "metadata": {
    "button": false,
    "new_sheet": false,
    "run_control": {
     "read_only": false
    }
   },
   "source": [
    "#### CHAPTER OUTLINE\n",
    "\n",
    "---\n",
    "\n",
    "* [**19.1 Root Finding Problem Statement**](chapter19.01-Root-Finding-Problem-Statement.ipynb) \n",
    "* [**19.2 Tolerance**](chapter19.02-Tolerance.ipynb)  \n",
    "* [**19.3 Bisection Method**](chapter19.03-Bisection-Method.ipynb)  \n",
    "* [**19.4 Newton-Raphson Method**](chapter19.04-Newton-Raphson-Method.ipynb) \n",
    "* [**19.5 Root Finding in Python**](chapter19.05-Root-Finding-in-Python.ipynb)\n",
    "* [**19.6 Summary and Problems**](chapter19.06-Summary-and-Problems.ipynb)"
   ]
  },
  {
   "cell_type": "markdown",
   "metadata": {
    "button": false,
    "new_sheet": false,
    "run_control": {
     "read_only": false
    }
   },
   "source": [
    "--- \n",
    "\n",
    "## Motivation\n",
    "\n",
    "As the name suggests, the roots of a function are one of its most important properties. Finding the roots of functions is important in many engineering applications such as signal processing and optimization. For simple\n",
    "functions such as $f(x) = ax^2 + bx + c$, you may already be familiar with the ''quadratic formula,''\n",
    "\n",
    "$$\n",
    "x_r=\\frac{-b\\pm\\sqrt{b^2-4ac}}{2a},\n",
    "$$\n",
    "\n",
    "which gives $x_r$, the two roots of $f$ exactly. However for more complicated functions, the roots can rarely be computed using such explicit, or exact, means.\n",
    "\n",
    "By the end of this chapter, you should understand the root finding problem, and two algorithms for finding roots to functions, their properties, and their limitations.\n",
    "\n",
    "\n",
    "---"
   ]
  }
 ],
 "metadata": {
  "kernelspec": {
   "display_name": "Python 3",
   "language": "python",
   "name": "python3"
  },
  "language_info": {
   "codemirror_mode": {
    "name": "ipython",
    "version": 3
   },
   "file_extension": ".py",
   "mimetype": "text/x-python",
   "name": "python",
   "nbconvert_exporter": "python",
   "pygments_lexer": "ipython3",
   "version": "3.6.8"
  }
 },
 "nbformat": 4,
 "nbformat_minor": 2
}
