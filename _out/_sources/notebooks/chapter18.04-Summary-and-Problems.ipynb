{
 "cells": [
  {
   "cell_type": "markdown",
   "metadata": {
    "button": false,
    "new_sheet": false,
    "run_control": {
     "read_only": false
    }
   },
   "source": [
    "<!--BOOK_INFORMATION-->\n",
    "<img align=\"left\" style=\"padding-right:10px;\" src=\"images/book_cover.jpg\" width=\"120\">\n",
    "\n",
    "*This notebook contains an excerpt from the [Python Programming and Numerical Methods - A Guide for Engineers and Scientists](https://www.elsevier.com/books/python-programming-and-numerical-methods/kong/978-0-12-819549-9), the content is also available at [Berkeley Python Numerical Methods](https://pythonnumericalmethods.berkeley.edu/notebooks/Index.html).*\n",
    "\n",
    "*The copyright of the book belongs to Elsevier. We also have this interactive book online for a better learning experience. The code is released under the [MIT license](https://opensource.org/licenses/MIT). If you find this content useful, please consider supporting the work on [Elsevier](https://www.elsevier.com/books/python-programming-and-numerical-methods/kong/978-0-12-819549-9) or [Amazon](https://www.amazon.com/Python-Programming-Numerical-Methods-Scientists/dp/0128195495/ref=sr_1_1?dchild=1&keywords=Python+Programming+and+Numerical+Methods+-+A+Guide+for+Engineers+and+Scientists&qid=1604761352&sr=8-1)!*"
   ]
  },
  {
   "cell_type": "markdown",
   "metadata": {
    "button": false,
    "new_sheet": false,
    "run_control": {
     "read_only": false
    }
   },
   "source": [
    "<!--NAVIGATION-->\n",
    "< [18.3 Discussion on Errors](chapter18.03-Discussion-on-Errors.ipynb)  | [Contents](Index.ipynb) | [CHAPTER 19. Root Finding](chapter19.00-Root-Finding.ipynb) >"
   ]
  },
  {
   "cell_type": "markdown",
   "metadata": {
    "button": false,
    "new_sheet": false,
    "run_control": {
     "read_only": false
    }
   },
   "source": [
    "# Summary\n",
    "\n",
    "\n",
    "1. Some functions can be perfectly represented by a Taylor series, an infinite sum of polynomials.\n",
    "2. Functions that have a Taylor series expansion can be approximated by truncating its Taylor series.\n",
    "3. The linear approximation is a common local approximation for functions.\n",
    "4. The truncation error can be estimated using the Taylor Remainder Estimation Theorem. \n",
    "5. Be mindful of the round-off error in the Taylor series."
   ]
  },
  {
   "cell_type": "markdown",
   "metadata": {
    "button": false,
    "new_sheet": false,
    "run_control": {
     "read_only": false
    }
   },
   "source": [
    "# Problems\n",
    "\n",
    "1. Use Taylor series expansions to show that $e^{ix} = \\cos(x) + i\\sin(x)$, where $i = \\sqrt{-1}$.\n",
    "2. Use the linear approximation of $\\sin(x)$ around $a = 0$ to show that $\\frac{\\sin(x)}{x} \\approx 1$ for small $x$.\n",
    "3. Write the Taylor series expansion for $e^{x^2}$ around $a = 0$. Write a function *my_double_exp(x, n)*, which computes an approximation of $e^{x^2}$ using the first $n$ terms of the Taylor series expansion. Be sure that *my_double_exp* can take array inputs.\n",
    "4. Write a function that gives the Taylor series approximation to the *np.exp* function around 0 for order 1 through 7. Calculate the truncation error bound for order 7. \n",
    "5. Compute the fourth order Taylor expansion for $\\sin(x)$ and $\\cos(x)$ and $\\sin(x)\\cos(x)$ around 0. Which produces less error for $x = \\pi/2$: computing the Taylor expansion for $\\sin$ and $\\cos$ separately then multiplying the result together, or computing the Taylor expansion for the product first then plugging in $x$?\n",
    "6. Use the 4th order Taylor series to approximate $cos(0.2)$ and determine the truncation error bound. \n",
    "7. Write a function *my_cosh_approximator(x, n)*, where output is the $n$-th order Taylor Series approximation for $\\text{cosh}(x)$, the hyperbolic cosine of $x$, taken around $a = 0$. You may assume that $x$ is an array and $n$ is a positive integer (including 0). Recall that\n",
    "$$\n",
    "{\\rm cosh}(x) = (e^x + e^{-x})/2.\n",
    "$$\n",
    " Warning: The approximations for $n = 0$ and $n = 1$ will be equivalent, the approximations for $n = 2$ and $n = 3$ will be equivalent, and so on."
   ]
  },
  {
   "cell_type": "markdown",
   "metadata": {
    "button": false,
    "new_sheet": false,
    "run_control": {
     "read_only": false
    }
   },
   "source": [
    "<!--NAVIGATION-->\n",
    "< [18.3 Discussion on Errors](chapter18.03-Discussion-on-Errors.ipynb)  | [Contents](Index.ipynb) | [CHAPTER 19. Root Finding](chapter19.00-Root-Finding.ipynb) >"
   ]
  }
 ],
 "metadata": {
  "kernelspec": {
   "display_name": "Python 3",
   "language": "python",
   "name": "python3"
  },
  "language_info": {
   "codemirror_mode": {
    "name": "ipython",
    "version": 3
   },
   "file_extension": ".py",
   "mimetype": "text/x-python",
   "name": "python",
   "nbconvert_exporter": "python",
   "pygments_lexer": "ipython3",
   "version": "3.6.8"
  }
 },
 "nbformat": 4,
 "nbformat_minor": 2
}
