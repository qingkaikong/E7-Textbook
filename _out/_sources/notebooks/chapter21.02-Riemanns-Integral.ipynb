{
 "cells": [
  {
   "cell_type": "markdown",
   "metadata": {
    "button": false,
    "new_sheet": false,
    "run_control": {
     "read_only": false
    }
   },
   "source": [
    "<!--BOOK_INFORMATION-->\n",
    "<img align=\"left\" style=\"padding-right:10px;\" src=\"images/book_cover.jpg\" width=\"120\">\n",
    "\n",
    "*This notebook contains an excerpt from the [Python Programming and Numerical Methods - A Guide for Engineers and Scientists](https://www.elsevier.com/books/python-programming-and-numerical-methods/kong/978-0-12-819549-9), the content is also available at [Berkeley Python Numerical Methods](https://pythonnumericalmethods.berkeley.edu/notebooks/Index.html).*\n",
    "\n",
    "*The copyright of the book belongs to Elsevier. We also have this interactive book online for a better learning experience. The code is released under the [MIT license](https://opensource.org/licenses/MIT). If you find this content useful, please consider supporting the work on [Elsevier](https://www.elsevier.com/books/python-programming-and-numerical-methods/kong/978-0-12-819549-9) or [Amazon](https://www.amazon.com/Python-Programming-Numerical-Methods-Scientists/dp/0128195495/ref=sr_1_1?dchild=1&keywords=Python+Programming+and+Numerical+Methods+-+A+Guide+for+Engineers+and+Scientists&qid=1604761352&sr=8-1)!*"
   ]
  },
  {
   "cell_type": "markdown",
   "metadata": {
    "button": false,
    "new_sheet": false,
    "run_control": {
     "read_only": false
    }
   },
   "source": [
    "<!--NAVIGATION-->\n",
    "< [21.1 Numerical Integration Problem Statement](chapter21.01-Numerical-Integration-Problem-Statement.ipynb) | [Contents](Index.ipynb) | [21.3 Trapezoid Rule](chapter21.03-Trapezoid-Rule.ipynb) >"
   ]
  },
  {
   "cell_type": "markdown",
   "metadata": {
    "button": false,
    "new_sheet": false,
    "run_control": {
     "read_only": false
    }
   },
   "source": [
    "# Riemanns Integral"
   ]
  },
  {
   "cell_type": "markdown",
   "metadata": {
    "button": false,
    "new_sheet": false,
    "run_control": {
     "read_only": false
    }
   },
   "source": [
    "The simplest method for approximating integrals is by summing the area of rectangles that are defined for each subinterval. The width of the rectangle is $x_{i+1} - x_i = h$, and the height is defined by a function value $f(x)$ for some $x$ in the subinterval. An obvious choice for the height is the function value at the left endpoint, $x_i$, or the right endpoint, $x_{i+1}$, because these values can be used even if the function itself is not known. This method gives the **Riemann Integral** approximation, which is\n",
    "\n",
    "$$\\int_a^b f(x) dx \\approx \\sum_{i = 0}^{n-1} hf(x_i),$$\n",
    "\n",
    "or\n",
    "\n",
    "$$\\int_a^b f(x) dx \\approx \\sum_{i = 1}^{n} hf(x_i),$$\n",
    "\n",
    "depending on whether the left or right endpoint is chosen.\n",
    "\n",
    "As with numerical differentiation, we want to characterize how the accuracy improves as $h$ gets small. To determine this characterizing, we first rewrite the integral of $f(x)$ over an arbitrary subinterval in terms of the Taylor series. The Taylor series of $f(x)$ around $a = x_i$ is\n",
    "\n",
    "$$f(x) = f(x_i) + f^{\\prime}(x_i)(x-x_i) + \\cdots$$\n",
    "\n",
    "Thus\n",
    "\n",
    "$$\\int_{x_i}^{x_{i+1}} f(x) dx = \\int_{x_i}^{x_{i+1}} (f(x_i) + f^{\\prime}(x_i)(x-x_i) + \\cdots)\\ dx$$\n",
    "\n",
    "by substitution of the Taylor series for the function. Since the integral distributes, we can rearrange the right side into the following form:\n",
    "\n",
    "$$\\int_{x_i}^{x_{i+1}} f(x_i) dx + \\int_{x_i}^{x_{i+1}} f^{\\prime}(x_i)(x-x_i)dx + \\cdots.\\$$\n",
    "\n",
    "Solving each integral separately results in the approximation\n",
    "\n",
    "$$\\int_{x_i}^{x_{i+1}} f(x) dx = hf(x_i) + \\frac{h^2}{2}f^{\\prime}(x_i) + O(h^3),$$\n",
    "\n",
    "which is just\n",
    "\n",
    "$$\\int_{x_i}^{x_{i+1}} f(x) dx = hf(x_i) + O(h^2).$$\n",
    "\n",
    "Since the $hf(x_i)$ term is our Riemann integral approximation for a single subinterval, the Riemann integral approximation over a single interval is $O(h^2)$.\n",
    "\n",
    "If we sum the $O(h^2)$ error over the entire Riemann sum, we get $nO(h^2)$. The relationship between $n$ and $h$ is\n",
    "\n",
    "$$h = \\frac{b - a}{n},$$\n",
    "\n",
    "and so our total error becomes $\\frac{b - a}{h}O(h^2) = O(h)$ over the whole interval. Thus the overall accuracy is $O(h)$.\n",
    "\n",
    "The **Midpoint Rule** takes the rectangle height of the rectangle at each subinterval to be the function value at the midpoint between $x_i$ and $x_{i+1}$, which for compactness we denote by $y_i = \\frac{x_{i+1} + x_i}{2}$. The Midpoint Rule says\n",
    "\n",
    "$$\\int_a^b f(x)dx \\approx \\sum_{i = 0}^{n-1} hf(y_i).$$\n",
    "\n",
    "Similarly to the Riemann integral, we take the Taylor series of $f(x)$ around $y_i$, which is\n",
    "\n",
    "$$f(x) = f(y_i) + f^{\\prime}(y_i)(x - y_i) + \\frac{f''(y_i)(x - y_i)^2}{2!} + \\cdots$$\n",
    "\n",
    "Then the integral over a subinterval is\n",
    "\n",
    "$$\\int_{x_i}^{x_{i+1}} f(x) dx= \\int_{x_i}^{x_{i+1}} \\left(f(y_i) + f^{\\prime}(y_i)(x - y_i) + \\frac{f''(y_i)(x - y_i)^2}{2!} + \\cdots\\right) dx,$$\n",
    "\n",
    "which distributes to\n",
    "\n",
    "$$\\int_{x_i}^{x_{i+1}} f(x) dx= \\int_{x_i}^{x_{i+1}} f(y_i)dx + \\int_{x_i}^{x_{i+1}} f^{\\prime}(y_i)(x - y_i)dx + \\int_{x_i}^{x_{i+1}} \\frac{f''(y_i)(x - y_i)^2}{2!}dx + \\cdots.$$\n",
    "\n",
    "\n",
    "Recognizing that since $x_i$ and $x_{i+1}$ are symmetric around $y_i$, then $\\int_{x_i}^{x_{i+1}} f^{\\prime}(y_i)(x - y_i)dx = 0$. This is true for the integral of $(x - y_i)^p$ for any odd $p$. For the integral of $(x - y_i)^p$ and with $p$ even, it suffices to say that $\\int_{x_i}^{x_{i+1}} (x - y_i)^p dx = \\int_{-\\frac{h}{2}}^{\\frac{h}{2}} x^p dx$, which will result in some multiple of $h^{p+1}$ with no lower order powers of $h$.\n",
    "\n",
    "\n",
    "Utilizing these facts reduces the expression for the integral of $f(x)$ to\n",
    "\n",
    "$$\\int_{x_i}^{x_{i+1}} f(x) dx= hf(y_i) + O(h^3).$$\n",
    "\n",
    "Since $hf(y_i)$ is the approximation of the integral over the subinterval, the Midpoint Rule is $O(h^3)$ for one subinterval, and using similar arguments as for the Riemann Integral, is $O(h^2)$ over the whole interval. Since the Midpoint Rule requires the same number of calculations as the Riemann Integral, we essentially get an extra order of accuracy for free! However, if $f(x_i)$ is given in the form of data points, then we will not be able to compute $f(y_i)$ for this integration scheme.\n",
    "\n",
    "**TRY IT!** Use the left Riemann Integral, right Riemann Integral, and Midpoint Rule to approximate $\\int_{0}^{\\pi} \\text{sin}(x) dx$ wtih 11 evenly spaced grid ponts over the whole interval. Compare this value to the exact value of 2."
   ]
  },
  {
   "cell_type": "code",
   "execution_count": 1,
   "metadata": {
    "button": false,
    "new_sheet": false,
    "run_control": {
     "read_only": false
    }
   },
   "outputs": [
    {
     "name": "stdout",
     "output_type": "stream",
     "text": [
      "1.9835235375094546\n",
      "0.01647646249054535\n",
      "1.9835235375094546\n",
      "0.01647646249054535\n",
      "2.0082484079079745\n",
      "-0.008248407907974542\n"
     ]
    }
   ],
   "source": [
    "import numpy as np\n",
    "\n",
    "a = 0\n",
    "b = np.pi\n",
    "n = 11\n",
    "h = (b - a) / (n - 1)\n",
    "x = np.linspace(a, b, n)\n",
    "f = np.sin(x)\n",
    "\n",
    "I_riemannL = h * sum(f[:n-1])\n",
    "err_riemannL = 2 - I_riemannL\n",
    "\n",
    "I_riemannR = h * sum(f[1::])\n",
    "err_riemannR = 2 - I_riemannR\n",
    "\n",
    "I_mid = h * sum(np.sin((x[:n-1] \\\n",
    "        + x[1:])/2))\n",
    "err_mid = 2 - I_mid\n",
    "\n",
    "print(I_riemannL)\n",
    "print(err_riemannL)\n",
    "\n",
    "print(I_riemannR)\n",
    "print(err_riemannR)\n",
    "\n",
    "print(I_mid)\n",
    "print(err_mid)"
   ]
  },
  {
   "cell_type": "markdown",
   "metadata": {
    "button": false,
    "new_sheet": false,
    "run_control": {
     "read_only": false
    }
   },
   "source": [
    "<!--NAVIGATION-->\n",
    "< [21.1 Numerical Integration Problem Statement](chapter21.01-Numerical-Integration-Problem-Statement.ipynb) | [Contents](Index.ipynb) | [21.3 Trapezoid Rule](chapter21.03-Trapezoid-Rule.ipynb) >"
   ]
  }
 ],
 "metadata": {
  "kernelspec": {
   "display_name": "Python 3",
   "language": "python",
   "name": "python3"
  },
  "language_info": {
   "codemirror_mode": {
    "name": "ipython",
    "version": 3
   },
   "file_extension": ".py",
   "mimetype": "text/x-python",
   "name": "python",
   "nbconvert_exporter": "python",
   "pygments_lexer": "ipython3",
   "version": "3.6.8"
  }
 },
 "nbformat": 4,
 "nbformat_minor": 2
}
