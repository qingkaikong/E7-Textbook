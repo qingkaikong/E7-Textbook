{
 "cells": [
  {
   "cell_type": "markdown",
   "metadata": {},
   "source": [
    "<!--BOOK_INFORMATION-->\n",
    "<img align=\"left\" style=\"padding-right:10px;\" src=\"images/book_cover.jpg\" width=\"120\">\n",
    "\n",
    "*This notebook contains an excerpt from the [Python Programming And Numerical Methods: A Guide For Engineers And Scientists](); the content is available [on GitHub]().*\n",
    "\n",
    "*The text is released under the [CC-BY-NC-ND license](https://creativecommons.org/licenses/by-nc-nd/3.0/us/legalcode), and code is released under the [MIT license](https://opensource.org/licenses/MIT). If you find this content useful, please consider supporting the work by [buying the book]()!*"
   ]
  },
  {
   "cell_type": "markdown",
   "metadata": {},
   "source": [
    "<!--NAVIGATION-->\n",
    "<  [CHAPTER 19. Root Finding](chapter19.00-Root-Finding.ipynb) | [Contents](Index.ipynb) | [19.2 Tolerance](chapter19.02-Tolerance.ipynb)  >"
   ]
  },
  {
   "cell_type": "markdown",
   "metadata": {},
   "source": [
    "# Root Finding Problem Statement"
   ]
  },
  {
   "cell_type": "markdown",
   "metadata": {},
   "source": [
    "The **root** or **zero** of a function, $f(x)$, is an $x_r$ such that $f(x_r) = 0$. For functions such as $f(x) = x^2 - 9$, the roots are clearly 3 and $-3$. However, for other functions such as $f(x) = {\\rm cos}(x) - x$, determining an **analytic**, or exact, solution for the roots of functions can be difficult. For these cases, it is useful to generate numerical approximations of the roots of $f$ and understand the limitations in doing so. \n",
    "\n",
    "**TRY IT!** Using *fsolve* function from *scipy* to compute the root of $f(x) = {\\rm cos}(x) - x$ near $-2$. Verify that the solution is a root (or close enough). "
   ]
  },
  {
   "cell_type": "code",
   "execution_count": 1,
   "metadata": {},
   "outputs": [
    {
     "name": "stdout",
     "output_type": "stream",
     "text": [
      "r = [0.73908513]\n",
      "result= [0.]\n"
     ]
    }
   ],
   "source": [
    "import numpy as np\n",
    "from scipy import optimize\n",
    "\n",
    "f = lambda x: np.cos(x) - x\n",
    "r = optimize.fsolve(f, -2)\n",
    "print(\"r =\", r)\n",
    "\n",
    "# Verify the solution is a root\n",
    "result = f(r)\n",
    "print(\"result=\", result)"
   ]
  },
  {
   "cell_type": "markdown",
   "metadata": {},
   "source": [
    "**TRY IT!** The function $f(x) = \\frac{1}{x}$ has no root. Use the *fsolve* function to try to compute the root of $f(x) = \\frac{1}{x}$. Turn on the *full_output* to see what's going on. Remember to check the documentation for details. "
   ]
  },
  {
   "cell_type": "code",
   "execution_count": 2,
   "metadata": {},
   "outputs": [
    {
     "name": "stdout",
     "output_type": "stream",
     "text": [
      "r = [-3.52047359e+83]\n",
      "result= [-2.84052692e-84]\n",
      "The number of calls to function has reached maxfev = 400.\n"
     ]
    }
   ],
   "source": [
    "f = lambda x: 1/x\n",
    "\n",
    "r, infodict, ier, mesg = optimize.fsolve(f, -2, full_output=True)\n",
    "print(\"r =\", r)\n",
    "\n",
    "result = f(r)\n",
    "print(\"result=\", result)\n",
    "\n",
    "print(mesg)"
   ]
  },
  {
   "cell_type": "markdown",
   "metadata": {},
   "source": [
    "We can see that, the value *r* we got is not a root, even though the *f(r)* is a very small number. Since we turned on the full_output, which have more information. A message will be returned if no solution is found, and we can see *mesg* details for the cause of failure - \"The number of calls to function has reached maxfev = 400.\""
   ]
  },
  {
   "cell_type": "markdown",
   "metadata": {},
   "source": [
    "<!--NAVIGATION-->\n",
    "<  [CHAPTER 19. Root Finding](chapter19.00-Root-Finding.ipynb) | [Contents](Index.ipynb) | [19.2 Tolerance](chapter19.02-Tolerance.ipynb)  >"
   ]
  }
 ],
 "metadata": {
  "kernelspec": {
   "display_name": "Python 3",
   "language": "python",
   "name": "python3"
  },
  "language_info": {
   "codemirror_mode": {
    "name": "ipython",
    "version": 3
   },
   "file_extension": ".py",
   "mimetype": "text/x-python",
   "name": "python",
   "nbconvert_exporter": "python",
   "pygments_lexer": "ipython3",
   "version": "3.6.7"
  }
 },
 "nbformat": 4,
 "nbformat_minor": 2
}
