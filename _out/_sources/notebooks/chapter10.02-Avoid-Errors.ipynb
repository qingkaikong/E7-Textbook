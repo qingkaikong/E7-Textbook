{
 "cells": [
  {
   "cell_type": "markdown",
   "metadata": {
    "button": false,
    "new_sheet": false,
    "run_control": {
     "read_only": false
    }
   },
   "source": [
    "<!--BOOK_INFORMATION-->\n",
    "<img align=\"left\" style=\"padding-right:10px;\" src=\"images/book_cover.jpg\" width=\"120\">\n",
    "\n",
    "*This notebook contains an excerpt from the [An Introduction To Python Programming And Numerical Methods For Scientists and Engineers](); the content is available [on GitHub]().*\n",
    "\n",
    "*The text is released under the [CC-BY-NC-ND license](https://creativecommons.org/licenses/by-nc-nd/3.0/us/legalcode), and code is released under the [MIT license](https://opensource.org/licenses/MIT). If you find this content useful, please consider supporting the work by [buying the book]()!*"
   ]
  },
  {
   "cell_type": "markdown",
   "metadata": {
    "button": false,
    "new_sheet": false,
    "run_control": {
     "read_only": false
    }
   },
   "source": [
    "<!--NAVIGATION-->\n",
    "< [10.1 Error Types](chapter10.01-Error-Types.ipynb) | [Contents](Index.ipynb) | [10.3 Try/Except](chapter10.03-Try-Except.ipynb) >"
   ]
  },
  {
   "cell_type": "markdown",
   "metadata": {
    "button": false,
    "new_sheet": false,
    "run_control": {
     "read_only": false
    }
   },
   "source": [
    "# Avoid Errors"
   ]
  },
  {
   "cell_type": "markdown",
   "metadata": {
    "button": false,
    "new_sheet": false,
    "run_control": {
     "read_only": false
    }
   },
   "source": [
    "There are many techniques that can help prevent errors and make it easier for you to find them when they occur. Because becoming familiar with the types of mistakes common in programming is a \"learning as you go\" process; we can not possibly list them all here. That said, we present a few of them in the following section to help you build good habits."
   ]
  },
  {
   "cell_type": "markdown",
   "metadata": {
    "button": false,
    "new_sheet": false,
    "run_control": {
     "read_only": false
    }
   },
   "source": [
    "## Plan your program\n",
    "\n",
    "When writing an essay, it is important to have a structure and a\n",
    "direction that you intend to follow. To help make your structure more\n",
    "tangible, writing an essay usually starts with an outline containing the\n",
    "main points you wish to address in your paper. This is even more\n",
    "important to do when programming, because computers do not interpret what you write. When coding complicated\n",
    "programs, you should start with an outline of your program that addresses\n",
    "all the tasks you want your program to perform and in the order in which\n",
    "it should perform them.\n",
    "\n",
    "Many novice programmers, eager to finish their assignments, will rush to the programming part without properly planning out the tasks\n",
    "needed to accomplish the given task. Haphazard planning results\n",
    "in equally haphazard code that is full of errors. Time spent planning\n",
    "out what you are trying to do is time well spent. Pre-planning will ensure that you will finish your program much faster than if you throw together a program without much thought.\n",
    "\n",
    "So what does planning a program consist of? Recall in Chapter 3 that a\n",
    "function is defined as a sequence of instructions designed to perform a\n",
    "certain task. **module** is a function or group of functions that\n",
    "perform a certain task. It is important to design your program in terms\n",
    "of modules, especially for tasks that need to be repeated over and over\n",
    "again. Each module should accomplish a small, well-defined task and know\n",
    "as little information about other functions as possible (i.e., have a\n",
    "very limited set of inputs and outputs).\n",
    "\n",
    "A good rule of thumb is to plan from the top to bottom, and then program\n",
    "from the bottom to the top. That is: decide what the overall program is\n",
    "supposed to do, determine what code is necessary to complete the main tasks, and then break the main tasks into components until the module\n",
    "is small enough that you are confident you can write it without errors."
   ]
  },
  {
   "cell_type": "markdown",
   "metadata": {
    "button": false,
    "new_sheet": false,
    "run_control": {
     "read_only": false
    }
   },
   "source": [
    "## Test everything often\n",
    "\n",
    "When coding in modules, you should test each module using\n",
    "test cases for which you know the answer, and code enough cases to be\n",
    "confident that the function is working properly (including corner\n",
    "cases). For example, if you are writing a function that tells you\n",
    "whether a number is prime or not, you should test the function for\n",
    "inputs of 0 (corner case), 1 (corner case), 2 (simple yes), 4 (simple\n",
    "no), and 97 (complicated no). If all of your test cases proceed without error, you can\n",
    "move on to other modules, confident that the current module works\n",
    "correctly. **This is especially important if subsequent modules depend on\n",
    "or call the module you are working on**. If you do not test your code and assume that \n",
    "your incorrect code is\n",
    "correct, when you begin to get error messages in later\n",
    "modules, you will not know whether the error is in the module you are\n",
    "working on or in a previous module; this will make finding the error exponentially\n",
    "more difficult.\n",
    "\n",
    "You should test often, even within a single module or function.\n",
    "When you are working on a particular module that has several steps, you\n",
    "should perform intermediate tests to make sure it is correct up to that point. Then, if you ever get an error, it will probably be\n",
    "in the part of your code written since the last time you did test it.\n",
    "This tendency to rush one's coding is a mistake even seasoned programmers are guilty of; they will write pages and pages of\n",
    "code without testing and then will spend hours trying to find a small error somewhere."
   ]
  },
  {
   "cell_type": "markdown",
   "metadata": {
    "button": false,
    "new_sheet": false,
    "run_control": {
     "read_only": false
    }
   },
   "source": [
    "## Keep your code clean\n",
    "\n",
    "Just like good craftsmen keep their work area as clean as possible, free of unnecessary clutter, so should you keep your code as clean as possible. There are many strategies you can implement to keep your code clean. First, you should write your code in the fewest instructions possible. For example,\n",
    "```python\n",
    "y = x**2 + 2*x+1\n",
    "```\n",
    "\n",
    "is better than \n",
    "\n",
    "```python\n",
    "y=x**2\n",
    "y=y+2*x\n",
    "y=y+1\n",
    "``` \n",
    "Even if the outcome is the same, every character you type is a chance\n",
    "that you will make a mistake; therefore, reducing how much code you write\n",
    "will reduce your risk of introducing errors. Additionally, writing a complete expression will\n",
    "help you and other people understand what you are doing. In the previous\n",
    "example, in the first case it is clear that you are computing the value\n",
    "of a quadratic at `x`, while in the second case it is not clear. You can\n",
    "also keep your code \"clean\" by using variables rather than values."
   ]
  },
  {
   "cell_type": "markdown",
   "metadata": {
    "button": false,
    "new_sheet": false,
    "run_control": {
     "read_only": false
    }
   },
   "source": [
    "**EXAMPLE:** Poor implementation of adding 10 random numbers. "
   ]
  },
  {
   "cell_type": "code",
   "execution_count": 1,
   "metadata": {
    "button": false,
    "collapsed": true,
    "new_sheet": false,
    "run_control": {
     "read_only": false
    }
   },
   "outputs": [],
   "source": [
    "import numpy as np\n",
    "\n",
    "s = 0\n",
    "a = np.random.rand(10)\n",
    "for i in range(10):\n",
    "    s = s + a[i]"
   ]
  },
  {
   "cell_type": "markdown",
   "metadata": {
    "button": false,
    "new_sheet": false,
    "run_control": {
     "read_only": false
    }
   },
   "source": [
    "**EXAMPLE:** Good implementation of adding 10 random numbers. "
   ]
  },
  {
   "cell_type": "code",
   "execution_count": 2,
   "metadata": {
    "button": false,
    "collapsed": true,
    "new_sheet": false,
    "run_control": {
     "read_only": false
    }
   },
   "outputs": [],
   "source": [
    "n = 10\n",
    "s = 0\n",
    "a = np.random.rand(n)\n",
    "\n",
    "for i in range(n):\n",
    "    s = s + a[i]"
   ]
  },
  {
   "cell_type": "markdown",
   "metadata": {
    "button": false,
    "new_sheet": false,
    "run_control": {
     "read_only": false
    }
   },
   "source": [
    "The second implementation is better for two reasons: first, it is easier\n",
    "for anyone reading your code that `n` represents the number of\n",
    "random numbers you want to add up, and it appears rationally where it is\n",
    "supposed to in the code (i.e., when creating the array of random numbers\n",
    "and when indexing the array in the for-loop); and second, if you ever wanted\n",
    "to change the number of random numbers you wish to add up, you would only have to\n",
    "change it in one place at the beginning. This reduces the chances of\n",
    "making mistakes while writing the code and when changing the value of\n",
    "`n`.\n",
    "\n",
    "Again, this is not critical for such a small piece of code, but it will become very important when your code becomes more complicated and values must be reused many times."
   ]
  },
  {
   "cell_type": "markdown",
   "metadata": {
    "button": false,
    "new_sheet": false,
    "run_control": {
     "read_only": false
    }
   },
   "source": [
    "**EXAMPLE:** An even better implementation of adding 10 random numbers. "
   ]
  },
  {
   "cell_type": "code",
   "execution_count": 3,
   "metadata": {
    "button": false,
    "collapsed": true,
    "new_sheet": false,
    "run_control": {
     "read_only": false
    }
   },
   "outputs": [],
   "source": [
    "s = sum(np.random.rand(10))"
   ]
  },
  {
   "cell_type": "markdown",
   "metadata": {
    "button": false,
    "new_sheet": false,
    "run_control": {
     "read_only": false
    }
   },
   "source": [
    "When you become more familiar with Python, you will want to use as fewer\n",
    "lines as possible to do the same job; therefore, a familiarity of the\n",
    "common functions and how to use them will make your code more concise and efficient."
   ]
  },
  {
   "cell_type": "markdown",
   "metadata": {
    "button": false,
    "new_sheet": false,
    "run_control": {
     "read_only": false
    }
   },
   "source": [
    "You can also keep your code clean by assigning your variables short,\n",
    "descriptive names. For example, as noted earlier, `n` is a sufficient variable for\n",
    "such a simple task. The variable name `x` is\n",
    "probably a good name since `x` usually holds value of position\n",
    "rather than a number; but `theNumberOfRandomNumbersToBeAdded`\n",
    "is a poor variable name even though it is descriptive.\n",
    "\n",
    "Finally, you can keep your code clean by commenting frequently. Although\n",
    "no commenting is certainly bad practice, over-commenting can be equally \n",
    "bad practice. Different programmers will disagree on exactly\n",
    "how much commenting is appropriate. It will be up to you to decide what level of commenting is appropriate."
   ]
  },
  {
   "cell_type": "markdown",
   "metadata": {
    "button": false,
    "new_sheet": false,
    "run_control": {
     "read_only": false
    }
   },
   "source": [
    "<!--NAVIGATION-->\n",
    "< [10.1 Error Types](chapter10.01-Error-Types.ipynb) | [Contents](Index.ipynb) | [10.3 Try/Except](chapter10.03-Try-Except.ipynb) >"
   ]
  }
 ],
 "metadata": {
  "kernelspec": {
   "display_name": "Python 3",
   "language": "python",
   "name": "python3"
  },
  "language_info": {
   "codemirror_mode": {
    "name": "ipython",
    "version": 3
   },
   "file_extension": ".py",
   "mimetype": "text/x-python",
   "name": "python",
   "nbconvert_exporter": "python",
   "pygments_lexer": "ipython3",
   "version": "3.6.8"
  }
 },
 "nbformat": 4,
 "nbformat_minor": 2
}
