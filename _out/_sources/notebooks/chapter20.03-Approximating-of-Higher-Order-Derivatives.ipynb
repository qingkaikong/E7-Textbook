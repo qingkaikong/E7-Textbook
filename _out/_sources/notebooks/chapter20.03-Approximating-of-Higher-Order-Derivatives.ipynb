{
 "cells": [
  {
   "cell_type": "markdown",
   "metadata": {},
   "source": [
    "<!--BOOK_INFORMATION-->\n",
    "<img align=\"left\" style=\"padding-right:10px;\" src=\"images/book_cover.jpg\" width=\"120\">\n",
    "\n",
    "*This notebook contains an excerpt from the [Python Programming And Numerical Methods: A Guide For Engineers And Scientists](); the content is available [on GitHub]().*\n",
    "\n",
    "*The text is released under the [CC-BY-NC-ND license](https://creativecommons.org/licenses/by-nc-nd/3.0/us/legalcode), and code is released under the [MIT license](https://opensource.org/licenses/MIT). If you find this content useful, please consider supporting the work by [buying the book]()!*"
   ]
  },
  {
   "cell_type": "markdown",
   "metadata": {},
   "source": [
    "<!--NAVIGATION-->\n",
    "< [20.2 Approximating Derivatives with Taylor Series](chapter20.02-Approximating-Derivatives-with-Taylor-Series.ipynb) | [Contents](Index.ipynb) | [20.4 Numerical Differentiation with Noise](chapter20.04-Numerical-Differentiation-with-Noise.ipynb) >"
   ]
  },
  {
   "cell_type": "markdown",
   "metadata": {},
   "source": [
    "# Approximating of Higher Order Derivatives"
   ]
  },
  {
   "cell_type": "markdown",
   "metadata": {},
   "source": [
    "It also possible to use Taylor series to approximate higher order derivatives (e.g., $f''(x_j), f'''(x_j)$, etc.). For example, taking the Taylor series around $a = x_j$ and then computing it at $x = x_{j-1}$ and $x_{j+1}$ gives\n",
    "\n",
    "$$\n",
    "f(x_{j-1}) = f(x_j) - hf^{\\prime}(x_j) + \\frac{h^2f''(x_j)}{2} - \\frac{h^3f'''(x_j)}{6} + \\cdots$$\n",
    "\n",
    "and\n",
    "\n",
    "$$f(x_{j+1}) = f(x_j) + hf^{\\prime}(x_j) + \\frac{h^2f''(x_j)}{2} + \\frac{h^3f'''(x_j)}{6} + \\cdots.$$\n",
    "\n",
    "If we add these two equations together, we get\n",
    "\n",
    "$$f(x_{j-1}) + f(x_{j+1}) = 2f(x_j) + h^2f''(x_j) + \\frac{h^4f''''(x_j)}{24} + \\cdots,$$\n",
    "\n",
    "and with some rearrangement gives the approximation\n",
    "$$f''(x_j) \\approx \\frac{f(x_{j+1}) - 2f(x_j) + f(x_{j-1})}{h^2},$$\n",
    "and is $O(h^2)$."
   ]
  },
  {
   "cell_type": "markdown",
   "metadata": {},
   "source": [
    "<!--NAVIGATION-->\n",
    "< [20.2 Approximating Derivatives with Taylor Series](chapter20.02-Approximating-Derivatives-with-Taylor-Series.ipynb) | [Contents](Index.ipynb) | [20.4 Numerical Differentiation with Noise](chapter20.04-Numerical-Differentiation-with-Noise.ipynb) >"
   ]
  }
 ],
 "metadata": {
  "kernelspec": {
   "display_name": "Python 3",
   "language": "python",
   "name": "python3"
  },
  "language_info": {
   "codemirror_mode": {
    "name": "ipython",
    "version": 3
   },
   "file_extension": ".py",
   "mimetype": "text/x-python",
   "name": "python",
   "nbconvert_exporter": "python",
   "pygments_lexer": "ipython3",
   "version": "3.6.6"
  }
 },
 "nbformat": 4,
 "nbformat_minor": 2
}
