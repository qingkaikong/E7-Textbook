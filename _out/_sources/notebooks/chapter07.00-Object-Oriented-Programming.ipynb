{
 "cells": [
  {
   "cell_type": "markdown",
   "metadata": {
    "button": false,
    "deletable": true,
    "new_sheet": false,
    "run_control": {
     "read_only": false
    }
   },
   "source": [
    "<!--BOOK_INFORMATION-->\n",
    "<img align=\"left\" style=\"padding-right:10px;\" src=\"images/book_cover.jpg\" width=\"120\">\n",
    "\n",
    "*This notebook contains an excerpt from the [Python Programming and Numerical Methods - A Guide for Engineers and Scientists](https://www.elsevier.com/books/python-programming-and-numerical-methods/kong/978-0-12-819549-9), the content is also available at [Berkeley Python Numerical Methods](https://pythonnumericalmethods.berkeley.edu/notebooks/Index.html).*\n",
    "\n",
    "*The copyright of the book belongs to Elsevier. We also have this interactive book online for a better learning experience. The code is released under the [MIT license](https://opensource.org/licenses/MIT). If you find this content useful, please consider supporting the work on [Elsevier](https://www.elsevier.com/books/python-programming-and-numerical-methods/kong/978-0-12-819549-9) or [Amazon](https://www.amazon.com/Python-Programming-Numerical-Methods-Scientists/dp/0128195495/ref=sr_1_1?dchild=1&keywords=Python+Programming+and+Numerical+Methods+-+A+Guide+for+Engineers+and+Scientists&qid=1604761352&sr=8-1)!*"
   ]
  },
  {
   "cell_type": "markdown",
   "metadata": {
    "button": false,
    "deletable": true,
    "new_sheet": false,
    "run_control": {
     "read_only": false
    }
   },
   "source": [
    "<!--NAVIGATION-->\n",
    "< [Chapter 6 Summary and Problems](chapter06.03-Summary-and-Problems.ipynb) | [Contents](Index.ipynb) | [7.1 Introduction to OOP](chapter07.01-Introduction-to-OOP.ipynb) >"
   ]
  },
  {
   "cell_type": "markdown",
   "metadata": {
    "button": false,
    "deletable": true,
    "new_sheet": false,
    "run_control": {
     "read_only": false
    }
   },
   "source": [
    "# Object Oriented Programming (OOP)"
   ]
  },
  {
   "cell_type": "markdown",
   "metadata": {
    "button": false,
    "deletable": true,
    "new_sheet": false,
    "run_control": {
     "read_only": false
    }
   },
   "source": [
    "#### CHAPTER OUTLINE\n",
    "\n",
    "---\n",
    "\n",
    "* [**7.1 Introduction to OOP**](chapter07.01-Introduction-to-OOP.ipynb)\n",
    "* [**7.2 Class and Object**](chapter07.02-Class-and-Object.ipynb)\n",
    "* [**7.3 Inheritance, Encapsulation and Polymorphism**](chapter07.03-Inheritance-Encapsulation-and-Polymorphism.ipynb)\n",
    "* [**7.4 Summary and Problems**](chapter07.04-Summary-and-Problems.ipynb)\n"
   ]
  },
  {
   "cell_type": "markdown",
   "metadata": {
    "button": false,
    "deletable": true,
    "new_sheet": false,
    "run_control": {
     "read_only": false
    }
   },
   "source": [
    "--- \n",
    "\n",
    "## Motivation\n",
    "\n",
    "As demonstrated earlier, often we need to use other packages, such as \n",
    "`scipy`, `numpy`, or other domain specified packages.\n",
    "When you check the source code of these packages, you may see new\n",
    "keywords in the code, such as **class**. What are classes and why do we use them? This is a new programming\n",
    "paradigm - **Object-Oriented Programming** (OOP) that is commonly used in\n",
    "writing large programs or packages. When writing a large program,\n",
    "OOP has a number of pluses: it simplifies the code for better\n",
    "readability, better describes the end goal of the project, is reusable, and reduces the number of potential \n",
    "bugs in the code. Given these features, you will see OOP in most of the standard packages in the\n",
    "field. Understanding its basics will help you write better code. This\n",
    "chapter introduces the basics of OOP, with emphasis on the core\n",
    "components: object, class, and inheritance, . Python is a highly\n",
    "object-oriented programming language and understanding these concepts will help you program with a minimum amount of headaches.  \n",
    "\n",
    "---"
   ]
  },
  {
   "cell_type": "code",
   "execution_count": null,
   "metadata": {
    "button": false,
    "collapsed": true,
    "deletable": true,
    "new_sheet": false,
    "run_control": {
     "read_only": false
    }
   },
   "outputs": [],
   "source": []
  }
 ],
 "metadata": {
  "kernelspec": {
   "display_name": "Python 3",
   "language": "python",
   "name": "python3"
  },
  "language_info": {
   "codemirror_mode": {
    "name": "ipython",
    "version": 3
   },
   "file_extension": ".py",
   "mimetype": "text/x-python",
   "name": "python",
   "nbconvert_exporter": "python",
   "pygments_lexer": "ipython3",
   "version": "3.5.0"
  }
 },
 "nbformat": 4,
 "nbformat_minor": 2
}
