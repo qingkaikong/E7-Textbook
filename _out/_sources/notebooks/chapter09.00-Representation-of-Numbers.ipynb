{
 "cells": [
  {
   "cell_type": "markdown",
   "metadata": {
    "button": false,
    "new_sheet": false,
    "run_control": {
     "read_only": false
    }
   },
   "source": [
    "<!--BOOK_INFORMATION-->\n",
    "<img align=\"left\" style=\"padding-right:10px;\" src=\"images/book_cover.jpg\" width=\"120\">\n",
    "\n",
    "*This notebook contains an excerpt from the [Python Programming and Numerical Methods - A Guide for Engineers and Scientists](https://www.elsevier.com/books/python-programming-and-numerical-methods/kong/978-0-12-819549-9), the content is also available at [Berkeley Python Numerical Methods](https://pythonnumericalmethods.berkeley.edu/notebooks/Index.html).*\n",
    "\n",
    "*The copyright of the book belongs to Elsevier. We also have this interactive book online for a better learning experience. The code is released under the [MIT license](https://opensource.org/licenses/MIT). If you find this content useful, please consider supporting the work on [Elsevier](https://www.elsevier.com/books/python-programming-and-numerical-methods/kong/978-0-12-819549-9) or [Amazon](https://www.amazon.com/Python-Programming-Numerical-Methods-Scientists/dp/0128195495/ref=sr_1_1?dchild=1&keywords=Python+Programming+and+Numerical+Methods+-+A+Guide+for+Engineers+and+Scientists&qid=1604761352&sr=8-1)!*"
   ]
  },
  {
   "cell_type": "markdown",
   "metadata": {
    "button": false,
    "new_sheet": false,
    "run_control": {
     "read_only": false
    }
   },
   "source": [
    "<!--NAVIGATION-->\n",
    "< [Chapter 8 Summary and Problems](chapter08.04-Summary-and-Problems.ipynb) | [Contents](Index.ipynb) | [9.1 Base-N and Binary](chapter09.01-BaseN-and-Binary.ipynb) >"
   ]
  },
  {
   "cell_type": "markdown",
   "metadata": {
    "button": false,
    "new_sheet": false,
    "run_control": {
     "read_only": false
    }
   },
   "source": [
    "# Chapter 9. Representation of Numbers"
   ]
  },
  {
   "cell_type": "markdown",
   "metadata": {
    "button": false,
    "new_sheet": false,
    "run_control": {
     "read_only": false
    }
   },
   "source": [
    "#### CHAPTER OUTLINE\n",
    "\n",
    "---\n",
    "\n",
    "* [**9.1 Base-N and Binary**](chapter09.01-BaseN-and-Binary.ipynb)\n",
    "* [**9.2 Floating Point Numbers**](chapter09.02-Floating-Point-Numbers.ipynb)\n",
    "* [**9.3 Round-off Errors**](chapter09.03-Roundoff-Errors.ipynb)\n",
    "* [**9.4 Summary and Problems**](chapter09.04-Summary-and-Problems.ipynb)"
   ]
  },
  {
   "cell_type": "markdown",
   "metadata": {
    "button": false,
    "new_sheet": false,
    "run_control": {
     "read_only": false
    }
   },
   "source": [
    "--- \n",
    "\n",
    "## Motivation\n",
    "\n",
    "There are many ways of representing or writing numbers. For example, decimal numbers, Roman numerals, scientific notation, and even tally marks are all ways of representing numbers as shown in the following figure.\n",
    "\n",
    "<img src=\"images/09.00.1-Number-representations.png\" title=\"Various representation of the number 13. (left to right) Base10, scientific notation, Roman numerals, tally marks, and binary\" width=\"400\"/>\n",
    "\n",
    "Mathematics has infinite precision when describing numbers. For example, 2 is precisely the number such that when you square it, the result is 2, the exact decimal representation of which requires an infinite number of digits. This presents a significant problem for computers, since they only have a limited amount of space to store numbers, and they cannot understand abstract notations of representing numbers more compactly.\n",
    "\n",
    "In this chapter, you will learn about different representation of numbers and how they are useful for computers. Besides, we will introduce the roundoff errors that associated with the representation of numbers. By the end of the chapter, you should know and understand some representations of numbers that are used in computing, how to convert between them and decimal numbers, their primary advantages and disadvantages and the roundoff errors.\n",
    "\n",
    "---"
   ]
  }
 ],
 "metadata": {
  "kernelspec": {
   "display_name": "Python 3",
   "language": "python",
   "name": "python3"
  },
  "language_info": {
   "codemirror_mode": {
    "name": "ipython",
    "version": 3
   },
   "file_extension": ".py",
   "mimetype": "text/x-python",
   "name": "python",
   "nbconvert_exporter": "python",
   "pygments_lexer": "ipython3",
   "version": "3.6.8"
  }
 },
 "nbformat": 4,
 "nbformat_minor": 2
}
