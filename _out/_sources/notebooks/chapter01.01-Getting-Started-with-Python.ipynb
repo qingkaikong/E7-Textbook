{
 "cells": [
  {
   "cell_type": "markdown",
   "metadata": {
    "button": false,
    "new_sheet": false,
    "run_control": {
     "read_only": false
    }
   },
   "source": [
    "<!--BOOK_INFORMATION-->\n",
    "<img align=\"left\" style=\"padding-right:10px;\" src=\"images/book_cover.jpg\" width=\"120\">\n",
    "\n",
    "*This notebook contains an excerpt from the [An Introduction To Python Programming And Numerical Methods For Scientists and Engineers](); the content is available [on GitHub]().*\n",
    "\n",
    "*The text is released under the [CC-BY-NC-ND license](https://creativecommons.org/licenses/by-nc-nd/3.0/us/legalcode), and code is released unde\n",
    "r the [MIT license](https://opensource.org/licenses/MIT). If you find this content useful, please consider supporting the work by [buying the book]()!*"
   ]
  },
  {
   "cell_type": "markdown",
   "metadata": {
    "button": false,
    "new_sheet": false,
    "run_control": {
     "read_only": false
    }
   },
   "source": [
    "<!--NAVIGATION-->\n",
    "< [1.0 Python Basics](chapter01.00-Python-Basics.ipynb) | [Contents](Index.ipynb) | [1.2 Python as A Calculator](chapter01.02-Python-as-A-Calculator.ipynb) >"
   ]
  },
  {
   "cell_type": "markdown",
   "metadata": {
    "button": false,
    "new_sheet": false,
    "run_control": {
     "read_only": false
    }
   },
   "source": [
    "# Getting Started with Python \n",
    "\n",
    "<img align=\"left\" src=\"https://www.python.org/static/community_logos/python-logo.png\">"
   ]
  },
  {
   "cell_type": "markdown",
   "metadata": {
    "button": false,
    "new_sheet": false,
    "run_control": {
     "read_only": false
    }
   },
   "source": [
    "### Set up working environment\n",
    "\n",
    "Before we start to use Python, we need to set up our Python working environment on the computer. In this section, we will introduce the processes to get it started. \n",
    "\n",
    "There are different ways to install Python and related packages, here we recommend to use [Anaconda](https://www.anaconda.com/download/) or [Miniconda](https://conda.io/miniconda.html) to install and manage your packages. Depending on the *operating systems* (OS) you are using, i.e Windows, Mac OS X, or Linux, you need to download a specific installer for your machine. Both Anaconda and Miniconda are aiming to provide easy ways to manage Python work environment in scientific computing and data sciences. \n",
    "\n",
    "Here we will use Mac OS X as an example to show you the install processes. For windows users, please skip the rest of this section and read [Appendix A](Appendix01-Getting-Started-with-Python-Windows.ipynb) for all the processes. The main differences between Anaconda and Miniconda are:\n",
    "\n",
    "* **Anaconda** is a complete distribution framework that includes the Python interpreter, package manager as well as the commonly used packages in scientific computing. \n",
    "* **Miniconda** is a light version of Anaconda that does not include the common packages, therefore, you need to install all the different packages by yourself. But it does have the Python interpreter and package manager. \n",
    "\n",
    "The option we choose here is to use Miniconda to manage our installation of the packages. This way we can only install the ones we need. "
   ]
  },
  {
   "cell_type": "markdown",
   "metadata": {
    "button": false,
    "new_sheet": false,
    "run_control": {
     "read_only": false
    }
   },
   "source": [
    "The Miniconda install process is described below:\n",
    "\n",
    "**Step 1: Download the Miniconda installer from the [website](https://conda.io/miniconda.html)** \n",
    "\n",
    "Here you can choose a different installer based on your OS. We choose the Mac OS X and Python 3.7 as an example. \n",
    "\n",
    "![Miniconda_download](images/01.01.1-miniconda_page.png \"The Miniconda download page, choose the installer based on your Operating System.\")\n",
    "\n",
    "**Step 2: Run the installer from the terminal:**\n",
    "\n",
    "After you run the installer, follow the guide and you will successfully install it.\n",
    "\n",
    "![Run_installer](images/01.01.2-run_miniconda_installer.png \"Screen shot of running the installer in a terminal.\")\n",
    "\n",
    "One thing to note is that you can change the installation location by giving it an alternative location on your machine, but the default is your home directory. \n",
    "\n",
    "![Default_location](images/01.01.3-default_miniconda_location.png \"The default install location of your file system.\")\n",
    "\n",
    "After installation, you can check the installed packages by type the following commands:\n",
    "\n",
    "![Quick_check](images/01.01.4-miniconda_check.png \"Quick way to check your if your installed Miniconda run properly.\")\n",
    "\n",
    "**Step 3: Install the basic packages that used in this book**\n",
    "\n",
    "Let us first install some packages for our book - `ipython`, `numpy`, `scipy`, `pandas`, `matplotlib` and `jupyter notebook`. We will talk more about the management of the packages using `pip` and `conda` later. \n",
    "\n",
    "![Install_packages](images/01.01.5-install_packages.png \"Install process for the packages that will be used in the rest of the book.\")"
   ]
  },
  {
   "cell_type": "markdown",
   "metadata": {
    "button": false,
    "new_sheet": false,
    "run_control": {
     "read_only": false
    }
   },
   "source": [
    "### Three ways to run Python code \n",
    "\n",
    "There are different ways to run Python code, they all have different usages. In this section, we will quickly introduce the three different ways to get you started. \n",
    "\n",
    "**Using Python shell or Ipython shell** \n",
    "\n",
    "The easiest way to run Python code is through the Python shell or Ipython Shell (which stands for Interactive Python). The Ipython shell is richer than Python shell, such as Tab autocompletion, color-highlighted error messages, basic UNIX shell integration and so on. Since we just installed Ipython, let us try to run the \"hello world\" example with it. The way we launch either Python or Ipython shell is by typing it in a terminal (see the figure below). Then we can run Python command by typing it into the shell, by pressing `Enter`, we immediately see the results from the command. For example, we can print out \"Hello World\" by typing `print(\"Hello World\")`:\n",
    "\n",
    "![Hello_world](images/01.01.6-ipython_example.png \"Run Hello World in Ipython shell by typing the command, print is a function that we will learn later to print out anything within the parentheses.\")\n",
    "\n",
    "In the above command, the *print()* is a function in Python, and \"Hello World\" is a string data type that we will introduce them later in the book. \n",
    "\n",
    "**Run Python script/file from command line**\n",
    "\n",
    "The second way to run Python code is to put all the commands into a file and save it as a file with extension `.py` (the extension of the file could be anything, but by convention, it is usually `.py`). For example, use your favorite text editor (Showing here is the [Visual Studio Code](https://code.visualstudio.com)), put the command in a file called *hello_world.py*:\n",
    "\n",
    "![Python_file](images/01.01.7-python_file_example.png \"A Python script file example using Visual Studio Code. You type in the commands you want to execute and save the file with a proper name.\")\n",
    "\n",
    "Then just run it from terminal:\n",
    "\n",
    "![Run_python](images/01.01.8-run_python_file.png \"To run the Python script from command line, we can type python hello_world.py. This line tells Python that we will execute the commands that saved in this file.\")\n",
    "\n",
    "\n",
    "**Using Jupyter Notebook**\n",
    "\n",
    "The third way to run Python is through **Jupyter notebook**. It is a very powerful browser-based Python environment, we will talk more about it in details later in this chapter. Here we just quickly see how we could run the code from a Jupyter notebook. Run the `jupyter notebook` in the bash command line:\n",
    "\n",
    "```bash\n",
    "jupyter notebook\n",
    "```\n",
    "\n",
    "Then you will see a local web page will pop up, from the upper right button to create a new Python3 notebook:\n",
    "\n",
    "![Launching_jupyter](images/01.01.9-launching_jupyter.png \"To Launch a Jupyter notebook server, type jupyter notebook in the command line, which will open a browser page as shown here. Click new button on the top write, and choose Python3 will create a Python notebook to run Python code.\")\n",
    "\n",
    "Running code in Jupyter notebook is easy, you type your code in the cell, and press `shift + enter` to run the cell, the results will be shown below the code. \n",
    "\n",
    "![Notebook_example](images/01.01.10-run_code_jupyter.png \"Run the Hello World example within Jupyter notebook. Type the command in the code cell (the grey boxes) and press shift + enter to execute it.\")"
   ]
  },
  {
   "cell_type": "markdown",
   "metadata": {
    "button": false,
    "new_sheet": false,
    "run_control": {
     "read_only": false
    }
   },
   "source": [
    "### The Zen of Python\n",
    "\n",
    "Ok, in the previous section, we learned about how to set up our working environment and run Python in different ways. Let's end this section by seeing the famous 'The Zen of Python' with running the following command in one of the 3 ways. You may not understand the outputs now, but with time, I am sure you will find how useful it is. "
   ]
  },
  {
   "cell_type": "code",
   "execution_count": 1,
   "metadata": {
    "button": false,
    "new_sheet": false,
    "run_control": {
     "read_only": false
    }
   },
   "outputs": [
    {
     "name": "stdout",
     "output_type": "stream",
     "text": [
      "The Zen of Python, by Tim Peters\n",
      "\n",
      "Beautiful is better than ugly.\n",
      "Explicit is better than implicit.\n",
      "Simple is better than complex.\n",
      "Complex is better than complicated.\n",
      "Flat is better than nested.\n",
      "Sparse is better than dense.\n",
      "Readability counts.\n",
      "Special cases aren't special enough to break the rules.\n",
      "Although practicality beats purity.\n",
      "Errors should never pass silently.\n",
      "Unless explicitly silenced.\n",
      "In the face of ambiguity, refuse the temptation to guess.\n",
      "There should be one-- and preferably only one --obvious way to do it.\n",
      "Although that way may not be obvious at first unless you're Dutch.\n",
      "Now is better than never.\n",
      "Although never is often better than *right* now.\n",
      "If the implementation is hard to explain, it's a bad idea.\n",
      "If the implementation is easy to explain, it may be a good idea.\n",
      "Namespaces are one honking great idea -- let's do more of those!\n"
     ]
    }
   ],
   "source": [
    "import this"
   ]
  },
  {
   "cell_type": "markdown",
   "metadata": {
    "button": false,
    "new_sheet": false,
    "run_control": {
     "read_only": false
    }
   },
   "source": [
    "<!--NAVIGATION-->\n",
    "< [1.0 Python Basics](chapter01.00-Python-Basics.ipynb) | [Contents](Index.ipynb) | [1.2 Python as A Calculator](chapter01.02-Python-as-A-Calculator.ipynb) >"
   ]
  }
 ],
 "metadata": {
  "kernelspec": {
   "display_name": "Python 3",
   "language": "python",
   "name": "python3"
  },
  "language_info": {
   "codemirror_mode": {
    "name": "ipython",
    "version": 3
   },
   "file_extension": ".py",
   "mimetype": "text/x-python",
   "name": "python",
   "nbconvert_exporter": "python",
   "pygments_lexer": "ipython3",
   "version": "3.6.8"
  }
 },
 "nbformat": 4,
 "nbformat_minor": 2
}
