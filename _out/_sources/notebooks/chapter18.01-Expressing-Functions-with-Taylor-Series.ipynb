{
 "cells": [
  {
   "cell_type": "markdown",
   "metadata": {},
   "source": [
    "<!--BOOK_INFORMATION-->\n",
    "<img align=\"left\" style=\"padding-right:10px;\" src=\"images/book_cover.jpg\" width=\"120\">\n",
    "\n",
    "*This notebook contains an excerpt from the [Python Programming and Numerical Methods - A Guide for Engineers and Scientists](https://www.elsevier.com/books/python-programming-and-numerical-methods/kong/978-0-12-819549-9), the content is also available at [Berkeley Python Numerical Methods](https://pythonnumericalmethods.berkeley.edu/notebooks/Index.html).*\n",
    "\n",
    "*The copyright of the book belongs to Elsevier. We also have this interactive book online for a better learning experience. The code is released under the [MIT license](https://opensource.org/licenses/MIT). If you find this content useful, please consider supporting the work on [Elsevier](https://www.elsevier.com/books/python-programming-and-numerical-methods/kong/978-0-12-819549-9) or [Amazon](https://www.amazon.com/Python-Programming-Numerical-Methods-Scientists/dp/0128195495/ref=sr_1_1?dchild=1&keywords=Python+Programming+and+Numerical+Methods+-+A+Guide+for+Engineers+and+Scientists&qid=1604761352&sr=8-1)!*"
   ]
  },
  {
   "cell_type": "markdown",
   "metadata": {},
   "source": [
    "<!--NAVIGATION-->\n",
    "< [CHAPTER 18. Series](chapter18.00-Series.ipynb) | [Contents](Index.ipynb) | [18.2 Approximations with Taylor Series](chapter18.02-Approximations-with-Taylor-Series.ipynb)  >"
   ]
  },
  {
   "cell_type": "markdown",
   "metadata": {},
   "source": [
    "# Expressing Functions with Taylor Series"
   ]
  },
  {
   "cell_type": "markdown",
   "metadata": {},
   "source": [
    "A **sequence** is an ordered set of numbers denoted by the list of numbers inside parentheses. For example, $s = (s_1, s_2, s_3, \\cdots)$ means $s$ is the sequence $s_1, s_2, s_3, \\cdots$ and so on. In this context, \"ordered\" means that $s_1$ comes *before* $s_2$, not that $s_1 < s_2$. Many sequences have a more complicated structure. For example, $s = (n^2, n\\in N)$ is the sequence 0, 1, 4, 9, $\\cdots$. A **series** is the sum of a sequence up to a certain element. An **infinite sequence** is a sequence with an infinite number of terms, and an **infinite series** is the sum of an infinite sequence.\n",
    "\n",
    "A **Taylor series expansion** is a representation of a function by an infinite series of polynomials around a point. Mathematically, the Taylor series of a function, $f(x)$, is defined as:\n",
    "\n",
    "$$ f(x) = \\sum_{n = 0}^{\\infty} \\frac{f^{(n)}(a)(x-a)^n}{n!},\n",
    "$$\n",
    "\n",
    "where $f^{(n)}$ is the $n^\\mathrm{th}$ derivative of $f$ and $f^{(0)}$ is the function $f$"
   ]
  },
  {
   "cell_type": "markdown",
   "metadata": {},
   "source": [
    "**TRY IT!** Compute the Taylor series expansion for $f(x) = 5x^2 + 3x + 5$ around $a = 0$, and $a = 1$. Verify that $f$ and its Taylor series expansions are identical.\n",
    "\n",
    "First compute derivatives analytically:\n",
    "\n",
    "\\begin{eqnarray*}\n",
    "f(x) &=& 5x^2 + 3x + 5\\\\\n",
    "f^{\\prime}(x) &=& 10x + 3\\\\\n",
    "f''(x) &=& 10\n",
    "\\end{eqnarray*}\n",
    "\n",
    "Around a = 0:\n",
    "\n",
    "$$f(x) = \\frac{5x^0}{0!} + \\frac{3x^1}{1!} + \\frac{10x^2}{2!} + 0 + 0 + \\cdots = 5x^2 + 3x + 5\n",
    "$$\n",
    "\n",
    "Around a = 1:\n",
    "\n",
    "\\begin{eqnarray*}\n",
    "f(x) &=& \\frac{13(x-1)^0}{0!} + \\frac{13(x-1)^1}{1!} + \\frac{10(x-1)^2}{2!} + 0 + \\cdots\\\\\n",
    " &=& 13 + 13x - 13 + 5x^2 - 10x + 5 = 5x^2 + 3x + 5\n",
    "\\end{eqnarray*}\n",
    "\n",
    "Note: The Taylor series expansion of any polynomial has finite terms because the $n^\\mathrm{th}$ derivative of any polynomial is 0 for $n$ large enough.\n"
   ]
  },
  {
   "cell_type": "markdown",
   "metadata": {},
   "source": [
    "**TRY IT!** Write the Taylor series for $\\sin(x)$ around the point $a = 0$.\n",
    "\n",
    "Let $f(x) = \\sin(x)$. Then according to the Taylor series expansion,\n",
    "$$f(x) = \\frac{\\sin(0)}{0!}x^0 + \\frac{\\cos(0)}{1!}x^1 + \\frac{-\\sin(0)}{2!}x^2 + \\frac{-\\cos(0)}{3!}x^3 + \\frac{\\sin(0)}{4!}x^4 + \\frac{\\cos(0)}{5!}x^5 + \\cdots.$$\n",
    "\n",
    "The expansion can be written compactly by the formula\n",
    "$$f(x) = \\sum_{n = 0}^{\\infty} \\frac{(-1)^n x^{2n+1}}{(2n+1)!},\n",
    "$$\n",
    "which ignores the terms that contain $\\sin(0)$ (i.e., the even terms). However, because these terms are ignored, the terms in this series and the proper Taylor series expansion are off by a factor of $2n+1$; for example the $n = 0$ term in formula is the $n = 1$ term in the Taylor series, and the $n = 1$ term in the formula is the $n = 3$ term in the Taylor series.mm"
   ]
  },
  {
   "cell_type": "markdown",
   "metadata": {},
   "source": [
    "<!--NAVIGATION-->\n",
    "< [CHAPTER 18. Series](chapter18.00-Series.ipynb) | [Contents](Index.ipynb) | [18.2 Approximations with Taylor Series](chapter18.02-Approximations-with-Taylor-Series.ipynb)  >"
   ]
  }
 ],
 "metadata": {
  "kernelspec": {
   "display_name": "Python 3",
   "language": "python",
   "name": "python3"
  },
  "language_info": {
   "codemirror_mode": {
    "name": "ipython",
    "version": 3
   },
   "file_extension": ".py",
   "mimetype": "text/x-python",
   "name": "python",
   "nbconvert_exporter": "python",
   "pygments_lexer": "ipython3",
   "version": "3.6.8"
  }
 },
 "nbformat": 4,
 "nbformat_minor": 2
}
