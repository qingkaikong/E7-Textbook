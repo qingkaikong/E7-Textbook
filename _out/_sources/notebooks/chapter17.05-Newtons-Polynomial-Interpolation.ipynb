{
 "cells": [
  {
   "cell_type": "markdown",
   "metadata": {
    "button": false,
    "new_sheet": false,
    "run_control": {
     "read_only": false
    }
   },
   "source": [
    "<!--BOOK_INFORMATION-->\n",
    "<img align=\"left\" style=\"padding-right:10px;\" src=\"images/book_cover.jpg\" width=\"120\">\n",
    "\n",
    "*This notebook contains an excerpt from the [Python Programming and Numerical Methods - A Guide for Engineers and Scientists](https://www.elsevier.com/books/python-programming-and-numerical-methods/kong/978-0-12-819549-9), the content is also available at [Berkeley Python Numerical Methods](https://pythonnumericalmethods.berkeley.edu/notebooks/Index.html).*\n",
    "\n",
    "*The copyright of the book belongs to Elsevier. We also have this interactive book online for a better learning experience. The code is released under the [MIT license](https://opensource.org/licenses/MIT). If you find this content useful, please consider supporting the work on [Elsevier](https://www.elsevier.com/books/python-programming-and-numerical-methods/kong/978-0-12-819549-9) or [Amazon](https://www.amazon.com/Python-Programming-Numerical-Methods-Scientists/dp/0128195495/ref=sr_1_1?dchild=1&keywords=Python+Programming+and+Numerical+Methods+-+A+Guide+for+Engineers+and+Scientists&qid=1604761352&sr=8-1)!*"
   ]
  },
  {
   "cell_type": "markdown",
   "metadata": {
    "button": false,
    "new_sheet": false,
    "run_control": {
     "read_only": false
    }
   },
   "source": [
    "<!--NAVIGATION-->\n",
    "< [17.4 Lagrange Polynomial Interpolation](chapter17.04-Lagrange-Polynomial-Interpolation.ipynb)  | [Contents](Index.ipynb) | [17.6 Summary and Problems](chapter17.06-Summary-and-Problems.ipynb) >"
   ]
  },
  {
   "cell_type": "markdown",
   "metadata": {
    "button": false,
    "new_sheet": false,
    "run_control": {
     "read_only": false
    }
   },
   "source": [
    "# Newton's Polynomial Interpolation"
   ]
  },
  {
   "cell_type": "markdown",
   "metadata": {
    "button": false,
    "new_sheet": false,
    "run_control": {
     "read_only": false
    }
   },
   "source": [
    "Newton's polynomial interpolation is another popular way to fit exactly for a set of data points. The general form of the an $n-1$ order Newton's polynomial that goes through $n$ points is:\n",
    "\n",
    "$$ f(x) = a_0 + a_1(x-x_0) + a_2(x-x_0)(x-x_1) + \\dots + a_n(x-x_0)(x-x_1)\\dots(x-x_n)$$\n",
    "\n",
    "which can be re-written as:\n",
    "\n",
    "$$ f(x) = \\sum_{i=0}^{n}{a_in_i(x)}$$ \n",
    "\n",
    "where $$ n_i(x) = \\prod_{j=0}^{i-1}(x-x_j)$$\n",
    "\n",
    "The special feature of the Newton's polynomial is that the coefficients $a_i$ can be determined using a very simple mathematical procedure. For example, since the polynomial goes through each data points, therefore, for a data points $(x_i, y_i)$, we will have $f(x_i) = y_i$, thus we have \n",
    "\n",
    "$$f(x_0) = a_0 = y_0$$\n",
    "\n",
    "And $f(x_1) = a_0 + a_1(x_1-x_0) = y_1$, by rearranging it to get $a_1$, we will have:\n",
    "\n",
    "$$a_1 = \\frac{y_1 - y_0}{x_1 - x_0}$$\n",
    "\n",
    "Now, insert data points $(x_2, y_2)$, we can calculate $a_2$, and it is in the form:\n",
    "\n",
    "$$a_2 = \\frac{\\frac{y_2 - y_1}{x_2 - x_1} - \\frac{y_1 - y_0}{x_1 - x_0}}{x_2 - x_0}$$\n",
    "\n",
    "Let's do one more data points $(x_3, y_3)$ to calculate $a_3$, after insert the data point into the equation, we get:\n",
    "\n",
    "$$a_3 = \\frac{\\frac{\\frac{y_3-y_2}{x_3-x_2} - \\frac{y_2 - y_1}{x_2-x_1}}{x_3 - x_1} - \\frac{\\frac{y_2-y_1}{x_2-x_1}-\\frac{y_1 - y_0}{x_1 - x_0}}{x_2-x_0}}{x_3 - x_0}$$\n",
    "\n",
    "Now, see the patterns? These are called **divided differences**, if we define:\n",
    "\n",
    "$$ f[x_1, x_0] = \\frac{y_1 - y_0}{x_1 - x_0}$$\n",
    "\n",
    "$$ f[x_2, x_1, x_0] = \\frac{\\frac{y_2 - y_1}{x_2 - x_1} - \\frac{y_1 - y_0}{x_1 - x_0}}{x_2 - x_0} = \\frac{f[x_2,x_1] - f[x_1,x_0]}{x_2-x_1}$$\n",
    "\n",
    "We continue write this out, we will have the following iteration equation:\n",
    "\n",
    "$$ f[x_k, x_{k-1}, \\dots, x_{1}, x_0] = \\frac{f[x_k, x_{k-1}, \\dots, x_{2}, x_2] - f[x_{k-1}, x_{k-2}, \\dots, x_{1}, x_0]}{x_k-x_0}$$\n",
    "\n",
    "We can see one beauty of the method is that, once the coefficients are determined, adding new data points won't change the calculated ones, we only need to calculate higher differences continues in the same manner. The whole procedure for finding these coefficients can be summarized into a divided differences table. Let's see an example using 5 data points:\n",
    "\n",
    "$$\n",
    "\\begin{array}{cccccc}\n",
    "x_0 & y_0 \\\\\n",
    "    &     & f[x_1,x_0] \\\\\n",
    "x_1 & y_1 &             & f[x_2, x_1,x_0]\\\\\n",
    "    &     & f[x_2,x_1]  &              & f[x_3, x_2, x_1,x_0]\\\\\n",
    "x_2 & y_2 &             & f[x_3, x_2,x_1] &             & f[x_4, x_3, x_2, x_1,x_0]\\\\\n",
    "    &     & f[x_3,x_2]  &              & f[x_4, x_3, x_2, x_1]\\\\\n",
    "x_3 & y_3 &             & f[x_4, x_3,x_2]\\\\\n",
    "    &     & f[x_4,x_3] \\\\\n",
    "x_4 & y_4\n",
    "\\end{array}\n",
    "$$\n",
    "\n",
    "Each element in the table can be calculated using the two previous elements (to the left). In reality, we can calculate each element and store them into a diagonal matrix, that is the coefficients matrix can be write as:\n",
    "\n",
    "$$\n",
    "\\begin{array}{cccccc}\n",
    "y_0 & f[x_1,x_0] & f[x_2, x_1,x_0] & f[x_3, x_2, x_1,x_0] & f[x_4, x_3, x_2, x_1,x_0]\\\\\n",
    "y_1 & f[x_2,x_1] & f[x_3, x_2,x_1] & f[x_4, x_3, x_2, x_1] & 0\\\\\n",
    "y_2 & f[x_3,x_2] & f[x_4, x_3,x_2] & 0          & 0 \\\\\n",
    "y_3 & f[x_4,x_3] & 0 & 0 & 0            \\\\\n",
    "y_4 & 0 & 0 & 0  & 0  \n",
    "\\end{array}\n",
    "$$\n",
    "\n",
    "Note that, the first row in the matrix is actually all the coefficients that we need, i.e. $a_0, a_1, a_2, a_3, a_4$. Let's see an example how we can do it. \n",
    "\n",
    "**TRY IT!** Calculate the divided differences table for x = [-5, -1, 0, 2], y = [-2, 6, 1, 3]. "
   ]
  },
  {
   "cell_type": "code",
   "execution_count": 1,
   "metadata": {
    "button": false,
    "collapsed": true,
    "new_sheet": false,
    "run_control": {
     "read_only": false
    }
   },
   "outputs": [],
   "source": [
    "import numpy as np\n",
    "import matplotlib.pyplot as plt\n",
    "\n",
    "plt.style.use('seaborn-poster')\n",
    "\n",
    "%matplotlib inline"
   ]
  },
  {
   "cell_type": "code",
   "execution_count": 2,
   "metadata": {
    "button": false,
    "collapsed": true,
    "new_sheet": false,
    "run_control": {
     "read_only": false
    }
   },
   "outputs": [],
   "source": [
    "def divided_diff(x, y):\n",
    "    '''\n",
    "    function to calculate the divided\n",
    "    differences table\n",
    "    '''\n",
    "    n = len(y)\n",
    "    coef = np.zeros([n, n])\n",
    "    # the first column is y\n",
    "    coef[:,0] = y\n",
    "    \n",
    "    for j in range(1,n):\n",
    "        for i in range(n-j):\n",
    "            coef[i][j] = \\\n",
    "           (coef[i+1][j-1] - coef[i][j-1]) / (x[i+j]-x[i])\n",
    "            \n",
    "    return coef\n",
    "\n",
    "def newton_poly(coef, x_data, x):\n",
    "    '''\n",
    "    evaluate the newton polynomial \n",
    "    at x\n",
    "    '''\n",
    "    n = len(x_data) - 1 \n",
    "    p = coef[n]\n",
    "    for k in range(1,n+1):\n",
    "        p = coef[n-k] + (x -x_data[n-k])*p\n",
    "    return p"
   ]
  },
  {
   "cell_type": "code",
   "execution_count": 3,
   "metadata": {
    "button": false,
    "new_sheet": false,
    "run_control": {
     "read_only": false
    }
   },
   "outputs": [
    {
     "data": {
      "text/plain": [
       "[<matplotlib.lines.Line2D at 0x11bd4e630>]"
      ]
     },
     "execution_count": 3,
     "metadata": {},
     "output_type": "execute_result"
    },
    {
     "data": {
      "image/png": "[encoded data removed]",
      "text/plain": [
       "<Figure size 864x576 with 1 Axes>"
      ]
     },
     "metadata": {
      "needs_background": "light"
     },
     "output_type": "display_data"
    }
   ],
   "source": [
    "x = np.array([-5, -1, 0, 2])\n",
    "y = np.array([-2, 6, 1, 3])\n",
    "# get the divided difference coef\n",
    "a_s = divided_diff(x, y)[0, :]\n",
    "\n",
    "# evaluate on new data points\n",
    "x_new = np.arange(-5, 2.1, .1)\n",
    "y_new = newton_poly(a_s, x, x_new)\n",
    "\n",
    "plt.figure(figsize = (12, 8))\n",
    "plt.plot(x, y, 'bo')\n",
    "plt.plot(x_new, y_new)"
   ]
  },
  {
   "cell_type": "markdown",
   "metadata": {
    "button": false,
    "new_sheet": false,
    "run_control": {
     "read_only": false
    }
   },
   "source": [
    "We can see that the Newton's polynomial goes through all the data points and fit the data."
   ]
  },
  {
   "cell_type": "markdown",
   "metadata": {
    "button": false,
    "new_sheet": false,
    "run_control": {
     "read_only": false
    }
   },
   "source": [
    "<!--NAVIGATION-->\n",
    "< [17.4 Lagrange Polynomial Interpolation](chapter17.04-Lagrange-Polynomial-Interpolation.ipynb)  | [Contents](Index.ipynb) | [17.6 Summary and Problems](chapter17.06-Summary-and-Problems.ipynb) >"
   ]
  }
 ],
 "metadata": {
  "kernelspec": {
   "display_name": "Python 3",
   "language": "python",
   "name": "python3"
  },
  "language_info": {
   "codemirror_mode": {
    "name": "ipython",
    "version": 3
   },
   "file_extension": ".py",
   "mimetype": "text/x-python",
   "name": "python",
   "nbconvert_exporter": "python",
   "pygments_lexer": "ipython3",
   "version": "3.6.8"
  }
 },
 "nbformat": 4,
 "nbformat_minor": 2
}
