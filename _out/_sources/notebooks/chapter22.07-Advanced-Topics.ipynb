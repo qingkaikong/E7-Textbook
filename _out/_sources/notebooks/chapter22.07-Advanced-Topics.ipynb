{
 "cells": [
  {
   "cell_type": "markdown",
   "metadata": {
    "button": false,
    "new_sheet": false,
    "run_control": {
     "read_only": false
    }
   },
   "source": [
    "<!--BOOK_INFORMATION-->\n",
    "<img align=\"left\" style=\"padding-right:10px;\" src=\"images/book_cover.jpg\" width=\"120\">\n",
    "\n",
    "*This notebook contains an excerpt from the [Python Programming And Numerical Methods: A Guide For Engineers And Scientists](); the content is available [on GitHub]().*\n",
    "\n",
    "*The text is released under the [CC-BY-NC-ND license](https://creativecommons.org/licenses/by-nc-nd/3.0/us/legalcode), and code is released under the [MIT license](https://opensource.org/licenses/MIT). If you find this content useful, please consider supporting the work by [buying the book]()!*"
   ]
  },
  {
   "cell_type": "markdown",
   "metadata": {
    "button": false,
    "new_sheet": false,
    "run_control": {
     "read_only": false
    }
   },
   "source": [
    "<!--NAVIGATION-->\n",
    "< [22.6 Python ODE Solvers](chapter22.06-Python-ODE-Solvers.ipynb) | [Contents](Index.ipynb) | [22.8 Summary and Problems](chapter22.08-Summary-and-Problems.ipynb) >"
   ]
  },
  {
   "cell_type": "markdown",
   "metadata": {
    "button": false,
    "new_sheet": false,
    "run_control": {
     "read_only": false
    }
   },
   "source": [
    "# Advanced Topics\n",
    "\n",
    "In this section, we will briefly discuss some more advanced topics in IVP ODE. We will not go into the details of them, but if you are interested, we do suggest you check out some great books such as Ordinary Differential Equations by Morris Tenenbaum and Harry Pollard, Numerical Methods for Engineers and Scientists by Amos Gilat and Vish Subramaniam as well as Numerical Methods for Ordinary Differential Equations by J.C. Butcher. \n",
    "\n",
    "## Multistep Methods\n",
    "\n",
    "So far, most of the methods we discussed are called **one-step methods** because the approximation for the next point $t_{j+1}$ is obtained by using information only from $S(t_{j})$ and $t_{j}$ at the previous point. Although some of the methods, such as RK methods, might use function-evaluation information at points between $t_{j}$ and $t_{j+1}$, they do not retain the information for direct use in future approximations. The **multistep methods** attempt to gain efficiency by using two or more previous points to approximate the solution at the next point $t_{j+1}$. For linear multistep methods, we can use a linear combination of the previous points and derivative values to approximate the next point. The coefficients can be determined using polynomial interpolation we discussed in chapter 17. \n",
    "\n",
    "There are three families of linear multistep methods are commonly used: Adams–Bashforth methods, Adams–Moulton methods, and the backward differentiation formulas (BDFs).\n",
    "\n",
    "## Stiffness ODE\n",
    "\n",
    "**Stiffness** is a difficult and important concept in the numerical solution of ODEs. A stiff ODE equation will make the solution being sought vary slowly, and not stable, i.e. if there are nearby solutions, the solution will change dramatically. This will force us to take small steps to obtain reasonable results. Therefore, stiffness is usually an efficiency issue: if we do not care about computation cost, we would not be concerned about stiffness. \n",
    "\n",
    "In science and engineering, we often need to model physical phenomena with very different time scales or spatial scales. These applications usually lead to systems of ODEs whose solution include several terms with magnitudes varying with time at a significantly different rate. For example, as the following figure shows a spring mass system, which the mass can swings from left to right as well as oscillates up and down due to the spring. Therefore, we have two different time scales, that is the time scale of the swinging motion as well as the oscillation motion. If the spring is really stiff, thus the oscillation motion time scale will be much smaller than that of the swinging motion. In order to study the system, we have to use a very tiny time step to get a good solution for the oscillation.\n",
    "\n",
    "<img src=\"images/22.07.01-Spring-mass-system.png\" alt=\"stiffness\" title=\"The illustration of the stiffness equation.\" width=\"400\"/>\n",
    "\n",
    "Depending on the properties of the ODE and the desired level of accuracy, you might need to use different methods for `solve_ivp`.There are many methods to choose from for the `method` argument in `solve_ivp`; browse through the [documentation](https://docs.scipy.org/doc/scipy/reference/generated/scipy.integrate.solve_ivp.html#scipy.integrate.solve_ivp) for additional information. As suggested by the documentation, use the `\"RK45\"` or `\"RK23\"` method for non-stiff problems and `\"Radau\"` or `\"BDF\"` for stiff problems. If not sure, first try to run `\"RK45\"`. Should this solution experience an unusually high number of iterations, diverges, or fails, this problem is likely to be stiff, and you should use `\"Radau\"` or `\"BDF\"`. `\"LSODA\"` can also be a good universal choice, but it might be somewhat less convenient to work with as it wraps old Fortran code."
   ]
  },
  {
   "cell_type": "markdown",
   "metadata": {
    "button": false,
    "new_sheet": false,
    "run_control": {
     "read_only": false
    }
   },
   "source": [
    "<!--NAVIGATION-->\n",
    "< [22.6 Python ODE Solvers](chapter22.06-Python-ODE-Solvers.ipynb) | [Contents](Index.ipynb) | [22.8 Summary and Problems](chapter22.08-Summary-and-Problems.ipynb) >"
   ]
  }
 ],
 "metadata": {
  "kernelspec": {
   "display_name": "Python 3",
   "language": "python",
   "name": "python3"
  },
  "language_info": {
   "codemirror_mode": {
    "name": "ipython",
    "version": 3
   },
   "file_extension": ".py",
   "mimetype": "text/x-python",
   "name": "python",
   "nbconvert_exporter": "python",
   "pygments_lexer": "ipython3",
   "version": "3.6.8"
  }
 },
 "nbformat": 4,
 "nbformat_minor": 2
}
