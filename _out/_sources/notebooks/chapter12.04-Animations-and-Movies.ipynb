{
 "cells": [
  {
   "cell_type": "markdown",
   "metadata": {
    "button": false,
    "new_sheet": false,
    "run_control": {
     "read_only": false
    }
   },
   "source": [
    "<!--BOOK_INFORMATION-->\n",
    "<img align=\"left\" style=\"padding-right:10px;\" src=\"images/book_cover.jpg\" width=\"120\">\n",
    "\n",
    "*This notebook contains an excerpt from the [Python Programming And Numerical Methods: A Guide For Engineers And Scientists](); the content is available [on GitHub]().*\n",
    "\n",
    "*The text is released under the [CC-BY-NC-ND license](https://creativecommons.org/licenses/by-nc-nd/3.0/us/legalcode), and code is released under the [MIT license](https://opensource.org/licenses/MIT). If you find this content useful, please consider supporting the work by [buying the book]()!*"
   ]
  },
  {
   "cell_type": "markdown",
   "metadata": {
    "button": false,
    "new_sheet": false,
    "run_control": {
     "read_only": false
    }
   },
   "source": [
    "<!--NAVIGATION-->\n",
    "< [12.3 Working with Maps](chapter12.03-Working-with-Maps.ipynb) | [Contents](Index.ipynb) | [12.5 Summary and Problems](chapter12.05-Summary-and-Problems.ipynb) >"
   ]
  },
  {
   "cell_type": "markdown",
   "metadata": {
    "button": false,
    "new_sheet": false,
    "run_control": {
     "read_only": false
    }
   },
   "source": [
    "# Animations and Movies"
   ]
  },
  {
   "cell_type": "markdown",
   "metadata": {
    "button": false,
    "new_sheet": false,
    "run_control": {
     "read_only": false
    }
   },
   "source": [
    "An animation is a sequence of still frames, or plots, that are displayed in fast enough succession to create the illusion of continuous motion. Animations and movies often convey information better than individual plots. You can create animations in Python by calling a plot function inside of a loop (usually a for-loop). The main tools for making animations in Python is the *matplotlib.animation.Animation* base class, which provides a framework around which the animation functionality is built. Let's see an example.\n",
    "\n",
    "**TRY IT!** Create an animation of a red circle following a blue sine wave. "
   ]
  },
  {
   "cell_type": "code",
   "execution_count": 1,
   "metadata": {
    "button": false,
    "new_sheet": false,
    "run_control": {
     "read_only": false
    }
   },
   "outputs": [],
   "source": [
    "import numpy as np\n",
    "import matplotlib.pyplot as plt\n",
    "import matplotlib.animation as manimation"
   ]
  },
  {
   "cell_type": "code",
   "execution_count": null,
   "metadata": {
    "button": false,
    "new_sheet": false,
    "run_control": {
     "read_only": false
    }
   },
   "outputs": [],
   "source": [
    "n = 1000\n",
    "x = np.linspace(0, 6*np.pi, n)\n",
    "y = np.sin(x)\n",
    "\n",
    "# Define the meta data for the movie\n",
    "FFMpegWriter = manimation.writers['ffmpeg']\n",
    "metadata = dict(title='Movie Test', artist='Matplotlib',\n",
    "                comment='a red circle following a blue sine wave')\n",
    "writer = FFMpegWriter(fps=15, metadata=metadata)\n",
    "\n",
    "# Initialize the movie\n",
    "fig = plt.figure()\n",
    "\n",
    "# plot the sine wave line\n",
    "sine_line, = plt.plot(x, y, 'b')\n",
    "red_circle, = plt.plot([], [], 'ro', markersize = 10)\n",
    "plt.xlabel('x')\n",
    "plt.ylabel('sin(x)')\n",
    "\n",
    "# Update the frames for the movie\n",
    "with writer.saving(fig, \"writer_test.mp4\", 100):\n",
    "    for i in range(n):\n",
    "        x0 = x[i]\n",
    "        y0 = y[i]\n",
    "        red_circle.set_data(x0, y0)\n",
    "        writer.grab_frame()"
   ]
  },
  {
   "cell_type": "code",
   "execution_count": null,
   "metadata": {
    "button": false,
    "new_sheet": false,
    "run_control": {
     "read_only": false
    }
   },
   "outputs": [],
   "source": [
    "# don't worry about the code in this cell, it is just to let you \n",
    "# display the movies you generated above in Jupyter notebook\n",
    "from IPython.display import HTML\n",
    "\n",
    "HTML(\"\"\"\n",
    "<div align=\"middle\">\n",
    "<video width=\"80%\" controls>\n",
    "      <source src=\"writer_test.mp4\" type=\"video/mp4\">\n",
    "</video></div>\"\"\")"
   ]
  },
  {
   "cell_type": "markdown",
   "metadata": {
    "button": false,
    "new_sheet": false,
    "run_control": {
     "read_only": false
    }
   },
   "source": [
    "Before we make a movie, it is better to prepare the 3 following items first:\n",
    "1. define the meta data for the movie\n",
    "2. decide what in the background that no need to change\n",
    "3. decide the objects that need to change in each movie frame\n",
    "\n",
    "Once the above items are determined, then making the movie in Python is relatively easy, we only need to do 3 steps:\n",
    "1. define the meta data for the movie\n",
    "2. initialize the movie background figure\n",
    "3. update the frames for the movie\n",
    "\n",
    "Take the example above, we could clearly see the code related to the 3 steps. \n",
    "\n",
    "**1. Define the meta data for the movie**\n",
    "\n",
    "```python\n",
    "FFMpegWriter = manimation.writers['ffmpeg']\n",
    "metadata = dict(title='Movie Test', artist='Matplotlib',\n",
    "                comment='a red circle following a blue sine wave')\n",
    "writer = FFMpegWriter(fps=15, metadata=metadata)\n",
    "```\n",
    "In this block of code, we tell Python that we will start to create a movie writer and give the title, artist, comment to it. Besides, we also tell Python that the rate of the frames in the movie, that is *fps=15*, which means that we display 15 consecutive frames within 1 second (fps stands for frames per second).\n",
    "\n",
    "**2. Initialize the movie background figure**\n",
    "\n",
    "```python\n",
    "fig = plt.figure()\n",
    "\n",
    "# plot the sine wave line\n",
    "sine_line, = plt.plot(x, y, 'b')\n",
    "red_circle, = plt.plot([], [], 'ro', markersize = 10)\n",
    "plt.xlabel('x')\n",
    "plt.ylabel('sin(x)')\n",
    "```\n",
    "\n",
    "Here, we start to make initialization of the background figure for the movie. The reason we call it background figure is that the stuff we plotted here will not change during the movie, for this example, the sine wave curve will not change. At the same time, we plot an empty red dot (which will not appear on the figure). It serves as a place holder for the things that will change later in the movie, this is equivalent to tell Python that we will have a red point that later I will update the location of the point. Since the x and y axes labels will also not change, therefore, we plotted them here. \n",
    "\n",
    "**3. Update the frames for the movie**\n",
    "\n",
    "```python\n",
    "with writer.saving(fig, \"writer_test.mp4\", 100):\n",
    "    for i in range(n):\n",
    "        x0 = x[i]\n",
    "        y0 = y[i]\n",
    "        red_circle.set_data(x0, y0)\n",
    "        writer.grab_frame()\n",
    "```\n",
    "\n",
    "In this block of code, we specify the name of the output file, format and resolution of the figure (dpi - dots per inch), in this case, we want the output file has a name 'writer_test' with format 'mp4', and we want the dpi of the figure 100. Then we are entering into the core part of the movie making - to update the figure. We use a for-loop to update the figure, and in each loop, we change the location (x, y location) of the red circle. The *writer.grab_frame* function will capture this change in each frame and display it based on the fps we set. \n",
    "\n",
    "This is the whole process of making this movie. \n",
    "\n",
    "There are many movie examples on [matplotlib movie tutorial](https://matplotlib.org/api/animation_api.html), take a look and run through some of the examples to get a better understanding of making movies in Python. "
   ]
  },
  {
   "cell_type": "markdown",
   "metadata": {
    "button": false,
    "new_sheet": false,
    "run_control": {
     "read_only": false
    }
   },
   "source": [
    "<!--NAVIGATION-->\n",
    "< [12.3 Working with Maps](chapter12.03-Working-with-Maps.ipynb) | [Contents](Index.ipynb) | [12.5 Summary and Problems](chapter12.05-Summary-and-Problems.ipynb) >"
   ]
  }
 ],
 "metadata": {
  "kernelspec": {
   "display_name": "Python 3",
   "language": "python",
   "name": "python3"
  },
  "language_info": {
   "codemirror_mode": {
    "name": "ipython",
    "version": 3
   },
   "file_extension": ".py",
   "mimetype": "text/x-python",
   "name": "python",
   "nbconvert_exporter": "python",
   "pygments_lexer": "ipython3",
   "version": "3.6.7"
  }
 },
 "nbformat": 4,
 "nbformat_minor": 2
}
