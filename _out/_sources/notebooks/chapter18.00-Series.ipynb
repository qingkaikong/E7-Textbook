{
 "cells": [
  {
   "cell_type": "markdown",
   "metadata": {
    "button": false,
    "new_sheet": false,
    "run_control": {
     "read_only": false
    }
   },
   "source": [
    "<!--BOOK_INFORMATION-->\n",
    "<img align=\"left\" style=\"padding-right:10px;\" src=\"images/book_cover.jpg\" width=\"120\">\n",
    "\n",
    "*This notebook contains an excerpt from the [Python Programming And Numerical Methods: A Guide For Engineers And Scientists](); the content is available [on GitHub]().*\n",
    "\n",
    "*The text is released under the [CC-BY-NC-ND license](https://creativecommons.org/licenses/by-nc-nd/3.0/us/legalcode), and code is released under the [MIT license](https://opensource.org/licenses/MIT). If you find this content useful, please consider supporting the work by [buying the book]()!*"
   ]
  },
  {
   "cell_type": "markdown",
   "metadata": {
    "button": false,
    "new_sheet": false,
    "run_control": {
     "read_only": false
    }
   },
   "source": [
    "<!--NAVIGATION-->\n",
    "< [17.6 Summary and Problems](chapter17.06-Summary-and-Problems.ipynb) | [Contents](Index.ipynb) | [18.1 Expressing Functions with Taylor Series](chapter18.01-Expressing-Functions-with-Taylor-Series.ipynb)   >"
   ]
  },
  {
   "cell_type": "markdown",
   "metadata": {
    "button": false,
    "new_sheet": false,
    "run_control": {
     "read_only": false
    }
   },
   "source": [
    "# Series"
   ]
  },
  {
   "cell_type": "markdown",
   "metadata": {
    "button": false,
    "new_sheet": false,
    "run_control": {
     "read_only": false
    }
   },
   "source": [
    "#### CHAPTER OUTLINE\n",
    "\n",
    "---\n",
    "\n",
    "* [**18.1 Expressing Functions with Taylor Series**](chapter18.01-Expressing-Functions-with-Taylor-Series.ipynb) \n",
    "* [**18.2 Approximations with Taylor Series**](chapter18.02-Approximations-with-Taylor-Series.ipynb)  \n",
    "* [**18.3 Discussion on Errors**](chapter18.03-Discussion-on-Errors.ipynb)  \n",
    "* [**18.4 Summary and Problems**](chapter18.04-Summary-and-Problems.ipynb)"
   ]
  },
  {
   "cell_type": "markdown",
   "metadata": {
    "button": false,
    "new_sheet": false,
    "run_control": {
     "read_only": false
    }
   },
   "source": [
    "--- \n",
    "\n",
    "## Motivation\n",
    "\n",
    "Many functions such as $\\sin(x)$ and $\\cos(x)$ are useful for engineers and scientists, but they are impossible to compute explicitly. In practice, these functions can be approximated by sums of functions that are easy to compute, such as polynomials. In fact, most functions common to engineers and scientists cannot be computed without approximations of this kind. Since these functions are used so often, it is important to know how these approximations work and their limitations.\n",
    "\n",
    "In this chapter, you will learn about Taylor series, which is one method of approximating complicated functions. This chapter in no way takes the place of a full course on functional analysis, but it does provide exposure that will be useful for subsequent chapters.\n",
    "\n",
    "---"
   ]
  }
 ],
 "metadata": {
  "kernelspec": {
   "display_name": "Python 3",
   "language": "python",
   "name": "python3"
  },
  "language_info": {
   "codemirror_mode": {
    "name": "ipython",
    "version": 3
   },
   "file_extension": ".py",
   "mimetype": "text/x-python",
   "name": "python",
   "nbconvert_exporter": "python",
   "pygments_lexer": "ipython3",
   "version": "3.6.7"
  }
 },
 "nbformat": 4,
 "nbformat_minor": 2
}
