{
 "cells": [
  {
   "cell_type": "markdown",
   "metadata": {
    "button": false,
    "new_sheet": false,
    "run_control": {
     "read_only": false
    }
   },
   "source": [
    "<!--BOOK_INFORMATION-->\n",
    "<img align=\"left\" style=\"padding-right:10px;\" src=\"images/book_cover.jpg\" width=\"120\">\n",
    "\n",
    "*This notebook contains an excerpt from the [An Introduction To Python Programming And Numerical Methods For Scientists and Engineers](); the content is available [on GitHub]().*\n",
    "\n",
    "*The text is released under the [CC-BY-NC-ND license](https://creativecommons.org/licenses/by-nc-nd/3.0/us/legalcode), and code is released under the [MIT license](https://opensource.org/licenses/MIT). If you find this content useful, please consider supporting the work by [buying the book]()!*"
   ]
  },
  {
   "cell_type": "markdown",
   "metadata": {
    "button": false,
    "new_sheet": false,
    "run_control": {
     "read_only": false
    }
   },
   "source": [
    "<!--NAVIGATION-->\n",
    "< [9.3 Round-off Errors](chapter09.03-Roundoff-Errors.ipynb) | [Contents](Index.ipynb) | [10.0 Errors, Good Programming Practices, and Debugging](chapter10.00-Errors-Practices-Debugging.ipynb) >"
   ]
  },
  {
   "cell_type": "markdown",
   "metadata": {
    "button": false,
    "new_sheet": false,
    "run_control": {
     "read_only": false
    }
   },
   "source": [
    "# Summary\n",
    "\n",
    "\n",
    "1. Numbers have many representations, and each representation has advantages and disadvantages.\n",
    "2. Computers must represent numbers using a finite number of digits (bits).\n",
    "3. Binary and IEEE754 are finite representations of numbers used by computers.\n",
    "4. Round-off error is an important error associated with numerical methods."
   ]
  },
  {
   "cell_type": "markdown",
   "metadata": {
    "button": false,
    "new_sheet": false,
    "run_control": {
     "read_only": false
    }
   },
   "source": [
    "# Problems\n",
    "\n",
    "1. Write a function *my_bin_2_dec(b)* where *b* is binary number represented by a list of ones and zeros. The last element of *b* represents the coefficient of $2^0$, the second-to-last element of b represents the coefficient of $2^1$, and so on. The output variable, *d*, should be the decimal representation of b. The test cases are provided below. "
   ]
  },
  {
   "cell_type": "code",
   "execution_count": null,
   "metadata": {},
   "outputs": [],
   "source": [
    "def my_bin_2_dec(b):\n",
    "    # write your function code here\n",
    "    return d"
   ]
  },
  {
   "cell_type": "code",
   "execution_count": null,
   "metadata": {},
   "outputs": [],
   "source": [
    "# Output: 7\n",
    "my_bin_2_dec([1, 1, 1])"
   ]
  },
  {
   "cell_type": "code",
   "execution_count": null,
   "metadata": {},
   "outputs": [],
   "source": [
    "# Output: 85\n",
    "my_bin_2_dec([1, 0, 1, 0, 1, 0, 1])"
   ]
  },
  {
   "cell_type": "code",
   "execution_count": null,
   "metadata": {},
   "outputs": [],
   "source": [
    "# Output: 33554431\n",
    "my_bin_2_dec([1]*25)"
   ]
  },
  {
   "cell_type": "markdown",
   "metadata": {},
   "source": [
    "2. Write a function *my_dec_2_bin(d)*, where *d* is a positive integer in decimal, and *b* is the binary representation of *d*. The output *b* must be a list of ones and zeros, and the leading term must be a 1 unless the decimal input value is 0. The test cases are provided below. "
   ]
  },
  {
   "cell_type": "code",
   "execution_count": null,
   "metadata": {},
   "outputs": [],
   "source": [
    "def my_dec_2_bin(d):\n",
    "    # write your function code here\n",
    "    return b"
   ]
  },
  {
   "cell_type": "code",
   "execution_count": null,
   "metadata": {},
   "outputs": [],
   "source": [
    "# Output: [0]\n",
    "my_dec_2_bin(0)"
   ]
  },
  {
   "cell_type": "code",
   "execution_count": null,
   "metadata": {},
   "outputs": [],
   "source": [
    "# Output: [1, 0, 1, 1, 1]\n",
    "my_dec_2_bin(23)"
   ]
  },
  {
   "cell_type": "code",
   "execution_count": null,
   "metadata": {},
   "outputs": [],
   "source": [
    "# Output: [1, 0, 0, 0, 0, 0, 1, 1, 0, 0, 0, 1]\n",
    "my_dec_2_bin(2097)"
   ]
  },
  {
   "cell_type": "markdown",
   "metadata": {},
   "source": [
    "3. Use the two functions you wrote in problems 1 and 2 to compute *d = my_bin_2_dec(my_dec_2_bin(12654))*. Do you get the same number?"
   ]
  },
  {
   "cell_type": "markdown",
   "metadata": {},
   "source": [
    "4. Write a function *my_bin_adder(b1,b2)*, where *b1*, *b2* and the output variable *b* are binary numbers represented as in problem 1. The output variable should be computed as *b = b1 + b2*. Do not use your functions from problems 1 and 2 to write this function (i.e., do not convert *b1* and *b2* to decimal; add them, and then convert the result back to binary). This function should be able to accept inputs *b1* and *b2* of any length (i.e., very long binary numbers), and *b1* and *b2* may not necessarily be the same length."
   ]
  },
  {
   "cell_type": "code",
   "execution_count": null,
   "metadata": {},
   "outputs": [],
   "source": [
    "def my_bin_adder(b1, b2):\n",
    "    # wrtie your function code here\n",
    "    return b"
   ]
  },
  {
   "cell_type": "code",
   "execution_count": null,
   "metadata": {},
   "outputs": [],
   "source": [
    "# Output: [1, 0, 0, 0, 0, 0]\n",
    "my_bin_adder([1, 1, 1, 1, 1], [1])"
   ]
  },
  {
   "cell_type": "code",
   "execution_count": null,
   "metadata": {},
   "outputs": [],
   "source": [
    "# Output: [1, 1, 1, 0, 0, 1, 1]\n",
    "my_bin_adder([1, 1, 1, 1, 1], [1, 0, 1, 0, 1, 0, 0])"
   ]
  },
  {
   "cell_type": "code",
   "execution_count": null,
   "metadata": {},
   "outputs": [],
   "source": [
    "# Output: [1, 0, 1, 1]\n",
    "my_bin_adder([1, 1, 0], [1, 0, 1])"
   ]
  },
  {
   "cell_type": "markdown",
   "metadata": {},
   "source": [
    "5. What is the effect of allocating more bits to the fraction versus the characteristic and vice versa? What is the effect of allocating more bits to the sign?"
   ]
  },
  {
   "cell_type": "markdown",
   "metadata": {},
   "source": [
    "6. Write a function *my_ieee_2_dec(ieee)*, where *ieee* is a string contains 64 characters of ones and zeros representing a 64-bit IEEE754 number. The output should be *d*, the equivalent decimal representation of *ieee*. The input variable *ieee* will always be a 64-element string of ones and zeros defining a 64-bit float. "
   ]
  },
  {
   "cell_type": "code",
   "execution_count": null,
   "metadata": {},
   "outputs": [],
   "source": [
    "def my_ieee_2_dec(ieee):\n",
    "    # Write your function here\n",
    "    return d"
   ]
  },
  {
   "cell_type": "code",
   "execution_count": null,
   "metadata": {},
   "outputs": [],
   "source": [
    "# Output: -48\n",
    "ieee = '1100000001001000000000000000000000000000000000000000000000000000'\n",
    "my_ieee_2_dec(ieee)"
   ]
  },
  {
   "cell_type": "code",
   "execution_count": null,
   "metadata": {},
   "outputs": [],
   "source": [
    "# Output: 3.39999999999999991118215802999\n",
    "ieee = '0100000000001011001100110011001100110011001100110011001100110011'\n",
    "my_ieee_2_dec(ieee)"
   ]
  },
  {
   "cell_type": "markdown",
   "metadata": {},
   "source": [
    "7. Write a function *my_dec_2_ieee(d)*, where *d* is a number in decimal and output variable *ieee* is a string with 64 characters of ones and zeros representing the 64-bit IEEE754 closest to *d*. You can assume that *d* will not cause an overflow for 64-bit *ieee* numbers."
   ]
  },
  {
   "cell_type": "code",
   "execution_count": null,
   "metadata": {},
   "outputs": [],
   "source": [
    "def my_dec_2_ieee(d):\n",
    "    # write your function code here\n",
    "    return ieee"
   ]
  },
  {
   "cell_type": "code",
   "execution_count": null,
   "metadata": {},
   "outputs": [],
   "source": [
    "# Output: '0100000000101110010111101010001110011100001100011010010001101000'\n",
    "\n",
    "d = 1.518484199625\n",
    "my_dec_2_ieee(d)"
   ]
  },
  {
   "cell_type": "code",
   "execution_count": null,
   "metadata": {},
   "outputs": [],
   "source": [
    "# Output: '1100000001110011010100100100010010010001001010011000100010010000'\n",
    "\n",
    "d = -309.141740\n",
    "my_dec_2_ieee(d)"
   ]
  },
  {
   "cell_type": "code",
   "execution_count": null,
   "metadata": {},
   "outputs": [],
   "source": [
    "# Output: '1100000011011000101010010000000000000000000000000000000000000000'\n",
    "\n",
    "d = -25252\n",
    "my_dec_2_ieee(d)"
   ]
  },
  {
   "cell_type": "markdown",
   "metadata": {},
   "source": [
    "8. Define *ieee_baby* to be a representation of numbers using 6 bits where the first bit is the sign bit, the second and third bits are allocated to the characteristic, and the fourth, fifth, and sixth bits are allocated to the fraction. The normalization for the characteristic is 1.\n",
    "\n",
    " Write all the decimal numbers that can be represented by *ieee_baby*. \n",
    " What is the largest/smallest gap in *ieee_baby*?"
   ]
  },
  {
   "cell_type": "markdown",
   "metadata": {},
   "source": [
    "9. Use the *np.spacing* function to determine the smallest number such that the gap is 1."
   ]
  },
  {
   "cell_type": "markdown",
   "metadata": {},
   "source": [
    "10. What are some of the advantages and disadvantages of using binary versus decimal?"
   ]
  },
  {
   "cell_type": "markdown",
   "metadata": {},
   "source": [
    "11. Write the number 13 (base10) in base1. How would you do addition and multiplication in base1?"
   ]
  },
  {
   "cell_type": "markdown",
   "metadata": {},
   "source": [
    "12. How high can you count on your fingers if you count in binary?"
   ]
  },
  {
   "cell_type": "markdown",
   "metadata": {},
   "source": [
    "13. Let *b* be a binary number having *n* digits. Can you think of ways to multiply and divide *b* by 2 that does not involve any arithmetic? Hint: Think about how you multiply and divide a decimal number by 10."
   ]
  },
  {
   "cell_type": "markdown",
   "metadata": {},
   "source": [
    "<!--NAVIGATION-->\n",
    "< [9.3 Round-off Errors](chapter09.03-Roundoff-Errors.ipynb) | [Contents](Index.ipynb) | [10.0 Errors, Good Programming Practices, and Debugging](chapter10.00-Errors-Practices-Debugging.ipynb) >"
   ]
  }
 ],
 "metadata": {
  "kernelspec": {
   "display_name": "Python 3",
   "language": "python",
   "name": "python3"
  },
  "language_info": {
   "codemirror_mode": {
    "name": "ipython",
    "version": 3
   },
   "file_extension": ".py",
   "mimetype": "text/x-python",
   "name": "python",
   "nbconvert_exporter": "python",
   "pygments_lexer": "ipython3",
   "version": "3.6.6"
  }
 },
 "nbformat": 4,
 "nbformat_minor": 2
}
