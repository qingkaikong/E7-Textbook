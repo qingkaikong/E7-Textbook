{
 "cells": [
  {
   "cell_type": "markdown",
   "metadata": {
    "button": false,
    "new_sheet": false,
    "run_control": {
     "read_only": false
    }
   },
   "source": [
    "<!--BOOK_INFORMATION-->\n",
    "<img align=\"left\" style=\"padding-right:10px;\" src=\"images/book_cover.jpg\" width=\"120\">\n",
    "\n",
    "*This notebook contains an excerpt from the [An Introduction To Python Programming And Numerical Methods For Scientists and Engineers](); the content is available [on GitHub]().*\n",
    "\n",
    "*The text is released under the [CC-BY-NC-ND license](https://creativecommons.org/licenses/by-nc-nd/3.0/us/legalcode), and code is released under the [MIT license](https://opensource.org/licenses/MIT). If you find this content useful, please consider supporting the work by [buying the book]()!*"
   ]
  },
  {
   "cell_type": "markdown",
   "metadata": {
    "button": false,
    "new_sheet": false,
    "run_control": {
     "read_only": false
    }
   },
   "source": [
    "<!--NAVIGATION-->\n",
    "< [11.3 Pickle Files](chapter11.03-Pickle-Files.ipynb) | [Contents](Index.ipynb) | [11.5 HDF5 Files](chapter11.05-HDF5-Files.ipynb) >"
   ]
  },
  {
   "cell_type": "markdown",
   "metadata": {
    "button": false,
    "new_sheet": false,
    "run_control": {
     "read_only": false
    }
   },
   "source": [
    "# JSON Files"
   ]
  },
  {
   "cell_type": "markdown",
   "metadata": {
    "button": false,
    "new_sheet": false,
    "run_control": {
     "read_only": false
    }
   },
   "source": [
    "**JSON** is another format we are going to introduce. It stands for **JavaScript Object Notation**. A JSON file usually ends with extension \".json\". Unlike pickle, which is Python dependent, JSON is a language-independent data format, which makes it attractive to use. Besides, it is usually takes less space on the disk and the manipulation is faster than pickle (if you are interested, search online to find more materials about it). Therefore, it is a good option to store your data using JSON. In this section, we will briefly explore how to handle JSON files in Python. \n",
    "\n",
    "## JSON format\n",
    "\n",
    "The text in JSON is done through quoted string containing value in key-value pairs within {}. It is actually very similar to the dictionary we saw in Python. For example:\n",
    "\n",
    "```json\n",
    "{\n",
    "  \"school\": \"UC Berkeley\",\n",
    "  \"address\": {\n",
    "    \"city\": \"Berkeley\", \n",
    "    \"state\": \"California\",\n",
    "    \"postal\": \"94720\"\n",
    "  }, \n",
    "    \n",
    "  \"list\":[\n",
    "      \"student 1\",\n",
    "      \"student 2\",\n",
    "      \"student 3\"\n",
    "      ]\n",
    "}\n",
    "```\n",
    "\n",
    "## Write a JSON file\n",
    "\n",
    "In Python, the easiest way to handle JSON is to use `json` library. There are some other libraries such as `simplejson`, `jyson` etc. In this section, we will use `json` which is natively supported by Python to write and load JSON files.  \n",
    "\n",
    "**TRY IT!** Create a dictionary, and save it to a JSON file on disk. To use a pickle, we need to import the module first. "
   ]
  },
  {
   "cell_type": "code",
   "execution_count": 1,
   "metadata": {
    "button": false,
    "new_sheet": false,
    "run_control": {
     "read_only": false
    }
   },
   "outputs": [],
   "source": [
    "import json"
   ]
  },
  {
   "cell_type": "code",
   "execution_count": 2,
   "metadata": {
    "button": false,
    "new_sheet": false,
    "run_control": {
     "read_only": false
    }
   },
   "outputs": [],
   "source": [
    "school = {\n",
    "  \"school\": \"UC Berkeley\",\n",
    "  \"address\": {\n",
    "    \"city\": \"Berkeley\", \n",
    "    \"state\": \"California\",\n",
    "    \"postal\": \"94720\"\n",
    "  }, \n",
    "    \n",
    "  \"list\":[\n",
    "      \"student 1\",\n",
    "      \"student 2\",\n",
    "      \"student 3\"\n",
    "      ],\n",
    "    \n",
    "  \"array\":[1, 2, 3]\n",
    "}\n",
    "json.dump(school, open('school.json', 'w'))"
   ]
  },
  {
   "cell_type": "markdown",
   "metadata": {
    "button": false,
    "new_sheet": false,
    "run_control": {
     "read_only": false
    }
   },
   "source": [
    "To use json to serialize an object, we use the `json.dump` function, which takes two arguments: the first one is the object, and the second argument is a file object returned by the `open` function. Note here the mode of the `open` function is 'w' which indicates write file. \n",
    "\n",
    "## Read a JSON file\n",
    "\n",
    "Now let us load the JSON file we just saved on the disk back using the `json.load` function. "
   ]
  },
  {
   "cell_type": "code",
   "execution_count": 3,
   "metadata": {
    "button": false,
    "new_sheet": false,
    "run_control": {
     "read_only": false
    }
   },
   "outputs": [],
   "source": [
    "my_school = json.load(open('./school.json', 'r'))\n",
    "my_school"
   ]
  },
  {
   "cell_type": "markdown",
   "metadata": {
    "button": false,
    "new_sheet": false,
    "run_control": {
     "read_only": false
    }
   },
   "source": [
    "We can see the use of `json` is actually very similar to `pickle` in the last section. JSON supports different types, like strings and numbers, as well as nested lists, tuples and objects, we will leave this for you to explore further. "
   ]
  },
  {
   "cell_type": "markdown",
   "metadata": {
    "button": false,
    "new_sheet": false,
    "run_control": {
     "read_only": false
    }
   },
   "source": [
    "<!--NAVIGATION-->\n",
    "< [11.3 Pickle Files](chapter11.03-Pickle-Files.ipynb) | [Contents](Index.ipynb) | [11.5 HDF5 Files](chapter11.05-HDF5-Files.ipynb) >"
   ]
  }
 ],
 "metadata": {
  "kernelspec": {
   "display_name": "Python 3",
   "language": "python",
   "name": "python3"
  },
  "language_info": {
   "codemirror_mode": {
    "name": "ipython",
    "version": 3
   },
   "file_extension": ".py",
   "mimetype": "text/x-python",
   "name": "python",
   "nbconvert_exporter": "python",
   "pygments_lexer": "ipython3",
   "version": "3.6.8"
  }
 },
 "nbformat": 4,
 "nbformat_minor": 2
}
