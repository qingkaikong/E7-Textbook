{
 "cells": [
  {
   "cell_type": "markdown",
   "metadata": {
    "button": false,
    "new_sheet": false,
    "run_control": {
     "read_only": false
    }
   },
   "source": [
    "<!--BOOK_INFORMATION-->\n",
    "<img align=\"left\" style=\"padding-right:10px;\" src=\"images/book_cover.jpg\" width=\"120\">\n",
    "\n",
    "*This notebook contains an excerpt from the [Python Programming and Numerical Methods - A Guide for Engineers and Scientists](https://www.elsevier.com/books/python-programming-and-numerical-methods/kong/978-0-12-819549-9), the content is also available at [Berkeley Python Numerical Methods](https://pythonnumericalmethods.berkeley.edu/notebooks/Index.html).*\n",
    "\n",
    "*The copyright of the book belongs to Elsevier. We also have this interactive book online for a better learning experience. The code is released under the [MIT license](https://opensource.org/licenses/MIT). If you find this content useful, please consider supporting the work on [Elsevier](https://www.elsevier.com/books/python-programming-and-numerical-methods/kong/978-0-12-819549-9) or [Amazon](https://www.amazon.com/Python-Programming-Numerical-Methods-Scientists/dp/0128195495/ref=sr_1_1?dchild=1&keywords=Python+Programming+and+Numerical+Methods+-+A+Guide+for+Engineers+and+Scientists&qid=1604761352&sr=8-1)!*"
   ]
  },
  {
   "cell_type": "markdown",
   "metadata": {
    "button": false,
    "new_sheet": false,
    "run_control": {
     "read_only": false
    }
   },
   "source": [
    "<!--NAVIGATION-->\n",
    "< [3.1 Function Basics](chapter03.01-Function-Basics.ipynb) | [Contents](Index.ipynb) | [3.3 Nested Functions](chapter03.03-Nested-Functions.ipynb) >"
   ]
  },
  {
   "cell_type": "markdown",
   "metadata": {
    "button": false,
    "new_sheet": false,
    "run_control": {
     "read_only": false
    }
   },
   "source": [
    "# Local Variables and Global Variables"
   ]
  },
  {
   "cell_type": "markdown",
   "metadata": {
    "button": false,
    "new_sheet": false,
    "run_control": {
     "read_only": false
    }
   },
   "source": [
    "Chapter 2 introduced the idea of the memory associated with the notebook where variables created in the notebook are stored. A function also has its own memory block that is reserved for variables created within that function. This block of memory is not shared with the whole notebook memory block. Therefore, a variable with a given name can be assigned within a fucntion without changing a variable with the same name outside of the function. The memory block associated with the function is opened every time a function is used.\n",
    "\n",
    "**TRY IT!** What will the value of *out* be after the following lines of code are executed? Note that it is not 6, which is the value *out* is assigned inside of *my_adder*."
   ]
  },
  {
   "cell_type": "code",
   "execution_count": 1,
   "metadata": {},
   "outputs": [
    {
     "name": "stdout",
     "output_type": "stream",
     "text": [
      "The value out within the function is 6\n",
      "The value out outside the function is 1\n"
     ]
    }
   ],
   "source": [
    "def my_adder(a, b, c):\n",
    "    out = a + b + c\n",
    "    print(f'The value out within the function is {out}')\n",
    "    return out\n",
    "\n",
    "out = 1\n",
    "d = my_adder(1, 2, 3)\n",
    "print(f'The value out outside the function is {out}')"
   ]
  },
  {
   "cell_type": "markdown",
   "metadata": {
    "run_control": {}
   },
   "source": [
    "In *my_adder*, the variable *out* is a **local variable**. That is, it is only defined in the function of *my_adder*. Therefore, it cannot affect variables outside of the function, and actions taken in the notebook outside the function cannot affect it, even if they have the same name. So in the previous example, there is a variable, *out*, defined in the notebook cell. When *my_adder* is called on the next line, Python opens a new memory block for that function's variables. One of the variables created within the function is another variable, *out*. However, since they are in different memory blocks, the assignment to *out* inside *my_adder* does not change the value assigned to *out* outside the function. \n",
    "\n",
    "Why have separate function memory blocks rather than a single memory block? Although it may seem like a lot of trouble for Python to separate memory blocks, it is very efficient for large projects consisting of many functions working together. If one programmer is responsible for making one function, and another for making a different function, we would not want each programmer to have to worry about what variable names the other is using. We want them to be able to work independently and be confident that their own work did not interfere with the other's and vice versa. Therefore, separate memory blocks protect a function from outside influence. The only things from outside the function’s memory block that can affect what happens inside a function are the input arguments, and the only things that can escape to the outside world from a function’s memory block when the function terminates are the output arguments.\n",
    "\n",
    "The next examples are designed to be exercises in the concept of local variables. They are intentionally very confusing, but if you can untangle them, then you probably understand the local variable within a function. Focus on exactly what Python is doing, in the order that Python does it. \n",
    "\n",
    "**EXAMPLE:** Consider the following function:"
   ]
  },
  {
   "cell_type": "code",
   "execution_count": 2,
   "metadata": {},
   "outputs": [],
   "source": [
    "def my_test(a, b):\n",
    "    x = a + b\n",
    "    y = x * b\n",
    "    z = a + b\n",
    "    \n",
    "    m = 2\n",
    "    \n",
    "    print(f'Within function: x={x}, y={y}, z={z}')\n",
    "    return x, y"
   ]
  },
  {
   "cell_type": "markdown",
   "metadata": {
    "run_control": {}
   },
   "source": [
    "**TRY IT!** What will the value of a, b, x, y, and z be after the following code is run?"
   ]
  },
  {
   "cell_type": "code",
   "execution_count": 3,
   "metadata": {},
   "outputs": [
    {
     "name": "stdout",
     "output_type": "stream",
     "text": [
      "Within function: x=5, y=10, z=5\n",
      "Outside function: x=10, y=5, z=1\n"
     ]
    }
   ],
   "source": [
    "a = 2\n",
    "b = 3\n",
    "z = 1\n",
    "y, x = my_test(b, a)\n",
    "\n",
    "print(f'Outside function: x={x}, y={y}, z={z}')"
   ]
  },
  {
   "cell_type": "markdown",
   "metadata": {},
   "source": [
    "**TRY IT!** What will the value of a, b, x, y, and z be after the following code is run?"
   ]
  },
  {
   "cell_type": "code",
   "execution_count": 4,
   "metadata": {},
   "outputs": [
    {
     "name": "stdout",
     "output_type": "stream",
     "text": [
      "Within function: x=8, y=24, z=8\n",
      "Outside function: x=5, y=3, z=1\n"
     ]
    }
   ],
   "source": [
    "x = 5\n",
    "y = 3\n",
    "b, a = my_test(x, y)\n",
    "\n",
    "print(f'Outside function: x={x}, y={y}, z={z}')"
   ]
  },
  {
   "cell_type": "markdown",
   "metadata": {},
   "source": [
    "**TRY IT!** What will the value of m if you print *m* outside of the function?"
   ]
  },
  {
   "cell_type": "code",
   "execution_count": 5,
   "metadata": {},
   "outputs": [
    {
     "ename": "NameError",
     "evalue": "name 'm' is not defined",
     "output_type": "error",
     "traceback": [
      "\u001b[0;31m---------------------------------------------------------------------------\u001b[0m",
      "\u001b[0;31mNameError\u001b[0m                                 Traceback (most recent call last)",
      "\u001b[0;32m<ipython-input-5-9a40b379906c>\u001b[0m in \u001b[0;36m<module>\u001b[0;34m\u001b[0m\n\u001b[0;32m----> 1\u001b[0;31m \u001b[0mm\u001b[0m\u001b[0;34m\u001b[0m\u001b[0;34m\u001b[0m\u001b[0m\n\u001b[0m",
      "\u001b[0;31mNameError\u001b[0m: name 'm' is not defined"
     ]
    }
   ],
   "source": [
    "m"
   ]
  },
  {
   "cell_type": "markdown",
   "metadata": {},
   "source": [
    "We can see the value *m* is not defined outside of the function, since it is defined within the function. The opposite is similar, for example, if you define a variable outside a function, but you want to use it inside the function and change the value, you will get the same error. \n",
    "\n",
    "**EXAMPLE:** Try to use and change the value *n* within the function. "
   ]
  },
  {
   "cell_type": "code",
   "execution_count": 6,
   "metadata": {},
   "outputs": [
    {
     "ename": "UnboundLocalError",
     "evalue": "local variable 'n' referenced before assignment",
     "output_type": "error",
     "traceback": [
      "\u001b[0;31m---------------------------------------------------------------------------\u001b[0m",
      "\u001b[0;31mUnboundLocalError\u001b[0m                         Traceback (most recent call last)",
      "\u001b[0;32m<ipython-input-6-85f3215553ae>\u001b[0m in \u001b[0;36m<module>\u001b[0;34m\u001b[0m\n\u001b[1;32m      6\u001b[0m     \u001b[0mprint\u001b[0m\u001b[0;34m(\u001b[0m\u001b[0;34mf'Within function: change n to {n}'\u001b[0m\u001b[0;34m)\u001b[0m\u001b[0;34m\u001b[0m\u001b[0;34m\u001b[0m\u001b[0m\n\u001b[1;32m      7\u001b[0m \u001b[0;34m\u001b[0m\u001b[0m\n\u001b[0;32m----> 8\u001b[0;31m \u001b[0mfunc\u001b[0m\u001b[0;34m(\u001b[0m\u001b[0;34m)\u001b[0m\u001b[0;34m\u001b[0m\u001b[0;34m\u001b[0m\u001b[0m\n\u001b[0m\u001b[1;32m      9\u001b[0m \u001b[0mprint\u001b[0m\u001b[0;34m(\u001b[0m\u001b[0;34mf'Outside function: Value of n is {n}'\u001b[0m\u001b[0;34m)\u001b[0m\u001b[0;34m\u001b[0m\u001b[0;34m\u001b[0m\u001b[0m\n",
      "\u001b[0;32m<ipython-input-6-85f3215553ae>\u001b[0m in \u001b[0;36mfunc\u001b[0;34m()\u001b[0m\n\u001b[1;32m      2\u001b[0m \u001b[0;34m\u001b[0m\u001b[0m\n\u001b[1;32m      3\u001b[0m \u001b[0;32mdef\u001b[0m \u001b[0mfunc\u001b[0m\u001b[0;34m(\u001b[0m\u001b[0;34m)\u001b[0m\u001b[0;34m:\u001b[0m\u001b[0;34m\u001b[0m\u001b[0;34m\u001b[0m\u001b[0m\n\u001b[0;32m----> 4\u001b[0;31m     \u001b[0mprint\u001b[0m\u001b[0;34m(\u001b[0m\u001b[0;34mf'Within function: n is {n}'\u001b[0m\u001b[0;34m)\u001b[0m\u001b[0;34m\u001b[0m\u001b[0;34m\u001b[0m\u001b[0m\n\u001b[0m\u001b[1;32m      5\u001b[0m     \u001b[0mn\u001b[0m \u001b[0;34m=\u001b[0m \u001b[0;36m3\u001b[0m\u001b[0;34m\u001b[0m\u001b[0;34m\u001b[0m\u001b[0m\n\u001b[1;32m      6\u001b[0m     \u001b[0mprint\u001b[0m\u001b[0;34m(\u001b[0m\u001b[0;34mf'Within function: change n to {n}'\u001b[0m\u001b[0;34m)\u001b[0m\u001b[0;34m\u001b[0m\u001b[0;34m\u001b[0m\u001b[0m\n",
      "\u001b[0;31mUnboundLocalError\u001b[0m: local variable 'n' referenced before assignment"
     ]
    }
   ],
   "source": [
    "n = 42\n",
    "\n",
    "def func():\n",
    "    print(f'Within function: n is {n}')\n",
    "    n = 3\n",
    "    print(f'Within function: change n to {n}')\n",
    "\n",
    "func()\n",
    "print(f'Outside function: Value of n is {n}')"
   ]
  },
  {
   "cell_type": "markdown",
   "metadata": {},
   "source": [
    "The solution is to use the keyword **global** to let Python know this variable is a global variable that it can be used both outside and inside the function.\n",
    "\n",
    "**EXAMPLE:** Define n as the global variable, and then use and change the value n within the function."
   ]
  },
  {
   "cell_type": "code",
   "execution_count": 7,
   "metadata": {},
   "outputs": [
    {
     "name": "stdout",
     "output_type": "stream",
     "text": [
      "Within function: n is 42\n",
      "Within function: change n to 3\n",
      "Outside function: Value of n is 3\n"
     ]
    }
   ],
   "source": [
    "n = 42\n",
    "\n",
    "def func():\n",
    "    global n\n",
    "    print(f'Within function: n is {n}')\n",
    "    n = 3\n",
    "    print(f'Within function: change n to {n}')\n",
    "\n",
    "func()\n",
    "print(f'Outside function: Value of n is {n}')"
   ]
  },
  {
   "cell_type": "markdown",
   "metadata": {
    "button": false,
    "new_sheet": false,
    "run_control": {
     "read_only": false
    }
   },
   "source": [
    "<!--NAVIGATION-->\n",
    "< [3.1 Function Basics](chapter03.01-Function-Basics.ipynb) | [Contents](Index.ipynb) | [3.3 Nested Functions](chapter03.03-Nested-Functions.ipynb) >"
   ]
  }
 ],
 "metadata": {
  "kernelspec": {
   "display_name": "Python 3",
   "language": "python",
   "name": "python3"
  },
  "language_info": {
   "codemirror_mode": {
    "name": "ipython",
    "version": 3
   },
   "file_extension": ".py",
   "mimetype": "text/x-python",
   "name": "python",
   "nbconvert_exporter": "python",
   "pygments_lexer": "ipython3",
   "version": "3.6.8"
  }
 },
 "nbformat": 4,
 "nbformat_minor": 2
}
