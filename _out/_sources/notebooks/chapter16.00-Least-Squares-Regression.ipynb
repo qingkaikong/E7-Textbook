{
 "cells": [
  {
   "cell_type": "markdown",
   "metadata": {
    "button": false,
    "new_sheet": false,
    "run_control": {
     "read_only": false
    }
   },
   "source": [
    "<!--BOOK_INFORMATION-->\n",
    "<img align=\"left\" style=\"padding-right:10px;\" src=\"images/book_cover.jpg\" width=\"120\">\n",
    "\n",
    "*This notebook contains an excerpt from the [Python Programming and Numerical Methods - A Guide for Engineers and Scientists](https://www.elsevier.com/books/python-programming-and-numerical-methods/kong/978-0-12-819549-9), the content is also available at [Berkeley Python Numerical Methods](https://pythonnumericalmethods.berkeley.edu/notebooks/Index.html).*\n",
    "\n",
    "*The copyright of the book belongs to Elsevier. We also have this interactive book online for a better learning experience. The code is released under the [MIT license](https://opensource.org/licenses/MIT). If you find this content useful, please consider supporting the work on [Elsevier](https://www.elsevier.com/books/python-programming-and-numerical-methods/kong/978-0-12-819549-9) or [Amazon](https://www.amazon.com/Python-Programming-Numerical-Methods-Scientists/dp/0128195495/ref=sr_1_1?dchild=1&keywords=Python+Programming+and+Numerical+Methods+-+A+Guide+for+Engineers+and+Scientists&qid=1604761352&sr=8-1)!*"
   ]
  },
  {
   "cell_type": "markdown",
   "metadata": {
    "button": false,
    "new_sheet": false,
    "run_control": {
     "read_only": false
    }
   },
   "source": [
    "<!--NAVIGATION-->\n",
    "< [15.5 Summary and Problems](chapter15.05-Summary-and-Problems.ipynb) | [Contents](Index.ipynb) | [16.1 Least Squares Regression Problem Statement](chapter16.01-Least-Squares-Regression-Problem-Statement.ipynb)   >"
   ]
  },
  {
   "cell_type": "markdown",
   "metadata": {
    "button": false,
    "new_sheet": false,
    "run_control": {
     "read_only": false
    }
   },
   "source": [
    "# Chapter 16. Least Squares Regression"
   ]
  },
  {
   "cell_type": "markdown",
   "metadata": {
    "button": false,
    "new_sheet": false,
    "run_control": {
     "read_only": false
    }
   },
   "source": [
    "#### CHAPTER OUTLINE\n",
    "\n",
    "---\n",
    "\n",
    "* [**16.1 Least Squares Regression Problem Statement**](chapter16.01-Least-Squares-Regression-Problem-Statement.ipynb) \n",
    "* [**16.2 Least Squares Regression Derivation (Linear Algebra)**](chapter16.02-Least-Squares-Regression-Derivation-Linear-Algebra.ipynb)  \n",
    "* [**16.3 Least Squares Regression Derivation (Multivariable Calculus)**](chapter16.03-Least-Squares-Regression-Derivation-Multivariable-Calculus.ipynb)  \n",
    "* [**16.4 Least Squares Regression in Python**](chapter16.04-Least-Squares-Regression-in-Python.ipynb)  \n",
    "* [**16.5 Least Square Regression for Nonlinear Functions**](chapter16.05-Least-Square-Regression-for-Nonlinear-Functions.ipynb)   \n",
    "* [**16.6 Summary and Problems**](chapter16.06-Summary-and-Problems.ipynb)"
   ]
  },
  {
   "cell_type": "markdown",
   "metadata": {
    "button": false,
    "new_sheet": false,
    "run_control": {
     "read_only": false
    }
   },
   "source": [
    "--- \n",
    "\n",
    "## Motivation\n",
    "\n",
    "Often in science and engineering coursework, we are asked to determine the state of a system given the parameters of the system. For example, the relationship between the force exerted by a linear spring, *F*, and the displacement of the spring from its natural length, *x*, is usually represented by the model \n",
    "\n",
    "$$\n",
    "\\begin{align}\n",
    "F = kx\n",
    "\\end{align}\n",
    "$$\n",
    "\n",
    "where *k* is the spring stiffness. We are then asked to compute the force for a given *k* and *x* value. \n",
    "\n",
    "However in practice, the stiffness and in general, most of the parameters of a system, are not known a *priori*. Instead, we are usually presented with data points about how the system has behaved in the past. For\n",
    "our spring example, we may be given $(x, F)$ data pairs that have been previously recorded from an experiment. Ideally, all these data points would lie exactly on a line going through the origin (since there is no force at zero displacement). We could then measure the slope of this line and get our stiffness value for *k*. However,\n",
    "practical data usually has some measurement noise because of sensor inaccuracy, measurement error, or a variety of other reasons. The following figure shows an example of what data might look like for a simple spring experiment. \n",
    "\n",
    "<img src=\"./images/16.00.01-experiment_data.jpg\" alt=\"spring experiment\" title=\"Results from force-displacement experiment for spring (fictional). The theoretical linear relationship between force and displacement in a linear spring is F = kx . What do you think k should be given as the experimental data?\" width=\"500\"/>\n",
    "\n",
    "This chapter teaches methods of finding the \"most likely\" model parameters given a set of data, e.g., how to find the spring stiffness in our mock experiment. By the end of this chapter you should understand how these methods choose model parameters, the importance of choosing the correct model, and how to implement these methods in.\n",
    "\n",
    "---"
   ]
  },
  {
   "cell_type": "code",
   "execution_count": null,
   "metadata": {
    "collapsed": true,
    "run_control": {}
   },
   "outputs": [],
   "source": []
  }
 ],
 "metadata": {
  "kernelspec": {
   "display_name": "Python 3",
   "language": "python",
   "name": "python3"
  },
  "language_info": {
   "codemirror_mode": {
    "name": "ipython",
    "version": 3
   },
   "file_extension": ".py",
   "mimetype": "text/x-python",
   "name": "python",
   "nbconvert_exporter": "python",
   "pygments_lexer": "ipython3",
   "version": "3.6.8"
  }
 },
 "nbformat": 4,
 "nbformat_minor": 2
}
