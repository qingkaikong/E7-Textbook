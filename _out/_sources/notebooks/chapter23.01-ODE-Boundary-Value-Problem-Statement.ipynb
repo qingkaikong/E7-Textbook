{
 "cells": [
  {
   "cell_type": "markdown",
   "metadata": {
    "button": false,
    "new_sheet": false,
    "run_control": {
     "read_only": false
    }
   },
   "source": [
    "<!--BOOK_INFORMATION-->\n",
    "<img align=\"left\" style=\"padding-right:10px;\" src=\"images/book_cover.jpg\" width=\"120\">\n",
    "\n",
    "*This notebook contains an excerpt from the [Python Programming And Numerical Methods: A Guide For Engineers And Scientists](); the content is available [on GitHub]().*\n",
    "\n",
    "*The text is released under the [CC-BY-NC-ND license](https://creativecommons.org/licenses/by-nc-nd/3.0/us/legalcode), and code is released under the [MIT license](https://opensource.org/licenses/MIT). If you find this content useful, please consider supporting the work by [buying the book]()!*"
   ]
  },
  {
   "cell_type": "markdown",
   "metadata": {
    "button": false,
    "new_sheet": false,
    "run_control": {
     "read_only": false
    }
   },
   "source": [
    "<!--NAVIGATION-->\n",
    "< [CHAPTER 23. Ordinary Differential Equations: Boundary-Value Problems](chapter23.00-ODE-Boundary-Value-Problems.ipynb)   | [Contents](Index.ipynb) | [23.2 The Shooting Method](chapter23.02-The-Shooting-Method.ipynb) >"
   ]
  },
  {
   "cell_type": "markdown",
   "metadata": {
    "button": false,
    "new_sheet": false,
    "run_control": {
     "read_only": false
    }
   },
   "source": [
    "# ODE Boundary Value Problem Statement"
   ]
  },
  {
   "cell_type": "markdown",
   "metadata": {
    "button": false,
    "new_sheet": false,
    "run_control": {
     "read_only": false
    }
   },
   "source": [
    "In the previous chapter, we talked about ordinary differential equation initial value problems. We can see that in the initial value problems, all the known values are specified at the same value of the independent variable, usually at the lower boundary of the interval, thus this is where the term 'initial' comes from. While in this chapter, we will discuss another type of problems - **boundary value problems**, as the name suggested, the know values are specified at the extremes of the independent variable, therefore, boundaries of the interval. \n",
    "\n",
    "For example, if we have a simple 2nd order ordinary differential equation, \n",
    "\n",
    "$$\\frac{d^2f(x)}{dx^2} = \\frac{df(x)}{dx} + 3$$\n",
    "\n",
    "if the independent variable is over the domain of [0, 20], the initial value problem will have the two conditions on the value 0, that is, we know the value of $f(0)$ and $f'(0)$. In contrast, the boundary value problems will specify the values at $x = 0$ and $x = 20$. Note that solving a first-order ODE to get a particular solution, we need one constraint, while an $n$th-order ODE, we need $n$ constraints. \n",
    "\n",
    "The boundary value problem statement for an $n$th-order ordinary differential equation is stated as:\n",
    "\n",
    "$$\n",
    "F\\left(x, f(x), \\frac{df(x)}{dx}, \\frac{d^2f(x)}{dx^2}, \\frac{d^3f(x)}{dx^3}, \\ldots, \\frac{d^{n-1}f(x)}{dx^{n-1}}\\right) = \\frac{d^{n}f(x)}{dx^{n}},\n",
    "$$\n",
    "\n",
    "To solve this equation on an interval of $x\\in[a, b]$, we need $n$ known boundary conditions at value $a$ and $b$. For the 2nd order case, since we can have the boundary condition either be a value of f(x) or a value of derivative $f'(x)$, we can have several different cases for the specified values. For example, we can have the boundary condition values specified as:\n",
    "\n",
    "1. Two values of $f(x)$ are given, that is $f(a)$ and $f(b)$ are known \n",
    "2. Two derivatives of $f'(x)$ are given, that is $f'(a)$ and $f'(b)$ are known \n",
    "3. Or mixed conditions from the above two cases are known, that is either $f(a)$ and $f'(b)$ are known or $f'(a)$ and $f(b)$ are known. \n",
    "\n",
    "Anyway, to get the particular solution, we need two boundary conditions to get the solution. The second-order ODE boundary value problem is also called Two-Point boundary value problems. The higher order ODE problems need additional boundary conditions, usually the values of higher derivatives of the independent variables. In this chapter, let's focus on the two-point boundary value problems. \n",
    "\n",
    "Let's see an example of the boundary value problem and see how we can solve it in the next few sections. \n",
    "\n",
    "<img src=\"images/23.01.01-Pin-Fin-Heat.png\" alt=\"Pin Fin system\" title=\"Heat flow in a pin fin.\" width=\"500\"/>\n",
    "\n",
    "Fins are used in many applications to increase the heat transfer from surfaces. Usually the design of cooling pin fins is encountered in many applications, such as the pin fin used as a heat sink for cooling an object. We can model the temperature distribution in a pin fin as shown in the above figure, where the length of the fin is $L$, and the start and the end of the fin is $x=0$ as well as $x=L$. The temperature at the two ends are $T_0$ and $T_L$. $T_s$ is the temperature of the surrounding environment. If we consider both convection and radiation, the steady-state temperature distribution of the pin fin $T(x)$ can be modeled with the following equation:\n",
    "\n",
    "$$\\frac{d^2T}{dx^2} - \\alpha_1(T - T_s) - \\alpha_2(T^4 - T^4) = 0$$\n",
    "\n",
    "with the boundary conditions: $T(0) = T_0$ and $T(L) = T_L$, and $\\alpha_1$ and $\\alpha_2$ are coefficients. This is a second-order ODE with two boundary conditions, therefore, we can solve it to get particular solutions.  \n",
    "\n",
    "The remainder of this chapter covers two methods of numerically approximating the solution to boundary value problems on a numerical grid. We will cover the shooting methods and finite differences methods to solve the boundary value problems ODE. "
   ]
  },
  {
   "cell_type": "markdown",
   "metadata": {
    "button": false,
    "new_sheet": false,
    "run_control": {
     "read_only": false
    }
   },
   "source": [
    "<!--NAVIGATION-->\n",
    "< [CHAPTER 23. Ordinary Differential Equations: Boundary-Value Problems](chapter23.00-ODE-Boundary-Value-Problems.ipynb)   | [Contents](Index.ipynb) | [23.2 The Shooting Method](chapter23.02-The-Shooting-Method.ipynb) >"
   ]
  }
 ],
 "metadata": {
  "kernelspec": {
   "display_name": "Python 3",
   "language": "python",
   "name": "python3"
  },
  "language_info": {
   "codemirror_mode": {
    "name": "ipython",
    "version": 3
   },
   "file_extension": ".py",
   "mimetype": "text/x-python",
   "name": "python",
   "nbconvert_exporter": "python",
   "pygments_lexer": "ipython3",
   "version": "3.6.7"
  }
 },
 "nbformat": 4,
 "nbformat_minor": 2
}
