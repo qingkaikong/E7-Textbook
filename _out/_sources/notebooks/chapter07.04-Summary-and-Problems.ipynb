{
 "cells": [
  {
   "cell_type": "markdown",
   "metadata": {
    "button": false,
    "new_sheet": false,
    "run_control": {
     "read_only": false
    }
   },
   "source": [
    "<!--BOOK_INFORMATION-->\n",
    "<img align=\"left\" style=\"padding-right:10px;\" src=\"images/book_cover.jpg\" width=\"120\">\n",
    "\n",
    "*This notebook contains an excerpt from the [Python Programming and Numerical Methods - A Guide for Engineers and Scientists](https://www.elsevier.com/books/python-programming-and-numerical-methods/kong/978-0-12-819549-9), the content is also available at [Berkeley Python Numerical Methods](https://pythonnumericalmethods.berkeley.edu/notebooks/Index.html).*\n",
    "\n",
    "*The copyright of the book belongs to Elsevier. We also have this interactive book online for a better learning experience. The code is released under the [MIT license](https://opensource.org/licenses/MIT). If you find this content useful, please consider supporting the work on [Elsevier](https://www.elsevier.com/books/python-programming-and-numerical-methods/kong/978-0-12-819549-9) or [Amazon](https://www.amazon.com/Python-Programming-Numerical-Methods-Scientists/dp/0128195495/ref=sr_1_1?dchild=1&keywords=Python+Programming+and+Numerical+Methods+-+A+Guide+for+Engineers+and+Scientists&qid=1604761352&sr=8-1)!*"
   ]
  },
  {
   "cell_type": "markdown",
   "metadata": {
    "button": false,
    "new_sheet": false,
    "run_control": {
     "read_only": false
    }
   },
   "source": [
    "<!--NAVIGATION-->\n",
    "< [7.3 Inheritance, Encapsulation and Polymorphism](chapter07.03-Inheritance-Encapsulation-and-Polymorphism.ipynb) | [Contents](Index.ipynb) | [CHAPTER 8. Complexity](chapter08.00-Complexity.ipynb) >"
   ]
  },
  {
   "cell_type": "markdown",
   "metadata": {
    "button": false,
    "new_sheet": false,
    "run_control": {
     "read_only": false
    }
   },
   "source": [
    "# Summary\n",
    "\n",
    "\n",
    "1. OOP and POP are different. OOP has many benefits and is often more appropriate for use in large-scale projects.\n",
    "2. Class is the blueprint of the structure that allows us to group data and methods, while object is an instance from the class.\n",
    "3. The concept of \"inheritance\" is key to OOP, which allows us to refer attributes or methods from the superclass.\n",
    "4. The concept of \"encapsulation\" allows us to hide some of the private details of a class from other objects.\n",
    "5. The concept of \"polymorphism\" allows us to use common operation in different ways for different data input."
   ]
  },
  {
   "cell_type": "markdown",
   "metadata": {
    "button": false,
    "new_sheet": false,
    "run_control": {
     "read_only": false
    }
   },
   "source": [
    "# Problems\n",
    "\n",
    "1. Describe what are the differences of classes versus objects.\n",
    "2. Describe why we use self as the first argument in the methods. \n",
    "3. What is a constructor? And why do we use it?\n",
    "4. Describe the differences between class and instance attributes. \n",
    "5. The following is a definition of the class *Point* that takes in the coordinate x, y. Add a method *plot_point* that plot the position of point. \n",
    "\n",
    "    ```python\n",
    "   import matplotlib.pyplot as plt\n",
    "\n",
    "   class Point():\n",
    "       def __init__(self, x, y):\n",
    "           self.x = x\n",
    "           self.y = y\n",
    "    ```\n",
    "6. Use the class from problem 5, add a method *calculate_dist* which takes in x and y from another point, and returns the distance calculated between the two points.  \n",
    "7. What's inheritance? \n",
    "8. How do we inherit from a superclass and add new methods?\n",
    "9. When we inherit from a superclass, we need to replace a method with a new one, how do we do that?\n",
    "10. What's the super method? Why do we need it?\n",
    "11. Create a class to model some real world object and create a new class to inherit from it. One example can be the following. You should use a different example and use as many things we learned as possible. "
   ]
  },
  {
   "cell_type": "code",
   "execution_count": 2,
   "metadata": {
    "button": false,
    "new_sheet": false,
    "run_control": {
     "read_only": false
    }
   },
   "outputs": [
    {
     "name": "stdout",
     "output_type": "stream",
     "text": [
      "I am ready to drive!\n",
      "I am still running!\n"
     ]
    }
   ],
   "source": [
    "class Car():\n",
    "    def __init__(self, brand, color):\n",
    "        self.brand = brand\n",
    "        self.color = color\n",
    "    \n",
    "    def start_my_car(self):\n",
    "        print('I am ready to drive!')\n",
    "        \n",
    "class Truck(Car):\n",
    "    def __init__(self, brand, color, size):\n",
    "        super().__init__(brand, color)\n",
    "        self.size = size\n",
    "        \n",
    "    def start_my_car(self, key):\n",
    "        if key == 'truck_key':\n",
    "            print('I am ready to drive!')\n",
    "        else:\n",
    "            print('Key is not right')\n",
    "            \n",
    "    def stop_my_car(self, brake):\n",
    "        if brake:\n",
    "            print('The engine is stopped!')\n",
    "        else:\n",
    "            print('I am still running!')\n",
    "            \n",
    "truck1 = Truck('Toyota', 'Silver', 'Large')\n",
    "truck1.start_my_car('truck_key')\n",
    "truck1.stop_my_car(brake = False)"
   ]
  },
  {
   "cell_type": "markdown",
   "metadata": {
    "button": false,
    "new_sheet": false,
    "run_control": {
     "read_only": false
    }
   },
   "source": [
    "<!--NAVIGATION-->\n",
    "< [7.3 Inheritance, Encapsulation and Polymorphism](chapter07.03-Inheritance-Encapsulation-and-Polymorphism.ipynb) | [Contents](Index.ipynb) | [CHAPTER 8. Complexity](chapter08.00-Complexity.ipynb) >"
   ]
  }
 ],
 "metadata": {
  "kernelspec": {
   "display_name": "Python 3",
   "language": "python",
   "name": "python3"
  },
  "language_info": {
   "codemirror_mode": {
    "name": "ipython",
    "version": 3
   },
   "file_extension": ".py",
   "mimetype": "text/x-python",
   "name": "python",
   "nbconvert_exporter": "python",
   "pygments_lexer": "ipython3",
   "version": "3.6.8"
  }
 },
 "nbformat": 4,
 "nbformat_minor": 2
}
