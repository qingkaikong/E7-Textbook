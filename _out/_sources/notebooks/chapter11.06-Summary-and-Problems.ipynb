{
 "cells": [
  {
   "cell_type": "markdown",
   "metadata": {
    "button": false,
    "new_sheet": false,
    "run_control": {
     "read_only": false
    }
   },
   "source": [
    "<!--BOOK_INFORMATION-->\n",
    "<img align=\"left\" style=\"padding-right:10px;\" src=\"images/book_cover.jpg\" width=\"120\">\n",
    "\n",
    "*This notebook contains an excerpt from the [Python Programming And Numerical Methods: A Guide For Engineers And Scientists](); the content is available [on GitHub]().*\n",
    "\n",
    "*The text is released under the [CC-BY-NC-ND license](https://creativecommons.org/licenses/by-nc-nd/3.0/us/legalcode), and code is released under the [MIT license](https://opensource.org/licenses/MIT). If you find this content useful, please consider supporting the work by [buying the book]()!*"
   ]
  },
  {
   "cell_type": "markdown",
   "metadata": {
    "button": false,
    "new_sheet": false,
    "run_control": {
     "read_only": false
    }
   },
   "source": [
    "<!--NAVIGATION-->\n",
    "< [11.5 HDF5 Files](chapter11.05-HDF5-Files.ipynb) | [Contents](Index.ipynb) | [CHAPTER 12.  Visualization and Plotting](chapter12.00-Visualization-and-Plotting.ipynb) >"
   ]
  },
  {
   "cell_type": "markdown",
   "metadata": {
    "button": false,
    "new_sheet": false,
    "run_control": {
     "read_only": false
    }
   },
   "source": [
    "# Summary\n",
    "\n",
    "\n",
    "1. Data must often be stored to disk for a later Python session or for reading by other programs. \n",
    "2. Data created by other programs may have to be read by Python. \n",
    "3. Python has functions to read and write data in several standard forms: txt, csv, pickle, and hdf5. "
   ]
  },
  {
   "cell_type": "markdown",
   "metadata": {
    "button": false,
    "new_sheet": false,
    "run_control": {
     "read_only": false
    }
   },
   "source": [
    "# Problems\n",
    "\n",
    "1. Create a list and save it in a text file that each of the item in the list will take one line. \n",
    "2. Save the same list in problem 1 to a CSV file. \n",
    "3. Create a 2D `numpy` array, and save it to CSV file and read it back to a 2D array. \n",
    "4. Save the same array in problem 2 to a pickle file and load it back. \n",
    "5. Create a dictionary and save it to a JSON file. \n",
    "6. Create a 1D `numpy` array, and save it to a JSON file with the key named 'data'. Then load it back. "
   ]
  },
  {
   "cell_type": "markdown",
   "metadata": {
    "button": false,
    "new_sheet": false,
    "run_control": {
     "read_only": false
    }
   },
   "source": [
    "<!--NAVIGATION-->\n",
    "< [11.4 HDF5 Files](chapter11.04-HDF5-Files.ipynb) | [Contents](Index.ipynb) | [CHAPTER 12.  Visualization and Plotting](chapter12.00-Visualization-and-Plotting.ipynb) >"
   ]
  }
 ],
 "metadata": {
  "kernelspec": {
   "display_name": "Python 3",
   "language": "python",
   "name": "python3"
  },
  "language_info": {
   "codemirror_mode": {
    "name": "ipython",
    "version": 3
   },
   "file_extension": ".py",
   "mimetype": "text/x-python",
   "name": "python",
   "nbconvert_exporter": "python",
   "pygments_lexer": "ipython3",
   "version": "3.6.8"
  }
 },
 "nbformat": 4,
 "nbformat_minor": 2
}
