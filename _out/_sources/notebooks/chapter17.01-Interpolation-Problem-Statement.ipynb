{
 "cells": [
  {
   "cell_type": "markdown",
   "metadata": {},
   "source": [
    "<!--BOOK_INFORMATION-->\n",
    "<img align=\"left\" style=\"padding-right:10px;\" src=\"images/book_cover.jpg\" width=\"120\">\n",
    "\n",
    "*This notebook contains an excerpt from the [Python Programming and Numerical Methods - A Guide for Engineers and Scientists](https://www.elsevier.com/books/python-programming-and-numerical-methods/kong/978-0-12-819549-9), the content is also available at [Berkeley Python Numerical Methods](https://pythonnumericalmethods.berkeley.edu/notebooks/Index.html).*\n",
    "\n",
    "*The copyright of the book belongs to Elsevier. We also have this interactive book online for a better learning experience. The code is released under the [MIT license](https://opensource.org/licenses/MIT). If you find this content useful, please consider supporting the work on [Elsevier](https://www.elsevier.com/books/python-programming-and-numerical-methods/kong/978-0-12-819549-9) or [Amazon](https://www.amazon.com/Python-Programming-Numerical-Methods-Scientists/dp/0128195495/ref=sr_1_1?dchild=1&keywords=Python+Programming+and+Numerical+Methods+-+A+Guide+for+Engineers+and+Scientists&qid=1604761352&sr=8-1)!*"
   ]
  },
  {
   "cell_type": "markdown",
   "metadata": {},
   "source": [
    "<!--NAVIGATION-->\n",
    "< [CHAPTER 17. Interpolation](chapter17.00-Interpolation.ipynb) | [Contents](Index.ipynb) | [17.2 Linear Interpolation](chapter17.02-Linear-Interpolation.ipynb)  >"
   ]
  },
  {
   "cell_type": "markdown",
   "metadata": {},
   "source": [
    "# Interpolation Problem Statement"
   ]
  },
  {
   "cell_type": "markdown",
   "metadata": {},
   "source": [
    "Assume we have a data set consisting of independent data values, $x_i$, and dependent data values, $y_i$, where $i = 1,\\ldots, n$. We would like to find an estimation function $\\hat{y}(x)$ such that $\\hat{y}(x_i) = y_i$ for every point in our data set. This means the estimation function goes through our data points. Given a new $x{\\ast}$, we can **interpolate** its function value using $\\hat{y}(x{\\ast})$. In this context, $\\hat{y}(x)$ is called an **interpolation function**. The following figure shows the interpolation problem statement.\n",
    "\n",
    "<img src=\"./images/17.01.01-Illustration_of_Interpolation.jpg\" alt=\"Interpolation\" title=\"Illustration of the interpolation problem: estimate the value of a function in between data points.\" width=\"200\"/>\n",
    "\n",
    "Unlike regression, interpolation does not require the user to have an underlying model for the data, especially when there are many reliable data points. However, the processes that underly the data must still inform the user about the quality of the interpolation. For example, our data may consist of $(x,y)$ coordinates of a car over time. Since motion is restricted to the maneuvering physics of the car, we can expect that the points between the $(x,y)$ coordinates in our set will be \"smooth\" rather than jagged.\n",
    "\n",
    "In the following sections we derive several common interpolation methods."
   ]
  },
  {
   "cell_type": "markdown",
   "metadata": {},
   "source": [
    "<!--NAVIGATION-->\n",
    "< [CHAPTER 17. Interpolation](chapter17.00-Interpolation.ipynb) | [Contents](Index.ipynb) | [17.2 Linear Interpolation](chapter17.02-Linear-Interpolation.ipynb)  >"
   ]
  }
 ],
 "metadata": {
  "kernelspec": {
   "display_name": "Python 3",
   "language": "python",
   "name": "python3"
  },
  "language_info": {
   "codemirror_mode": {
    "name": "ipython",
    "version": 3
   },
   "file_extension": ".py",
   "mimetype": "text/x-python",
   "name": "python",
   "nbconvert_exporter": "python",
   "pygments_lexer": "ipython3",
   "version": "3.6.8"
  }
 },
 "nbformat": 4,
 "nbformat_minor": 2
}
